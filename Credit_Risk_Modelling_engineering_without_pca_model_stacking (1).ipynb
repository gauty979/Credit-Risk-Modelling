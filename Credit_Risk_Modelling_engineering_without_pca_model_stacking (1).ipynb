{
 "cells": [
  {
   "cell_type": "code",
   "execution_count": 14961,
   "metadata": {},
   "outputs": [],
   "source": [
    "import numpy as np\n",
    "import pandas as pd\n",
    "import matplotlib.pyplot as plt"
   ]
  },
  {
   "cell_type": "code",
   "execution_count": 14962,
   "metadata": {},
   "outputs": [
    {
     "name": "stderr",
     "output_type": "stream",
     "text": [
      "C:\\Users\\Chirag Garg\\Anaconda3\\lib\\site-packages\\IPython\\core\\interactiveshell.py:2785: DtypeWarning: Columns (19) have mixed types. Specify dtype option on import or set low_memory=False.\n",
      "  interactivity=interactivity, compiler=compiler, result=result)\n"
     ]
    }
   ],
   "source": [
    "df = pd.read_csv('F:/AMEX/Training_dataset_Original.csv')"
   ]
  },
  {
   "cell_type": "code",
   "execution_count": 14963,
   "metadata": {},
   "outputs": [
    {
     "data": {
      "text/html": [
       "<div>\n",
       "<style scoped>\n",
       "    .dataframe tbody tr th:only-of-type {\n",
       "        vertical-align: middle;\n",
       "    }\n",
       "\n",
       "    .dataframe tbody tr th {\n",
       "        vertical-align: top;\n",
       "    }\n",
       "\n",
       "    .dataframe thead th {\n",
       "        text-align: right;\n",
       "    }\n",
       "</style>\n",
       "<table border=\"1\" class=\"dataframe\">\n",
       "  <thead>\n",
       "    <tr style=\"text-align: right;\">\n",
       "      <th></th>\n",
       "      <th>application_key</th>\n",
       "      <th>mvar1</th>\n",
       "      <th>mvar2</th>\n",
       "      <th>mvar3</th>\n",
       "      <th>mvar4</th>\n",
       "      <th>mvar5</th>\n",
       "      <th>mvar6</th>\n",
       "      <th>mvar7</th>\n",
       "      <th>mvar8</th>\n",
       "      <th>mvar9</th>\n",
       "      <th>...</th>\n",
       "      <th>mvar39</th>\n",
       "      <th>mvar40</th>\n",
       "      <th>mvar41</th>\n",
       "      <th>mvar42</th>\n",
       "      <th>mvar43</th>\n",
       "      <th>mvar44</th>\n",
       "      <th>mvar45</th>\n",
       "      <th>mvar46</th>\n",
       "      <th>mvar47</th>\n",
       "      <th>default_ind</th>\n",
       "    </tr>\n",
       "  </thead>\n",
       "  <tbody>\n",
       "    <tr>\n",
       "      <th>0</th>\n",
       "      <td>230032</td>\n",
       "      <td>1696</td>\n",
       "      <td>1.6541</td>\n",
       "      <td>0.000</td>\n",
       "      <td>0.000</td>\n",
       "      <td>0.000</td>\n",
       "      <td>0</td>\n",
       "      <td>6015</td>\n",
       "      <td>322</td>\n",
       "      <td>40369</td>\n",
       "      <td>...</td>\n",
       "      <td>1</td>\n",
       "      <td>73.78</td>\n",
       "      <td>82.547</td>\n",
       "      <td>0.08696</td>\n",
       "      <td>10</td>\n",
       "      <td>0.63899</td>\n",
       "      <td>na</td>\n",
       "      <td>0</td>\n",
       "      <td>C</td>\n",
       "      <td>0</td>\n",
       "    </tr>\n",
       "    <tr>\n",
       "      <th>1</th>\n",
       "      <td>230033</td>\n",
       "      <td>1846</td>\n",
       "      <td>0.8095</td>\n",
       "      <td>0.000</td>\n",
       "      <td>0.000</td>\n",
       "      <td>0.000</td>\n",
       "      <td>102</td>\n",
       "      <td>7532</td>\n",
       "      <td>3171</td>\n",
       "      <td>18234</td>\n",
       "      <td>...</td>\n",
       "      <td>0</td>\n",
       "      <td>99.129</td>\n",
       "      <td>missing</td>\n",
       "      <td>0</td>\n",
       "      <td>13</td>\n",
       "      <td>0.63836</td>\n",
       "      <td>na</td>\n",
       "      <td>na</td>\n",
       "      <td>L</td>\n",
       "      <td>1</td>\n",
       "    </tr>\n",
       "    <tr>\n",
       "      <th>2</th>\n",
       "      <td>230034</td>\n",
       "      <td>1745</td>\n",
       "      <td>0.4001</td>\n",
       "      <td>0.000</td>\n",
       "      <td>0.000</td>\n",
       "      <td>0.000</td>\n",
       "      <td>missing</td>\n",
       "      <td>2536</td>\n",
       "      <td>missing</td>\n",
       "      <td>missing</td>\n",
       "      <td>...</td>\n",
       "      <td>0</td>\n",
       "      <td>missing</td>\n",
       "      <td>29.29</td>\n",
       "      <td>0</td>\n",
       "      <td>1</td>\n",
       "      <td>1.00000</td>\n",
       "      <td>na</td>\n",
       "      <td>0</td>\n",
       "      <td>C</td>\n",
       "      <td>1</td>\n",
       "    </tr>\n",
       "    <tr>\n",
       "      <th>3</th>\n",
       "      <td>230035</td>\n",
       "      <td>1739</td>\n",
       "      <td>0.2193</td>\n",
       "      <td>0.000</td>\n",
       "      <td>0.000</td>\n",
       "      <td>0.000</td>\n",
       "      <td>1982</td>\n",
       "      <td>26440</td>\n",
       "      <td>4955</td>\n",
       "      <td>20316</td>\n",
       "      <td>...</td>\n",
       "      <td>0</td>\n",
       "      <td>96.272</td>\n",
       "      <td>missing</td>\n",
       "      <td>0.15385</td>\n",
       "      <td>3</td>\n",
       "      <td>0.53241</td>\n",
       "      <td>0</td>\n",
       "      <td>0</td>\n",
       "      <td>L</td>\n",
       "      <td>0</td>\n",
       "    </tr>\n",
       "    <tr>\n",
       "      <th>4</th>\n",
       "      <td>230036</td>\n",
       "      <td>1787</td>\n",
       "      <td>0.0118</td>\n",
       "      <td>0.225</td>\n",
       "      <td>0.000</td>\n",
       "      <td>0.000</td>\n",
       "      <td>5451</td>\n",
       "      <td>5494</td>\n",
       "      <td>5494</td>\n",
       "      <td>7987</td>\n",
       "      <td>...</td>\n",
       "      <td>0</td>\n",
       "      <td>115.019</td>\n",
       "      <td>missing</td>\n",
       "      <td>0</td>\n",
       "      <td>1</td>\n",
       "      <td>0.92665</td>\n",
       "      <td>na</td>\n",
       "      <td>na</td>\n",
       "      <td>L</td>\n",
       "      <td>0</td>\n",
       "    </tr>\n",
       "    <tr>\n",
       "      <th>5</th>\n",
       "      <td>230037</td>\n",
       "      <td>1579</td>\n",
       "      <td>NaN</td>\n",
       "      <td>3.502</td>\n",
       "      <td>0.000</td>\n",
       "      <td>0.000</td>\n",
       "      <td>missing</td>\n",
       "      <td>missing</td>\n",
       "      <td>missing</td>\n",
       "      <td>missing</td>\n",
       "      <td>...</td>\n",
       "      <td>na</td>\n",
       "      <td>missing</td>\n",
       "      <td>missing</td>\n",
       "      <td>1.5</td>\n",
       "      <td>0</td>\n",
       "      <td>NaN</td>\n",
       "      <td>na</td>\n",
       "      <td>na</td>\n",
       "      <td>C</td>\n",
       "      <td>1</td>\n",
       "    </tr>\n",
       "    <tr>\n",
       "      <th>6</th>\n",
       "      <td>230038</td>\n",
       "      <td>1818</td>\n",
       "      <td>0.4001</td>\n",
       "      <td>0.000</td>\n",
       "      <td>0.000</td>\n",
       "      <td>0.000</td>\n",
       "      <td>missing</td>\n",
       "      <td>1088</td>\n",
       "      <td>missing</td>\n",
       "      <td>1536</td>\n",
       "      <td>...</td>\n",
       "      <td>0</td>\n",
       "      <td>88.171</td>\n",
       "      <td>missing</td>\n",
       "      <td>0</td>\n",
       "      <td>2</td>\n",
       "      <td>0.87224</td>\n",
       "      <td>na</td>\n",
       "      <td>0</td>\n",
       "      <td>C</td>\n",
       "      <td>1</td>\n",
       "    </tr>\n",
       "    <tr>\n",
       "      <th>7</th>\n",
       "      <td>230039</td>\n",
       "      <td>na</td>\n",
       "      <td>NaN</td>\n",
       "      <td>NaN</td>\n",
       "      <td>NaN</td>\n",
       "      <td>NaN</td>\n",
       "      <td>missing</td>\n",
       "      <td>missing</td>\n",
       "      <td>missing</td>\n",
       "      <td>missing</td>\n",
       "      <td>...</td>\n",
       "      <td>na</td>\n",
       "      <td>missing</td>\n",
       "      <td>missing</td>\n",
       "      <td>missing</td>\n",
       "      <td>na</td>\n",
       "      <td>NaN</td>\n",
       "      <td>na</td>\n",
       "      <td>na</td>\n",
       "      <td>C</td>\n",
       "      <td>0</td>\n",
       "    </tr>\n",
       "    <tr>\n",
       "      <th>8</th>\n",
       "      <td>230040</td>\n",
       "      <td>1836</td>\n",
       "      <td>0.1358</td>\n",
       "      <td>0.000</td>\n",
       "      <td>0.000</td>\n",
       "      <td>0.000</td>\n",
       "      <td>347</td>\n",
       "      <td>38964</td>\n",
       "      <td>17828</td>\n",
       "      <td>70729</td>\n",
       "      <td>...</td>\n",
       "      <td>0</td>\n",
       "      <td>missing</td>\n",
       "      <td>missing</td>\n",
       "      <td>0</td>\n",
       "      <td>10</td>\n",
       "      <td>0.89868</td>\n",
       "      <td>0</td>\n",
       "      <td>0</td>\n",
       "      <td>L</td>\n",
       "      <td>0</td>\n",
       "    </tr>\n",
       "    <tr>\n",
       "      <th>9</th>\n",
       "      <td>230041</td>\n",
       "      <td>1839</td>\n",
       "      <td>0.1981</td>\n",
       "      <td>0.000</td>\n",
       "      <td>0.000</td>\n",
       "      <td>0.000</td>\n",
       "      <td>793</td>\n",
       "      <td>6131</td>\n",
       "      <td>6045</td>\n",
       "      <td>48959</td>\n",
       "      <td>...</td>\n",
       "      <td>0</td>\n",
       "      <td>missing</td>\n",
       "      <td>45.59</td>\n",
       "      <td>0.08824</td>\n",
       "      <td>14</td>\n",
       "      <td>0.33834</td>\n",
       "      <td>na</td>\n",
       "      <td>0</td>\n",
       "      <td>L</td>\n",
       "      <td>0</td>\n",
       "    </tr>\n",
       "    <tr>\n",
       "      <th>10</th>\n",
       "      <td>230042</td>\n",
       "      <td>1903</td>\n",
       "      <td>0.0000</td>\n",
       "      <td>0.000</td>\n",
       "      <td>0.000</td>\n",
       "      <td>0.000</td>\n",
       "      <td>22</td>\n",
       "      <td>19518</td>\n",
       "      <td>9910</td>\n",
       "      <td>90618</td>\n",
       "      <td>...</td>\n",
       "      <td>0</td>\n",
       "      <td>missing</td>\n",
       "      <td>missing</td>\n",
       "      <td>0</td>\n",
       "      <td>17</td>\n",
       "      <td>0.80620</td>\n",
       "      <td>0</td>\n",
       "      <td>0</td>\n",
       "      <td>L</td>\n",
       "      <td>0</td>\n",
       "    </tr>\n",
       "    <tr>\n",
       "      <th>11</th>\n",
       "      <td>230043</td>\n",
       "      <td>1681</td>\n",
       "      <td>1.5888</td>\n",
       "      <td>5.685</td>\n",
       "      <td>3.566</td>\n",
       "      <td>0.000</td>\n",
       "      <td>93</td>\n",
       "      <td>3554</td>\n",
       "      <td>439</td>\n",
       "      <td>2527</td>\n",
       "      <td>...</td>\n",
       "      <td>1</td>\n",
       "      <td>missing</td>\n",
       "      <td>missing</td>\n",
       "      <td>0.61111</td>\n",
       "      <td>7</td>\n",
       "      <td>0.81172</td>\n",
       "      <td>0</td>\n",
       "      <td>0</td>\n",
       "      <td>C</td>\n",
       "      <td>0</td>\n",
       "    </tr>\n",
       "    <tr>\n",
       "      <th>12</th>\n",
       "      <td>230044</td>\n",
       "      <td>1841</td>\n",
       "      <td>0.5388</td>\n",
       "      <td>0.000</td>\n",
       "      <td>0.000</td>\n",
       "      <td>0.000</td>\n",
       "      <td>1487</td>\n",
       "      <td>19449</td>\n",
       "      <td>19449</td>\n",
       "      <td>6739</td>\n",
       "      <td>...</td>\n",
       "      <td>0</td>\n",
       "      <td>missing</td>\n",
       "      <td>missing</td>\n",
       "      <td>0</td>\n",
       "      <td>5</td>\n",
       "      <td>0.98031</td>\n",
       "      <td>na</td>\n",
       "      <td>na</td>\n",
       "      <td>C</td>\n",
       "      <td>0</td>\n",
       "    </tr>\n",
       "    <tr>\n",
       "      <th>13</th>\n",
       "      <td>230045</td>\n",
       "      <td>1794</td>\n",
       "      <td>1.9684</td>\n",
       "      <td>0.000</td>\n",
       "      <td>0.000</td>\n",
       "      <td>0.000</td>\n",
       "      <td>856</td>\n",
       "      <td>8609</td>\n",
       "      <td>8609</td>\n",
       "      <td>60545</td>\n",
       "      <td>...</td>\n",
       "      <td>0</td>\n",
       "      <td>missing</td>\n",
       "      <td>missing</td>\n",
       "      <td>0</td>\n",
       "      <td>13</td>\n",
       "      <td>0.35724</td>\n",
       "      <td>na</td>\n",
       "      <td>0</td>\n",
       "      <td>C</td>\n",
       "      <td>0</td>\n",
       "    </tr>\n",
       "    <tr>\n",
       "      <th>14</th>\n",
       "      <td>230046</td>\n",
       "      <td>1669</td>\n",
       "      <td>3.8558</td>\n",
       "      <td>18.465</td>\n",
       "      <td>6.292</td>\n",
       "      <td>1.200</td>\n",
       "      <td>missing</td>\n",
       "      <td>142</td>\n",
       "      <td>missing</td>\n",
       "      <td>38</td>\n",
       "      <td>...</td>\n",
       "      <td>0</td>\n",
       "      <td>107.825</td>\n",
       "      <td>98.664</td>\n",
       "      <td>0.56</td>\n",
       "      <td>11</td>\n",
       "      <td>0.29169</td>\n",
       "      <td>na</td>\n",
       "      <td>1</td>\n",
       "      <td>C</td>\n",
       "      <td>0</td>\n",
       "    </tr>\n",
       "    <tr>\n",
       "      <th>15</th>\n",
       "      <td>230047</td>\n",
       "      <td>1583</td>\n",
       "      <td>3.0284</td>\n",
       "      <td>16.325</td>\n",
       "      <td>0.000</td>\n",
       "      <td>0.000</td>\n",
       "      <td>missing</td>\n",
       "      <td>missing</td>\n",
       "      <td>missing</td>\n",
       "      <td>51450</td>\n",
       "      <td>...</td>\n",
       "      <td>0</td>\n",
       "      <td>missing</td>\n",
       "      <td>missing</td>\n",
       "      <td>0.32353</td>\n",
       "      <td>2</td>\n",
       "      <td>NaN</td>\n",
       "      <td>0</td>\n",
       "      <td>na</td>\n",
       "      <td>C</td>\n",
       "      <td>0</td>\n",
       "    </tr>\n",
       "    <tr>\n",
       "      <th>16</th>\n",
       "      <td>230048</td>\n",
       "      <td>1899</td>\n",
       "      <td>0.0970</td>\n",
       "      <td>0.000</td>\n",
       "      <td>0.000</td>\n",
       "      <td>0.000</td>\n",
       "      <td>1015</td>\n",
       "      <td>13379</td>\n",
       "      <td>13379</td>\n",
       "      <td>246906</td>\n",
       "      <td>...</td>\n",
       "      <td>0</td>\n",
       "      <td>10.384</td>\n",
       "      <td>missing</td>\n",
       "      <td>0</td>\n",
       "      <td>19</td>\n",
       "      <td>0.47480</td>\n",
       "      <td>0</td>\n",
       "      <td>0</td>\n",
       "      <td>L</td>\n",
       "      <td>0</td>\n",
       "    </tr>\n",
       "    <tr>\n",
       "      <th>17</th>\n",
       "      <td>230049</td>\n",
       "      <td>1690</td>\n",
       "      <td>8.7747</td>\n",
       "      <td>10.437</td>\n",
       "      <td>0.000</td>\n",
       "      <td>0.000</td>\n",
       "      <td>122</td>\n",
       "      <td>623</td>\n",
       "      <td>299</td>\n",
       "      <td>1140</td>\n",
       "      <td>...</td>\n",
       "      <td>0</td>\n",
       "      <td>missing</td>\n",
       "      <td>missing</td>\n",
       "      <td>0.63636</td>\n",
       "      <td>5</td>\n",
       "      <td>0.94951</td>\n",
       "      <td>na</td>\n",
       "      <td>0</td>\n",
       "      <td>L</td>\n",
       "      <td>0</td>\n",
       "    </tr>\n",
       "    <tr>\n",
       "      <th>18</th>\n",
       "      <td>230050</td>\n",
       "      <td>1599</td>\n",
       "      <td>0.8601</td>\n",
       "      <td>1.525</td>\n",
       "      <td>1.525</td>\n",
       "      <td>0.000</td>\n",
       "      <td>missing</td>\n",
       "      <td>878</td>\n",
       "      <td>missing</td>\n",
       "      <td>missing</td>\n",
       "      <td>...</td>\n",
       "      <td>1</td>\n",
       "      <td>missing</td>\n",
       "      <td>91.175</td>\n",
       "      <td>0.8</td>\n",
       "      <td>0</td>\n",
       "      <td>1.00000</td>\n",
       "      <td>na</td>\n",
       "      <td>0</td>\n",
       "      <td>C</td>\n",
       "      <td>1</td>\n",
       "    </tr>\n",
       "    <tr>\n",
       "      <th>19</th>\n",
       "      <td>230051</td>\n",
       "      <td>1859</td>\n",
       "      <td>0.0155</td>\n",
       "      <td>0.368</td>\n",
       "      <td>0.000</td>\n",
       "      <td>0.000</td>\n",
       "      <td>424</td>\n",
       "      <td>86509</td>\n",
       "      <td>12451</td>\n",
       "      <td>86635</td>\n",
       "      <td>...</td>\n",
       "      <td>0</td>\n",
       "      <td>missing</td>\n",
       "      <td>missing</td>\n",
       "      <td>0</td>\n",
       "      <td>12</td>\n",
       "      <td>0.34730</td>\n",
       "      <td>0</td>\n",
       "      <td>0</td>\n",
       "      <td>L</td>\n",
       "      <td>0</td>\n",
       "    </tr>\n",
       "    <tr>\n",
       "      <th>20</th>\n",
       "      <td>230052</td>\n",
       "      <td>1880</td>\n",
       "      <td>2.6101</td>\n",
       "      <td>0.000</td>\n",
       "      <td>0.000</td>\n",
       "      <td>0.000</td>\n",
       "      <td>0</td>\n",
       "      <td>19252</td>\n",
       "      <td>6342</td>\n",
       "      <td>59601</td>\n",
       "      <td>...</td>\n",
       "      <td>0</td>\n",
       "      <td>missing</td>\n",
       "      <td>72.497</td>\n",
       "      <td>0</td>\n",
       "      <td>14</td>\n",
       "      <td>0.28708</td>\n",
       "      <td>na</td>\n",
       "      <td>0</td>\n",
       "      <td>L</td>\n",
       "      <td>0</td>\n",
       "    </tr>\n",
       "    <tr>\n",
       "      <th>21</th>\n",
       "      <td>230053</td>\n",
       "      <td>1852</td>\n",
       "      <td>3.6201</td>\n",
       "      <td>0.000</td>\n",
       "      <td>0.000</td>\n",
       "      <td>0.000</td>\n",
       "      <td>799</td>\n",
       "      <td>16515</td>\n",
       "      <td>16515</td>\n",
       "      <td>110651</td>\n",
       "      <td>...</td>\n",
       "      <td>0</td>\n",
       "      <td>missing</td>\n",
       "      <td>missing</td>\n",
       "      <td>0</td>\n",
       "      <td>13</td>\n",
       "      <td>0.75349</td>\n",
       "      <td>na</td>\n",
       "      <td>na</td>\n",
       "      <td>L</td>\n",
       "      <td>0</td>\n",
       "    </tr>\n",
       "    <tr>\n",
       "      <th>22</th>\n",
       "      <td>230054</td>\n",
       "      <td>1655</td>\n",
       "      <td>3.0268</td>\n",
       "      <td>14.748</td>\n",
       "      <td>0.000</td>\n",
       "      <td>0.000</td>\n",
       "      <td>48</td>\n",
       "      <td>48</td>\n",
       "      <td>48</td>\n",
       "      <td>198</td>\n",
       "      <td>...</td>\n",
       "      <td>0</td>\n",
       "      <td>missing</td>\n",
       "      <td>missing</td>\n",
       "      <td>1</td>\n",
       "      <td>1</td>\n",
       "      <td>1.00000</td>\n",
       "      <td>na</td>\n",
       "      <td>na</td>\n",
       "      <td>C</td>\n",
       "      <td>1</td>\n",
       "    </tr>\n",
       "    <tr>\n",
       "      <th>23</th>\n",
       "      <td>230055</td>\n",
       "      <td>1863</td>\n",
       "      <td>0.0401</td>\n",
       "      <td>0.000</td>\n",
       "      <td>0.000</td>\n",
       "      <td>0.000</td>\n",
       "      <td>1487</td>\n",
       "      <td>4955</td>\n",
       "      <td>4955</td>\n",
       "      <td>22902</td>\n",
       "      <td>...</td>\n",
       "      <td>0</td>\n",
       "      <td>96.895</td>\n",
       "      <td>missing</td>\n",
       "      <td>0</td>\n",
       "      <td>12</td>\n",
       "      <td>0.40853</td>\n",
       "      <td>na</td>\n",
       "      <td>0</td>\n",
       "      <td>L</td>\n",
       "      <td>0</td>\n",
       "    </tr>\n",
       "    <tr>\n",
       "      <th>24</th>\n",
       "      <td>230056</td>\n",
       "      <td>1753</td>\n",
       "      <td>0.2251</td>\n",
       "      <td>0.000</td>\n",
       "      <td>0.000</td>\n",
       "      <td>0.000</td>\n",
       "      <td>1124</td>\n",
       "      <td>1124</td>\n",
       "      <td>1124</td>\n",
       "      <td>0</td>\n",
       "      <td>...</td>\n",
       "      <td>0</td>\n",
       "      <td>missing</td>\n",
       "      <td>missing</td>\n",
       "      <td>missing</td>\n",
       "      <td>0</td>\n",
       "      <td>1.00000</td>\n",
       "      <td>na</td>\n",
       "      <td>na</td>\n",
       "      <td>C</td>\n",
       "      <td>1</td>\n",
       "    </tr>\n",
       "    <tr>\n",
       "      <th>25</th>\n",
       "      <td>230057</td>\n",
       "      <td>1894</td>\n",
       "      <td>0.0318</td>\n",
       "      <td>0.000</td>\n",
       "      <td>0.000</td>\n",
       "      <td>0.000</td>\n",
       "      <td>4655</td>\n",
       "      <td>7433</td>\n",
       "      <td>7433</td>\n",
       "      <td>25667</td>\n",
       "      <td>...</td>\n",
       "      <td>0</td>\n",
       "      <td>missing</td>\n",
       "      <td>0</td>\n",
       "      <td>0</td>\n",
       "      <td>3</td>\n",
       "      <td>0.99419</td>\n",
       "      <td>0</td>\n",
       "      <td>0</td>\n",
       "      <td>L</td>\n",
       "      <td>0</td>\n",
       "    </tr>\n",
       "    <tr>\n",
       "      <th>26</th>\n",
       "      <td>230058</td>\n",
       "      <td>1803</td>\n",
       "      <td>0.3993</td>\n",
       "      <td>0.000</td>\n",
       "      <td>0.000</td>\n",
       "      <td>0.000</td>\n",
       "      <td>496</td>\n",
       "      <td>10505</td>\n",
       "      <td>496</td>\n",
       "      <td>991</td>\n",
       "      <td>...</td>\n",
       "      <td>0</td>\n",
       "      <td>91.752</td>\n",
       "      <td>87.306</td>\n",
       "      <td>0.2</td>\n",
       "      <td>5</td>\n",
       "      <td>0.75289</td>\n",
       "      <td>0</td>\n",
       "      <td>0</td>\n",
       "      <td>L</td>\n",
       "      <td>0</td>\n",
       "    </tr>\n",
       "    <tr>\n",
       "      <th>27</th>\n",
       "      <td>230059</td>\n",
       "      <td>1932</td>\n",
       "      <td>0.3276</td>\n",
       "      <td>0.000</td>\n",
       "      <td>0.000</td>\n",
       "      <td>0.000</td>\n",
       "      <td>6982</td>\n",
       "      <td>21569</td>\n",
       "      <td>18829</td>\n",
       "      <td>187209</td>\n",
       "      <td>...</td>\n",
       "      <td>0</td>\n",
       "      <td>missing</td>\n",
       "      <td>missing</td>\n",
       "      <td>0</td>\n",
       "      <td>11</td>\n",
       "      <td>0.99710</td>\n",
       "      <td>0</td>\n",
       "      <td>0</td>\n",
       "      <td>C</td>\n",
       "      <td>0</td>\n",
       "    </tr>\n",
       "    <tr>\n",
       "      <th>28</th>\n",
       "      <td>230060</td>\n",
       "      <td>1714</td>\n",
       "      <td>5.1904</td>\n",
       "      <td>0.770</td>\n",
       "      <td>0.000</td>\n",
       "      <td>0.000</td>\n",
       "      <td>0</td>\n",
       "      <td>1889</td>\n",
       "      <td>595</td>\n",
       "      <td>12574</td>\n",
       "      <td>...</td>\n",
       "      <td>0</td>\n",
       "      <td>missing</td>\n",
       "      <td>missing</td>\n",
       "      <td>0.35714</td>\n",
       "      <td>6</td>\n",
       "      <td>0.85082</td>\n",
       "      <td>0</td>\n",
       "      <td>0</td>\n",
       "      <td>L</td>\n",
       "      <td>0</td>\n",
       "    </tr>\n",
       "    <tr>\n",
       "      <th>29</th>\n",
       "      <td>230061</td>\n",
       "      <td>na</td>\n",
       "      <td>2.0457</td>\n",
       "      <td>4.514</td>\n",
       "      <td>0.000</td>\n",
       "      <td>0.000</td>\n",
       "      <td>missing</td>\n",
       "      <td>missing</td>\n",
       "      <td>missing</td>\n",
       "      <td>missing</td>\n",
       "      <td>...</td>\n",
       "      <td>na</td>\n",
       "      <td>missing</td>\n",
       "      <td>missing</td>\n",
       "      <td>1.16667</td>\n",
       "      <td>0</td>\n",
       "      <td>NaN</td>\n",
       "      <td>na</td>\n",
       "      <td>na</td>\n",
       "      <td>L</td>\n",
       "      <td>0</td>\n",
       "    </tr>\n",
       "    <tr>\n",
       "      <th>30</th>\n",
       "      <td>230062</td>\n",
       "      <td>1768</td>\n",
       "      <td>2.4194</td>\n",
       "      <td>0.243</td>\n",
       "      <td>0.243</td>\n",
       "      <td>0.000</td>\n",
       "      <td>215</td>\n",
       "      <td>24501</td>\n",
       "      <td>2973</td>\n",
       "      <td>71725</td>\n",
       "      <td>...</td>\n",
       "      <td>0</td>\n",
       "      <td>missing</td>\n",
       "      <td>89.135</td>\n",
       "      <td>0.06061</td>\n",
       "      <td>18</td>\n",
       "      <td>0.89232</td>\n",
       "      <td>0</td>\n",
       "      <td>0</td>\n",
       "      <td>C</td>\n",
       "      <td>0</td>\n",
       "    </tr>\n",
       "    <tr>\n",
       "      <th>31</th>\n",
       "      <td>230063</td>\n",
       "      <td>1834</td>\n",
       "      <td>0.0651</td>\n",
       "      <td>0.000</td>\n",
       "      <td>0.000</td>\n",
       "      <td>0.000</td>\n",
       "      <td>2378</td>\n",
       "      <td>14944</td>\n",
       "      <td>13874</td>\n",
       "      <td>333795</td>\n",
       "      <td>...</td>\n",
       "      <td>1</td>\n",
       "      <td>missing</td>\n",
       "      <td>38.544</td>\n",
       "      <td>0</td>\n",
       "      <td>24</td>\n",
       "      <td>0.78792</td>\n",
       "      <td>0</td>\n",
       "      <td>0</td>\n",
       "      <td>L</td>\n",
       "      <td>0</td>\n",
       "    </tr>\n",
       "    <tr>\n",
       "      <th>32</th>\n",
       "      <td>230064</td>\n",
       "      <td>1837</td>\n",
       "      <td>0.0234</td>\n",
       "      <td>0.000</td>\n",
       "      <td>0.000</td>\n",
       "      <td>0.000</td>\n",
       "      <td>missing</td>\n",
       "      <td>700</td>\n",
       "      <td>missing</td>\n",
       "      <td>8275</td>\n",
       "      <td>...</td>\n",
       "      <td>0</td>\n",
       "      <td>missing</td>\n",
       "      <td>missing</td>\n",
       "      <td>0</td>\n",
       "      <td>5</td>\n",
       "      <td>1.00000</td>\n",
       "      <td>na</td>\n",
       "      <td>0</td>\n",
       "      <td>L</td>\n",
       "      <td>0</td>\n",
       "    </tr>\n",
       "    <tr>\n",
       "      <th>33</th>\n",
       "      <td>230065</td>\n",
       "      <td>1785</td>\n",
       "      <td>0.2497</td>\n",
       "      <td>0.000</td>\n",
       "      <td>0.000</td>\n",
       "      <td>0.000</td>\n",
       "      <td>0</td>\n",
       "      <td>13243</td>\n",
       "      <td>1231</td>\n",
       "      <td>18246</td>\n",
       "      <td>...</td>\n",
       "      <td>0</td>\n",
       "      <td>116.148</td>\n",
       "      <td>79.695</td>\n",
       "      <td>0</td>\n",
       "      <td>14</td>\n",
       "      <td>0.76360</td>\n",
       "      <td>0</td>\n",
       "      <td>0</td>\n",
       "      <td>C</td>\n",
       "      <td>0</td>\n",
       "    </tr>\n",
       "    <tr>\n",
       "      <th>34</th>\n",
       "      <td>230066</td>\n",
       "      <td>1889</td>\n",
       "      <td>NaN</td>\n",
       "      <td>0.000</td>\n",
       "      <td>0.000</td>\n",
       "      <td>0.000</td>\n",
       "      <td>297</td>\n",
       "      <td>19033</td>\n",
       "      <td>19033</td>\n",
       "      <td>38054</td>\n",
       "      <td>...</td>\n",
       "      <td>0</td>\n",
       "      <td>missing</td>\n",
       "      <td>missing</td>\n",
       "      <td>0</td>\n",
       "      <td>4</td>\n",
       "      <td>1.00000</td>\n",
       "      <td>0</td>\n",
       "      <td>0</td>\n",
       "      <td>L</td>\n",
       "      <td>0</td>\n",
       "    </tr>\n",
       "    <tr>\n",
       "      <th>35</th>\n",
       "      <td>230067</td>\n",
       "      <td>1714</td>\n",
       "      <td>0.3262</td>\n",
       "      <td>13.494</td>\n",
       "      <td>0.000</td>\n",
       "      <td>0.000</td>\n",
       "      <td>50</td>\n",
       "      <td>35735</td>\n",
       "      <td>396</td>\n",
       "      <td>27609</td>\n",
       "      <td>...</td>\n",
       "      <td>1</td>\n",
       "      <td>29.368</td>\n",
       "      <td>missing</td>\n",
       "      <td>0.21212</td>\n",
       "      <td>4</td>\n",
       "      <td>0.54951</td>\n",
       "      <td>2</td>\n",
       "      <td>0</td>\n",
       "      <td>C</td>\n",
       "      <td>0</td>\n",
       "    </tr>\n",
       "    <tr>\n",
       "      <th>36</th>\n",
       "      <td>230068</td>\n",
       "      <td>1751</td>\n",
       "      <td>1.2501</td>\n",
       "      <td>9.125</td>\n",
       "      <td>0.000</td>\n",
       "      <td>0.000</td>\n",
       "      <td>242</td>\n",
       "      <td>14748</td>\n",
       "      <td>2335</td>\n",
       "      <td>31106</td>\n",
       "      <td>...</td>\n",
       "      <td>0</td>\n",
       "      <td>97.029</td>\n",
       "      <td>missing</td>\n",
       "      <td>0.31034</td>\n",
       "      <td>5</td>\n",
       "      <td>0.52563</td>\n",
       "      <td>0</td>\n",
       "      <td>na</td>\n",
       "      <td>C</td>\n",
       "      <td>0</td>\n",
       "    </tr>\n",
       "    <tr>\n",
       "      <th>37</th>\n",
       "      <td>230069</td>\n",
       "      <td>1907</td>\n",
       "      <td>0.4734</td>\n",
       "      <td>0.000</td>\n",
       "      <td>0.000</td>\n",
       "      <td>0.000</td>\n",
       "      <td>14865</td>\n",
       "      <td>29714</td>\n",
       "      <td>14865</td>\n",
       "      <td>31415</td>\n",
       "      <td>...</td>\n",
       "      <td>0</td>\n",
       "      <td>missing</td>\n",
       "      <td>missing</td>\n",
       "      <td>0</td>\n",
       "      <td>4</td>\n",
       "      <td>1.00000</td>\n",
       "      <td>0</td>\n",
       "      <td>0</td>\n",
       "      <td>L</td>\n",
       "      <td>0</td>\n",
       "    </tr>\n",
       "    <tr>\n",
       "      <th>38</th>\n",
       "      <td>230070</td>\n",
       "      <td>1765</td>\n",
       "      <td>NaN</td>\n",
       "      <td>0.368</td>\n",
       "      <td>0.000</td>\n",
       "      <td>0.000</td>\n",
       "      <td>0</td>\n",
       "      <td>13880</td>\n",
       "      <td>4905</td>\n",
       "      <td>14994</td>\n",
       "      <td>...</td>\n",
       "      <td>0</td>\n",
       "      <td>missing</td>\n",
       "      <td>96.814</td>\n",
       "      <td>0.05556</td>\n",
       "      <td>8</td>\n",
       "      <td>0.75267</td>\n",
       "      <td>0</td>\n",
       "      <td>0</td>\n",
       "      <td>C</td>\n",
       "      <td>0</td>\n",
       "    </tr>\n",
       "    <tr>\n",
       "      <th>39</th>\n",
       "      <td>230071</td>\n",
       "      <td>1724</td>\n",
       "      <td>0.0000</td>\n",
       "      <td>12.719</td>\n",
       "      <td>0.000</td>\n",
       "      <td>0.000</td>\n",
       "      <td>71</td>\n",
       "      <td>16621</td>\n",
       "      <td>1487</td>\n",
       "      <td>6878</td>\n",
       "      <td>...</td>\n",
       "      <td>0</td>\n",
       "      <td>missing</td>\n",
       "      <td>missing</td>\n",
       "      <td>0.21739</td>\n",
       "      <td>7</td>\n",
       "      <td>0.59257</td>\n",
       "      <td>1</td>\n",
       "      <td>0</td>\n",
       "      <td>C</td>\n",
       "      <td>0</td>\n",
       "    </tr>\n",
       "    <tr>\n",
       "      <th>40</th>\n",
       "      <td>230072</td>\n",
       "      <td>1721</td>\n",
       "      <td>1.9276</td>\n",
       "      <td>12.936</td>\n",
       "      <td>0.000</td>\n",
       "      <td>0.000</td>\n",
       "      <td>160</td>\n",
       "      <td>67262</td>\n",
       "      <td>25667</td>\n",
       "      <td>66236</td>\n",
       "      <td>...</td>\n",
       "      <td>0</td>\n",
       "      <td>100</td>\n",
       "      <td>missing</td>\n",
       "      <td>0.25</td>\n",
       "      <td>8</td>\n",
       "      <td>0.51334</td>\n",
       "      <td>0</td>\n",
       "      <td>0</td>\n",
       "      <td>C</td>\n",
       "      <td>0</td>\n",
       "    </tr>\n",
       "    <tr>\n",
       "      <th>41</th>\n",
       "      <td>230073</td>\n",
       "      <td>1858</td>\n",
       "      <td>NaN</td>\n",
       "      <td>0.000</td>\n",
       "      <td>0.000</td>\n",
       "      <td>0.000</td>\n",
       "      <td>missing</td>\n",
       "      <td>39557</td>\n",
       "      <td>missing</td>\n",
       "      <td>27550</td>\n",
       "      <td>...</td>\n",
       "      <td>0</td>\n",
       "      <td>missing</td>\n",
       "      <td>missing</td>\n",
       "      <td>0</td>\n",
       "      <td>1</td>\n",
       "      <td>1.00000</td>\n",
       "      <td>0</td>\n",
       "      <td>na</td>\n",
       "      <td>L</td>\n",
       "      <td>0</td>\n",
       "    </tr>\n",
       "    <tr>\n",
       "      <th>42</th>\n",
       "      <td>230074</td>\n",
       "      <td>1899</td>\n",
       "      <td>0.6101</td>\n",
       "      <td>0.000</td>\n",
       "      <td>0.000</td>\n",
       "      <td>0.000</td>\n",
       "      <td>991</td>\n",
       "      <td>5946</td>\n",
       "      <td>5946</td>\n",
       "      <td>83446</td>\n",
       "      <td>...</td>\n",
       "      <td>0</td>\n",
       "      <td>missing</td>\n",
       "      <td>missing</td>\n",
       "      <td>0</td>\n",
       "      <td>6</td>\n",
       "      <td>1.00000</td>\n",
       "      <td>na</td>\n",
       "      <td>na</td>\n",
       "      <td>L</td>\n",
       "      <td>0</td>\n",
       "    </tr>\n",
       "    <tr>\n",
       "      <th>43</th>\n",
       "      <td>230075</td>\n",
       "      <td>1797</td>\n",
       "      <td>0.0767</td>\n",
       "      <td>0.977</td>\n",
       "      <td>0.000</td>\n",
       "      <td>0.000</td>\n",
       "      <td>1288</td>\n",
       "      <td>9644</td>\n",
       "      <td>1288</td>\n",
       "      <td>7234</td>\n",
       "      <td>...</td>\n",
       "      <td>0</td>\n",
       "      <td>missing</td>\n",
       "      <td>missing</td>\n",
       "      <td>0</td>\n",
       "      <td>5</td>\n",
       "      <td>0.93684</td>\n",
       "      <td>0</td>\n",
       "      <td>0</td>\n",
       "      <td>L</td>\n",
       "      <td>0</td>\n",
       "    </tr>\n",
       "    <tr>\n",
       "      <th>44</th>\n",
       "      <td>230076</td>\n",
       "      <td>1817</td>\n",
       "      <td>0.3401</td>\n",
       "      <td>0.000</td>\n",
       "      <td>0.000</td>\n",
       "      <td>0.000</td>\n",
       "      <td>480</td>\n",
       "      <td>6914</td>\n",
       "      <td>480</td>\n",
       "      <td>54802</td>\n",
       "      <td>...</td>\n",
       "      <td>0</td>\n",
       "      <td>missing</td>\n",
       "      <td>missing</td>\n",
       "      <td>0</td>\n",
       "      <td>4</td>\n",
       "      <td>0.97644</td>\n",
       "      <td>0</td>\n",
       "      <td>na</td>\n",
       "      <td>L</td>\n",
       "      <td>0</td>\n",
       "    </tr>\n",
       "    <tr>\n",
       "      <th>45</th>\n",
       "      <td>230077</td>\n",
       "      <td>na</td>\n",
       "      <td>0.3880</td>\n",
       "      <td>2.031</td>\n",
       "      <td>0.000</td>\n",
       "      <td>0.000</td>\n",
       "      <td>missing</td>\n",
       "      <td>missing</td>\n",
       "      <td>missing</td>\n",
       "      <td>missing</td>\n",
       "      <td>...</td>\n",
       "      <td>na</td>\n",
       "      <td>missing</td>\n",
       "      <td>missing</td>\n",
       "      <td>1.2</td>\n",
       "      <td>0</td>\n",
       "      <td>NaN</td>\n",
       "      <td>na</td>\n",
       "      <td>na</td>\n",
       "      <td>C</td>\n",
       "      <td>1</td>\n",
       "    </tr>\n",
       "    <tr>\n",
       "      <th>46</th>\n",
       "      <td>230078</td>\n",
       "      <td>1650</td>\n",
       "      <td>2.5058</td>\n",
       "      <td>16.191</td>\n",
       "      <td>0.000</td>\n",
       "      <td>10.106</td>\n",
       "      <td>missing</td>\n",
       "      <td>859</td>\n",
       "      <td>missing</td>\n",
       "      <td>missing</td>\n",
       "      <td>...</td>\n",
       "      <td>0</td>\n",
       "      <td>100</td>\n",
       "      <td>84.931</td>\n",
       "      <td>0.56522</td>\n",
       "      <td>4</td>\n",
       "      <td>0.38864</td>\n",
       "      <td>na</td>\n",
       "      <td>0</td>\n",
       "      <td>C</td>\n",
       "      <td>0</td>\n",
       "    </tr>\n",
       "    <tr>\n",
       "      <th>47</th>\n",
       "      <td>230079</td>\n",
       "      <td>1712</td>\n",
       "      <td>NaN</td>\n",
       "      <td>11.893</td>\n",
       "      <td>0.000</td>\n",
       "      <td>0.000</td>\n",
       "      <td>116</td>\n",
       "      <td>116</td>\n",
       "      <td>116</td>\n",
       "      <td>694</td>\n",
       "      <td>...</td>\n",
       "      <td>0</td>\n",
       "      <td>missing</td>\n",
       "      <td>missing</td>\n",
       "      <td>0.75</td>\n",
       "      <td>0</td>\n",
       "      <td>0.99844</td>\n",
       "      <td>1</td>\n",
       "      <td>na</td>\n",
       "      <td>C</td>\n",
       "      <td>1</td>\n",
       "    </tr>\n",
       "    <tr>\n",
       "      <th>48</th>\n",
       "      <td>230080</td>\n",
       "      <td>na</td>\n",
       "      <td>0.0000</td>\n",
       "      <td>0.000</td>\n",
       "      <td>0.000</td>\n",
       "      <td>0.000</td>\n",
       "      <td>missing</td>\n",
       "      <td>missing</td>\n",
       "      <td>missing</td>\n",
       "      <td>494</td>\n",
       "      <td>...</td>\n",
       "      <td>0</td>\n",
       "      <td>missing</td>\n",
       "      <td>missing</td>\n",
       "      <td>0.5</td>\n",
       "      <td>0</td>\n",
       "      <td>NaN</td>\n",
       "      <td>na</td>\n",
       "      <td>0</td>\n",
       "      <td>C</td>\n",
       "      <td>0</td>\n",
       "    </tr>\n",
       "    <tr>\n",
       "      <th>49</th>\n",
       "      <td>230081</td>\n",
       "      <td>1868</td>\n",
       "      <td>0.0761</td>\n",
       "      <td>0.000</td>\n",
       "      <td>0.000</td>\n",
       "      <td>0.000</td>\n",
       "      <td>5888</td>\n",
       "      <td>6769</td>\n",
       "      <td>6769</td>\n",
       "      <td>18135</td>\n",
       "      <td>...</td>\n",
       "      <td>0</td>\n",
       "      <td>missing</td>\n",
       "      <td>missing</td>\n",
       "      <td>0</td>\n",
       "      <td>2</td>\n",
       "      <td>0.74236</td>\n",
       "      <td>na</td>\n",
       "      <td>na</td>\n",
       "      <td>C</td>\n",
       "      <td>0</td>\n",
       "    </tr>\n",
       "  </tbody>\n",
       "</table>\n",
       "<p>50 rows × 49 columns</p>\n",
       "</div>"
      ],
      "text/plain": [
       "    application_key mvar1   mvar2   mvar3  mvar4   mvar5    mvar6    mvar7  \\\n",
       "0            230032  1696  1.6541   0.000  0.000   0.000        0     6015   \n",
       "1            230033  1846  0.8095   0.000  0.000   0.000      102     7532   \n",
       "2            230034  1745  0.4001   0.000  0.000   0.000  missing     2536   \n",
       "3            230035  1739  0.2193   0.000  0.000   0.000     1982    26440   \n",
       "4            230036  1787  0.0118   0.225  0.000   0.000     5451     5494   \n",
       "5            230037  1579     NaN   3.502  0.000   0.000  missing  missing   \n",
       "6            230038  1818  0.4001   0.000  0.000   0.000  missing     1088   \n",
       "7            230039    na     NaN     NaN    NaN     NaN  missing  missing   \n",
       "8            230040  1836  0.1358   0.000  0.000   0.000      347    38964   \n",
       "9            230041  1839  0.1981   0.000  0.000   0.000      793     6131   \n",
       "10           230042  1903  0.0000   0.000  0.000   0.000       22    19518   \n",
       "11           230043  1681  1.5888   5.685  3.566   0.000       93     3554   \n",
       "12           230044  1841  0.5388   0.000  0.000   0.000     1487    19449   \n",
       "13           230045  1794  1.9684   0.000  0.000   0.000      856     8609   \n",
       "14           230046  1669  3.8558  18.465  6.292   1.200  missing      142   \n",
       "15           230047  1583  3.0284  16.325  0.000   0.000  missing  missing   \n",
       "16           230048  1899  0.0970   0.000  0.000   0.000     1015    13379   \n",
       "17           230049  1690  8.7747  10.437  0.000   0.000      122      623   \n",
       "18           230050  1599  0.8601   1.525  1.525   0.000  missing      878   \n",
       "19           230051  1859  0.0155   0.368  0.000   0.000      424    86509   \n",
       "20           230052  1880  2.6101   0.000  0.000   0.000        0    19252   \n",
       "21           230053  1852  3.6201   0.000  0.000   0.000      799    16515   \n",
       "22           230054  1655  3.0268  14.748  0.000   0.000       48       48   \n",
       "23           230055  1863  0.0401   0.000  0.000   0.000     1487     4955   \n",
       "24           230056  1753  0.2251   0.000  0.000   0.000     1124     1124   \n",
       "25           230057  1894  0.0318   0.000  0.000   0.000     4655     7433   \n",
       "26           230058  1803  0.3993   0.000  0.000   0.000      496    10505   \n",
       "27           230059  1932  0.3276   0.000  0.000   0.000     6982    21569   \n",
       "28           230060  1714  5.1904   0.770  0.000   0.000        0     1889   \n",
       "29           230061    na  2.0457   4.514  0.000   0.000  missing  missing   \n",
       "30           230062  1768  2.4194   0.243  0.243   0.000      215    24501   \n",
       "31           230063  1834  0.0651   0.000  0.000   0.000     2378    14944   \n",
       "32           230064  1837  0.0234   0.000  0.000   0.000  missing      700   \n",
       "33           230065  1785  0.2497   0.000  0.000   0.000        0    13243   \n",
       "34           230066  1889     NaN   0.000  0.000   0.000      297    19033   \n",
       "35           230067  1714  0.3262  13.494  0.000   0.000       50    35735   \n",
       "36           230068  1751  1.2501   9.125  0.000   0.000      242    14748   \n",
       "37           230069  1907  0.4734   0.000  0.000   0.000    14865    29714   \n",
       "38           230070  1765     NaN   0.368  0.000   0.000        0    13880   \n",
       "39           230071  1724  0.0000  12.719  0.000   0.000       71    16621   \n",
       "40           230072  1721  1.9276  12.936  0.000   0.000      160    67262   \n",
       "41           230073  1858     NaN   0.000  0.000   0.000  missing    39557   \n",
       "42           230074  1899  0.6101   0.000  0.000   0.000      991     5946   \n",
       "43           230075  1797  0.0767   0.977  0.000   0.000     1288     9644   \n",
       "44           230076  1817  0.3401   0.000  0.000   0.000      480     6914   \n",
       "45           230077    na  0.3880   2.031  0.000   0.000  missing  missing   \n",
       "46           230078  1650  2.5058  16.191  0.000  10.106  missing      859   \n",
       "47           230079  1712     NaN  11.893  0.000   0.000      116      116   \n",
       "48           230080    na  0.0000   0.000  0.000   0.000  missing  missing   \n",
       "49           230081  1868  0.0761   0.000  0.000   0.000     5888     6769   \n",
       "\n",
       "      mvar8    mvar9     ...     mvar39   mvar40   mvar41   mvar42  mvar43  \\\n",
       "0       322    40369     ...          1    73.78   82.547  0.08696      10   \n",
       "1      3171    18234     ...          0   99.129  missing        0      13   \n",
       "2   missing  missing     ...          0  missing    29.29        0       1   \n",
       "3      4955    20316     ...          0   96.272  missing  0.15385       3   \n",
       "4      5494     7987     ...          0  115.019  missing        0       1   \n",
       "5   missing  missing     ...         na  missing  missing      1.5       0   \n",
       "6   missing     1536     ...          0   88.171  missing        0       2   \n",
       "7   missing  missing     ...         na  missing  missing  missing      na   \n",
       "8     17828    70729     ...          0  missing  missing        0      10   \n",
       "9      6045    48959     ...          0  missing    45.59  0.08824      14   \n",
       "10     9910    90618     ...          0  missing  missing        0      17   \n",
       "11      439     2527     ...          1  missing  missing  0.61111       7   \n",
       "12    19449     6739     ...          0  missing  missing        0       5   \n",
       "13     8609    60545     ...          0  missing  missing        0      13   \n",
       "14  missing       38     ...          0  107.825   98.664     0.56      11   \n",
       "15  missing    51450     ...          0  missing  missing  0.32353       2   \n",
       "16    13379   246906     ...          0   10.384  missing        0      19   \n",
       "17      299     1140     ...          0  missing  missing  0.63636       5   \n",
       "18  missing  missing     ...          1  missing   91.175      0.8       0   \n",
       "19    12451    86635     ...          0  missing  missing        0      12   \n",
       "20     6342    59601     ...          0  missing   72.497        0      14   \n",
       "21    16515   110651     ...          0  missing  missing        0      13   \n",
       "22       48      198     ...          0  missing  missing        1       1   \n",
       "23     4955    22902     ...          0   96.895  missing        0      12   \n",
       "24     1124        0     ...          0  missing  missing  missing       0   \n",
       "25     7433    25667     ...          0  missing        0        0       3   \n",
       "26      496      991     ...          0   91.752   87.306      0.2       5   \n",
       "27    18829   187209     ...          0  missing  missing        0      11   \n",
       "28      595    12574     ...          0  missing  missing  0.35714       6   \n",
       "29  missing  missing     ...         na  missing  missing  1.16667       0   \n",
       "30     2973    71725     ...          0  missing   89.135  0.06061      18   \n",
       "31    13874   333795     ...          1  missing   38.544        0      24   \n",
       "32  missing     8275     ...          0  missing  missing        0       5   \n",
       "33     1231    18246     ...          0  116.148   79.695        0      14   \n",
       "34    19033    38054     ...          0  missing  missing        0       4   \n",
       "35      396    27609     ...          1   29.368  missing  0.21212       4   \n",
       "36     2335    31106     ...          0   97.029  missing  0.31034       5   \n",
       "37    14865    31415     ...          0  missing  missing        0       4   \n",
       "38     4905    14994     ...          0  missing   96.814  0.05556       8   \n",
       "39     1487     6878     ...          0  missing  missing  0.21739       7   \n",
       "40    25667    66236     ...          0      100  missing     0.25       8   \n",
       "41  missing    27550     ...          0  missing  missing        0       1   \n",
       "42     5946    83446     ...          0  missing  missing        0       6   \n",
       "43     1288     7234     ...          0  missing  missing        0       5   \n",
       "44      480    54802     ...          0  missing  missing        0       4   \n",
       "45  missing  missing     ...         na  missing  missing      1.2       0   \n",
       "46  missing  missing     ...          0      100   84.931  0.56522       4   \n",
       "47      116      694     ...          0  missing  missing     0.75       0   \n",
       "48  missing      494     ...          0  missing  missing      0.5       0   \n",
       "49     6769    18135     ...          0  missing  missing        0       2   \n",
       "\n",
       "     mvar44 mvar45 mvar46 mvar47 default_ind  \n",
       "0   0.63899     na      0      C           0  \n",
       "1   0.63836     na     na      L           1  \n",
       "2   1.00000     na      0      C           1  \n",
       "3   0.53241      0      0      L           0  \n",
       "4   0.92665     na     na      L           0  \n",
       "5       NaN     na     na      C           1  \n",
       "6   0.87224     na      0      C           1  \n",
       "7       NaN     na     na      C           0  \n",
       "8   0.89868      0      0      L           0  \n",
       "9   0.33834     na      0      L           0  \n",
       "10  0.80620      0      0      L           0  \n",
       "11  0.81172      0      0      C           0  \n",
       "12  0.98031     na     na      C           0  \n",
       "13  0.35724     na      0      C           0  \n",
       "14  0.29169     na      1      C           0  \n",
       "15      NaN      0     na      C           0  \n",
       "16  0.47480      0      0      L           0  \n",
       "17  0.94951     na      0      L           0  \n",
       "18  1.00000     na      0      C           1  \n",
       "19  0.34730      0      0      L           0  \n",
       "20  0.28708     na      0      L           0  \n",
       "21  0.75349     na     na      L           0  \n",
       "22  1.00000     na     na      C           1  \n",
       "23  0.40853     na      0      L           0  \n",
       "24  1.00000     na     na      C           1  \n",
       "25  0.99419      0      0      L           0  \n",
       "26  0.75289      0      0      L           0  \n",
       "27  0.99710      0      0      C           0  \n",
       "28  0.85082      0      0      L           0  \n",
       "29      NaN     na     na      L           0  \n",
       "30  0.89232      0      0      C           0  \n",
       "31  0.78792      0      0      L           0  \n",
       "32  1.00000     na      0      L           0  \n",
       "33  0.76360      0      0      C           0  \n",
       "34  1.00000      0      0      L           0  \n",
       "35  0.54951      2      0      C           0  \n",
       "36  0.52563      0     na      C           0  \n",
       "37  1.00000      0      0      L           0  \n",
       "38  0.75267      0      0      C           0  \n",
       "39  0.59257      1      0      C           0  \n",
       "40  0.51334      0      0      C           0  \n",
       "41  1.00000      0     na      L           0  \n",
       "42  1.00000     na     na      L           0  \n",
       "43  0.93684      0      0      L           0  \n",
       "44  0.97644      0     na      L           0  \n",
       "45      NaN     na     na      C           1  \n",
       "46  0.38864     na      0      C           0  \n",
       "47  0.99844      1     na      C           1  \n",
       "48      NaN     na      0      C           0  \n",
       "49  0.74236     na     na      C           0  \n",
       "\n",
       "[50 rows x 49 columns]"
      ]
     },
     "execution_count": 14963,
     "metadata": {},
     "output_type": "execute_result"
    }
   ],
   "source": [
    "df.head(50)"
   ]
  },
  {
   "cell_type": "code",
   "execution_count": 14964,
   "metadata": {},
   "outputs": [
    {
     "name": "stdout",
     "output_type": "stream",
     "text": [
      "<class 'pandas.core.frame.DataFrame'>\n",
      "RangeIndex: 80000 entries, 0 to 79999\n",
      "Data columns (total 49 columns):\n",
      "application_key    80000 non-null int64\n",
      "mvar1              80000 non-null object\n",
      "mvar2              74447 non-null float64\n",
      "mvar3              79499 non-null float64\n",
      "mvar4              79499 non-null float64\n",
      "mvar5              79499 non-null float64\n",
      "mvar6              80000 non-null object\n",
      "mvar7              80000 non-null object\n",
      "mvar8              80000 non-null object\n",
      "mvar9              80000 non-null object\n",
      "mvar10             80000 non-null object\n",
      "mvar11             80000 non-null object\n",
      "mvar12             80000 non-null object\n",
      "mvar13             80000 non-null object\n",
      "mvar14             80000 non-null int64\n",
      "mvar15             80000 non-null object\n",
      "mvar16             80000 non-null object\n",
      "mvar17             80000 non-null object\n",
      "mvar18             80000 non-null object\n",
      "mvar19             80000 non-null object\n",
      "mvar20             80000 non-null object\n",
      "mvar21             57439 non-null float64\n",
      "mvar22             50876 non-null float64\n",
      "mvar23             39752 non-null float64\n",
      "mvar24             61098 non-null float64\n",
      "mvar25             80000 non-null object\n",
      "mvar26             80000 non-null object\n",
      "mvar27             80000 non-null object\n",
      "mvar28             80000 non-null object\n",
      "mvar29             80000 non-null object\n",
      "mvar30             80000 non-null object\n",
      "mvar31             80000 non-null object\n",
      "mvar32             80000 non-null object\n",
      "mvar33             78249 non-null float64\n",
      "mvar34             80000 non-null object\n",
      "mvar35             80000 non-null object\n",
      "mvar36             80000 non-null object\n",
      "mvar37             80000 non-null object\n",
      "mvar38             80000 non-null object\n",
      "mvar39             80000 non-null object\n",
      "mvar40             80000 non-null object\n",
      "mvar41             80000 non-null object\n",
      "mvar42             80000 non-null object\n",
      "mvar43             80000 non-null object\n",
      "mvar44             72255 non-null float64\n",
      "mvar45             80000 non-null object\n",
      "mvar46             80000 non-null object\n",
      "mvar47             80000 non-null object\n",
      "default_ind        80000 non-null int64\n",
      "dtypes: float64(10), int64(3), object(36)\n",
      "memory usage: 29.9+ MB\n"
     ]
    }
   ],
   "source": [
    "df.info()"
   ]
  },
  {
   "cell_type": "code",
   "execution_count": 14965,
   "metadata": {},
   "outputs": [],
   "source": [
    "df['mvar47'] =df['mvar47'].replace(['C','L'],[0,1])"
   ]
  },
  {
   "cell_type": "code",
   "execution_count": 14966,
   "metadata": {},
   "outputs": [],
   "source": [
    "df.replace(['missing','na','Nan'],[np.nan,np.nan,np.nan],inplace = True)"
   ]
  },
  {
   "cell_type": "code",
   "execution_count": 14967,
   "metadata": {},
   "outputs": [],
   "source": [
    "df = df.astype(float)"
   ]
  },
  {
   "cell_type": "code",
   "execution_count": 14968,
   "metadata": {},
   "outputs": [],
   "source": [
    "df1 =df[df['mvar1'].isnull()]"
   ]
  },
  {
   "cell_type": "code",
   "execution_count": 14969,
   "metadata": {},
   "outputs": [
    {
     "name": "stdout",
     "output_type": "stream",
     "text": [
      "<class 'pandas.core.frame.DataFrame'>\n",
      "Int64Index: 3639 entries, 7 to 79989\n",
      "Data columns (total 49 columns):\n",
      "application_key    3639 non-null float64\n",
      "mvar1              0 non-null float64\n",
      "mvar2              3003 non-null float64\n",
      "mvar3              3138 non-null float64\n",
      "mvar4              3138 non-null float64\n",
      "mvar5              3138 non-null float64\n",
      "mvar6              329 non-null float64\n",
      "mvar7              580 non-null float64\n",
      "mvar8              329 non-null float64\n",
      "mvar9              713 non-null float64\n",
      "mvar10             3137 non-null float64\n",
      "mvar11             2429 non-null float64\n",
      "mvar12             500 non-null float64\n",
      "mvar13             307 non-null float64\n",
      "mvar14             3639 non-null float64\n",
      "mvar15             1643 non-null float64\n",
      "mvar16             342 non-null float64\n",
      "mvar17             404 non-null float64\n",
      "mvar18             499 non-null float64\n",
      "mvar19             3635 non-null float64\n",
      "mvar20             3137 non-null float64\n",
      "mvar21             266 non-null float64\n",
      "mvar22             451 non-null float64\n",
      "mvar23             353 non-null float64\n",
      "mvar24             218 non-null float64\n",
      "mvar25             1056 non-null float64\n",
      "mvar26             592 non-null float64\n",
      "mvar27             507 non-null float64\n",
      "mvar28             3137 non-null float64\n",
      "mvar29             3137 non-null float64\n",
      "mvar30             327 non-null float64\n",
      "mvar31             134 non-null float64\n",
      "mvar32             1056 non-null float64\n",
      "mvar33             3357 non-null float64\n",
      "mvar34             3137 non-null float64\n",
      "mvar35             353 non-null float64\n",
      "mvar36             2556 non-null float64\n",
      "mvar37             1056 non-null float64\n",
      "mvar38             3137 non-null float64\n",
      "mvar39             785 non-null float64\n",
      "mvar40             21 non-null float64\n",
      "mvar41             59 non-null float64\n",
      "mvar42             2461 non-null float64\n",
      "mvar43             2974 non-null float64\n",
      "mvar44             614 non-null float64\n",
      "mvar45             146 non-null float64\n",
      "mvar46             545 non-null float64\n",
      "mvar47             3639 non-null float64\n",
      "default_ind        3639 non-null float64\n",
      "dtypes: float64(49)\n",
      "memory usage: 1.4 MB\n"
     ]
    }
   ],
   "source": [
    "df1.info()"
   ]
  },
  {
   "cell_type": "code",
   "execution_count": 14970,
   "metadata": {},
   "outputs": [],
   "source": [
    "df =  df[df['mvar1'].notnull()]"
   ]
  },
  {
   "cell_type": "code",
   "execution_count": 14971,
   "metadata": {},
   "outputs": [
    {
     "name": "stdout",
     "output_type": "stream",
     "text": [
      "<class 'pandas.core.frame.DataFrame'>\n",
      "Int64Index: 76361 entries, 0 to 79999\n",
      "Data columns (total 49 columns):\n",
      "application_key    76361 non-null float64\n",
      "mvar1              76361 non-null float64\n",
      "mvar2              71444 non-null float64\n",
      "mvar3              76361 non-null float64\n",
      "mvar4              76361 non-null float64\n",
      "mvar5              76361 non-null float64\n",
      "mvar6              60707 non-null float64\n",
      "mvar7              72026 non-null float64\n",
      "mvar8              60707 non-null float64\n",
      "mvar9              67879 non-null float64\n",
      "mvar10             76361 non-null float64\n",
      "mvar11             32752 non-null float64\n",
      "mvar12             65422 non-null float64\n",
      "mvar13             71341 non-null float64\n",
      "mvar14             76361 non-null float64\n",
      "mvar15             46290 non-null float64\n",
      "mvar16             61148 non-null float64\n",
      "mvar17             63750 non-null float64\n",
      "mvar18             64730 non-null float64\n",
      "mvar19             76361 non-null float64\n",
      "mvar20             76361 non-null float64\n",
      "mvar21             57173 non-null float64\n",
      "mvar22             50425 non-null float64\n",
      "mvar23             39399 non-null float64\n",
      "mvar24             60880 non-null float64\n",
      "mvar25             71238 non-null float64\n",
      "mvar26             68798 non-null float64\n",
      "mvar27             66284 non-null float64\n",
      "mvar28             76361 non-null float64\n",
      "mvar29             76361 non-null float64\n",
      "mvar30             43256 non-null float64\n",
      "mvar31             23648 non-null float64\n",
      "mvar32             71238 non-null float64\n",
      "mvar33             74892 non-null float64\n",
      "mvar34             76361 non-null float64\n",
      "mvar35             46633 non-null float64\n",
      "mvar36             74546 non-null float64\n",
      "mvar37             71238 non-null float64\n",
      "mvar38             76361 non-null float64\n",
      "mvar39             73175 non-null float64\n",
      "mvar40             17422 non-null float64\n",
      "mvar41             25363 non-null float64\n",
      "mvar42             75638 non-null float64\n",
      "mvar43             76208 non-null float64\n",
      "mvar44             71641 non-null float64\n",
      "mvar45             34999 non-null float64\n",
      "mvar46             56666 non-null float64\n",
      "mvar47             76361 non-null float64\n",
      "default_ind        76361 non-null float64\n",
      "dtypes: float64(49)\n",
      "memory usage: 29.1 MB\n"
     ]
    }
   ],
   "source": [
    "df.info()"
   ]
  },
  {
   "cell_type": "code",
   "execution_count": 14972,
   "metadata": {},
   "outputs": [
    {
     "data": {
      "text/html": [
       "<div>\n",
       "<style scoped>\n",
       "    .dataframe tbody tr th:only-of-type {\n",
       "        vertical-align: middle;\n",
       "    }\n",
       "\n",
       "    .dataframe tbody tr th {\n",
       "        vertical-align: top;\n",
       "    }\n",
       "\n",
       "    .dataframe thead th {\n",
       "        text-align: right;\n",
       "    }\n",
       "</style>\n",
       "<table border=\"1\" class=\"dataframe\">\n",
       "  <thead>\n",
       "    <tr style=\"text-align: right;\">\n",
       "      <th></th>\n",
       "      <th>application_key</th>\n",
       "      <th>mvar1</th>\n",
       "      <th>mvar2</th>\n",
       "      <th>mvar3</th>\n",
       "      <th>mvar4</th>\n",
       "      <th>mvar5</th>\n",
       "      <th>mvar6</th>\n",
       "      <th>mvar7</th>\n",
       "      <th>mvar8</th>\n",
       "      <th>mvar9</th>\n",
       "      <th>...</th>\n",
       "      <th>mvar39</th>\n",
       "      <th>mvar40</th>\n",
       "      <th>mvar41</th>\n",
       "      <th>mvar42</th>\n",
       "      <th>mvar43</th>\n",
       "      <th>mvar44</th>\n",
       "      <th>mvar45</th>\n",
       "      <th>mvar46</th>\n",
       "      <th>mvar47</th>\n",
       "      <th>default_ind</th>\n",
       "    </tr>\n",
       "  </thead>\n",
       "  <tbody>\n",
       "    <tr>\n",
       "      <th>count</th>\n",
       "      <td>76361.000000</td>\n",
       "      <td>76361.000000</td>\n",
       "      <td>71444.000000</td>\n",
       "      <td>76361.000000</td>\n",
       "      <td>76361.000000</td>\n",
       "      <td>76361.000000</td>\n",
       "      <td>60707.000000</td>\n",
       "      <td>7.202600e+04</td>\n",
       "      <td>60707.000000</td>\n",
       "      <td>6.787900e+04</td>\n",
       "      <td>...</td>\n",
       "      <td>73175.000000</td>\n",
       "      <td>17422.000000</td>\n",
       "      <td>25363.000000</td>\n",
       "      <td>75638.000000</td>\n",
       "      <td>76208.000000</td>\n",
       "      <td>71641.000000</td>\n",
       "      <td>34999.000000</td>\n",
       "      <td>56666.000000</td>\n",
       "      <td>76361.000000</td>\n",
       "      <td>76361.000000</td>\n",
       "    </tr>\n",
       "    <tr>\n",
       "      <th>mean</th>\n",
       "      <td>269995.087911</td>\n",
       "      <td>1745.971085</td>\n",
       "      <td>1.108113</td>\n",
       "      <td>5.384228</td>\n",
       "      <td>0.492941</td>\n",
       "      <td>1.170251</td>\n",
       "      <td>1610.466882</td>\n",
       "      <td>1.772474e+04</td>\n",
       "      <td>6802.622959</td>\n",
       "      <td>3.442998e+04</td>\n",
       "      <td>...</td>\n",
       "      <td>0.091438</td>\n",
       "      <td>98.497252</td>\n",
       "      <td>72.059612</td>\n",
       "      <td>0.310008</td>\n",
       "      <td>6.799864</td>\n",
       "      <td>0.703248</td>\n",
       "      <td>0.070888</td>\n",
       "      <td>0.096954</td>\n",
       "      <td>0.356412</td>\n",
       "      <td>0.240227</td>\n",
       "    </tr>\n",
       "    <tr>\n",
       "      <th>std</th>\n",
       "      <td>23091.735568</td>\n",
       "      <td>94.537617</td>\n",
       "      <td>1.634907</td>\n",
       "      <td>10.959897</td>\n",
       "      <td>1.829456</td>\n",
       "      <td>6.112659</td>\n",
       "      <td>3704.910479</td>\n",
       "      <td>4.724469e+04</td>\n",
       "      <td>10138.169518</td>\n",
       "      <td>5.355202e+04</td>\n",
       "      <td>...</td>\n",
       "      <td>0.421061</td>\n",
       "      <td>29.778415</td>\n",
       "      <td>24.418577</td>\n",
       "      <td>0.345191</td>\n",
       "      <td>6.304258</td>\n",
       "      <td>0.245637</td>\n",
       "      <td>0.287516</td>\n",
       "      <td>0.347517</td>\n",
       "      <td>0.478942</td>\n",
       "      <td>0.427224</td>\n",
       "    </tr>\n",
       "    <tr>\n",
       "      <th>min</th>\n",
       "      <td>230032.000000</td>\n",
       "      <td>1493.000000</td>\n",
       "      <td>0.000000</td>\n",
       "      <td>0.000000</td>\n",
       "      <td>0.000000</td>\n",
       "      <td>0.000000</td>\n",
       "      <td>0.000000</td>\n",
       "      <td>0.000000e+00</td>\n",
       "      <td>0.000000</td>\n",
       "      <td>0.000000e+00</td>\n",
       "      <td>...</td>\n",
       "      <td>0.000000</td>\n",
       "      <td>0.014000</td>\n",
       "      <td>0.000000</td>\n",
       "      <td>0.000000</td>\n",
       "      <td>0.000000</td>\n",
       "      <td>0.060660</td>\n",
       "      <td>0.000000</td>\n",
       "      <td>0.000000</td>\n",
       "      <td>0.000000</td>\n",
       "      <td>0.000000</td>\n",
       "    </tr>\n",
       "    <tr>\n",
       "      <th>25%</th>\n",
       "      <td>249994.000000</td>\n",
       "      <td>1679.000000</td>\n",
       "      <td>0.140200</td>\n",
       "      <td>0.000000</td>\n",
       "      <td>0.000000</td>\n",
       "      <td>0.000000</td>\n",
       "      <td>36.000000</td>\n",
       "      <td>1.821000e+03</td>\n",
       "      <td>496.000000</td>\n",
       "      <td>3.700000e+03</td>\n",
       "      <td>...</td>\n",
       "      <td>0.000000</td>\n",
       "      <td>90.656250</td>\n",
       "      <td>58.123500</td>\n",
       "      <td>0.000000</td>\n",
       "      <td>2.000000</td>\n",
       "      <td>0.513530</td>\n",
       "      <td>0.000000</td>\n",
       "      <td>0.000000</td>\n",
       "      <td>0.000000</td>\n",
       "      <td>0.000000</td>\n",
       "    </tr>\n",
       "    <tr>\n",
       "      <th>50%</th>\n",
       "      <td>269971.000000</td>\n",
       "      <td>1742.000000</td>\n",
       "      <td>0.543500</td>\n",
       "      <td>0.311000</td>\n",
       "      <td>0.000000</td>\n",
       "      <td>0.000000</td>\n",
       "      <td>297.000000</td>\n",
       "      <td>7.085500e+03</td>\n",
       "      <td>2478.000000</td>\n",
       "      <td>1.449200e+04</td>\n",
       "      <td>...</td>\n",
       "      <td>0.000000</td>\n",
       "      <td>100.000000</td>\n",
       "      <td>78.829000</td>\n",
       "      <td>0.187500</td>\n",
       "      <td>5.000000</td>\n",
       "      <td>0.734060</td>\n",
       "      <td>0.000000</td>\n",
       "      <td>0.000000</td>\n",
       "      <td>0.000000</td>\n",
       "      <td>0.000000</td>\n",
       "    </tr>\n",
       "    <tr>\n",
       "      <th>75%</th>\n",
       "      <td>289991.000000</td>\n",
       "      <td>1810.000000</td>\n",
       "      <td>1.452650</td>\n",
       "      <td>6.556000</td>\n",
       "      <td>0.000000</td>\n",
       "      <td>0.000000</td>\n",
       "      <td>1357.000000</td>\n",
       "      <td>1.820000e+04</td>\n",
       "      <td>9755.500000</td>\n",
       "      <td>4.435400e+04</td>\n",
       "      <td>...</td>\n",
       "      <td>0.000000</td>\n",
       "      <td>111.717000</td>\n",
       "      <td>91.581000</td>\n",
       "      <td>0.529410</td>\n",
       "      <td>10.000000</td>\n",
       "      <td>0.939960</td>\n",
       "      <td>0.000000</td>\n",
       "      <td>0.000000</td>\n",
       "      <td>1.000000</td>\n",
       "      <td>0.000000</td>\n",
       "    </tr>\n",
       "    <tr>\n",
       "      <th>max</th>\n",
       "      <td>310031.000000</td>\n",
       "      <td>1950.000000</td>\n",
       "      <td>36.030100</td>\n",
       "      <td>286.858000</td>\n",
       "      <td>114.696000</td>\n",
       "      <td>226.527000</td>\n",
       "      <td>136595.000000</td>\n",
       "      <td>5.549600e+06</td>\n",
       "      <td>291810.000000</td>\n",
       "      <td>3.711880e+06</td>\n",
       "      <td>...</td>\n",
       "      <td>21.000000</td>\n",
       "      <td>430.300000</td>\n",
       "      <td>170.000000</td>\n",
       "      <td>2.000000</td>\n",
       "      <td>91.000000</td>\n",
       "      <td>1.000000</td>\n",
       "      <td>5.000000</td>\n",
       "      <td>19.000000</td>\n",
       "      <td>1.000000</td>\n",
       "      <td>1.000000</td>\n",
       "    </tr>\n",
       "  </tbody>\n",
       "</table>\n",
       "<p>8 rows × 49 columns</p>\n",
       "</div>"
      ],
      "text/plain": [
       "       application_key         mvar1         mvar2         mvar3  \\\n",
       "count     76361.000000  76361.000000  71444.000000  76361.000000   \n",
       "mean     269995.087911   1745.971085      1.108113      5.384228   \n",
       "std       23091.735568     94.537617      1.634907     10.959897   \n",
       "min      230032.000000   1493.000000      0.000000      0.000000   \n",
       "25%      249994.000000   1679.000000      0.140200      0.000000   \n",
       "50%      269971.000000   1742.000000      0.543500      0.311000   \n",
       "75%      289991.000000   1810.000000      1.452650      6.556000   \n",
       "max      310031.000000   1950.000000     36.030100    286.858000   \n",
       "\n",
       "              mvar4         mvar5          mvar6         mvar7          mvar8  \\\n",
       "count  76361.000000  76361.000000   60707.000000  7.202600e+04   60707.000000   \n",
       "mean       0.492941      1.170251    1610.466882  1.772474e+04    6802.622959   \n",
       "std        1.829456      6.112659    3704.910479  4.724469e+04   10138.169518   \n",
       "min        0.000000      0.000000       0.000000  0.000000e+00       0.000000   \n",
       "25%        0.000000      0.000000      36.000000  1.821000e+03     496.000000   \n",
       "50%        0.000000      0.000000     297.000000  7.085500e+03    2478.000000   \n",
       "75%        0.000000      0.000000    1357.000000  1.820000e+04    9755.500000   \n",
       "max      114.696000    226.527000  136595.000000  5.549600e+06  291810.000000   \n",
       "\n",
       "              mvar9      ...             mvar39        mvar40        mvar41  \\\n",
       "count  6.787900e+04      ...       73175.000000  17422.000000  25363.000000   \n",
       "mean   3.442998e+04      ...           0.091438     98.497252     72.059612   \n",
       "std    5.355202e+04      ...           0.421061     29.778415     24.418577   \n",
       "min    0.000000e+00      ...           0.000000      0.014000      0.000000   \n",
       "25%    3.700000e+03      ...           0.000000     90.656250     58.123500   \n",
       "50%    1.449200e+04      ...           0.000000    100.000000     78.829000   \n",
       "75%    4.435400e+04      ...           0.000000    111.717000     91.581000   \n",
       "max    3.711880e+06      ...          21.000000    430.300000    170.000000   \n",
       "\n",
       "             mvar42        mvar43        mvar44        mvar45        mvar46  \\\n",
       "count  75638.000000  76208.000000  71641.000000  34999.000000  56666.000000   \n",
       "mean       0.310008      6.799864      0.703248      0.070888      0.096954   \n",
       "std        0.345191      6.304258      0.245637      0.287516      0.347517   \n",
       "min        0.000000      0.000000      0.060660      0.000000      0.000000   \n",
       "25%        0.000000      2.000000      0.513530      0.000000      0.000000   \n",
       "50%        0.187500      5.000000      0.734060      0.000000      0.000000   \n",
       "75%        0.529410     10.000000      0.939960      0.000000      0.000000   \n",
       "max        2.000000     91.000000      1.000000      5.000000     19.000000   \n",
       "\n",
       "             mvar47   default_ind  \n",
       "count  76361.000000  76361.000000  \n",
       "mean       0.356412      0.240227  \n",
       "std        0.478942      0.427224  \n",
       "min        0.000000      0.000000  \n",
       "25%        0.000000      0.000000  \n",
       "50%        0.000000      0.000000  \n",
       "75%        1.000000      0.000000  \n",
       "max        1.000000      1.000000  \n",
       "\n",
       "[8 rows x 49 columns]"
      ]
     },
     "execution_count": 14972,
     "metadata": {},
     "output_type": "execute_result"
    }
   ],
   "source": [
    "df.describe()"
   ]
  },
  {
   "cell_type": "code",
   "execution_count": 14973,
   "metadata": {},
   "outputs": [
    {
     "data": {
      "text/plain": [
       "1.0    1810\n",
       "0.0    1651\n",
       "Name: default_ind, dtype: int64"
      ]
     },
     "execution_count": 14973,
     "metadata": {},
     "output_type": "execute_result"
    }
   ],
   "source": [
    "col = df[df['mvar2']>4]\n",
    "col['default_ind'].value_counts()"
   ]
  },
  {
   "cell_type": "code",
   "execution_count": 14974,
   "metadata": {},
   "outputs": [],
   "source": [
    "df['mvar2'] = df['mvar2'].fillna(0.954711)"
   ]
  },
  {
   "cell_type": "code",
   "execution_count": 14975,
   "metadata": {},
   "outputs": [],
   "source": [
    "df=df[df['mvar2']<4]"
   ]
  },
  {
   "cell_type": "code",
   "execution_count": 14976,
   "metadata": {},
   "outputs": [
    {
     "name": "stdout",
     "output_type": "stream",
     "text": [
      "<class 'pandas.core.frame.DataFrame'>\n",
      "Int64Index: 72900 entries, 0 to 79999\n",
      "Data columns (total 49 columns):\n",
      "application_key    72900 non-null float64\n",
      "mvar1              72900 non-null float64\n",
      "mvar2              72900 non-null float64\n",
      "mvar3              72900 non-null float64\n",
      "mvar4              72900 non-null float64\n",
      "mvar5              72900 non-null float64\n",
      "mvar6              58037 non-null float64\n",
      "mvar7              68791 non-null float64\n",
      "mvar8              58037 non-null float64\n",
      "mvar9              65005 non-null float64\n",
      "mvar10             72900 non-null float64\n",
      "mvar11             30661 non-null float64\n",
      "mvar12             62528 non-null float64\n",
      "mvar13             68149 non-null float64\n",
      "mvar14             72900 non-null float64\n",
      "mvar15             44343 non-null float64\n",
      "mvar16             58458 non-null float64\n",
      "mvar17             60935 non-null float64\n",
      "mvar18             61882 non-null float64\n",
      "mvar19             72900 non-null float64\n",
      "mvar20             72900 non-null float64\n",
      "mvar21             54613 non-null float64\n",
      "mvar22             47824 non-null float64\n",
      "mvar23             37047 non-null float64\n",
      "mvar24             58329 non-null float64\n",
      "mvar25             68032 non-null float64\n",
      "mvar26             65666 non-null float64\n",
      "mvar27             63252 non-null float64\n",
      "mvar28             72900 non-null float64\n",
      "mvar29             72900 non-null float64\n",
      "mvar30             41180 non-null float64\n",
      "mvar31             22330 non-null float64\n",
      "mvar32             68032 non-null float64\n",
      "mvar33             71549 non-null float64\n",
      "mvar34             72900 non-null float64\n",
      "mvar35             44028 non-null float64\n",
      "mvar36             71155 non-null float64\n",
      "mvar37             68032 non-null float64\n",
      "mvar38             72900 non-null float64\n",
      "mvar39             69877 non-null float64\n",
      "mvar40             16398 non-null float64\n",
      "mvar41             24007 non-null float64\n",
      "mvar42             72224 non-null float64\n",
      "mvar43             72767 non-null float64\n",
      "mvar44             68417 non-null float64\n",
      "mvar45             34112 non-null float64\n",
      "mvar46             54096 non-null float64\n",
      "mvar47             72900 non-null float64\n",
      "default_ind        72900 non-null float64\n",
      "dtypes: float64(49)\n",
      "memory usage: 27.8 MB\n"
     ]
    }
   ],
   "source": [
    "df.info()"
   ]
  },
  {
   "cell_type": "code",
   "execution_count": 14977,
   "metadata": {},
   "outputs": [
    {
     "data": {
      "text/html": [
       "<div>\n",
       "<style scoped>\n",
       "    .dataframe tbody tr th:only-of-type {\n",
       "        vertical-align: middle;\n",
       "    }\n",
       "\n",
       "    .dataframe tbody tr th {\n",
       "        vertical-align: top;\n",
       "    }\n",
       "\n",
       "    .dataframe thead th {\n",
       "        text-align: right;\n",
       "    }\n",
       "</style>\n",
       "<table border=\"1\" class=\"dataframe\">\n",
       "  <thead>\n",
       "    <tr style=\"text-align: right;\">\n",
       "      <th></th>\n",
       "      <th>application_key</th>\n",
       "      <th>mvar1</th>\n",
       "      <th>mvar2</th>\n",
       "      <th>mvar3</th>\n",
       "      <th>mvar4</th>\n",
       "      <th>mvar5</th>\n",
       "      <th>mvar6</th>\n",
       "      <th>mvar7</th>\n",
       "      <th>mvar8</th>\n",
       "      <th>mvar9</th>\n",
       "      <th>...</th>\n",
       "      <th>mvar39</th>\n",
       "      <th>mvar40</th>\n",
       "      <th>mvar41</th>\n",
       "      <th>mvar42</th>\n",
       "      <th>mvar43</th>\n",
       "      <th>mvar44</th>\n",
       "      <th>mvar45</th>\n",
       "      <th>mvar46</th>\n",
       "      <th>mvar47</th>\n",
       "      <th>default_ind</th>\n",
       "    </tr>\n",
       "  </thead>\n",
       "  <tbody>\n",
       "    <tr>\n",
       "      <th>count</th>\n",
       "      <td>72900.000000</td>\n",
       "      <td>72900.000000</td>\n",
       "      <td>72900.000000</td>\n",
       "      <td>72900.000000</td>\n",
       "      <td>72900.000000</td>\n",
       "      <td>72900.000000</td>\n",
       "      <td>58037.000000</td>\n",
       "      <td>6.879100e+04</td>\n",
       "      <td>58037.000000</td>\n",
       "      <td>6.500500e+04</td>\n",
       "      <td>...</td>\n",
       "      <td>69877.000000</td>\n",
       "      <td>16398.000000</td>\n",
       "      <td>24007.000000</td>\n",
       "      <td>72224.000000</td>\n",
       "      <td>72767.000000</td>\n",
       "      <td>68417.000000</td>\n",
       "      <td>34112.000000</td>\n",
       "      <td>54096.000000</td>\n",
       "      <td>72900.000000</td>\n",
       "      <td>72900.000000</td>\n",
       "    </tr>\n",
       "    <tr>\n",
       "      <th>mean</th>\n",
       "      <td>269769.823567</td>\n",
       "      <td>1748.554842</td>\n",
       "      <td>0.844126</td>\n",
       "      <td>5.229873</td>\n",
       "      <td>0.470755</td>\n",
       "      <td>1.142094</td>\n",
       "      <td>1664.752313</td>\n",
       "      <td>1.821094e+04</td>\n",
       "      <td>6993.778865</td>\n",
       "      <td>3.526381e+04</td>\n",
       "      <td>...</td>\n",
       "      <td>0.088742</td>\n",
       "      <td>98.149747</td>\n",
       "      <td>71.569471</td>\n",
       "      <td>0.304373</td>\n",
       "      <td>6.769538</td>\n",
       "      <td>0.705936</td>\n",
       "      <td>0.069887</td>\n",
       "      <td>0.092003</td>\n",
       "      <td>0.359753</td>\n",
       "      <td>0.226804</td>\n",
       "    </tr>\n",
       "    <tr>\n",
       "      <th>std</th>\n",
       "      <td>23096.691282</td>\n",
       "      <td>94.808543</td>\n",
       "      <td>0.881392</td>\n",
       "      <td>10.765163</td>\n",
       "      <td>1.769899</td>\n",
       "      <td>6.008919</td>\n",
       "      <td>3755.423791</td>\n",
       "      <td>4.817064e+04</td>\n",
       "      <td>10230.863229</td>\n",
       "      <td>5.428227e+04</td>\n",
       "      <td>...</td>\n",
       "      <td>0.413451</td>\n",
       "      <td>30.082888</td>\n",
       "      <td>24.469395</td>\n",
       "      <td>0.343993</td>\n",
       "      <td>6.192089</td>\n",
       "      <td>0.244818</td>\n",
       "      <td>0.285551</td>\n",
       "      <td>0.336385</td>\n",
       "      <td>0.479931</td>\n",
       "      <td>0.418768</td>\n",
       "    </tr>\n",
       "    <tr>\n",
       "      <th>min</th>\n",
       "      <td>230032.000000</td>\n",
       "      <td>1493.000000</td>\n",
       "      <td>0.000000</td>\n",
       "      <td>0.000000</td>\n",
       "      <td>0.000000</td>\n",
       "      <td>0.000000</td>\n",
       "      <td>0.000000</td>\n",
       "      <td>0.000000e+00</td>\n",
       "      <td>0.000000</td>\n",
       "      <td>0.000000e+00</td>\n",
       "      <td>...</td>\n",
       "      <td>0.000000</td>\n",
       "      <td>0.014000</td>\n",
       "      <td>0.000000</td>\n",
       "      <td>0.000000</td>\n",
       "      <td>0.000000</td>\n",
       "      <td>0.060660</td>\n",
       "      <td>0.000000</td>\n",
       "      <td>0.000000</td>\n",
       "      <td>0.000000</td>\n",
       "      <td>0.000000</td>\n",
       "    </tr>\n",
       "    <tr>\n",
       "      <th>25%</th>\n",
       "      <td>249728.750000</td>\n",
       "      <td>1681.000000</td>\n",
       "      <td>0.146400</td>\n",
       "      <td>0.000000</td>\n",
       "      <td>0.000000</td>\n",
       "      <td>0.000000</td>\n",
       "      <td>41.000000</td>\n",
       "      <td>1.951000e+03</td>\n",
       "      <td>496.000000</td>\n",
       "      <td>3.865000e+03</td>\n",
       "      <td>...</td>\n",
       "      <td>0.000000</td>\n",
       "      <td>89.728500</td>\n",
       "      <td>57.276000</td>\n",
       "      <td>0.000000</td>\n",
       "      <td>2.000000</td>\n",
       "      <td>0.516900</td>\n",
       "      <td>0.000000</td>\n",
       "      <td>0.000000</td>\n",
       "      <td>0.000000</td>\n",
       "      <td>0.000000</td>\n",
       "    </tr>\n",
       "    <tr>\n",
       "      <th>50%</th>\n",
       "      <td>269680.500000</td>\n",
       "      <td>1744.000000</td>\n",
       "      <td>0.568400</td>\n",
       "      <td>0.283000</td>\n",
       "      <td>0.000000</td>\n",
       "      <td>0.000000</td>\n",
       "      <td>315.000000</td>\n",
       "      <td>7.410000e+03</td>\n",
       "      <td>2656.000000</td>\n",
       "      <td>1.511300e+04</td>\n",
       "      <td>...</td>\n",
       "      <td>0.000000</td>\n",
       "      <td>100.000000</td>\n",
       "      <td>78.211000</td>\n",
       "      <td>0.175440</td>\n",
       "      <td>5.000000</td>\n",
       "      <td>0.737920</td>\n",
       "      <td>0.000000</td>\n",
       "      <td>0.000000</td>\n",
       "      <td>0.000000</td>\n",
       "      <td>0.000000</td>\n",
       "    </tr>\n",
       "    <tr>\n",
       "      <th>75%</th>\n",
       "      <td>289740.500000</td>\n",
       "      <td>1814.000000</td>\n",
       "      <td>1.194250</td>\n",
       "      <td>6.250000</td>\n",
       "      <td>0.000000</td>\n",
       "      <td>0.000000</td>\n",
       "      <td>1487.000000</td>\n",
       "      <td>1.874650e+04</td>\n",
       "      <td>9910.000000</td>\n",
       "      <td>4.576000e+04</td>\n",
       "      <td>...</td>\n",
       "      <td>0.000000</td>\n",
       "      <td>111.551250</td>\n",
       "      <td>91.164000</td>\n",
       "      <td>0.500000</td>\n",
       "      <td>10.000000</td>\n",
       "      <td>0.941820</td>\n",
       "      <td>0.000000</td>\n",
       "      <td>0.000000</td>\n",
       "      <td>1.000000</td>\n",
       "      <td>0.000000</td>\n",
       "    </tr>\n",
       "    <tr>\n",
       "      <th>max</th>\n",
       "      <td>310031.000000</td>\n",
       "      <td>1950.000000</td>\n",
       "      <td>3.999600</td>\n",
       "      <td>192.533000</td>\n",
       "      <td>114.696000</td>\n",
       "      <td>179.277000</td>\n",
       "      <td>136595.000000</td>\n",
       "      <td>5.549600e+06</td>\n",
       "      <td>291810.000000</td>\n",
       "      <td>3.711880e+06</td>\n",
       "      <td>...</td>\n",
       "      <td>21.000000</td>\n",
       "      <td>430.300000</td>\n",
       "      <td>170.000000</td>\n",
       "      <td>2.000000</td>\n",
       "      <td>91.000000</td>\n",
       "      <td>1.000000</td>\n",
       "      <td>5.000000</td>\n",
       "      <td>19.000000</td>\n",
       "      <td>1.000000</td>\n",
       "      <td>1.000000</td>\n",
       "    </tr>\n",
       "  </tbody>\n",
       "</table>\n",
       "<p>8 rows × 49 columns</p>\n",
       "</div>"
      ],
      "text/plain": [
       "       application_key         mvar1         mvar2         mvar3  \\\n",
       "count     72900.000000  72900.000000  72900.000000  72900.000000   \n",
       "mean     269769.823567   1748.554842      0.844126      5.229873   \n",
       "std       23096.691282     94.808543      0.881392     10.765163   \n",
       "min      230032.000000   1493.000000      0.000000      0.000000   \n",
       "25%      249728.750000   1681.000000      0.146400      0.000000   \n",
       "50%      269680.500000   1744.000000      0.568400      0.283000   \n",
       "75%      289740.500000   1814.000000      1.194250      6.250000   \n",
       "max      310031.000000   1950.000000      3.999600    192.533000   \n",
       "\n",
       "              mvar4         mvar5          mvar6         mvar7          mvar8  \\\n",
       "count  72900.000000  72900.000000   58037.000000  6.879100e+04   58037.000000   \n",
       "mean       0.470755      1.142094    1664.752313  1.821094e+04    6993.778865   \n",
       "std        1.769899      6.008919    3755.423791  4.817064e+04   10230.863229   \n",
       "min        0.000000      0.000000       0.000000  0.000000e+00       0.000000   \n",
       "25%        0.000000      0.000000      41.000000  1.951000e+03     496.000000   \n",
       "50%        0.000000      0.000000     315.000000  7.410000e+03    2656.000000   \n",
       "75%        0.000000      0.000000    1487.000000  1.874650e+04    9910.000000   \n",
       "max      114.696000    179.277000  136595.000000  5.549600e+06  291810.000000   \n",
       "\n",
       "              mvar9      ...             mvar39        mvar40        mvar41  \\\n",
       "count  6.500500e+04      ...       69877.000000  16398.000000  24007.000000   \n",
       "mean   3.526381e+04      ...           0.088742     98.149747     71.569471   \n",
       "std    5.428227e+04      ...           0.413451     30.082888     24.469395   \n",
       "min    0.000000e+00      ...           0.000000      0.014000      0.000000   \n",
       "25%    3.865000e+03      ...           0.000000     89.728500     57.276000   \n",
       "50%    1.511300e+04      ...           0.000000    100.000000     78.211000   \n",
       "75%    4.576000e+04      ...           0.000000    111.551250     91.164000   \n",
       "max    3.711880e+06      ...          21.000000    430.300000    170.000000   \n",
       "\n",
       "             mvar42        mvar43        mvar44        mvar45        mvar46  \\\n",
       "count  72224.000000  72767.000000  68417.000000  34112.000000  54096.000000   \n",
       "mean       0.304373      6.769538      0.705936      0.069887      0.092003   \n",
       "std        0.343993      6.192089      0.244818      0.285551      0.336385   \n",
       "min        0.000000      0.000000      0.060660      0.000000      0.000000   \n",
       "25%        0.000000      2.000000      0.516900      0.000000      0.000000   \n",
       "50%        0.175440      5.000000      0.737920      0.000000      0.000000   \n",
       "75%        0.500000     10.000000      0.941820      0.000000      0.000000   \n",
       "max        2.000000     91.000000      1.000000      5.000000     19.000000   \n",
       "\n",
       "             mvar47   default_ind  \n",
       "count  72900.000000  72900.000000  \n",
       "mean       0.359753      0.226804  \n",
       "std        0.479931      0.418768  \n",
       "min        0.000000      0.000000  \n",
       "25%        0.000000      0.000000  \n",
       "50%        0.000000      0.000000  \n",
       "75%        1.000000      0.000000  \n",
       "max        1.000000      1.000000  \n",
       "\n",
       "[8 rows x 49 columns]"
      ]
     },
     "execution_count": 14977,
     "metadata": {},
     "output_type": "execute_result"
    }
   ],
   "source": [
    "df.describe()"
   ]
  },
  {
   "cell_type": "code",
   "execution_count": 14978,
   "metadata": {},
   "outputs": [],
   "source": [
    "df.drop('mvar3',axis=1,inplace=True)"
   ]
  },
  {
   "cell_type": "code",
   "execution_count": 14979,
   "metadata": {},
   "outputs": [
    {
     "data": {
      "text/plain": [
       "0.0    5759\n",
       "1.0    4057\n",
       "Name: default_ind, dtype: int64"
      ]
     },
     "execution_count": 14979,
     "metadata": {},
     "output_type": "execute_result"
    }
   ],
   "source": [
    "df2 = df[df['mvar6'] ==0]\n",
    "df2['default_ind'].value_counts()"
   ]
  },
  {
   "cell_type": "code",
   "execution_count": 14980,
   "metadata": {},
   "outputs": [
    {
     "data": {
      "text/html": [
       "<div>\n",
       "<style scoped>\n",
       "    .dataframe tbody tr th:only-of-type {\n",
       "        vertical-align: middle;\n",
       "    }\n",
       "\n",
       "    .dataframe tbody tr th {\n",
       "        vertical-align: top;\n",
       "    }\n",
       "\n",
       "    .dataframe thead th {\n",
       "        text-align: right;\n",
       "    }\n",
       "</style>\n",
       "<table border=\"1\" class=\"dataframe\">\n",
       "  <thead>\n",
       "    <tr style=\"text-align: right;\">\n",
       "      <th></th>\n",
       "      <th>mvar4</th>\n",
       "      <th>mvar5</th>\n",
       "    </tr>\n",
       "  </thead>\n",
       "  <tbody>\n",
       "    <tr>\n",
       "      <th>mvar4</th>\n",
       "      <td>1.000000</td>\n",
       "      <td>0.089272</td>\n",
       "    </tr>\n",
       "    <tr>\n",
       "      <th>mvar5</th>\n",
       "      <td>0.089272</td>\n",
       "      <td>1.000000</td>\n",
       "    </tr>\n",
       "  </tbody>\n",
       "</table>\n",
       "</div>"
      ],
      "text/plain": [
       "          mvar4     mvar5\n",
       "mvar4  1.000000  0.089272\n",
       "mvar5  0.089272  1.000000"
      ]
     },
     "execution_count": 14980,
     "metadata": {},
     "output_type": "execute_result"
    }
   ],
   "source": [
    "dframe = df[['mvar4','mvar5']]\n",
    "dframe.corr()"
   ]
  },
  {
   "cell_type": "code",
   "execution_count": 14981,
   "metadata": {},
   "outputs": [],
   "source": [
    "df.drop('mvar8',axis=1,inplace=True)"
   ]
  },
  {
   "cell_type": "code",
   "execution_count": 14982,
   "metadata": {},
   "outputs": [],
   "source": [
    "bins = [-1, 12,100, 1500, 100000000]\n",
    "labels = [1,2,3,4]\n",
    "df['binned_mvar6'] = pd.cut(df['mvar6'], bins=bins, labels=labels)"
   ]
  },
  {
   "cell_type": "code",
   "execution_count": 14983,
   "metadata": {},
   "outputs": [
    {
     "data": {
      "text/plain": [
       "3    24883\n",
       "4    14085\n",
       "1    11328\n",
       "2     7741\n",
       "Name: binned_mvar6, dtype: int64"
      ]
     },
     "execution_count": 14983,
     "metadata": {},
     "output_type": "execute_result"
    }
   ],
   "source": [
    "df['binned_mvar6'].value_counts()"
   ]
  },
  {
   "cell_type": "code",
   "execution_count": 14984,
   "metadata": {},
   "outputs": [
    {
     "name": "stdout",
     "output_type": "stream",
     "text": [
      "nan\n",
      "<class 'numpy.ndarray'>\n"
     ]
    }
   ],
   "source": [
    "arr=np.array(df['binned_mvar6'].tolist())\n",
    "import random\n",
    "print (np.nan)\n",
    "print (type(arr))\n",
    "for i in range (len(arr)):\n",
    "    if np.isnan(arr[i]):\n",
    "        arr[i]=random.randint(2,4)\n",
    "df['binned_mvar6']=arr"
   ]
  },
  {
   "cell_type": "code",
   "execution_count": 14985,
   "metadata": {},
   "outputs": [
    {
     "data": {
      "text/html": [
       "<div>\n",
       "<style scoped>\n",
       "    .dataframe tbody tr th:only-of-type {\n",
       "        vertical-align: middle;\n",
       "    }\n",
       "\n",
       "    .dataframe tbody tr th {\n",
       "        vertical-align: top;\n",
       "    }\n",
       "\n",
       "    .dataframe thead th {\n",
       "        text-align: right;\n",
       "    }\n",
       "</style>\n",
       "<table border=\"1\" class=\"dataframe\">\n",
       "  <thead>\n",
       "    <tr style=\"text-align: right;\">\n",
       "      <th></th>\n",
       "      <th>application_key</th>\n",
       "      <th>mvar1</th>\n",
       "      <th>mvar2</th>\n",
       "      <th>mvar4</th>\n",
       "      <th>mvar5</th>\n",
       "      <th>mvar6</th>\n",
       "      <th>mvar7</th>\n",
       "      <th>mvar9</th>\n",
       "      <th>mvar10</th>\n",
       "      <th>mvar11</th>\n",
       "      <th>...</th>\n",
       "      <th>mvar40</th>\n",
       "      <th>mvar41</th>\n",
       "      <th>mvar42</th>\n",
       "      <th>mvar43</th>\n",
       "      <th>mvar44</th>\n",
       "      <th>mvar45</th>\n",
       "      <th>mvar46</th>\n",
       "      <th>mvar47</th>\n",
       "      <th>default_ind</th>\n",
       "      <th>binned_mvar6</th>\n",
       "    </tr>\n",
       "  </thead>\n",
       "  <tbody>\n",
       "    <tr>\n",
       "      <th>count</th>\n",
       "      <td>72900.000000</td>\n",
       "      <td>72900.000000</td>\n",
       "      <td>72900.000000</td>\n",
       "      <td>72900.000000</td>\n",
       "      <td>72900.000000</td>\n",
       "      <td>58037.000000</td>\n",
       "      <td>6.879100e+04</td>\n",
       "      <td>6.500500e+04</td>\n",
       "      <td>7.290000e+04</td>\n",
       "      <td>30661.000000</td>\n",
       "      <td>...</td>\n",
       "      <td>16398.000000</td>\n",
       "      <td>24007.000000</td>\n",
       "      <td>72224.000000</td>\n",
       "      <td>72767.000000</td>\n",
       "      <td>68417.000000</td>\n",
       "      <td>34112.000000</td>\n",
       "      <td>54096.000000</td>\n",
       "      <td>72900.000000</td>\n",
       "      <td>72900.000000</td>\n",
       "      <td>72900.000000</td>\n",
       "    </tr>\n",
       "    <tr>\n",
       "      <th>mean</th>\n",
       "      <td>269769.823567</td>\n",
       "      <td>1748.554842</td>\n",
       "      <td>0.844126</td>\n",
       "      <td>0.470755</td>\n",
       "      <td>1.142094</td>\n",
       "      <td>1664.752313</td>\n",
       "      <td>1.821094e+04</td>\n",
       "      <td>3.526381e+04</td>\n",
       "      <td>3.261166e+04</td>\n",
       "      <td>5198.446332</td>\n",
       "      <td>...</td>\n",
       "      <td>98.149747</td>\n",
       "      <td>71.569471</td>\n",
       "      <td>0.304373</td>\n",
       "      <td>6.769538</td>\n",
       "      <td>0.705936</td>\n",
       "      <td>0.069887</td>\n",
       "      <td>0.092003</td>\n",
       "      <td>0.359753</td>\n",
       "      <td>0.226804</td>\n",
       "      <td>2.776447</td>\n",
       "    </tr>\n",
       "    <tr>\n",
       "      <th>std</th>\n",
       "      <td>23096.691282</td>\n",
       "      <td>94.808543</td>\n",
       "      <td>0.881392</td>\n",
       "      <td>1.769899</td>\n",
       "      <td>6.008919</td>\n",
       "      <td>3755.423791</td>\n",
       "      <td>4.817064e+04</td>\n",
       "      <td>5.428227e+04</td>\n",
       "      <td>6.950810e+04</td>\n",
       "      <td>13058.075608</td>\n",
       "      <td>...</td>\n",
       "      <td>30.082888</td>\n",
       "      <td>24.469395</td>\n",
       "      <td>0.343993</td>\n",
       "      <td>6.192089</td>\n",
       "      <td>0.244818</td>\n",
       "      <td>0.285551</td>\n",
       "      <td>0.336385</td>\n",
       "      <td>0.479931</td>\n",
       "      <td>0.418768</td>\n",
       "      <td>1.003743</td>\n",
       "    </tr>\n",
       "    <tr>\n",
       "      <th>min</th>\n",
       "      <td>230032.000000</td>\n",
       "      <td>1493.000000</td>\n",
       "      <td>0.000000</td>\n",
       "      <td>0.000000</td>\n",
       "      <td>0.000000</td>\n",
       "      <td>0.000000</td>\n",
       "      <td>0.000000e+00</td>\n",
       "      <td>0.000000e+00</td>\n",
       "      <td>0.000000e+00</td>\n",
       "      <td>0.000000</td>\n",
       "      <td>...</td>\n",
       "      <td>0.014000</td>\n",
       "      <td>0.000000</td>\n",
       "      <td>0.000000</td>\n",
       "      <td>0.000000</td>\n",
       "      <td>0.060660</td>\n",
       "      <td>0.000000</td>\n",
       "      <td>0.000000</td>\n",
       "      <td>0.000000</td>\n",
       "      <td>0.000000</td>\n",
       "      <td>1.000000</td>\n",
       "    </tr>\n",
       "    <tr>\n",
       "      <th>25%</th>\n",
       "      <td>249728.750000</td>\n",
       "      <td>1681.000000</td>\n",
       "      <td>0.146400</td>\n",
       "      <td>0.000000</td>\n",
       "      <td>0.000000</td>\n",
       "      <td>41.000000</td>\n",
       "      <td>1.951000e+03</td>\n",
       "      <td>3.865000e+03</td>\n",
       "      <td>1.801000e+03</td>\n",
       "      <td>523.000000</td>\n",
       "      <td>...</td>\n",
       "      <td>89.728500</td>\n",
       "      <td>57.276000</td>\n",
       "      <td>0.000000</td>\n",
       "      <td>2.000000</td>\n",
       "      <td>0.516900</td>\n",
       "      <td>0.000000</td>\n",
       "      <td>0.000000</td>\n",
       "      <td>0.000000</td>\n",
       "      <td>0.000000</td>\n",
       "      <td>2.000000</td>\n",
       "    </tr>\n",
       "    <tr>\n",
       "      <th>50%</th>\n",
       "      <td>269680.500000</td>\n",
       "      <td>1744.000000</td>\n",
       "      <td>0.568400</td>\n",
       "      <td>0.000000</td>\n",
       "      <td>0.000000</td>\n",
       "      <td>315.000000</td>\n",
       "      <td>7.410000e+03</td>\n",
       "      <td>1.511300e+04</td>\n",
       "      <td>1.107250e+04</td>\n",
       "      <td>1705.000000</td>\n",
       "      <td>...</td>\n",
       "      <td>100.000000</td>\n",
       "      <td>78.211000</td>\n",
       "      <td>0.175440</td>\n",
       "      <td>5.000000</td>\n",
       "      <td>0.737920</td>\n",
       "      <td>0.000000</td>\n",
       "      <td>0.000000</td>\n",
       "      <td>0.000000</td>\n",
       "      <td>0.000000</td>\n",
       "      <td>3.000000</td>\n",
       "    </tr>\n",
       "    <tr>\n",
       "      <th>75%</th>\n",
       "      <td>289740.500000</td>\n",
       "      <td>1814.000000</td>\n",
       "      <td>1.194250</td>\n",
       "      <td>0.000000</td>\n",
       "      <td>0.000000</td>\n",
       "      <td>1487.000000</td>\n",
       "      <td>1.874650e+04</td>\n",
       "      <td>4.576000e+04</td>\n",
       "      <td>3.718725e+04</td>\n",
       "      <td>4900.000000</td>\n",
       "      <td>...</td>\n",
       "      <td>111.551250</td>\n",
       "      <td>91.164000</td>\n",
       "      <td>0.500000</td>\n",
       "      <td>10.000000</td>\n",
       "      <td>0.941820</td>\n",
       "      <td>0.000000</td>\n",
       "      <td>0.000000</td>\n",
       "      <td>1.000000</td>\n",
       "      <td>0.000000</td>\n",
       "      <td>4.000000</td>\n",
       "    </tr>\n",
       "    <tr>\n",
       "      <th>max</th>\n",
       "      <td>310031.000000</td>\n",
       "      <td>1950.000000</td>\n",
       "      <td>3.999600</td>\n",
       "      <td>114.696000</td>\n",
       "      <td>179.277000</td>\n",
       "      <td>136595.000000</td>\n",
       "      <td>5.549600e+06</td>\n",
       "      <td>3.711880e+06</td>\n",
       "      <td>5.633320e+06</td>\n",
       "      <td>464264.000000</td>\n",
       "      <td>...</td>\n",
       "      <td>430.300000</td>\n",
       "      <td>170.000000</td>\n",
       "      <td>2.000000</td>\n",
       "      <td>91.000000</td>\n",
       "      <td>1.000000</td>\n",
       "      <td>5.000000</td>\n",
       "      <td>19.000000</td>\n",
       "      <td>1.000000</td>\n",
       "      <td>1.000000</td>\n",
       "      <td>4.000000</td>\n",
       "    </tr>\n",
       "  </tbody>\n",
       "</table>\n",
       "<p>8 rows × 48 columns</p>\n",
       "</div>"
      ],
      "text/plain": [
       "       application_key         mvar1         mvar2         mvar4  \\\n",
       "count     72900.000000  72900.000000  72900.000000  72900.000000   \n",
       "mean     269769.823567   1748.554842      0.844126      0.470755   \n",
       "std       23096.691282     94.808543      0.881392      1.769899   \n",
       "min      230032.000000   1493.000000      0.000000      0.000000   \n",
       "25%      249728.750000   1681.000000      0.146400      0.000000   \n",
       "50%      269680.500000   1744.000000      0.568400      0.000000   \n",
       "75%      289740.500000   1814.000000      1.194250      0.000000   \n",
       "max      310031.000000   1950.000000      3.999600    114.696000   \n",
       "\n",
       "              mvar5          mvar6         mvar7         mvar9        mvar10  \\\n",
       "count  72900.000000   58037.000000  6.879100e+04  6.500500e+04  7.290000e+04   \n",
       "mean       1.142094    1664.752313  1.821094e+04  3.526381e+04  3.261166e+04   \n",
       "std        6.008919    3755.423791  4.817064e+04  5.428227e+04  6.950810e+04   \n",
       "min        0.000000       0.000000  0.000000e+00  0.000000e+00  0.000000e+00   \n",
       "25%        0.000000      41.000000  1.951000e+03  3.865000e+03  1.801000e+03   \n",
       "50%        0.000000     315.000000  7.410000e+03  1.511300e+04  1.107250e+04   \n",
       "75%        0.000000    1487.000000  1.874650e+04  4.576000e+04  3.718725e+04   \n",
       "max      179.277000  136595.000000  5.549600e+06  3.711880e+06  5.633320e+06   \n",
       "\n",
       "              mvar11      ...             mvar40        mvar41        mvar42  \\\n",
       "count   30661.000000      ...       16398.000000  24007.000000  72224.000000   \n",
       "mean     5198.446332      ...          98.149747     71.569471      0.304373   \n",
       "std     13058.075608      ...          30.082888     24.469395      0.343993   \n",
       "min         0.000000      ...           0.014000      0.000000      0.000000   \n",
       "25%       523.000000      ...          89.728500     57.276000      0.000000   \n",
       "50%      1705.000000      ...         100.000000     78.211000      0.175440   \n",
       "75%      4900.000000      ...         111.551250     91.164000      0.500000   \n",
       "max    464264.000000      ...         430.300000    170.000000      2.000000   \n",
       "\n",
       "             mvar43        mvar44        mvar45        mvar46        mvar47  \\\n",
       "count  72767.000000  68417.000000  34112.000000  54096.000000  72900.000000   \n",
       "mean       6.769538      0.705936      0.069887      0.092003      0.359753   \n",
       "std        6.192089      0.244818      0.285551      0.336385      0.479931   \n",
       "min        0.000000      0.060660      0.000000      0.000000      0.000000   \n",
       "25%        2.000000      0.516900      0.000000      0.000000      0.000000   \n",
       "50%        5.000000      0.737920      0.000000      0.000000      0.000000   \n",
       "75%       10.000000      0.941820      0.000000      0.000000      1.000000   \n",
       "max       91.000000      1.000000      5.000000     19.000000      1.000000   \n",
       "\n",
       "        default_ind  binned_mvar6  \n",
       "count  72900.000000  72900.000000  \n",
       "mean       0.226804      2.776447  \n",
       "std        0.418768      1.003743  \n",
       "min        0.000000      1.000000  \n",
       "25%        0.000000      2.000000  \n",
       "50%        0.000000      3.000000  \n",
       "75%        0.000000      4.000000  \n",
       "max        1.000000      4.000000  \n",
       "\n",
       "[8 rows x 48 columns]"
      ]
     },
     "execution_count": 14985,
     "metadata": {},
     "output_type": "execute_result"
    }
   ],
   "source": [
    "df.describe()"
   ]
  },
  {
   "cell_type": "code",
   "execution_count": 14986,
   "metadata": {},
   "outputs": [],
   "source": [
    "df.drop('mvar6',axis=1,inplace=True)"
   ]
  },
  {
   "cell_type": "code",
   "execution_count": 14987,
   "metadata": {},
   "outputs": [
    {
     "data": {
      "text/plain": [
       "1.0    244\n",
       "0.0    217\n",
       "Name: default_ind, dtype: int64"
      ]
     },
     "execution_count": 14987,
     "metadata": {},
     "output_type": "execute_result"
    }
   ],
   "source": [
    "col = df[df['mvar4']>9]\n",
    "col['default_ind'].value_counts()"
   ]
  },
  {
   "cell_type": "code",
   "execution_count": 14988,
   "metadata": {},
   "outputs": [],
   "source": [
    "df = df[df['mvar4']<8]"
   ]
  },
  {
   "cell_type": "code",
   "execution_count": 14989,
   "metadata": {},
   "outputs": [
    {
     "name": "stdout",
     "output_type": "stream",
     "text": [
      "nan\n",
      "<class 'numpy.ndarray'>\n"
     ]
    }
   ],
   "source": [
    "arr=np.array(df['mvar4'].tolist())\n",
    "import random\n",
    "print (np.nan)\n",
    "print (type(arr))\n",
    "for i in range (len(arr)):\n",
    "    if arr[i]==0:\n",
    "        arr[i]=0\n",
    "    else:\n",
    "        arr[i]=1\n",
    "df['mvar4']=arr"
   ]
  },
  {
   "cell_type": "code",
   "execution_count": 14990,
   "metadata": {},
   "outputs": [
    {
     "name": "stdout",
     "output_type": "stream",
     "text": [
      "nan\n",
      "<class 'numpy.ndarray'>\n"
     ]
    }
   ],
   "source": [
    "arr=np.array(df['mvar5'].tolist())\n",
    "import random\n",
    "print (np.nan)\n",
    "print (type(arr))\n",
    "for i in range (len(arr)):\n",
    "    if arr[i]==0:\n",
    "        arr[i]=0\n",
    "    else:\n",
    "        arr[i]=1\n",
    "df['mvar5']=arr"
   ]
  },
  {
   "cell_type": "code",
   "execution_count": 14991,
   "metadata": {},
   "outputs": [
    {
     "data": {
      "text/plain": [
       "0.0    65171\n",
       "1.0     6983\n",
       "Name: mvar5, dtype: int64"
      ]
     },
     "execution_count": 14991,
     "metadata": {},
     "output_type": "execute_result"
    }
   ],
   "source": [
    "df['mvar5'].value_counts()"
   ]
  },
  {
   "cell_type": "code",
   "execution_count": 14992,
   "metadata": {},
   "outputs": [],
   "source": [
    "bins = [1450, 1600,1700, 1800, 1950]\n",
    "labels = [1,2,3,4]\n",
    "df['binned_mvar1'] = pd.cut(df['mvar1'], bins=bins, labels=labels)"
   ]
  },
  {
   "cell_type": "code",
   "execution_count": 14993,
   "metadata": {},
   "outputs": [],
   "source": [
    "import seaborn as sns"
   ]
  },
  {
   "cell_type": "code",
   "execution_count": 14994,
   "metadata": {},
   "outputs": [
    {
     "data": {
      "text/plain": [
       "count    6.819100e+04\n",
       "mean     1.829720e+04\n",
       "std      4.832809e+04\n",
       "min      0.000000e+00\n",
       "25%      1.981000e+03\n",
       "50%      7.433000e+03\n",
       "75%      1.882900e+04\n",
       "max      5.549600e+06\n",
       "Name: mvar7, dtype: float64"
      ]
     },
     "execution_count": 14994,
     "metadata": {},
     "output_type": "execute_result"
    }
   ],
   "source": [
    "df['mvar7'].describe()"
   ]
  },
  {
   "cell_type": "code",
   "execution_count": 14995,
   "metadata": {},
   "outputs": [
    {
     "data": {
      "text/plain": [
       "0.0    10005\n",
       "1.0     6376\n",
       "Name: default_ind, dtype: int64"
      ]
     },
     "execution_count": 14995,
     "metadata": {},
     "output_type": "execute_result"
    }
   ],
   "source": [
    "col = df[df['mvar7']<1.821000e+03]\n",
    "col['default_ind'].value_counts()"
   ]
  },
  {
   "cell_type": "code",
   "execution_count": 14996,
   "metadata": {},
   "outputs": [],
   "source": [
    "bins = [-1,1.821000e+03,5.559600e+06]\n",
    "labels = [1,2]\n",
    "df['binned_mvar7'] = pd.cut(df['mvar7'], bins=bins, labels=labels)"
   ]
  },
  {
   "cell_type": "code",
   "execution_count": 14997,
   "metadata": {},
   "outputs": [
    {
     "data": {
      "text/plain": [
       "2    51800\n",
       "1    16391\n",
       "Name: binned_mvar7, dtype: int64"
      ]
     },
     "execution_count": 14997,
     "metadata": {},
     "output_type": "execute_result"
    }
   ],
   "source": [
    "df['binned_mvar7'].value_counts()"
   ]
  },
  {
   "cell_type": "code",
   "execution_count": 14998,
   "metadata": {},
   "outputs": [],
   "source": [
    "df['binned_mvar7'] = df['binned_mvar7'].replace([1,2],[1,0])"
   ]
  },
  {
   "cell_type": "code",
   "execution_count": 14999,
   "metadata": {},
   "outputs": [
    {
     "name": "stdout",
     "output_type": "stream",
     "text": [
      "nan\n",
      "<class 'numpy.ndarray'>\n"
     ]
    }
   ],
   "source": [
    "arr=np.array(df['binned_mvar7'].tolist())\n",
    "import random\n",
    "print (np.nan)\n",
    "print (type(arr))\n",
    "for i in range (len(arr)):\n",
    "    if np.isnan(arr[i]):\n",
    "        arr[i]=random.randint(0,1)\n",
    "df['binned_mvar7']=arr"
   ]
  },
  {
   "cell_type": "code",
   "execution_count": 15000,
   "metadata": {},
   "outputs": [],
   "source": [
    "df.drop('mvar7',axis=1,inplace=True)"
   ]
  },
  {
   "cell_type": "code",
   "execution_count": 15001,
   "metadata": {},
   "outputs": [
    {
     "data": {
      "text/plain": [
       "count    6.451300e+04\n",
       "mean     3.548818e+04\n",
       "std      5.441920e+04\n",
       "min      0.000000e+00\n",
       "25%      3.964000e+03\n",
       "50%      1.534100e+04\n",
       "75%      4.609100e+04\n",
       "max      3.711880e+06\n",
       "Name: mvar9, dtype: float64"
      ]
     },
     "execution_count": 15001,
     "metadata": {},
     "output_type": "execute_result"
    }
   ],
   "source": [
    "df['mvar9'].describe()"
   ]
  },
  {
   "cell_type": "code",
   "execution_count": 15002,
   "metadata": {},
   "outputs": [
    {
     "data": {
      "text/plain": [
       "0.0    52152\n",
       "1.0    12360\n",
       "Name: default_ind, dtype: int64"
      ]
     },
     "execution_count": 15002,
     "metadata": {},
     "output_type": "execute_result"
    }
   ],
   "source": [
    "col = df[df['mvar9'] <3.711880e+06]\n",
    "col['default_ind'].value_counts()"
   ]
  },
  {
   "cell_type": "code",
   "execution_count": 15003,
   "metadata": {},
   "outputs": [],
   "source": [
    "bins = [-1,3.700000e+03,1.449200e+04,3.711880e+06]\n",
    "labels = [1,2,3]\n",
    "df['binned_mvar9'] = pd.cut(df['mvar9'], bins=bins, labels=labels)"
   ]
  },
  {
   "cell_type": "code",
   "execution_count": 15004,
   "metadata": {},
   "outputs": [
    {
     "data": {
      "text/plain": [
       "3    33038\n",
       "2    15972\n",
       "1    15503\n",
       "Name: binned_mvar9, dtype: int64"
      ]
     },
     "execution_count": 15004,
     "metadata": {},
     "output_type": "execute_result"
    }
   ],
   "source": [
    "df['binned_mvar9'].value_counts()"
   ]
  },
  {
   "cell_type": "code",
   "execution_count": 15005,
   "metadata": {},
   "outputs": [
    {
     "name": "stdout",
     "output_type": "stream",
     "text": [
      "nan\n",
      "<class 'numpy.ndarray'>\n"
     ]
    }
   ],
   "source": [
    "arr=np.array(df['binned_mvar9'].tolist())\n",
    "import random\n",
    "print (np.nan)\n",
    "print (type(arr))\n",
    "for i in range (len(arr)):\n",
    "    if np.isnan(arr[i]):\n",
    "        arr[i]=random.randint(1,3)\n",
    "df['binned_mvar9']=arr"
   ]
  },
  {
   "cell_type": "code",
   "execution_count": 15006,
   "metadata": {},
   "outputs": [],
   "source": [
    "df['mvar48'] = df['mvar11'].isnull().astype(float)"
   ]
  },
  {
   "cell_type": "code",
   "execution_count": 15007,
   "metadata": {},
   "outputs": [],
   "source": [
    "df.drop(['mvar11'],axis =1,inplace = True)"
   ]
  },
  {
   "cell_type": "code",
   "execution_count": 15008,
   "metadata": {},
   "outputs": [
    {
     "data": {
      "text/plain": [
       "count    7.215400e+04\n",
       "mean     3.284047e+04\n",
       "std      6.977653e+04\n",
       "min      0.000000e+00\n",
       "25%      1.838250e+03\n",
       "50%      1.125050e+04\n",
       "75%      3.760275e+04\n",
       "max      5.633320e+06\n",
       "Name: mvar10, dtype: float64"
      ]
     },
     "execution_count": 15008,
     "metadata": {},
     "output_type": "execute_result"
    }
   ],
   "source": [
    "df['mvar10'].describe()"
   ]
  },
  {
   "cell_type": "code",
   "execution_count": 15009,
   "metadata": {},
   "outputs": [
    {
     "data": {
      "text/plain": [
       "0.0    48482\n",
       "1.0    11255\n",
       "Name: default_ind, dtype: int64"
      ]
     },
     "execution_count": 15009,
     "metadata": {},
     "output_type": "execute_result"
    }
   ],
   "source": [
    "col = df[df['mvar12']<3.173340e+04]\n",
    "col['default_ind'].value_counts()"
   ]
  },
  {
   "cell_type": "code",
   "execution_count": 15010,
   "metadata": {},
   "outputs": [],
   "source": [
    "bins = [-1,1.055600e+04,5.633320e+06]\n",
    "labels = [1,2]\n",
    "df['binned_mvar10'] = pd.cut(df['mvar10'], bins=bins, labels=labels)"
   ]
  },
  {
   "cell_type": "code",
   "execution_count": 15011,
   "metadata": {},
   "outputs": [
    {
     "name": "stdout",
     "output_type": "stream",
     "text": [
      "nan\n",
      "<class 'numpy.ndarray'>\n"
     ]
    }
   ],
   "source": [
    "arr=np.array(df['binned_mvar10'].tolist())\n",
    "import random\n",
    "print (np.nan)\n",
    "print (type(arr))\n",
    "for i in range (len(arr)):\n",
    "    if np.isnan(arr[i]):\n",
    "        arr[i]=random.randint(1,2)\n",
    "df['binned_mvar10']=arr"
   ]
  },
  {
   "cell_type": "code",
   "execution_count": 15012,
   "metadata": {},
   "outputs": [],
   "source": [
    "df['binned_mvar10'] = df['binned_mvar10'].replace([1,2],[1,0])"
   ]
  },
  {
   "cell_type": "code",
   "execution_count": 15013,
   "metadata": {},
   "outputs": [
    {
     "data": {
      "text/plain": [
       "count     62133.000000\n",
       "mean       7259.855986\n",
       "std       12014.890828\n",
       "min           0.000000\n",
       "25%         748.000000\n",
       "50%        3084.000000\n",
       "75%        8835.000000\n",
       "max      413685.000000\n",
       "Name: mvar12, dtype: float64"
      ]
     },
     "execution_count": 15013,
     "metadata": {},
     "output_type": "execute_result"
    }
   ],
   "source": [
    "df['mvar12'].describe()"
   ]
  },
  {
   "cell_type": "code",
   "execution_count": 15014,
   "metadata": {},
   "outputs": [
    {
     "data": {
      "text/plain": [
       "0.0    50495\n",
       "1.0    11637\n",
       "Name: default_ind, dtype: int64"
      ]
     },
     "execution_count": 15014,
     "metadata": {},
     "output_type": "execute_result"
    }
   ],
   "source": [
    "col = df[df['mvar12']< 413685.000000]\n",
    "col['default_ind'].value_counts()"
   ]
  },
  {
   "cell_type": "code",
   "execution_count": 15015,
   "metadata": {},
   "outputs": [],
   "source": [
    "bins = [-1,0,731.000000,3028.000000,8727.000000,413685.000000]\n",
    "labels = [1,2,3,4,5]\n",
    "df['binned_mvar12'] = pd.cut(df['mvar12'], bins=bins, labels=labels)"
   ]
  },
  {
   "cell_type": "code",
   "execution_count": 15016,
   "metadata": {},
   "outputs": [
    {
     "data": {
      "text/plain": [
       "5    15716\n",
       "4    15604\n",
       "3    15487\n",
       "2    10624\n",
       "1     4702\n",
       "Name: binned_mvar12, dtype: int64"
      ]
     },
     "execution_count": 15016,
     "metadata": {},
     "output_type": "execute_result"
    }
   ],
   "source": [
    "df['binned_mvar12'].value_counts()"
   ]
  },
  {
   "cell_type": "code",
   "execution_count": 15017,
   "metadata": {},
   "outputs": [
    {
     "name": "stdout",
     "output_type": "stream",
     "text": [
      "nan\n",
      "<class 'numpy.ndarray'>\n"
     ]
    }
   ],
   "source": [
    "arr=np.array(df['binned_mvar12'].tolist())\n",
    "import random\n",
    "print (np.nan)\n",
    "print (type(arr))\n",
    "for i in range (len(arr)):\n",
    "    if np.isnan(arr[i]):\n",
    "        arr[i]=random.randint(2,5)\n",
    "df['binned_mvar12']=arr"
   ]
  },
  {
   "cell_type": "code",
   "execution_count": 15018,
   "metadata": {},
   "outputs": [
    {
     "data": {
      "text/plain": [
       "count    6.744200e+04\n",
       "mean     1.603613e+04\n",
       "std      5.873707e+04\n",
       "min      0.000000e+00\n",
       "25%      6.000000e+02\n",
       "50%      4.390000e+03\n",
       "75%      1.509375e+04\n",
       "max      6.318314e+06\n",
       "Name: mvar13, dtype: float64"
      ]
     },
     "execution_count": 15018,
     "metadata": {},
     "output_type": "execute_result"
    }
   ],
   "source": [
    "df['mvar13'].describe()"
   ]
  },
  {
   "cell_type": "code",
   "execution_count": 15019,
   "metadata": {},
   "outputs": [
    {
     "data": {
      "text/plain": [
       "0.0    36943\n",
       "1.0    13065\n",
       "Name: default_ind, dtype: int64"
      ]
     },
     "execution_count": 15019,
     "metadata": {},
     "output_type": "execute_result"
    }
   ],
   "source": [
    "col = df[df['mvar13']<1.443600e+04]\n",
    "col['default_ind'].value_counts()"
   ]
  },
  {
   "cell_type": "code",
   "execution_count": 15020,
   "metadata": {},
   "outputs": [],
   "source": [
    "bins = [-1,0,5.240000e+02,1.443600e+04,6.318314e+06]\n",
    "labels = [1,2,3,4]\n",
    "df['binned_mvar13'] = pd.cut(df['mvar13'], bins=bins, labels=labels)"
   ]
  },
  {
   "cell_type": "code",
   "execution_count": 15021,
   "metadata": {},
   "outputs": [
    {
     "data": {
      "text/plain": [
       "3    33759\n",
       "4    17432\n",
       "1    11487\n",
       "2     4764\n",
       "Name: binned_mvar13, dtype: int64"
      ]
     },
     "execution_count": 15021,
     "metadata": {},
     "output_type": "execute_result"
    }
   ],
   "source": [
    "df['binned_mvar13'].value_counts()"
   ]
  },
  {
   "cell_type": "code",
   "execution_count": 15022,
   "metadata": {},
   "outputs": [
    {
     "name": "stdout",
     "output_type": "stream",
     "text": [
      "nan\n",
      "<class 'numpy.ndarray'>\n"
     ]
    }
   ],
   "source": [
    "arr=np.array(df['binned_mvar13'].tolist())\n",
    "import random\n",
    "print (np.nan)\n",
    "print (type(arr))\n",
    "for i in range (len(arr)):\n",
    "    if np.isnan(arr[i]):\n",
    "        arr[i]=random.randint(1,4)\n",
    "df['binned_mvar13']=arr"
   ]
  },
  {
   "cell_type": "code",
   "execution_count": 15023,
   "metadata": {},
   "outputs": [],
   "source": [
    "df.drop(['mvar9','mvar10','mvar12','mvar13'],axis=1,inplace=True)"
   ]
  },
  {
   "cell_type": "code",
   "execution_count": 15024,
   "metadata": {},
   "outputs": [
    {
     "data": {
      "text/plain": [
       "count    7.215400e+04\n",
       "mean     1.668362e+05\n",
       "std      5.307196e+06\n",
       "min      0.000000e+00\n",
       "25%      4.261300e+04\n",
       "50%      7.234300e+04\n",
       "75%      1.238750e+05\n",
       "max      8.837436e+08\n",
       "Name: mvar14, dtype: float64"
      ]
     },
     "execution_count": 15024,
     "metadata": {},
     "output_type": "execute_result"
    }
   ],
   "source": [
    "df['mvar14'].describe()"
   ]
  },
  {
   "cell_type": "code",
   "execution_count": 15025,
   "metadata": {},
   "outputs": [
    {
     "data": {
      "text/plain": [
       "0.0    55992\n",
       "1.0    16162\n",
       "Name: default_ind, dtype: int64"
      ]
     },
     "execution_count": 15025,
     "metadata": {},
     "output_type": "execute_result"
    }
   ],
   "source": [
    "col = df[df['mvar14']<8.837436e+08]\n",
    "col['default_ind'].value_counts()"
   ]
  },
  {
   "cell_type": "code",
   "execution_count": 15026,
   "metadata": {},
   "outputs": [],
   "source": [
    "bins = [-1,0,4.261300e+04,8.837436e+08]\n",
    "labels = [1,2,3]\n",
    "df['binned_mvar14'] = pd.cut(df['mvar14'], bins=bins, labels=labels)"
   ]
  },
  {
   "cell_type": "code",
   "execution_count": 15027,
   "metadata": {},
   "outputs": [
    {
     "data": {
      "text/plain": [
       "count    4.392800e+04\n",
       "mean     2.996441e+05\n",
       "std      3.003008e+05\n",
       "min      1.387000e+03\n",
       "25%      1.317960e+05\n",
       "50%      2.213075e+05\n",
       "75%      3.719842e+05\n",
       "max      1.001817e+07\n",
       "Name: mvar15, dtype: float64"
      ]
     },
     "execution_count": 15027,
     "metadata": {},
     "output_type": "execute_result"
    }
   ],
   "source": [
    "df['mvar15'].describe()"
   ]
  },
  {
   "cell_type": "code",
   "execution_count": 15028,
   "metadata": {},
   "outputs": [],
   "source": [
    "df.drop(['mvar14','mvar15'],axis=1,inplace=True)"
   ]
  },
  {
   "cell_type": "code",
   "execution_count": 15029,
   "metadata": {},
   "outputs": [
    {
     "data": {
      "text/plain": [
       "count    58138.000000\n",
       "mean         0.219340\n",
       "std          0.599823\n",
       "min          0.000000\n",
       "25%          0.000000\n",
       "50%          0.000000\n",
       "75%          0.000000\n",
       "max         11.000000\n",
       "Name: mvar16, dtype: float64"
      ]
     },
     "execution_count": 15029,
     "metadata": {},
     "output_type": "execute_result"
    }
   ],
   "source": [
    "df['mvar16'].describe()"
   ]
  },
  {
   "cell_type": "code",
   "execution_count": 15030,
   "metadata": {},
   "outputs": [
    {
     "data": {
      "text/plain": [
       "1.0    306\n",
       "0.0    176\n",
       "Name: default_ind, dtype: int64"
      ]
     },
     "execution_count": 15030,
     "metadata": {},
     "output_type": "execute_result"
    }
   ],
   "source": [
    "col = df[df['mvar16']==3]\n",
    "col['default_ind'].value_counts()"
   ]
  },
  {
   "cell_type": "code",
   "execution_count": 15031,
   "metadata": {},
   "outputs": [],
   "source": [
    "df['mvar16'] = df['mvar16'].fillna(0)\n"
   ]
  },
  {
   "cell_type": "code",
   "execution_count": 15032,
   "metadata": {},
   "outputs": [],
   "source": [
    "df = df[df['mvar16']<3]"
   ]
  },
  {
   "cell_type": "code",
   "execution_count": 15033,
   "metadata": {},
   "outputs": [],
   "source": [
    "df['mvar16'] = df['mvar16'].replace([0,1,2,3,4,5,6,7,8,9,10,11],[0,1,2,3,3,3,3,3,3,3,3,3])"
   ]
  },
  {
   "cell_type": "code",
   "execution_count": 15034,
   "metadata": {},
   "outputs": [
    {
     "data": {
      "text/plain": [
       "count    59818.000000\n",
       "mean         0.205440\n",
       "std          0.520094\n",
       "min          0.000000\n",
       "25%          0.000000\n",
       "50%          0.000000\n",
       "75%          0.000000\n",
       "max          7.000000\n",
       "Name: mvar17, dtype: float64"
      ]
     },
     "execution_count": 15034,
     "metadata": {},
     "output_type": "execute_result"
    }
   ],
   "source": [
    "df['mvar17'].describe()"
   ]
  },
  {
   "cell_type": "code",
   "execution_count": 15035,
   "metadata": {},
   "outputs": [
    {
     "data": {
      "text/plain": [
       "1.0    127\n",
       "0.0    118\n",
       "Name: default_ind, dtype: int64"
      ]
     },
     "execution_count": 15035,
     "metadata": {},
     "output_type": "execute_result"
    }
   ],
   "source": [
    "col = df[df['mvar17']==3]\n",
    "col['default_ind'].value_counts()"
   ]
  },
  {
   "cell_type": "code",
   "execution_count": 15036,
   "metadata": {},
   "outputs": [],
   "source": [
    "df['mvar17'] = df['mvar17'].fillna(0)"
   ]
  },
  {
   "cell_type": "code",
   "execution_count": 15037,
   "metadata": {},
   "outputs": [],
   "source": [
    "df = df[df['mvar17']<3]"
   ]
  },
  {
   "cell_type": "code",
   "execution_count": 15038,
   "metadata": {},
   "outputs": [],
   "source": [
    "df['mvar17'] = df['mvar17'].replace([0,1,2,3,4,5,6,7,8,9,10,11,12,13,14,15,16,17,18,19,20,21],[0,1,2,3,3,3,3,3,3,3,3,3,3,3,3,3,3,3,3,3,3,3])"
   ]
  },
  {
   "cell_type": "code",
   "execution_count": 15039,
   "metadata": {},
   "outputs": [
    {
     "data": {
      "text/plain": [
       "0.0    61771\n",
       "1.0     7386\n",
       "2.0     1924\n",
       "Name: mvar17, dtype: int64"
      ]
     },
     "execution_count": 15039,
     "metadata": {},
     "output_type": "execute_result"
    }
   ],
   "source": [
    "df['mvar17'].value_counts()"
   ]
  },
  {
   "cell_type": "code",
   "execution_count": 15040,
   "metadata": {},
   "outputs": [
    {
     "data": {
      "text/plain": [
       "count    60439.000000\n",
       "mean         0.195437\n",
       "std          0.476308\n",
       "min          0.000000\n",
       "25%          0.000000\n",
       "50%          0.000000\n",
       "75%          0.000000\n",
       "max          4.000000\n",
       "Name: mvar18, dtype: float64"
      ]
     },
     "execution_count": 15040,
     "metadata": {},
     "output_type": "execute_result"
    }
   ],
   "source": [
    "df['mvar18'].describe()"
   ]
  },
  {
   "cell_type": "code",
   "execution_count": 15041,
   "metadata": {},
   "outputs": [
    {
     "name": "stdout",
     "output_type": "stream",
     "text": [
      "<class 'pandas.core.frame.DataFrame'>\n",
      "Int64Index: 71081 entries, 0 to 79999\n",
      "Data columns (total 47 columns):\n",
      "application_key    71081 non-null float64\n",
      "mvar1              71081 non-null float64\n",
      "mvar2              71081 non-null float64\n",
      "mvar4              71081 non-null float64\n",
      "mvar5              71081 non-null float64\n",
      "mvar16             71081 non-null float64\n",
      "mvar17             71081 non-null float64\n",
      "mvar18             60439 non-null float64\n",
      "mvar19             71081 non-null float64\n",
      "mvar20             71081 non-null float64\n",
      "mvar21             53245 non-null float64\n",
      "mvar22             46599 non-null float64\n",
      "mvar23             36039 non-null float64\n",
      "mvar24             56956 non-null float64\n",
      "mvar25             66346 non-null float64\n",
      "mvar26             64048 non-null float64\n",
      "mvar27             61672 non-null float64\n",
      "mvar28             71081 non-null float64\n",
      "mvar29             71081 non-null float64\n",
      "mvar30             39905 non-null float64\n",
      "mvar31             21505 non-null float64\n",
      "mvar32             66346 non-null float64\n",
      "mvar33             69777 non-null float64\n",
      "mvar34             71081 non-null float64\n",
      "mvar35             42828 non-null float64\n",
      "mvar36             69339 non-null float64\n",
      "mvar37             66346 non-null float64\n",
      "mvar38             71081 non-null float64\n",
      "mvar39             68163 non-null float64\n",
      "mvar40             15721 non-null float64\n",
      "mvar41             23337 non-null float64\n",
      "mvar42             70406 non-null float64\n",
      "mvar43             70948 non-null float64\n",
      "mvar44             66718 non-null float64\n",
      "mvar45             33523 non-null float64\n",
      "mvar46             52519 non-null float64\n",
      "mvar47             71081 non-null float64\n",
      "default_ind        71081 non-null float64\n",
      "binned_mvar6       71081 non-null float64\n",
      "binned_mvar1       71081 non-null category\n",
      "binned_mvar7       71081 non-null float64\n",
      "binned_mvar9       71081 non-null float64\n",
      "mvar48             71081 non-null float64\n",
      "binned_mvar10      71081 non-null int64\n",
      "binned_mvar12      71081 non-null float64\n",
      "binned_mvar13      71081 non-null float64\n",
      "binned_mvar14      71081 non-null category\n",
      "dtypes: category(2), float64(44), int64(1)\n",
      "memory usage: 25.1 MB\n"
     ]
    }
   ],
   "source": [
    "df.info()"
   ]
  },
  {
   "cell_type": "code",
   "execution_count": 15042,
   "metadata": {},
   "outputs": [
    {
     "data": {
      "text/plain": [
       "1.0    24\n",
       "0.0     9\n",
       "Name: default_ind, dtype: int64"
      ]
     },
     "execution_count": 15042,
     "metadata": {},
     "output_type": "execute_result"
    }
   ],
   "source": [
    "col = df[df['mvar18']==3]\n",
    "col['default_ind'].value_counts()"
   ]
  },
  {
   "cell_type": "code",
   "execution_count": 15043,
   "metadata": {},
   "outputs": [],
   "source": [
    "df['mvar18'] = df['mvar18'].replace([0,1,2,3,4,5,6,7,8,9,10,11,12,13,14,15,16,17,18,19,20,21],[0,1,2,3,3,3,3,3,3,3,3,3,3,3,3,3,3,3,3,3,3,3])"
   ]
  },
  {
   "cell_type": "code",
   "execution_count": 15044,
   "metadata": {},
   "outputs": [],
   "source": [
    "df['mvar18'] = df['mvar18'].fillna(0)"
   ]
  },
  {
   "cell_type": "code",
   "execution_count": 15045,
   "metadata": {},
   "outputs": [],
   "source": [
    "df=df[df['mvar18']<3]"
   ]
  },
  {
   "cell_type": "code",
   "execution_count": 15046,
   "metadata": {},
   "outputs": [
    {
     "data": {
      "text/plain": [
       "count    71047.000000\n",
       "mean         0.879150\n",
       "std          1.542957\n",
       "min          0.000000\n",
       "25%          0.000000\n",
       "50%          0.000000\n",
       "75%          1.000000\n",
       "max         25.000000\n",
       "Name: mvar19, dtype: float64"
      ]
     },
     "execution_count": 15046,
     "metadata": {},
     "output_type": "execute_result"
    }
   ],
   "source": [
    "df['mvar19'].describe()"
   ]
  },
  {
   "cell_type": "code",
   "execution_count": 15047,
   "metadata": {},
   "outputs": [
    {
     "data": {
      "text/plain": [
       "0.0    2\n",
       "Name: default_ind, dtype: int64"
      ]
     },
     "execution_count": 15047,
     "metadata": {},
     "output_type": "execute_result"
    }
   ],
   "source": [
    "col = df[df['mvar19']==18]\n",
    "col['default_ind'].value_counts()"
   ]
  },
  {
   "cell_type": "code",
   "execution_count": 15048,
   "metadata": {},
   "outputs": [],
   "source": [
    "df['mvar19'] = df['mvar19'].replace([0,1,2,3,4,5,6,7,8,9,10,11,12,13,14,15,16,17,18,19,20,21,22,23,24,25,26,27,28],[0,1,2,3,4,4,4,4,4,4,4,4,4,4,4,4,4,4,4,4,4,4,4,4,4,4,4,4,4])"
   ]
  },
  {
   "cell_type": "code",
   "execution_count": 15049,
   "metadata": {},
   "outputs": [
    {
     "data": {
      "text/plain": [
       "count    71047.000000\n",
       "mean         0.957929\n",
       "std          1.590468\n",
       "min          0.000000\n",
       "25%          0.000000\n",
       "50%          0.000000\n",
       "75%          1.000000\n",
       "max         25.000000\n",
       "Name: mvar20, dtype: float64"
      ]
     },
     "execution_count": 15049,
     "metadata": {},
     "output_type": "execute_result"
    }
   ],
   "source": [
    "df['mvar20'].describe()"
   ]
  },
  {
   "cell_type": "code",
   "execution_count": 15050,
   "metadata": {},
   "outputs": [
    {
     "data": {
      "text/plain": [
       "0.0    58\n",
       "1.0    22\n",
       "Name: default_ind, dtype: int64"
      ]
     },
     "execution_count": 15050,
     "metadata": {},
     "output_type": "execute_result"
    }
   ],
   "source": [
    "col = df[df['mvar20']==10]\n",
    "col['default_ind'].value_counts()"
   ]
  },
  {
   "cell_type": "code",
   "execution_count": 15051,
   "metadata": {},
   "outputs": [],
   "source": [
    "df['mvar20'] = df['mvar20'].replace([0,1,2,3,4,5,6,7,8,9,10,11,12,13,14,15,16,17,18,19,20,21,22,23,24,25,26,27,28,29],[0,1,2,2,4,5,5,5,5,5,5,5,5,5,5,5,5,5,5,5,5,5,5,5,5,5,5,5,5,5])"
   ]
  },
  {
   "cell_type": "code",
   "execution_count": 15052,
   "metadata": {},
   "outputs": [],
   "source": [
    "dframe = df[['mvar16','mvar17','mvar18','mvar19','mvar20','default_ind']]"
   ]
  },
  {
   "cell_type": "code",
   "execution_count": 15053,
   "metadata": {},
   "outputs": [
    {
     "data": {
      "text/html": [
       "<div>\n",
       "<style scoped>\n",
       "    .dataframe tbody tr th:only-of-type {\n",
       "        vertical-align: middle;\n",
       "    }\n",
       "\n",
       "    .dataframe tbody tr th {\n",
       "        vertical-align: top;\n",
       "    }\n",
       "\n",
       "    .dataframe thead th {\n",
       "        text-align: right;\n",
       "    }\n",
       "</style>\n",
       "<table border=\"1\" class=\"dataframe\">\n",
       "  <thead>\n",
       "    <tr style=\"text-align: right;\">\n",
       "      <th></th>\n",
       "      <th>mvar16</th>\n",
       "      <th>mvar17</th>\n",
       "      <th>mvar18</th>\n",
       "      <th>mvar19</th>\n",
       "      <th>mvar20</th>\n",
       "      <th>default_ind</th>\n",
       "    </tr>\n",
       "  </thead>\n",
       "  <tbody>\n",
       "    <tr>\n",
       "      <th>mvar16</th>\n",
       "      <td>1.000000</td>\n",
       "      <td>0.928865</td>\n",
       "      <td>0.910070</td>\n",
       "      <td>0.440835</td>\n",
       "      <td>0.415072</td>\n",
       "      <td>0.157882</td>\n",
       "    </tr>\n",
       "    <tr>\n",
       "      <th>mvar17</th>\n",
       "      <td>0.928865</td>\n",
       "      <td>1.000000</td>\n",
       "      <td>0.979653</td>\n",
       "      <td>0.490257</td>\n",
       "      <td>0.465315</td>\n",
       "      <td>0.164320</td>\n",
       "    </tr>\n",
       "    <tr>\n",
       "      <th>mvar18</th>\n",
       "      <td>0.910070</td>\n",
       "      <td>0.979653</td>\n",
       "      <td>1.000000</td>\n",
       "      <td>0.484578</td>\n",
       "      <td>0.472613</td>\n",
       "      <td>0.162355</td>\n",
       "    </tr>\n",
       "    <tr>\n",
       "      <th>mvar19</th>\n",
       "      <td>0.440835</td>\n",
       "      <td>0.490257</td>\n",
       "      <td>0.484578</td>\n",
       "      <td>1.000000</td>\n",
       "      <td>0.951847</td>\n",
       "      <td>0.115190</td>\n",
       "    </tr>\n",
       "    <tr>\n",
       "      <th>mvar20</th>\n",
       "      <td>0.415072</td>\n",
       "      <td>0.465315</td>\n",
       "      <td>0.472613</td>\n",
       "      <td>0.951847</td>\n",
       "      <td>1.000000</td>\n",
       "      <td>0.103917</td>\n",
       "    </tr>\n",
       "    <tr>\n",
       "      <th>default_ind</th>\n",
       "      <td>0.157882</td>\n",
       "      <td>0.164320</td>\n",
       "      <td>0.162355</td>\n",
       "      <td>0.115190</td>\n",
       "      <td>0.103917</td>\n",
       "      <td>1.000000</td>\n",
       "    </tr>\n",
       "  </tbody>\n",
       "</table>\n",
       "</div>"
      ],
      "text/plain": [
       "               mvar16    mvar17    mvar18    mvar19    mvar20  default_ind\n",
       "mvar16       1.000000  0.928865  0.910070  0.440835  0.415072     0.157882\n",
       "mvar17       0.928865  1.000000  0.979653  0.490257  0.465315     0.164320\n",
       "mvar18       0.910070  0.979653  1.000000  0.484578  0.472613     0.162355\n",
       "mvar19       0.440835  0.490257  0.484578  1.000000  0.951847     0.115190\n",
       "mvar20       0.415072  0.465315  0.472613  0.951847  1.000000     0.103917\n",
       "default_ind  0.157882  0.164320  0.162355  0.115190  0.103917     1.000000"
      ]
     },
     "execution_count": 15053,
     "metadata": {},
     "output_type": "execute_result"
    }
   ],
   "source": [
    "dframe.corr()"
   ]
  },
  {
   "cell_type": "code",
   "execution_count": 15054,
   "metadata": {},
   "outputs": [],
   "source": [
    "df = df.astype(float)"
   ]
  },
  {
   "cell_type": "code",
   "execution_count": 15055,
   "metadata": {},
   "outputs": [],
   "source": [
    "df['mvar56'] = (df['mvar16'] + df['mvar17'] + df['mvar18'])"
   ]
  },
  {
   "cell_type": "code",
   "execution_count": 15056,
   "metadata": {},
   "outputs": [],
   "source": [
    "df.drop(['mvar16','mvar17','mvar20','mvar56'],axis=1,inplace=True)"
   ]
  },
  {
   "cell_type": "code",
   "execution_count": 15057,
   "metadata": {},
   "outputs": [
    {
     "data": {
      "text/plain": [
       "count    53211.000000\n",
       "mean        55.862902\n",
       "std         34.788167\n",
       "min          0.170000\n",
       "25%         25.150000\n",
       "50%         57.060000\n",
       "75%         84.540000\n",
       "max       1305.250000\n",
       "Name: mvar21, dtype: float64"
      ]
     },
     "execution_count": 15057,
     "metadata": {},
     "output_type": "execute_result"
    }
   ],
   "source": [
    "df['mvar21'].describe()"
   ]
  },
  {
   "cell_type": "code",
   "execution_count": 15058,
   "metadata": {},
   "outputs": [
    {
     "data": {
      "text/plain": [
       "0.0    41455\n",
       "1.0     7327\n",
       "Name: default_ind, dtype: int64"
      ]
     },
     "execution_count": 15058,
     "metadata": {},
     "output_type": "execute_result"
    }
   ],
   "source": [
    "col = df[df['mvar21']<98.540000]\n",
    "col['default_ind'].value_counts()"
   ]
  },
  {
   "cell_type": "code",
   "execution_count": 15059,
   "metadata": {},
   "outputs": [],
   "source": [
    "bins = [0,26.870000,66.540000,88.540000,98.544,1305.250000]\n",
    "labels = [1,2,3,4,5]\n",
    "df['binned_mvar21'] = pd.cut(df['mvar21'], bins=bins, labels=labels)"
   ]
  },
  {
   "cell_type": "code",
   "execution_count": 15060,
   "metadata": {},
   "outputs": [
    {
     "data": {
      "text/plain": [
       "2    16735\n",
       "1    14050\n",
       "3    11379\n",
       "4     6620\n",
       "5     4427\n",
       "Name: binned_mvar21, dtype: int64"
      ]
     },
     "execution_count": 15060,
     "metadata": {},
     "output_type": "execute_result"
    }
   ],
   "source": [
    "df['binned_mvar21'].value_counts()"
   ]
  },
  {
   "cell_type": "code",
   "execution_count": 15061,
   "metadata": {},
   "outputs": [
    {
     "name": "stdout",
     "output_type": "stream",
     "text": [
      "nan\n",
      "<class 'numpy.ndarray'>\n"
     ]
    }
   ],
   "source": [
    "arr=np.array(df['binned_mvar21'].tolist())\n",
    "import random\n",
    "print (np.nan)\n",
    "print (type(arr))\n",
    "for i in range (len(arr)):\n",
    "    if np.isnan(arr[i]):\n",
    "        arr[i]=random.randint(3,4)\n",
    "df['binned_mvar21']=arr"
   ]
  },
  {
   "cell_type": "code",
   "execution_count": 15062,
   "metadata": {},
   "outputs": [
    {
     "data": {
      "text/plain": [
       "0.0    55586\n",
       "1.0    15461\n",
       "Name: default_ind, dtype: int64"
      ]
     },
     "execution_count": 15062,
     "metadata": {},
     "output_type": "execute_result"
    }
   ],
   "source": [
    "df['default_ind'].value_counts()"
   ]
  },
  {
   "cell_type": "code",
   "execution_count": 15063,
   "metadata": {},
   "outputs": [
    {
     "data": {
      "text/plain": [
       "count    46569.000000\n",
       "mean      4227.667369\n",
       "std       3689.872554\n",
       "min          0.000000\n",
       "25%        600.000000\n",
       "50%       3683.800000\n",
       "75%       7295.000000\n",
       "max      64800.000000\n",
       "Name: mvar22, dtype: float64"
      ]
     },
     "execution_count": 15063,
     "metadata": {},
     "output_type": "execute_result"
    }
   ],
   "source": [
    "df['mvar22'].describe()"
   ]
  },
  {
   "cell_type": "code",
   "execution_count": 15064,
   "metadata": {},
   "outputs": [
    {
     "data": {
      "text/plain": [
       "0.0    36724\n",
       "1.0     7540\n",
       "Name: default_ind, dtype: int64"
      ]
     },
     "execution_count": 15064,
     "metadata": {},
     "output_type": "execute_result"
    }
   ],
   "source": [
    "col = df[df['mvar22']<10000.000000]\n",
    "col['default_ind'].value_counts()"
   ]
  },
  {
   "cell_type": "code",
   "execution_count": 15065,
   "metadata": {},
   "outputs": [],
   "source": [
    "bins = [-1,3666.770000,6766.770000,10000.000000,64800.000000]\n",
    "labels = [1,2,3,4]\n",
    "df['binned_mvar22'] = pd.cut(df['mvar22'], bins=bins, labels=labels)"
   ]
  },
  {
   "cell_type": "code",
   "execution_count": 15066,
   "metadata": {},
   "outputs": [
    {
     "data": {
      "text/plain": [
       "0.0    55586\n",
       "1.0    15461\n",
       "Name: default_ind, dtype: int64"
      ]
     },
     "execution_count": 15066,
     "metadata": {},
     "output_type": "execute_result"
    }
   ],
   "source": [
    "df['default_ind'].value_counts()"
   ]
  },
  {
   "cell_type": "code",
   "execution_count": 15067,
   "metadata": {},
   "outputs": [
    {
     "name": "stdout",
     "output_type": "stream",
     "text": [
      "nan\n",
      "<class 'numpy.ndarray'>\n"
     ]
    }
   ],
   "source": [
    "arr=np.array(df['binned_mvar22'].tolist())\n",
    "import random\n",
    "print (np.nan)\n",
    "print (type(arr))\n",
    "for i in range (len(arr)):\n",
    "    if np.isnan(arr[i]):\n",
    "        arr[i]=random.randint(3,3)\n",
    "df['binned_mvar22']=arr"
   ]
  },
  {
   "cell_type": "code",
   "execution_count": 15068,
   "metadata": {},
   "outputs": [],
   "source": [
    "df.drop('mvar23',axis=1,inplace = True)"
   ]
  },
  {
   "cell_type": "code",
   "execution_count": 15069,
   "metadata": {},
   "outputs": [
    {
     "data": {
      "text/plain": [
       "count    56923.000000\n",
       "mean        67.545568\n",
       "std        301.474461\n",
       "min          0.000000\n",
       "25%          8.875000\n",
       "50%         37.700000\n",
       "75%         73.480000\n",
       "max      27867.400000\n",
       "Name: mvar24, dtype: float64"
      ]
     },
     "execution_count": 15069,
     "metadata": {},
     "output_type": "execute_result"
    }
   ],
   "source": [
    "df['mvar24'].describe()"
   ]
  },
  {
   "cell_type": "code",
   "execution_count": 15070,
   "metadata": {},
   "outputs": [
    {
     "data": {
      "text/plain": [
       "0.0    38707\n",
       "1.0     5080\n",
       "Name: default_ind, dtype: int64"
      ]
     },
     "execution_count": 15070,
     "metadata": {},
     "output_type": "execute_result"
    }
   ],
   "source": [
    "col = df[df['mvar24']<76.472500]\n",
    "col['default_ind'].value_counts()"
   ]
  },
  {
   "cell_type": "code",
   "execution_count": 15071,
   "metadata": {},
   "outputs": [],
   "source": [
    "bins = [-1,35.380000,76.472500,27867.400000]\n",
    "labels = [1,2,3]\n",
    "df['binned_mvar24'] = pd.cut(df['mvar24'], bins=bins, labels=labels)"
   ]
  },
  {
   "cell_type": "code",
   "execution_count": 15072,
   "metadata": {},
   "outputs": [
    {
     "data": {
      "text/plain": [
       "1    27475\n",
       "2    16312\n",
       "3    13136\n",
       "Name: binned_mvar24, dtype: int64"
      ]
     },
     "execution_count": 15072,
     "metadata": {},
     "output_type": "execute_result"
    }
   ],
   "source": [
    "df['binned_mvar24'].value_counts()"
   ]
  },
  {
   "cell_type": "code",
   "execution_count": 15073,
   "metadata": {},
   "outputs": [
    {
     "data": {
      "text/plain": [
       "0.0    55586\n",
       "1.0    15461\n",
       "Name: default_ind, dtype: int64"
      ]
     },
     "execution_count": 15073,
     "metadata": {},
     "output_type": "execute_result"
    }
   ],
   "source": [
    "df['default_ind'].value_counts()"
   ]
  },
  {
   "cell_type": "code",
   "execution_count": 15074,
   "metadata": {},
   "outputs": [
    {
     "name": "stdout",
     "output_type": "stream",
     "text": [
      "nan\n",
      "<class 'numpy.ndarray'>\n"
     ]
    }
   ],
   "source": [
    "arr=np.array(df['binned_mvar24'].tolist())\n",
    "import random\n",
    "print (np.nan)\n",
    "print (type(arr))\n",
    "for i in range (len(arr)):\n",
    "    if np.isnan(arr[i]):\n",
    "        arr[i]=random.randint(2,3)\n",
    "df['binned_mvar24']=arr"
   ]
  },
  {
   "cell_type": "code",
   "execution_count": 15075,
   "metadata": {},
   "outputs": [
    {
     "data": {
      "text/html": [
       "<div>\n",
       "<style scoped>\n",
       "    .dataframe tbody tr th:only-of-type {\n",
       "        vertical-align: middle;\n",
       "    }\n",
       "\n",
       "    .dataframe tbody tr th {\n",
       "        vertical-align: top;\n",
       "    }\n",
       "\n",
       "    .dataframe thead th {\n",
       "        text-align: right;\n",
       "    }\n",
       "</style>\n",
       "<table border=\"1\" class=\"dataframe\">\n",
       "  <thead>\n",
       "    <tr style=\"text-align: right;\">\n",
       "      <th></th>\n",
       "      <th>mvar21</th>\n",
       "      <th>default_ind</th>\n",
       "    </tr>\n",
       "  </thead>\n",
       "  <tbody>\n",
       "    <tr>\n",
       "      <th>mvar21</th>\n",
       "      <td>1.000000</td>\n",
       "      <td>0.306699</td>\n",
       "    </tr>\n",
       "    <tr>\n",
       "      <th>default_ind</th>\n",
       "      <td>0.306699</td>\n",
       "      <td>1.000000</td>\n",
       "    </tr>\n",
       "  </tbody>\n",
       "</table>\n",
       "</div>"
      ],
      "text/plain": [
       "               mvar21  default_ind\n",
       "mvar21       1.000000     0.306699\n",
       "default_ind  0.306699     1.000000"
      ]
     },
     "execution_count": 15075,
     "metadata": {},
     "output_type": "execute_result"
    }
   ],
   "source": [
    "df[['mvar21','default_ind']].corr()"
   ]
  },
  {
   "cell_type": "code",
   "execution_count": 15076,
   "metadata": {},
   "outputs": [],
   "source": [
    "df.drop(['mvar21','mvar22','mvar24'],axis=1,inplace=True)"
   ]
  },
  {
   "cell_type": "code",
   "execution_count": 15077,
   "metadata": {},
   "outputs": [
    {
     "data": {
      "text/plain": [
       "count    66312.00000\n",
       "mean      1807.49617\n",
       "std       1315.82709\n",
       "min          0.00000\n",
       "25%        873.00000\n",
       "50%       1534.00000\n",
       "75%       2420.00000\n",
       "max      16729.00000\n",
       "Name: mvar25, dtype: float64"
      ]
     },
     "execution_count": 15077,
     "metadata": {},
     "output_type": "execute_result"
    }
   ],
   "source": [
    "df['mvar25'].describe()"
   ]
  },
  {
   "cell_type": "code",
   "execution_count": 15078,
   "metadata": {},
   "outputs": [
    {
     "data": {
      "text/plain": [
       "0.0    53115\n",
       "1.0    13196\n",
       "Name: default_ind, dtype: int64"
      ]
     },
     "execution_count": 15078,
     "metadata": {},
     "output_type": "execute_result"
    }
   ],
   "source": [
    "col = df[df['mvar25']<16729.0000000]\n",
    "col['default_ind'].value_counts()"
   ]
  },
  {
   "cell_type": "code",
   "execution_count": 15079,
   "metadata": {},
   "outputs": [
    {
     "data": {
      "text/plain": [
       "count    66312.00000\n",
       "mean      1807.49617\n",
       "std       1315.82709\n",
       "min          0.00000\n",
       "25%        873.00000\n",
       "50%       1534.00000\n",
       "75%       2420.00000\n",
       "max      16729.00000\n",
       "Name: mvar25, dtype: float64"
      ]
     },
     "execution_count": 15079,
     "metadata": {},
     "output_type": "execute_result"
    }
   ],
   "source": [
    "df['mvar25'].describe()"
   ]
  },
  {
   "cell_type": "code",
   "execution_count": 15080,
   "metadata": {},
   "outputs": [
    {
     "data": {
      "text/html": [
       "<div>\n",
       "<style scoped>\n",
       "    .dataframe tbody tr th:only-of-type {\n",
       "        vertical-align: middle;\n",
       "    }\n",
       "\n",
       "    .dataframe tbody tr th {\n",
       "        vertical-align: top;\n",
       "    }\n",
       "\n",
       "    .dataframe thead th {\n",
       "        text-align: right;\n",
       "    }\n",
       "</style>\n",
       "<table border=\"1\" class=\"dataframe\">\n",
       "  <thead>\n",
       "    <tr style=\"text-align: right;\">\n",
       "      <th></th>\n",
       "      <th>application_key</th>\n",
       "      <th>mvar1</th>\n",
       "      <th>mvar2</th>\n",
       "      <th>mvar4</th>\n",
       "      <th>mvar5</th>\n",
       "      <th>mvar18</th>\n",
       "      <th>mvar19</th>\n",
       "      <th>mvar25</th>\n",
       "      <th>mvar26</th>\n",
       "      <th>mvar27</th>\n",
       "      <th>...</th>\n",
       "      <th>binned_mvar7</th>\n",
       "      <th>binned_mvar9</th>\n",
       "      <th>mvar48</th>\n",
       "      <th>binned_mvar10</th>\n",
       "      <th>binned_mvar12</th>\n",
       "      <th>binned_mvar13</th>\n",
       "      <th>binned_mvar14</th>\n",
       "      <th>binned_mvar21</th>\n",
       "      <th>binned_mvar22</th>\n",
       "      <th>binned_mvar24</th>\n",
       "    </tr>\n",
       "  </thead>\n",
       "  <tbody>\n",
       "    <tr>\n",
       "      <th>4596</th>\n",
       "      <td>234628.0</td>\n",
       "      <td>1681.0</td>\n",
       "      <td>0.954711</td>\n",
       "      <td>0.0</td>\n",
       "      <td>0.0</td>\n",
       "      <td>0.0</td>\n",
       "      <td>0.0</td>\n",
       "      <td>16729.0</td>\n",
       "      <td>NaN</td>\n",
       "      <td>NaN</td>\n",
       "      <td>...</td>\n",
       "      <td>0.0</td>\n",
       "      <td>1.0</td>\n",
       "      <td>0.0</td>\n",
       "      <td>1.0</td>\n",
       "      <td>1.0</td>\n",
       "      <td>1.0</td>\n",
       "      <td>3.0</td>\n",
       "      <td>3.0</td>\n",
       "      <td>3.0</td>\n",
       "      <td>2.0</td>\n",
       "    </tr>\n",
       "    <tr>\n",
       "      <th>5053</th>\n",
       "      <td>235085.0</td>\n",
       "      <td>1657.0</td>\n",
       "      <td>0.085900</td>\n",
       "      <td>0.0</td>\n",
       "      <td>0.0</td>\n",
       "      <td>0.0</td>\n",
       "      <td>0.0</td>\n",
       "      <td>15300.0</td>\n",
       "      <td>335.0</td>\n",
       "      <td>NaN</td>\n",
       "      <td>...</td>\n",
       "      <td>0.0</td>\n",
       "      <td>1.0</td>\n",
       "      <td>1.0</td>\n",
       "      <td>0.0</td>\n",
       "      <td>4.0</td>\n",
       "      <td>3.0</td>\n",
       "      <td>3.0</td>\n",
       "      <td>3.0</td>\n",
       "      <td>1.0</td>\n",
       "      <td>1.0</td>\n",
       "    </tr>\n",
       "    <tr>\n",
       "      <th>8707</th>\n",
       "      <td>238739.0</td>\n",
       "      <td>1765.0</td>\n",
       "      <td>0.434400</td>\n",
       "      <td>0.0</td>\n",
       "      <td>0.0</td>\n",
       "      <td>0.0</td>\n",
       "      <td>0.0</td>\n",
       "      <td>15528.0</td>\n",
       "      <td>15452.0</td>\n",
       "      <td>15452.0</td>\n",
       "      <td>...</td>\n",
       "      <td>0.0</td>\n",
       "      <td>2.0</td>\n",
       "      <td>1.0</td>\n",
       "      <td>1.0</td>\n",
       "      <td>4.0</td>\n",
       "      <td>1.0</td>\n",
       "      <td>3.0</td>\n",
       "      <td>1.0</td>\n",
       "      <td>3.0</td>\n",
       "      <td>2.0</td>\n",
       "    </tr>\n",
       "    <tr>\n",
       "      <th>15590</th>\n",
       "      <td>245622.0</td>\n",
       "      <td>1774.0</td>\n",
       "      <td>1.090100</td>\n",
       "      <td>0.0</td>\n",
       "      <td>0.0</td>\n",
       "      <td>0.0</td>\n",
       "      <td>0.0</td>\n",
       "      <td>16090.0</td>\n",
       "      <td>NaN</td>\n",
       "      <td>NaN</td>\n",
       "      <td>...</td>\n",
       "      <td>1.0</td>\n",
       "      <td>2.0</td>\n",
       "      <td>0.0</td>\n",
       "      <td>1.0</td>\n",
       "      <td>4.0</td>\n",
       "      <td>1.0</td>\n",
       "      <td>3.0</td>\n",
       "      <td>5.0</td>\n",
       "      <td>3.0</td>\n",
       "      <td>2.0</td>\n",
       "    </tr>\n",
       "    <tr>\n",
       "      <th>17870</th>\n",
       "      <td>247902.0</td>\n",
       "      <td>1786.0</td>\n",
       "      <td>0.000000</td>\n",
       "      <td>0.0</td>\n",
       "      <td>0.0</td>\n",
       "      <td>0.0</td>\n",
       "      <td>0.0</td>\n",
       "      <td>13505.0</td>\n",
       "      <td>548.0</td>\n",
       "      <td>NaN</td>\n",
       "      <td>...</td>\n",
       "      <td>0.0</td>\n",
       "      <td>2.0</td>\n",
       "      <td>1.0</td>\n",
       "      <td>0.0</td>\n",
       "      <td>1.0</td>\n",
       "      <td>1.0</td>\n",
       "      <td>3.0</td>\n",
       "      <td>4.0</td>\n",
       "      <td>1.0</td>\n",
       "      <td>1.0</td>\n",
       "    </tr>\n",
       "    <tr>\n",
       "      <th>27270</th>\n",
       "      <td>257302.0</td>\n",
       "      <td>1930.0</td>\n",
       "      <td>0.954711</td>\n",
       "      <td>0.0</td>\n",
       "      <td>0.0</td>\n",
       "      <td>0.0</td>\n",
       "      <td>0.0</td>\n",
       "      <td>12030.0</td>\n",
       "      <td>17003.0</td>\n",
       "      <td>17003.0</td>\n",
       "      <td>...</td>\n",
       "      <td>0.0</td>\n",
       "      <td>2.0</td>\n",
       "      <td>1.0</td>\n",
       "      <td>1.0</td>\n",
       "      <td>2.0</td>\n",
       "      <td>2.0</td>\n",
       "      <td>3.0</td>\n",
       "      <td>3.0</td>\n",
       "      <td>3.0</td>\n",
       "      <td>1.0</td>\n",
       "    </tr>\n",
       "    <tr>\n",
       "      <th>30335</th>\n",
       "      <td>260367.0</td>\n",
       "      <td>1705.0</td>\n",
       "      <td>0.138200</td>\n",
       "      <td>0.0</td>\n",
       "      <td>0.0</td>\n",
       "      <td>0.0</td>\n",
       "      <td>0.0</td>\n",
       "      <td>12562.0</td>\n",
       "      <td>NaN</td>\n",
       "      <td>NaN</td>\n",
       "      <td>...</td>\n",
       "      <td>0.0</td>\n",
       "      <td>1.0</td>\n",
       "      <td>1.0</td>\n",
       "      <td>1.0</td>\n",
       "      <td>3.0</td>\n",
       "      <td>1.0</td>\n",
       "      <td>2.0</td>\n",
       "      <td>3.0</td>\n",
       "      <td>3.0</td>\n",
       "      <td>3.0</td>\n",
       "    </tr>\n",
       "    <tr>\n",
       "      <th>46272</th>\n",
       "      <td>276304.0</td>\n",
       "      <td>1686.0</td>\n",
       "      <td>0.046800</td>\n",
       "      <td>0.0</td>\n",
       "      <td>0.0</td>\n",
       "      <td>0.0</td>\n",
       "      <td>0.0</td>\n",
       "      <td>12471.0</td>\n",
       "      <td>12471.0</td>\n",
       "      <td>12471.0</td>\n",
       "      <td>...</td>\n",
       "      <td>0.0</td>\n",
       "      <td>1.0</td>\n",
       "      <td>0.0</td>\n",
       "      <td>1.0</td>\n",
       "      <td>5.0</td>\n",
       "      <td>3.0</td>\n",
       "      <td>3.0</td>\n",
       "      <td>4.0</td>\n",
       "      <td>3.0</td>\n",
       "      <td>2.0</td>\n",
       "    </tr>\n",
       "    <tr>\n",
       "      <th>65074</th>\n",
       "      <td>295106.0</td>\n",
       "      <td>1904.0</td>\n",
       "      <td>0.954711</td>\n",
       "      <td>0.0</td>\n",
       "      <td>0.0</td>\n",
       "      <td>0.0</td>\n",
       "      <td>0.0</td>\n",
       "      <td>12790.0</td>\n",
       "      <td>9977.0</td>\n",
       "      <td>9977.0</td>\n",
       "      <td>...</td>\n",
       "      <td>0.0</td>\n",
       "      <td>2.0</td>\n",
       "      <td>1.0</td>\n",
       "      <td>1.0</td>\n",
       "      <td>1.0</td>\n",
       "      <td>1.0</td>\n",
       "      <td>3.0</td>\n",
       "      <td>4.0</td>\n",
       "      <td>3.0</td>\n",
       "      <td>1.0</td>\n",
       "    </tr>\n",
       "    <tr>\n",
       "      <th>68628</th>\n",
       "      <td>298660.0</td>\n",
       "      <td>1882.0</td>\n",
       "      <td>0.047600</td>\n",
       "      <td>0.0</td>\n",
       "      <td>0.0</td>\n",
       "      <td>0.0</td>\n",
       "      <td>0.0</td>\n",
       "      <td>14783.0</td>\n",
       "      <td>14783.0</td>\n",
       "      <td>14783.0</td>\n",
       "      <td>...</td>\n",
       "      <td>0.0</td>\n",
       "      <td>3.0</td>\n",
       "      <td>1.0</td>\n",
       "      <td>0.0</td>\n",
       "      <td>3.0</td>\n",
       "      <td>4.0</td>\n",
       "      <td>3.0</td>\n",
       "      <td>1.0</td>\n",
       "      <td>3.0</td>\n",
       "      <td>1.0</td>\n",
       "    </tr>\n",
       "    <tr>\n",
       "      <th>69875</th>\n",
       "      <td>299907.0</td>\n",
       "      <td>1746.0</td>\n",
       "      <td>0.954711</td>\n",
       "      <td>1.0</td>\n",
       "      <td>1.0</td>\n",
       "      <td>0.0</td>\n",
       "      <td>0.0</td>\n",
       "      <td>12288.0</td>\n",
       "      <td>12288.0</td>\n",
       "      <td>12288.0</td>\n",
       "      <td>...</td>\n",
       "      <td>0.0</td>\n",
       "      <td>1.0</td>\n",
       "      <td>1.0</td>\n",
       "      <td>0.0</td>\n",
       "      <td>2.0</td>\n",
       "      <td>3.0</td>\n",
       "      <td>2.0</td>\n",
       "      <td>4.0</td>\n",
       "      <td>3.0</td>\n",
       "      <td>1.0</td>\n",
       "    </tr>\n",
       "  </tbody>\n",
       "</table>\n",
       "<p>11 rows × 43 columns</p>\n",
       "</div>"
      ],
      "text/plain": [
       "       application_key   mvar1     mvar2  mvar4  mvar5  mvar18  mvar19  \\\n",
       "4596          234628.0  1681.0  0.954711    0.0    0.0     0.0     0.0   \n",
       "5053          235085.0  1657.0  0.085900    0.0    0.0     0.0     0.0   \n",
       "8707          238739.0  1765.0  0.434400    0.0    0.0     0.0     0.0   \n",
       "15590         245622.0  1774.0  1.090100    0.0    0.0     0.0     0.0   \n",
       "17870         247902.0  1786.0  0.000000    0.0    0.0     0.0     0.0   \n",
       "27270         257302.0  1930.0  0.954711    0.0    0.0     0.0     0.0   \n",
       "30335         260367.0  1705.0  0.138200    0.0    0.0     0.0     0.0   \n",
       "46272         276304.0  1686.0  0.046800    0.0    0.0     0.0     0.0   \n",
       "65074         295106.0  1904.0  0.954711    0.0    0.0     0.0     0.0   \n",
       "68628         298660.0  1882.0  0.047600    0.0    0.0     0.0     0.0   \n",
       "69875         299907.0  1746.0  0.954711    1.0    1.0     0.0     0.0   \n",
       "\n",
       "        mvar25   mvar26   mvar27      ...        binned_mvar7  binned_mvar9  \\\n",
       "4596   16729.0      NaN      NaN      ...                 0.0           1.0   \n",
       "5053   15300.0    335.0      NaN      ...                 0.0           1.0   \n",
       "8707   15528.0  15452.0  15452.0      ...                 0.0           2.0   \n",
       "15590  16090.0      NaN      NaN      ...                 1.0           2.0   \n",
       "17870  13505.0    548.0      NaN      ...                 0.0           2.0   \n",
       "27270  12030.0  17003.0  17003.0      ...                 0.0           2.0   \n",
       "30335  12562.0      NaN      NaN      ...                 0.0           1.0   \n",
       "46272  12471.0  12471.0  12471.0      ...                 0.0           1.0   \n",
       "65074  12790.0   9977.0   9977.0      ...                 0.0           2.0   \n",
       "68628  14783.0  14783.0  14783.0      ...                 0.0           3.0   \n",
       "69875  12288.0  12288.0  12288.0      ...                 0.0           1.0   \n",
       "\n",
       "       mvar48  binned_mvar10  binned_mvar12  binned_mvar13  binned_mvar14  \\\n",
       "4596      0.0            1.0            1.0            1.0            3.0   \n",
       "5053      1.0            0.0            4.0            3.0            3.0   \n",
       "8707      1.0            1.0            4.0            1.0            3.0   \n",
       "15590     0.0            1.0            4.0            1.0            3.0   \n",
       "17870     1.0            0.0            1.0            1.0            3.0   \n",
       "27270     1.0            1.0            2.0            2.0            3.0   \n",
       "30335     1.0            1.0            3.0            1.0            2.0   \n",
       "46272     0.0            1.0            5.0            3.0            3.0   \n",
       "65074     1.0            1.0            1.0            1.0            3.0   \n",
       "68628     1.0            0.0            3.0            4.0            3.0   \n",
       "69875     1.0            0.0            2.0            3.0            2.0   \n",
       "\n",
       "       binned_mvar21  binned_mvar22  binned_mvar24  \n",
       "4596             3.0            3.0            2.0  \n",
       "5053             3.0            1.0            1.0  \n",
       "8707             1.0            3.0            2.0  \n",
       "15590            5.0            3.0            2.0  \n",
       "17870            4.0            1.0            1.0  \n",
       "27270            3.0            3.0            1.0  \n",
       "30335            3.0            3.0            3.0  \n",
       "46272            4.0            3.0            2.0  \n",
       "65074            4.0            3.0            1.0  \n",
       "68628            1.0            3.0            1.0  \n",
       "69875            4.0            3.0            1.0  \n",
       "\n",
       "[11 rows x 43 columns]"
      ]
     },
     "execution_count": 15080,
     "metadata": {},
     "output_type": "execute_result"
    }
   ],
   "source": [
    "df[df['mvar25']>12000].head(11)"
   ]
  },
  {
   "cell_type": "code",
   "execution_count": 15081,
   "metadata": {},
   "outputs": [
    {
     "data": {
      "text/html": [
       "<div>\n",
       "<style scoped>\n",
       "    .dataframe tbody tr th:only-of-type {\n",
       "        vertical-align: middle;\n",
       "    }\n",
       "\n",
       "    .dataframe tbody tr th {\n",
       "        vertical-align: top;\n",
       "    }\n",
       "\n",
       "    .dataframe thead th {\n",
       "        text-align: right;\n",
       "    }\n",
       "</style>\n",
       "<table border=\"1\" class=\"dataframe\">\n",
       "  <thead>\n",
       "    <tr style=\"text-align: right;\">\n",
       "      <th></th>\n",
       "      <th>application_key</th>\n",
       "      <th>mvar1</th>\n",
       "      <th>mvar2</th>\n",
       "      <th>mvar4</th>\n",
       "      <th>mvar5</th>\n",
       "      <th>mvar18</th>\n",
       "      <th>mvar19</th>\n",
       "      <th>mvar25</th>\n",
       "      <th>mvar26</th>\n",
       "      <th>mvar27</th>\n",
       "      <th>...</th>\n",
       "      <th>binned_mvar7</th>\n",
       "      <th>binned_mvar9</th>\n",
       "      <th>mvar48</th>\n",
       "      <th>binned_mvar10</th>\n",
       "      <th>binned_mvar12</th>\n",
       "      <th>binned_mvar13</th>\n",
       "      <th>binned_mvar14</th>\n",
       "      <th>binned_mvar21</th>\n",
       "      <th>binned_mvar22</th>\n",
       "      <th>binned_mvar24</th>\n",
       "    </tr>\n",
       "  </thead>\n",
       "  <tbody>\n",
       "    <tr>\n",
       "      <th>count</th>\n",
       "      <td>71047.000000</td>\n",
       "      <td>71047.000000</td>\n",
       "      <td>71047.000000</td>\n",
       "      <td>71047.000000</td>\n",
       "      <td>71047.000000</td>\n",
       "      <td>71047.000000</td>\n",
       "      <td>71047.000000</td>\n",
       "      <td>66312.00000</td>\n",
       "      <td>64015.000000</td>\n",
       "      <td>61639.000000</td>\n",
       "      <td>...</td>\n",
       "      <td>71047.000000</td>\n",
       "      <td>71047.000000</td>\n",
       "      <td>71047.000000</td>\n",
       "      <td>71047.000000</td>\n",
       "      <td>71047.000000</td>\n",
       "      <td>71047.000000</td>\n",
       "      <td>71047.000000</td>\n",
       "      <td>71047.000000</td>\n",
       "      <td>71047.000000</td>\n",
       "      <td>71047.000000</td>\n",
       "    </tr>\n",
       "    <tr>\n",
       "      <th>mean</th>\n",
       "      <td>269691.997185</td>\n",
       "      <td>1750.801695</td>\n",
       "      <td>0.832720</td>\n",
       "      <td>0.129590</td>\n",
       "      <td>0.096415</td>\n",
       "      <td>0.164806</td>\n",
       "      <td>0.787746</td>\n",
       "      <td>1807.49617</td>\n",
       "      <td>3476.160837</td>\n",
       "      <td>3195.792599</td>\n",
       "      <td>...</td>\n",
       "      <td>0.253452</td>\n",
       "      <td>2.244345</td>\n",
       "      <td>0.585218</td>\n",
       "      <td>0.485974</td>\n",
       "      <td>3.427675</td>\n",
       "      <td>2.819598</td>\n",
       "      <td>2.718144</td>\n",
       "      <td>2.711613</td>\n",
       "      <td>2.234732</td>\n",
       "      <td>1.896787</td>\n",
       "    </tr>\n",
       "    <tr>\n",
       "      <th>std</th>\n",
       "      <td>23098.089693</td>\n",
       "      <td>94.530303</td>\n",
       "      <td>0.875033</td>\n",
       "      <td>0.335854</td>\n",
       "      <td>0.295162</td>\n",
       "      <td>0.440364</td>\n",
       "      <td>1.193313</td>\n",
       "      <td>1315.82709</td>\n",
       "      <td>2964.281129</td>\n",
       "      <td>2725.850958</td>\n",
       "      <td>...</td>\n",
       "      <td>0.434990</td>\n",
       "      <td>0.828222</td>\n",
       "      <td>0.492688</td>\n",
       "      <td>0.499807</td>\n",
       "      <td>1.228458</td>\n",
       "      <td>1.010980</td>\n",
       "      <td>0.506952</td>\n",
       "      <td>1.187739</td>\n",
       "      <td>0.944989</td>\n",
       "      <td>0.812142</td>\n",
       "    </tr>\n",
       "    <tr>\n",
       "      <th>min</th>\n",
       "      <td>230032.000000</td>\n",
       "      <td>1494.000000</td>\n",
       "      <td>0.000000</td>\n",
       "      <td>0.000000</td>\n",
       "      <td>0.000000</td>\n",
       "      <td>0.000000</td>\n",
       "      <td>0.000000</td>\n",
       "      <td>0.00000</td>\n",
       "      <td>0.000000</td>\n",
       "      <td>0.000000</td>\n",
       "      <td>...</td>\n",
       "      <td>0.000000</td>\n",
       "      <td>1.000000</td>\n",
       "      <td>0.000000</td>\n",
       "      <td>0.000000</td>\n",
       "      <td>1.000000</td>\n",
       "      <td>1.000000</td>\n",
       "      <td>1.000000</td>\n",
       "      <td>1.000000</td>\n",
       "      <td>1.000000</td>\n",
       "      <td>1.000000</td>\n",
       "    </tr>\n",
       "    <tr>\n",
       "      <th>25%</th>\n",
       "      <td>249624.500000</td>\n",
       "      <td>1684.000000</td>\n",
       "      <td>0.142450</td>\n",
       "      <td>0.000000</td>\n",
       "      <td>0.000000</td>\n",
       "      <td>0.000000</td>\n",
       "      <td>0.000000</td>\n",
       "      <td>873.00000</td>\n",
       "      <td>1217.000000</td>\n",
       "      <td>1095.000000</td>\n",
       "      <td>...</td>\n",
       "      <td>0.000000</td>\n",
       "      <td>1.000000</td>\n",
       "      <td>0.000000</td>\n",
       "      <td>0.000000</td>\n",
       "      <td>2.000000</td>\n",
       "      <td>2.000000</td>\n",
       "      <td>2.000000</td>\n",
       "      <td>2.000000</td>\n",
       "      <td>1.000000</td>\n",
       "      <td>1.000000</td>\n",
       "    </tr>\n",
       "    <tr>\n",
       "      <th>50%</th>\n",
       "      <td>269578.000000</td>\n",
       "      <td>1747.000000</td>\n",
       "      <td>0.555100</td>\n",
       "      <td>0.000000</td>\n",
       "      <td>0.000000</td>\n",
       "      <td>0.000000</td>\n",
       "      <td>0.000000</td>\n",
       "      <td>1534.00000</td>\n",
       "      <td>2859.000000</td>\n",
       "      <td>2677.000000</td>\n",
       "      <td>...</td>\n",
       "      <td>0.000000</td>\n",
       "      <td>2.000000</td>\n",
       "      <td>1.000000</td>\n",
       "      <td>0.000000</td>\n",
       "      <td>3.000000</td>\n",
       "      <td>3.000000</td>\n",
       "      <td>3.000000</td>\n",
       "      <td>3.000000</td>\n",
       "      <td>3.000000</td>\n",
       "      <td>2.000000</td>\n",
       "    </tr>\n",
       "    <tr>\n",
       "      <th>75%</th>\n",
       "      <td>289659.500000</td>\n",
       "      <td>1817.000000</td>\n",
       "      <td>1.170250</td>\n",
       "      <td>0.000000</td>\n",
       "      <td>0.000000</td>\n",
       "      <td>0.000000</td>\n",
       "      <td>1.000000</td>\n",
       "      <td>2420.00000</td>\n",
       "      <td>4867.000000</td>\n",
       "      <td>4471.000000</td>\n",
       "      <td>...</td>\n",
       "      <td>1.000000</td>\n",
       "      <td>3.000000</td>\n",
       "      <td>1.000000</td>\n",
       "      <td>1.000000</td>\n",
       "      <td>4.000000</td>\n",
       "      <td>4.000000</td>\n",
       "      <td>3.000000</td>\n",
       "      <td>4.000000</td>\n",
       "      <td>3.000000</td>\n",
       "      <td>3.000000</td>\n",
       "    </tr>\n",
       "    <tr>\n",
       "      <th>max</th>\n",
       "      <td>310031.000000</td>\n",
       "      <td>1950.000000</td>\n",
       "      <td>3.999600</td>\n",
       "      <td>1.000000</td>\n",
       "      <td>1.000000</td>\n",
       "      <td>2.000000</td>\n",
       "      <td>4.000000</td>\n",
       "      <td>16729.00000</td>\n",
       "      <td>24425.000000</td>\n",
       "      <td>22052.000000</td>\n",
       "      <td>...</td>\n",
       "      <td>1.000000</td>\n",
       "      <td>3.000000</td>\n",
       "      <td>1.000000</td>\n",
       "      <td>1.000000</td>\n",
       "      <td>5.000000</td>\n",
       "      <td>4.000000</td>\n",
       "      <td>3.000000</td>\n",
       "      <td>5.000000</td>\n",
       "      <td>4.000000</td>\n",
       "      <td>3.000000</td>\n",
       "    </tr>\n",
       "  </tbody>\n",
       "</table>\n",
       "<p>8 rows × 43 columns</p>\n",
       "</div>"
      ],
      "text/plain": [
       "       application_key         mvar1         mvar2         mvar4  \\\n",
       "count     71047.000000  71047.000000  71047.000000  71047.000000   \n",
       "mean     269691.997185   1750.801695      0.832720      0.129590   \n",
       "std       23098.089693     94.530303      0.875033      0.335854   \n",
       "min      230032.000000   1494.000000      0.000000      0.000000   \n",
       "25%      249624.500000   1684.000000      0.142450      0.000000   \n",
       "50%      269578.000000   1747.000000      0.555100      0.000000   \n",
       "75%      289659.500000   1817.000000      1.170250      0.000000   \n",
       "max      310031.000000   1950.000000      3.999600      1.000000   \n",
       "\n",
       "              mvar5        mvar18        mvar19       mvar25        mvar26  \\\n",
       "count  71047.000000  71047.000000  71047.000000  66312.00000  64015.000000   \n",
       "mean       0.096415      0.164806      0.787746   1807.49617   3476.160837   \n",
       "std        0.295162      0.440364      1.193313   1315.82709   2964.281129   \n",
       "min        0.000000      0.000000      0.000000      0.00000      0.000000   \n",
       "25%        0.000000      0.000000      0.000000    873.00000   1217.000000   \n",
       "50%        0.000000      0.000000      0.000000   1534.00000   2859.000000   \n",
       "75%        0.000000      0.000000      1.000000   2420.00000   4867.000000   \n",
       "max        1.000000      2.000000      4.000000  16729.00000  24425.000000   \n",
       "\n",
       "             mvar27      ...        binned_mvar7  binned_mvar9        mvar48  \\\n",
       "count  61639.000000      ...        71047.000000  71047.000000  71047.000000   \n",
       "mean    3195.792599      ...            0.253452      2.244345      0.585218   \n",
       "std     2725.850958      ...            0.434990      0.828222      0.492688   \n",
       "min        0.000000      ...            0.000000      1.000000      0.000000   \n",
       "25%     1095.000000      ...            0.000000      1.000000      0.000000   \n",
       "50%     2677.000000      ...            0.000000      2.000000      1.000000   \n",
       "75%     4471.000000      ...            1.000000      3.000000      1.000000   \n",
       "max    22052.000000      ...            1.000000      3.000000      1.000000   \n",
       "\n",
       "       binned_mvar10  binned_mvar12  binned_mvar13  binned_mvar14  \\\n",
       "count   71047.000000   71047.000000   71047.000000   71047.000000   \n",
       "mean        0.485974       3.427675       2.819598       2.718144   \n",
       "std         0.499807       1.228458       1.010980       0.506952   \n",
       "min         0.000000       1.000000       1.000000       1.000000   \n",
       "25%         0.000000       2.000000       2.000000       2.000000   \n",
       "50%         0.000000       3.000000       3.000000       3.000000   \n",
       "75%         1.000000       4.000000       4.000000       3.000000   \n",
       "max         1.000000       5.000000       4.000000       3.000000   \n",
       "\n",
       "       binned_mvar21  binned_mvar22  binned_mvar24  \n",
       "count   71047.000000   71047.000000   71047.000000  \n",
       "mean        2.711613       2.234732       1.896787  \n",
       "std         1.187739       0.944989       0.812142  \n",
       "min         1.000000       1.000000       1.000000  \n",
       "25%         2.000000       1.000000       1.000000  \n",
       "50%         3.000000       3.000000       2.000000  \n",
       "75%         4.000000       3.000000       3.000000  \n",
       "max         5.000000       4.000000       3.000000  \n",
       "\n",
       "[8 rows x 43 columns]"
      ]
     },
     "execution_count": 15081,
     "metadata": {},
     "output_type": "execute_result"
    }
   ],
   "source": [
    "df.describe()"
   ]
  },
  {
   "cell_type": "code",
   "execution_count": 15082,
   "metadata": {},
   "outputs": [],
   "source": [
    "df['mvar25'] = df['mvar25'].fillna(1759.143224)"
   ]
  },
  {
   "cell_type": "code",
   "execution_count": 15083,
   "metadata": {},
   "outputs": [
    {
     "name": "stderr",
     "output_type": "stream",
     "text": [
      "C:\\Users\\Chirag Garg\\Anaconda3\\lib\\site-packages\\matplotlib\\axes\\_axes.py:6462: UserWarning: The 'normed' kwarg is deprecated, and has been replaced by the 'density' kwarg.\n",
      "  warnings.warn(\"The 'normed' kwarg is deprecated, and has been \"\n"
     ]
    },
    {
     "data": {
      "text/plain": [
       "<matplotlib.axes._subplots.AxesSubplot at 0x1703fcfc6d8>"
      ]
     },
     "execution_count": 15083,
     "metadata": {},
     "output_type": "execute_result"
    },
    {
     "data": {
      "image/png": "[encoded data removed]",
      "text/plain": [
       "<Figure size 432x288 with 1 Axes>"
      ]
     },
     "metadata": {},
     "output_type": "display_data"
    }
   ],
   "source": [
    "df15 = df[df['mvar26'].notnull()]\n",
    "sns.distplot(df15['mvar26'])"
   ]
  },
  {
   "cell_type": "code",
   "execution_count": 15084,
   "metadata": {},
   "outputs": [
    {
     "data": {
      "text/plain": [
       "count    64015.000000\n",
       "mean      3476.160837\n",
       "std       2964.281129\n",
       "min          0.000000\n",
       "25%       1217.000000\n",
       "50%       2859.000000\n",
       "75%       4867.000000\n",
       "max      24425.000000\n",
       "Name: mvar26, dtype: float64"
      ]
     },
     "execution_count": 15084,
     "metadata": {},
     "output_type": "execute_result"
    }
   ],
   "source": [
    "df['mvar26'].describe()"
   ]
  },
  {
   "cell_type": "code",
   "execution_count": 15085,
   "metadata": {},
   "outputs": [
    {
     "data": {
      "text/html": [
       "<div>\n",
       "<style scoped>\n",
       "    .dataframe tbody tr th:only-of-type {\n",
       "        vertical-align: middle;\n",
       "    }\n",
       "\n",
       "    .dataframe tbody tr th {\n",
       "        vertical-align: top;\n",
       "    }\n",
       "\n",
       "    .dataframe thead th {\n",
       "        text-align: right;\n",
       "    }\n",
       "</style>\n",
       "<table border=\"1\" class=\"dataframe\">\n",
       "  <thead>\n",
       "    <tr style=\"text-align: right;\">\n",
       "      <th></th>\n",
       "      <th>application_key</th>\n",
       "      <th>mvar1</th>\n",
       "      <th>mvar2</th>\n",
       "      <th>mvar4</th>\n",
       "      <th>mvar5</th>\n",
       "      <th>mvar18</th>\n",
       "      <th>mvar19</th>\n",
       "      <th>mvar25</th>\n",
       "      <th>mvar26</th>\n",
       "      <th>mvar27</th>\n",
       "      <th>...</th>\n",
       "      <th>binned_mvar7</th>\n",
       "      <th>binned_mvar9</th>\n",
       "      <th>mvar48</th>\n",
       "      <th>binned_mvar10</th>\n",
       "      <th>binned_mvar12</th>\n",
       "      <th>binned_mvar13</th>\n",
       "      <th>binned_mvar14</th>\n",
       "      <th>binned_mvar21</th>\n",
       "      <th>binned_mvar22</th>\n",
       "      <th>binned_mvar24</th>\n",
       "    </tr>\n",
       "  </thead>\n",
       "  <tbody>\n",
       "    <tr>\n",
       "      <th>count</th>\n",
       "      <td>12.000000</td>\n",
       "      <td>12.000000</td>\n",
       "      <td>12.000000</td>\n",
       "      <td>12.0</td>\n",
       "      <td>12.0</td>\n",
       "      <td>12.000000</td>\n",
       "      <td>12.000000</td>\n",
       "      <td>12.000000</td>\n",
       "      <td>12.000000</td>\n",
       "      <td>12.000000</td>\n",
       "      <td>...</td>\n",
       "      <td>12.0</td>\n",
       "      <td>12.0</td>\n",
       "      <td>12.000000</td>\n",
       "      <td>12.0</td>\n",
       "      <td>12.00000</td>\n",
       "      <td>12.000000</td>\n",
       "      <td>12.000000</td>\n",
       "      <td>12.000000</td>\n",
       "      <td>12.000000</td>\n",
       "      <td>12.000000</td>\n",
       "    </tr>\n",
       "    <tr>\n",
       "      <th>mean</th>\n",
       "      <td>264833.000000</td>\n",
       "      <td>1832.500000</td>\n",
       "      <td>0.834854</td>\n",
       "      <td>0.0</td>\n",
       "      <td>0.0</td>\n",
       "      <td>0.333333</td>\n",
       "      <td>1.000000</td>\n",
       "      <td>3845.416667</td>\n",
       "      <td>21078.750000</td>\n",
       "      <td>12658.416667</td>\n",
       "      <td>...</td>\n",
       "      <td>0.0</td>\n",
       "      <td>3.0</td>\n",
       "      <td>0.916667</td>\n",
       "      <td>0.0</td>\n",
       "      <td>4.25000</td>\n",
       "      <td>3.750000</td>\n",
       "      <td>2.916667</td>\n",
       "      <td>2.000000</td>\n",
       "      <td>2.000000</td>\n",
       "      <td>1.333333</td>\n",
       "    </tr>\n",
       "    <tr>\n",
       "      <th>std</th>\n",
       "      <td>22934.850841</td>\n",
       "      <td>101.720204</td>\n",
       "      <td>0.851303</td>\n",
       "      <td>0.0</td>\n",
       "      <td>0.0</td>\n",
       "      <td>0.778499</td>\n",
       "      <td>1.537412</td>\n",
       "      <td>1605.812083</td>\n",
       "      <td>1269.334695</td>\n",
       "      <td>7399.824819</td>\n",
       "      <td>...</td>\n",
       "      <td>0.0</td>\n",
       "      <td>0.0</td>\n",
       "      <td>0.288675</td>\n",
       "      <td>0.0</td>\n",
       "      <td>1.05529</td>\n",
       "      <td>0.452267</td>\n",
       "      <td>0.288675</td>\n",
       "      <td>1.206045</td>\n",
       "      <td>1.044466</td>\n",
       "      <td>0.651339</td>\n",
       "    </tr>\n",
       "    <tr>\n",
       "      <th>min</th>\n",
       "      <td>236931.000000</td>\n",
       "      <td>1614.000000</td>\n",
       "      <td>0.031800</td>\n",
       "      <td>0.0</td>\n",
       "      <td>0.0</td>\n",
       "      <td>0.000000</td>\n",
       "      <td>0.000000</td>\n",
       "      <td>1133.000000</td>\n",
       "      <td>20014.000000</td>\n",
       "      <td>2859.000000</td>\n",
       "      <td>...</td>\n",
       "      <td>0.0</td>\n",
       "      <td>3.0</td>\n",
       "      <td>0.000000</td>\n",
       "      <td>0.0</td>\n",
       "      <td>2.00000</td>\n",
       "      <td>3.000000</td>\n",
       "      <td>2.000000</td>\n",
       "      <td>1.000000</td>\n",
       "      <td>1.000000</td>\n",
       "      <td>1.000000</td>\n",
       "    </tr>\n",
       "    <tr>\n",
       "      <th>25%</th>\n",
       "      <td>244666.750000</td>\n",
       "      <td>1760.250000</td>\n",
       "      <td>0.322825</td>\n",
       "      <td>0.0</td>\n",
       "      <td>0.0</td>\n",
       "      <td>0.000000</td>\n",
       "      <td>0.000000</td>\n",
       "      <td>2658.250000</td>\n",
       "      <td>20303.000000</td>\n",
       "      <td>6441.000000</td>\n",
       "      <td>...</td>\n",
       "      <td>0.0</td>\n",
       "      <td>3.0</td>\n",
       "      <td>1.000000</td>\n",
       "      <td>0.0</td>\n",
       "      <td>3.75000</td>\n",
       "      <td>3.750000</td>\n",
       "      <td>3.000000</td>\n",
       "      <td>1.000000</td>\n",
       "      <td>1.000000</td>\n",
       "      <td>1.000000</td>\n",
       "    </tr>\n",
       "    <tr>\n",
       "      <th>50%</th>\n",
       "      <td>264237.500000</td>\n",
       "      <td>1873.000000</td>\n",
       "      <td>0.796056</td>\n",
       "      <td>0.0</td>\n",
       "      <td>0.0</td>\n",
       "      <td>0.000000</td>\n",
       "      <td>0.000000</td>\n",
       "      <td>3901.000000</td>\n",
       "      <td>20349.000000</td>\n",
       "      <td>9140.000000</td>\n",
       "      <td>...</td>\n",
       "      <td>0.0</td>\n",
       "      <td>3.0</td>\n",
       "      <td>1.000000</td>\n",
       "      <td>0.0</td>\n",
       "      <td>5.00000</td>\n",
       "      <td>4.000000</td>\n",
       "      <td>3.000000</td>\n",
       "      <td>2.000000</td>\n",
       "      <td>2.000000</td>\n",
       "      <td>1.000000</td>\n",
       "    </tr>\n",
       "    <tr>\n",
       "      <th>75%</th>\n",
       "      <td>276057.250000</td>\n",
       "      <td>1915.250000</td>\n",
       "      <td>0.954711</td>\n",
       "      <td>0.0</td>\n",
       "      <td>0.0</td>\n",
       "      <td>0.000000</td>\n",
       "      <td>1.250000</td>\n",
       "      <td>4755.000000</td>\n",
       "      <td>21542.250000</td>\n",
       "      <td>20349.000000</td>\n",
       "      <td>...</td>\n",
       "      <td>0.0</td>\n",
       "      <td>3.0</td>\n",
       "      <td>1.000000</td>\n",
       "      <td>0.0</td>\n",
       "      <td>5.00000</td>\n",
       "      <td>4.000000</td>\n",
       "      <td>3.000000</td>\n",
       "      <td>2.250000</td>\n",
       "      <td>3.000000</td>\n",
       "      <td>1.250000</td>\n",
       "    </tr>\n",
       "    <tr>\n",
       "      <th>max</th>\n",
       "      <td>300496.000000</td>\n",
       "      <td>1930.000000</td>\n",
       "      <td>3.242600</td>\n",
       "      <td>0.0</td>\n",
       "      <td>0.0</td>\n",
       "      <td>2.000000</td>\n",
       "      <td>4.000000</td>\n",
       "      <td>7171.000000</td>\n",
       "      <td>24425.000000</td>\n",
       "      <td>22052.000000</td>\n",
       "      <td>...</td>\n",
       "      <td>0.0</td>\n",
       "      <td>3.0</td>\n",
       "      <td>1.000000</td>\n",
       "      <td>0.0</td>\n",
       "      <td>5.00000</td>\n",
       "      <td>4.000000</td>\n",
       "      <td>3.000000</td>\n",
       "      <td>5.000000</td>\n",
       "      <td>3.000000</td>\n",
       "      <td>3.000000</td>\n",
       "    </tr>\n",
       "  </tbody>\n",
       "</table>\n",
       "<p>8 rows × 43 columns</p>\n",
       "</div>"
      ],
      "text/plain": [
       "       application_key        mvar1      mvar2  mvar4  mvar5     mvar18  \\\n",
       "count        12.000000    12.000000  12.000000   12.0   12.0  12.000000   \n",
       "mean     264833.000000  1832.500000   0.834854    0.0    0.0   0.333333   \n",
       "std       22934.850841   101.720204   0.851303    0.0    0.0   0.778499   \n",
       "min      236931.000000  1614.000000   0.031800    0.0    0.0   0.000000   \n",
       "25%      244666.750000  1760.250000   0.322825    0.0    0.0   0.000000   \n",
       "50%      264237.500000  1873.000000   0.796056    0.0    0.0   0.000000   \n",
       "75%      276057.250000  1915.250000   0.954711    0.0    0.0   0.000000   \n",
       "max      300496.000000  1930.000000   3.242600    0.0    0.0   2.000000   \n",
       "\n",
       "          mvar19       mvar25        mvar26        mvar27      ...        \\\n",
       "count  12.000000    12.000000     12.000000     12.000000      ...         \n",
       "mean    1.000000  3845.416667  21078.750000  12658.416667      ...         \n",
       "std     1.537412  1605.812083   1269.334695   7399.824819      ...         \n",
       "min     0.000000  1133.000000  20014.000000   2859.000000      ...         \n",
       "25%     0.000000  2658.250000  20303.000000   6441.000000      ...         \n",
       "50%     0.000000  3901.000000  20349.000000   9140.000000      ...         \n",
       "75%     1.250000  4755.000000  21542.250000  20349.000000      ...         \n",
       "max     4.000000  7171.000000  24425.000000  22052.000000      ...         \n",
       "\n",
       "       binned_mvar7  binned_mvar9     mvar48  binned_mvar10  binned_mvar12  \\\n",
       "count          12.0          12.0  12.000000           12.0       12.00000   \n",
       "mean            0.0           3.0   0.916667            0.0        4.25000   \n",
       "std             0.0           0.0   0.288675            0.0        1.05529   \n",
       "min             0.0           3.0   0.000000            0.0        2.00000   \n",
       "25%             0.0           3.0   1.000000            0.0        3.75000   \n",
       "50%             0.0           3.0   1.000000            0.0        5.00000   \n",
       "75%             0.0           3.0   1.000000            0.0        5.00000   \n",
       "max             0.0           3.0   1.000000            0.0        5.00000   \n",
       "\n",
       "       binned_mvar13  binned_mvar14  binned_mvar21  binned_mvar22  \\\n",
       "count      12.000000      12.000000      12.000000      12.000000   \n",
       "mean        3.750000       2.916667       2.000000       2.000000   \n",
       "std         0.452267       0.288675       1.206045       1.044466   \n",
       "min         3.000000       2.000000       1.000000       1.000000   \n",
       "25%         3.750000       3.000000       1.000000       1.000000   \n",
       "50%         4.000000       3.000000       2.000000       2.000000   \n",
       "75%         4.000000       3.000000       2.250000       3.000000   \n",
       "max         4.000000       3.000000       5.000000       3.000000   \n",
       "\n",
       "       binned_mvar24  \n",
       "count      12.000000  \n",
       "mean        1.333333  \n",
       "std         0.651339  \n",
       "min         1.000000  \n",
       "25%         1.000000  \n",
       "50%         1.000000  \n",
       "75%         1.250000  \n",
       "max         3.000000  \n",
       "\n",
       "[8 rows x 43 columns]"
      ]
     },
     "execution_count": 15085,
     "metadata": {},
     "output_type": "execute_result"
    }
   ],
   "source": [
    "df[df['mvar26']>20000].describe()"
   ]
  },
  {
   "cell_type": "code",
   "execution_count": 15086,
   "metadata": {},
   "outputs": [
    {
     "data": {
      "text/html": [
       "<div>\n",
       "<style scoped>\n",
       "    .dataframe tbody tr th:only-of-type {\n",
       "        vertical-align: middle;\n",
       "    }\n",
       "\n",
       "    .dataframe tbody tr th {\n",
       "        vertical-align: top;\n",
       "    }\n",
       "\n",
       "    .dataframe thead th {\n",
       "        text-align: right;\n",
       "    }\n",
       "</style>\n",
       "<table border=\"1\" class=\"dataframe\">\n",
       "  <thead>\n",
       "    <tr style=\"text-align: right;\">\n",
       "      <th></th>\n",
       "      <th>application_key</th>\n",
       "      <th>mvar1</th>\n",
       "      <th>mvar2</th>\n",
       "      <th>mvar4</th>\n",
       "      <th>mvar5</th>\n",
       "      <th>mvar18</th>\n",
       "      <th>mvar19</th>\n",
       "      <th>mvar25</th>\n",
       "      <th>mvar26</th>\n",
       "      <th>mvar27</th>\n",
       "      <th>...</th>\n",
       "      <th>binned_mvar7</th>\n",
       "      <th>binned_mvar9</th>\n",
       "      <th>mvar48</th>\n",
       "      <th>binned_mvar10</th>\n",
       "      <th>binned_mvar12</th>\n",
       "      <th>binned_mvar13</th>\n",
       "      <th>binned_mvar14</th>\n",
       "      <th>binned_mvar21</th>\n",
       "      <th>binned_mvar22</th>\n",
       "      <th>binned_mvar24</th>\n",
       "    </tr>\n",
       "  </thead>\n",
       "  <tbody>\n",
       "    <tr>\n",
       "      <th>count</th>\n",
       "      <td>71047.000000</td>\n",
       "      <td>71047.000000</td>\n",
       "      <td>71047.000000</td>\n",
       "      <td>71047.000000</td>\n",
       "      <td>71047.000000</td>\n",
       "      <td>71047.000000</td>\n",
       "      <td>71047.000000</td>\n",
       "      <td>71047.000000</td>\n",
       "      <td>64015.000000</td>\n",
       "      <td>61639.000000</td>\n",
       "      <td>...</td>\n",
       "      <td>71047.000000</td>\n",
       "      <td>71047.000000</td>\n",
       "      <td>71047.000000</td>\n",
       "      <td>71047.000000</td>\n",
       "      <td>71047.000000</td>\n",
       "      <td>71047.000000</td>\n",
       "      <td>71047.000000</td>\n",
       "      <td>71047.000000</td>\n",
       "      <td>71047.000000</td>\n",
       "      <td>71047.000000</td>\n",
       "    </tr>\n",
       "    <tr>\n",
       "      <th>mean</th>\n",
       "      <td>269691.997185</td>\n",
       "      <td>1750.801695</td>\n",
       "      <td>0.832720</td>\n",
       "      <td>0.129590</td>\n",
       "      <td>0.096415</td>\n",
       "      <td>0.164806</td>\n",
       "      <td>0.787746</td>\n",
       "      <td>1804.273638</td>\n",
       "      <td>3476.160837</td>\n",
       "      <td>3195.792599</td>\n",
       "      <td>...</td>\n",
       "      <td>0.253452</td>\n",
       "      <td>2.244345</td>\n",
       "      <td>0.585218</td>\n",
       "      <td>0.485974</td>\n",
       "      <td>3.427675</td>\n",
       "      <td>2.819598</td>\n",
       "      <td>2.718144</td>\n",
       "      <td>2.711613</td>\n",
       "      <td>2.234732</td>\n",
       "      <td>1.896787</td>\n",
       "    </tr>\n",
       "    <tr>\n",
       "      <th>std</th>\n",
       "      <td>23098.089693</td>\n",
       "      <td>94.530303</td>\n",
       "      <td>0.875033</td>\n",
       "      <td>0.335854</td>\n",
       "      <td>0.295162</td>\n",
       "      <td>0.440364</td>\n",
       "      <td>1.193313</td>\n",
       "      <td>1271.280361</td>\n",
       "      <td>2964.281129</td>\n",
       "      <td>2725.850958</td>\n",
       "      <td>...</td>\n",
       "      <td>0.434990</td>\n",
       "      <td>0.828222</td>\n",
       "      <td>0.492688</td>\n",
       "      <td>0.499807</td>\n",
       "      <td>1.228458</td>\n",
       "      <td>1.010980</td>\n",
       "      <td>0.506952</td>\n",
       "      <td>1.187739</td>\n",
       "      <td>0.944989</td>\n",
       "      <td>0.812142</td>\n",
       "    </tr>\n",
       "    <tr>\n",
       "      <th>min</th>\n",
       "      <td>230032.000000</td>\n",
       "      <td>1494.000000</td>\n",
       "      <td>0.000000</td>\n",
       "      <td>0.000000</td>\n",
       "      <td>0.000000</td>\n",
       "      <td>0.000000</td>\n",
       "      <td>0.000000</td>\n",
       "      <td>0.000000</td>\n",
       "      <td>0.000000</td>\n",
       "      <td>0.000000</td>\n",
       "      <td>...</td>\n",
       "      <td>0.000000</td>\n",
       "      <td>1.000000</td>\n",
       "      <td>0.000000</td>\n",
       "      <td>0.000000</td>\n",
       "      <td>1.000000</td>\n",
       "      <td>1.000000</td>\n",
       "      <td>1.000000</td>\n",
       "      <td>1.000000</td>\n",
       "      <td>1.000000</td>\n",
       "      <td>1.000000</td>\n",
       "    </tr>\n",
       "    <tr>\n",
       "      <th>25%</th>\n",
       "      <td>249624.500000</td>\n",
       "      <td>1684.000000</td>\n",
       "      <td>0.142450</td>\n",
       "      <td>0.000000</td>\n",
       "      <td>0.000000</td>\n",
       "      <td>0.000000</td>\n",
       "      <td>0.000000</td>\n",
       "      <td>923.000000</td>\n",
       "      <td>1217.000000</td>\n",
       "      <td>1095.000000</td>\n",
       "      <td>...</td>\n",
       "      <td>0.000000</td>\n",
       "      <td>1.000000</td>\n",
       "      <td>0.000000</td>\n",
       "      <td>0.000000</td>\n",
       "      <td>2.000000</td>\n",
       "      <td>2.000000</td>\n",
       "      <td>2.000000</td>\n",
       "      <td>2.000000</td>\n",
       "      <td>1.000000</td>\n",
       "      <td>1.000000</td>\n",
       "    </tr>\n",
       "    <tr>\n",
       "      <th>50%</th>\n",
       "      <td>269578.000000</td>\n",
       "      <td>1747.000000</td>\n",
       "      <td>0.555100</td>\n",
       "      <td>0.000000</td>\n",
       "      <td>0.000000</td>\n",
       "      <td>0.000000</td>\n",
       "      <td>0.000000</td>\n",
       "      <td>1637.000000</td>\n",
       "      <td>2859.000000</td>\n",
       "      <td>2677.000000</td>\n",
       "      <td>...</td>\n",
       "      <td>0.000000</td>\n",
       "      <td>2.000000</td>\n",
       "      <td>1.000000</td>\n",
       "      <td>0.000000</td>\n",
       "      <td>3.000000</td>\n",
       "      <td>3.000000</td>\n",
       "      <td>3.000000</td>\n",
       "      <td>3.000000</td>\n",
       "      <td>3.000000</td>\n",
       "      <td>2.000000</td>\n",
       "    </tr>\n",
       "    <tr>\n",
       "      <th>75%</th>\n",
       "      <td>289659.500000</td>\n",
       "      <td>1817.000000</td>\n",
       "      <td>1.170250</td>\n",
       "      <td>0.000000</td>\n",
       "      <td>0.000000</td>\n",
       "      <td>0.000000</td>\n",
       "      <td>1.000000</td>\n",
       "      <td>2334.000000</td>\n",
       "      <td>4867.000000</td>\n",
       "      <td>4471.000000</td>\n",
       "      <td>...</td>\n",
       "      <td>1.000000</td>\n",
       "      <td>3.000000</td>\n",
       "      <td>1.000000</td>\n",
       "      <td>1.000000</td>\n",
       "      <td>4.000000</td>\n",
       "      <td>4.000000</td>\n",
       "      <td>3.000000</td>\n",
       "      <td>4.000000</td>\n",
       "      <td>3.000000</td>\n",
       "      <td>3.000000</td>\n",
       "    </tr>\n",
       "    <tr>\n",
       "      <th>max</th>\n",
       "      <td>310031.000000</td>\n",
       "      <td>1950.000000</td>\n",
       "      <td>3.999600</td>\n",
       "      <td>1.000000</td>\n",
       "      <td>1.000000</td>\n",
       "      <td>2.000000</td>\n",
       "      <td>4.000000</td>\n",
       "      <td>16729.000000</td>\n",
       "      <td>24425.000000</td>\n",
       "      <td>22052.000000</td>\n",
       "      <td>...</td>\n",
       "      <td>1.000000</td>\n",
       "      <td>3.000000</td>\n",
       "      <td>1.000000</td>\n",
       "      <td>1.000000</td>\n",
       "      <td>5.000000</td>\n",
       "      <td>4.000000</td>\n",
       "      <td>3.000000</td>\n",
       "      <td>5.000000</td>\n",
       "      <td>4.000000</td>\n",
       "      <td>3.000000</td>\n",
       "    </tr>\n",
       "  </tbody>\n",
       "</table>\n",
       "<p>8 rows × 43 columns</p>\n",
       "</div>"
      ],
      "text/plain": [
       "       application_key         mvar1         mvar2         mvar4  \\\n",
       "count     71047.000000  71047.000000  71047.000000  71047.000000   \n",
       "mean     269691.997185   1750.801695      0.832720      0.129590   \n",
       "std       23098.089693     94.530303      0.875033      0.335854   \n",
       "min      230032.000000   1494.000000      0.000000      0.000000   \n",
       "25%      249624.500000   1684.000000      0.142450      0.000000   \n",
       "50%      269578.000000   1747.000000      0.555100      0.000000   \n",
       "75%      289659.500000   1817.000000      1.170250      0.000000   \n",
       "max      310031.000000   1950.000000      3.999600      1.000000   \n",
       "\n",
       "              mvar5        mvar18        mvar19        mvar25        mvar26  \\\n",
       "count  71047.000000  71047.000000  71047.000000  71047.000000  64015.000000   \n",
       "mean       0.096415      0.164806      0.787746   1804.273638   3476.160837   \n",
       "std        0.295162      0.440364      1.193313   1271.280361   2964.281129   \n",
       "min        0.000000      0.000000      0.000000      0.000000      0.000000   \n",
       "25%        0.000000      0.000000      0.000000    923.000000   1217.000000   \n",
       "50%        0.000000      0.000000      0.000000   1637.000000   2859.000000   \n",
       "75%        0.000000      0.000000      1.000000   2334.000000   4867.000000   \n",
       "max        1.000000      2.000000      4.000000  16729.000000  24425.000000   \n",
       "\n",
       "             mvar27      ...        binned_mvar7  binned_mvar9        mvar48  \\\n",
       "count  61639.000000      ...        71047.000000  71047.000000  71047.000000   \n",
       "mean    3195.792599      ...            0.253452      2.244345      0.585218   \n",
       "std     2725.850958      ...            0.434990      0.828222      0.492688   \n",
       "min        0.000000      ...            0.000000      1.000000      0.000000   \n",
       "25%     1095.000000      ...            0.000000      1.000000      0.000000   \n",
       "50%     2677.000000      ...            0.000000      2.000000      1.000000   \n",
       "75%     4471.000000      ...            1.000000      3.000000      1.000000   \n",
       "max    22052.000000      ...            1.000000      3.000000      1.000000   \n",
       "\n",
       "       binned_mvar10  binned_mvar12  binned_mvar13  binned_mvar14  \\\n",
       "count   71047.000000   71047.000000   71047.000000   71047.000000   \n",
       "mean        0.485974       3.427675       2.819598       2.718144   \n",
       "std         0.499807       1.228458       1.010980       0.506952   \n",
       "min         0.000000       1.000000       1.000000       1.000000   \n",
       "25%         0.000000       2.000000       2.000000       2.000000   \n",
       "50%         0.000000       3.000000       3.000000       3.000000   \n",
       "75%         1.000000       4.000000       4.000000       3.000000   \n",
       "max         1.000000       5.000000       4.000000       3.000000   \n",
       "\n",
       "       binned_mvar21  binned_mvar22  binned_mvar24  \n",
       "count   71047.000000   71047.000000   71047.000000  \n",
       "mean        2.711613       2.234732       1.896787  \n",
       "std         1.187739       0.944989       0.812142  \n",
       "min         1.000000       1.000000       1.000000  \n",
       "25%         2.000000       1.000000       1.000000  \n",
       "50%         3.000000       3.000000       2.000000  \n",
       "75%         4.000000       3.000000       3.000000  \n",
       "max         5.000000       4.000000       3.000000  \n",
       "\n",
       "[8 rows x 43 columns]"
      ]
     },
     "execution_count": 15086,
     "metadata": {},
     "output_type": "execute_result"
    }
   ],
   "source": [
    "df.describe(\n",
    "\n",
    ")"
   ]
  },
  {
   "cell_type": "code",
   "execution_count": 15087,
   "metadata": {},
   "outputs": [],
   "source": [
    "df['mvar26'] = df['mvar26'].fillna(3388.220)"
   ]
  },
  {
   "cell_type": "code",
   "execution_count": 15088,
   "metadata": {},
   "outputs": [
    {
     "name": "stdout",
     "output_type": "stream",
     "text": [
      "<class 'pandas.core.frame.DataFrame'>\n",
      "Int64Index: 71047 entries, 0 to 79999\n",
      "Data columns (total 43 columns):\n",
      "application_key    71047 non-null float64\n",
      "mvar1              71047 non-null float64\n",
      "mvar2              71047 non-null float64\n",
      "mvar4              71047 non-null float64\n",
      "mvar5              71047 non-null float64\n",
      "mvar18             71047 non-null float64\n",
      "mvar19             71047 non-null float64\n",
      "mvar25             71047 non-null float64\n",
      "mvar26             71047 non-null float64\n",
      "mvar27             61639 non-null float64\n",
      "mvar28             71047 non-null float64\n",
      "mvar29             71047 non-null float64\n",
      "mvar30             39883 non-null float64\n",
      "mvar31             21488 non-null float64\n",
      "mvar32             66312 non-null float64\n",
      "mvar33             69744 non-null float64\n",
      "mvar34             71047 non-null float64\n",
      "mvar35             42798 non-null float64\n",
      "mvar36             69305 non-null float64\n",
      "mvar37             66312 non-null float64\n",
      "mvar38             71047 non-null float64\n",
      "mvar39             68129 non-null float64\n",
      "mvar40             15709 non-null float64\n",
      "mvar41             23323 non-null float64\n",
      "mvar42             70372 non-null float64\n",
      "mvar43             70914 non-null float64\n",
      "mvar44             66684 non-null float64\n",
      "mvar45             33506 non-null float64\n",
      "mvar46             52492 non-null float64\n",
      "mvar47             71047 non-null float64\n",
      "default_ind        71047 non-null float64\n",
      "binned_mvar6       71047 non-null float64\n",
      "binned_mvar1       71047 non-null float64\n",
      "binned_mvar7       71047 non-null float64\n",
      "binned_mvar9       71047 non-null float64\n",
      "mvar48             71047 non-null float64\n",
      "binned_mvar10      71047 non-null float64\n",
      "binned_mvar12      71047 non-null float64\n",
      "binned_mvar13      71047 non-null float64\n",
      "binned_mvar14      71047 non-null float64\n",
      "binned_mvar21      71047 non-null float64\n",
      "binned_mvar22      71047 non-null float64\n",
      "binned_mvar24      71047 non-null float64\n",
      "dtypes: float64(43)\n",
      "memory usage: 23.9 MB\n"
     ]
    }
   ],
   "source": [
    "df.info()"
   ]
  },
  {
   "cell_type": "code",
   "execution_count": 15089,
   "metadata": {},
   "outputs": [
    {
     "name": "stderr",
     "output_type": "stream",
     "text": [
      "C:\\Users\\Chirag Garg\\Anaconda3\\lib\\site-packages\\matplotlib\\axes\\_axes.py:6462: UserWarning: The 'normed' kwarg is deprecated, and has been replaced by the 'density' kwarg.\n",
      "  warnings.warn(\"The 'normed' kwarg is deprecated, and has been \"\n"
     ]
    },
    {
     "data": {
      "text/plain": [
       "<matplotlib.axes._subplots.AxesSubplot at 0x170258f1cc0>"
      ]
     },
     "execution_count": 15089,
     "metadata": {},
     "output_type": "execute_result"
    },
    {
     "data": {
      "image/png": "[encoded data removed]",
      "text/plain": [
       "<Figure size 432x288 with 1 Axes>"
      ]
     },
     "metadata": {},
     "output_type": "display_data"
    }
   ],
   "source": [
    "df15 = df[df['mvar27'].notnull()]\n",
    "sns.distplot(df15['mvar27'])"
   ]
  },
  {
   "cell_type": "code",
   "execution_count": 15090,
   "metadata": {},
   "outputs": [
    {
     "data": {
      "text/plain": [
       "count    61639.000000\n",
       "mean      3195.792599\n",
       "std       2725.850958\n",
       "min          0.000000\n",
       "25%       1095.000000\n",
       "50%       2677.000000\n",
       "75%       4471.000000\n",
       "max      22052.000000\n",
       "Name: mvar27, dtype: float64"
      ]
     },
     "execution_count": 15090,
     "metadata": {},
     "output_type": "execute_result"
    }
   ],
   "source": [
    "df['mvar27'].describe()"
   ]
  },
  {
   "cell_type": "code",
   "execution_count": 15091,
   "metadata": {},
   "outputs": [
    {
     "name": "stdout",
     "output_type": "stream",
     "text": [
      "<class 'pandas.core.frame.DataFrame'>\n",
      "Int64Index: 23 entries, 8125 to 79035\n",
      "Data columns (total 43 columns):\n",
      "application_key    23 non-null float64\n",
      "mvar1              23 non-null float64\n",
      "mvar2              23 non-null float64\n",
      "mvar4              23 non-null float64\n",
      "mvar5              23 non-null float64\n",
      "mvar18             23 non-null float64\n",
      "mvar19             23 non-null float64\n",
      "mvar25             23 non-null float64\n",
      "mvar26             23 non-null float64\n",
      "mvar27             23 non-null float64\n",
      "mvar28             23 non-null float64\n",
      "mvar29             23 non-null float64\n",
      "mvar30             11 non-null float64\n",
      "mvar31             1 non-null float64\n",
      "mvar32             23 non-null float64\n",
      "mvar33             22 non-null float64\n",
      "mvar34             23 non-null float64\n",
      "mvar35             14 non-null float64\n",
      "mvar36             23 non-null float64\n",
      "mvar37             23 non-null float64\n",
      "mvar38             23 non-null float64\n",
      "mvar39             23 non-null float64\n",
      "mvar40             0 non-null float64\n",
      "mvar41             6 non-null float64\n",
      "mvar42             23 non-null float64\n",
      "mvar43             23 non-null float64\n",
      "mvar44             23 non-null float64\n",
      "mvar45             12 non-null float64\n",
      "mvar46             19 non-null float64\n",
      "mvar47             23 non-null float64\n",
      "default_ind        23 non-null float64\n",
      "binned_mvar6       23 non-null float64\n",
      "binned_mvar1       23 non-null float64\n",
      "binned_mvar7       23 non-null float64\n",
      "binned_mvar9       23 non-null float64\n",
      "mvar48             23 non-null float64\n",
      "binned_mvar10      23 non-null float64\n",
      "binned_mvar12      23 non-null float64\n",
      "binned_mvar13      23 non-null float64\n",
      "binned_mvar14      23 non-null float64\n",
      "binned_mvar21      23 non-null float64\n",
      "binned_mvar22      23 non-null float64\n",
      "binned_mvar24      23 non-null float64\n",
      "dtypes: float64(43)\n",
      "memory usage: 7.9 KB\n"
     ]
    }
   ],
   "source": [
    "df[df['mvar27']>17800].info()"
   ]
  },
  {
   "cell_type": "code",
   "execution_count": 15092,
   "metadata": {},
   "outputs": [
    {
     "data": {
      "text/html": [
       "<div>\n",
       "<style scoped>\n",
       "    .dataframe tbody tr th:only-of-type {\n",
       "        vertical-align: middle;\n",
       "    }\n",
       "\n",
       "    .dataframe tbody tr th {\n",
       "        vertical-align: top;\n",
       "    }\n",
       "\n",
       "    .dataframe thead th {\n",
       "        text-align: right;\n",
       "    }\n",
       "</style>\n",
       "<table border=\"1\" class=\"dataframe\">\n",
       "  <thead>\n",
       "    <tr style=\"text-align: right;\">\n",
       "      <th></th>\n",
       "      <th>application_key</th>\n",
       "      <th>mvar1</th>\n",
       "      <th>mvar2</th>\n",
       "      <th>mvar4</th>\n",
       "      <th>mvar5</th>\n",
       "      <th>mvar18</th>\n",
       "      <th>mvar19</th>\n",
       "      <th>mvar25</th>\n",
       "      <th>mvar26</th>\n",
       "      <th>mvar27</th>\n",
       "      <th>...</th>\n",
       "      <th>binned_mvar7</th>\n",
       "      <th>binned_mvar9</th>\n",
       "      <th>mvar48</th>\n",
       "      <th>binned_mvar10</th>\n",
       "      <th>binned_mvar12</th>\n",
       "      <th>binned_mvar13</th>\n",
       "      <th>binned_mvar14</th>\n",
       "      <th>binned_mvar21</th>\n",
       "      <th>binned_mvar22</th>\n",
       "      <th>binned_mvar24</th>\n",
       "    </tr>\n",
       "  </thead>\n",
       "  <tbody>\n",
       "    <tr>\n",
       "      <th>count</th>\n",
       "      <td>71047.000000</td>\n",
       "      <td>71047.000000</td>\n",
       "      <td>71047.000000</td>\n",
       "      <td>71047.000000</td>\n",
       "      <td>71047.000000</td>\n",
       "      <td>71047.000000</td>\n",
       "      <td>71047.000000</td>\n",
       "      <td>71047.000000</td>\n",
       "      <td>71047.000000</td>\n",
       "      <td>61639.000000</td>\n",
       "      <td>...</td>\n",
       "      <td>71047.000000</td>\n",
       "      <td>71047.000000</td>\n",
       "      <td>71047.000000</td>\n",
       "      <td>71047.000000</td>\n",
       "      <td>71047.000000</td>\n",
       "      <td>71047.000000</td>\n",
       "      <td>71047.000000</td>\n",
       "      <td>71047.000000</td>\n",
       "      <td>71047.000000</td>\n",
       "      <td>71047.000000</td>\n",
       "    </tr>\n",
       "    <tr>\n",
       "      <th>mean</th>\n",
       "      <td>269691.997185</td>\n",
       "      <td>1750.801695</td>\n",
       "      <td>0.832720</td>\n",
       "      <td>0.129590</td>\n",
       "      <td>0.096415</td>\n",
       "      <td>0.164806</td>\n",
       "      <td>0.787746</td>\n",
       "      <td>1804.273638</td>\n",
       "      <td>3467.456740</td>\n",
       "      <td>3195.792599</td>\n",
       "      <td>...</td>\n",
       "      <td>0.253452</td>\n",
       "      <td>2.244345</td>\n",
       "      <td>0.585218</td>\n",
       "      <td>0.485974</td>\n",
       "      <td>3.427675</td>\n",
       "      <td>2.819598</td>\n",
       "      <td>2.718144</td>\n",
       "      <td>2.711613</td>\n",
       "      <td>2.234732</td>\n",
       "      <td>1.896787</td>\n",
       "    </tr>\n",
       "    <tr>\n",
       "      <th>std</th>\n",
       "      <td>23098.089693</td>\n",
       "      <td>94.530303</td>\n",
       "      <td>0.875033</td>\n",
       "      <td>0.335854</td>\n",
       "      <td>0.295162</td>\n",
       "      <td>0.440364</td>\n",
       "      <td>1.193313</td>\n",
       "      <td>1271.280361</td>\n",
       "      <td>2813.882586</td>\n",
       "      <td>2725.850958</td>\n",
       "      <td>...</td>\n",
       "      <td>0.434990</td>\n",
       "      <td>0.828222</td>\n",
       "      <td>0.492688</td>\n",
       "      <td>0.499807</td>\n",
       "      <td>1.228458</td>\n",
       "      <td>1.010980</td>\n",
       "      <td>0.506952</td>\n",
       "      <td>1.187739</td>\n",
       "      <td>0.944989</td>\n",
       "      <td>0.812142</td>\n",
       "    </tr>\n",
       "    <tr>\n",
       "      <th>min</th>\n",
       "      <td>230032.000000</td>\n",
       "      <td>1494.000000</td>\n",
       "      <td>0.000000</td>\n",
       "      <td>0.000000</td>\n",
       "      <td>0.000000</td>\n",
       "      <td>0.000000</td>\n",
       "      <td>0.000000</td>\n",
       "      <td>0.000000</td>\n",
       "      <td>0.000000</td>\n",
       "      <td>0.000000</td>\n",
       "      <td>...</td>\n",
       "      <td>0.000000</td>\n",
       "      <td>1.000000</td>\n",
       "      <td>0.000000</td>\n",
       "      <td>0.000000</td>\n",
       "      <td>1.000000</td>\n",
       "      <td>1.000000</td>\n",
       "      <td>1.000000</td>\n",
       "      <td>1.000000</td>\n",
       "      <td>1.000000</td>\n",
       "      <td>1.000000</td>\n",
       "    </tr>\n",
       "    <tr>\n",
       "      <th>25%</th>\n",
       "      <td>249624.500000</td>\n",
       "      <td>1684.000000</td>\n",
       "      <td>0.142450</td>\n",
       "      <td>0.000000</td>\n",
       "      <td>0.000000</td>\n",
       "      <td>0.000000</td>\n",
       "      <td>0.000000</td>\n",
       "      <td>923.000000</td>\n",
       "      <td>1338.000000</td>\n",
       "      <td>1095.000000</td>\n",
       "      <td>...</td>\n",
       "      <td>0.000000</td>\n",
       "      <td>1.000000</td>\n",
       "      <td>0.000000</td>\n",
       "      <td>0.000000</td>\n",
       "      <td>2.000000</td>\n",
       "      <td>2.000000</td>\n",
       "      <td>2.000000</td>\n",
       "      <td>2.000000</td>\n",
       "      <td>1.000000</td>\n",
       "      <td>1.000000</td>\n",
       "    </tr>\n",
       "    <tr>\n",
       "      <th>50%</th>\n",
       "      <td>269578.000000</td>\n",
       "      <td>1747.000000</td>\n",
       "      <td>0.555100</td>\n",
       "      <td>0.000000</td>\n",
       "      <td>0.000000</td>\n",
       "      <td>0.000000</td>\n",
       "      <td>0.000000</td>\n",
       "      <td>1637.000000</td>\n",
       "      <td>3163.000000</td>\n",
       "      <td>2677.000000</td>\n",
       "      <td>...</td>\n",
       "      <td>0.000000</td>\n",
       "      <td>2.000000</td>\n",
       "      <td>1.000000</td>\n",
       "      <td>0.000000</td>\n",
       "      <td>3.000000</td>\n",
       "      <td>3.000000</td>\n",
       "      <td>3.000000</td>\n",
       "      <td>3.000000</td>\n",
       "      <td>3.000000</td>\n",
       "      <td>2.000000</td>\n",
       "    </tr>\n",
       "    <tr>\n",
       "      <th>75%</th>\n",
       "      <td>289659.500000</td>\n",
       "      <td>1817.000000</td>\n",
       "      <td>1.170250</td>\n",
       "      <td>0.000000</td>\n",
       "      <td>0.000000</td>\n",
       "      <td>0.000000</td>\n",
       "      <td>1.000000</td>\n",
       "      <td>2334.000000</td>\n",
       "      <td>4532.000000</td>\n",
       "      <td>4471.000000</td>\n",
       "      <td>...</td>\n",
       "      <td>1.000000</td>\n",
       "      <td>3.000000</td>\n",
       "      <td>1.000000</td>\n",
       "      <td>1.000000</td>\n",
       "      <td>4.000000</td>\n",
       "      <td>4.000000</td>\n",
       "      <td>3.000000</td>\n",
       "      <td>4.000000</td>\n",
       "      <td>3.000000</td>\n",
       "      <td>3.000000</td>\n",
       "    </tr>\n",
       "    <tr>\n",
       "      <th>max</th>\n",
       "      <td>310031.000000</td>\n",
       "      <td>1950.000000</td>\n",
       "      <td>3.999600</td>\n",
       "      <td>1.000000</td>\n",
       "      <td>1.000000</td>\n",
       "      <td>2.000000</td>\n",
       "      <td>4.000000</td>\n",
       "      <td>16729.000000</td>\n",
       "      <td>24425.000000</td>\n",
       "      <td>22052.000000</td>\n",
       "      <td>...</td>\n",
       "      <td>1.000000</td>\n",
       "      <td>3.000000</td>\n",
       "      <td>1.000000</td>\n",
       "      <td>1.000000</td>\n",
       "      <td>5.000000</td>\n",
       "      <td>4.000000</td>\n",
       "      <td>3.000000</td>\n",
       "      <td>5.000000</td>\n",
       "      <td>4.000000</td>\n",
       "      <td>3.000000</td>\n",
       "    </tr>\n",
       "  </tbody>\n",
       "</table>\n",
       "<p>8 rows × 43 columns</p>\n",
       "</div>"
      ],
      "text/plain": [
       "       application_key         mvar1         mvar2         mvar4  \\\n",
       "count     71047.000000  71047.000000  71047.000000  71047.000000   \n",
       "mean     269691.997185   1750.801695      0.832720      0.129590   \n",
       "std       23098.089693     94.530303      0.875033      0.335854   \n",
       "min      230032.000000   1494.000000      0.000000      0.000000   \n",
       "25%      249624.500000   1684.000000      0.142450      0.000000   \n",
       "50%      269578.000000   1747.000000      0.555100      0.000000   \n",
       "75%      289659.500000   1817.000000      1.170250      0.000000   \n",
       "max      310031.000000   1950.000000      3.999600      1.000000   \n",
       "\n",
       "              mvar5        mvar18        mvar19        mvar25        mvar26  \\\n",
       "count  71047.000000  71047.000000  71047.000000  71047.000000  71047.000000   \n",
       "mean       0.096415      0.164806      0.787746   1804.273638   3467.456740   \n",
       "std        0.295162      0.440364      1.193313   1271.280361   2813.882586   \n",
       "min        0.000000      0.000000      0.000000      0.000000      0.000000   \n",
       "25%        0.000000      0.000000      0.000000    923.000000   1338.000000   \n",
       "50%        0.000000      0.000000      0.000000   1637.000000   3163.000000   \n",
       "75%        0.000000      0.000000      1.000000   2334.000000   4532.000000   \n",
       "max        1.000000      2.000000      4.000000  16729.000000  24425.000000   \n",
       "\n",
       "             mvar27      ...        binned_mvar7  binned_mvar9        mvar48  \\\n",
       "count  61639.000000      ...        71047.000000  71047.000000  71047.000000   \n",
       "mean    3195.792599      ...            0.253452      2.244345      0.585218   \n",
       "std     2725.850958      ...            0.434990      0.828222      0.492688   \n",
       "min        0.000000      ...            0.000000      1.000000      0.000000   \n",
       "25%     1095.000000      ...            0.000000      1.000000      0.000000   \n",
       "50%     2677.000000      ...            0.000000      2.000000      1.000000   \n",
       "75%     4471.000000      ...            1.000000      3.000000      1.000000   \n",
       "max    22052.000000      ...            1.000000      3.000000      1.000000   \n",
       "\n",
       "       binned_mvar10  binned_mvar12  binned_mvar13  binned_mvar14  \\\n",
       "count   71047.000000   71047.000000   71047.000000   71047.000000   \n",
       "mean        0.485974       3.427675       2.819598       2.718144   \n",
       "std         0.499807       1.228458       1.010980       0.506952   \n",
       "min         0.000000       1.000000       1.000000       1.000000   \n",
       "25%         0.000000       2.000000       2.000000       2.000000   \n",
       "50%         0.000000       3.000000       3.000000       3.000000   \n",
       "75%         1.000000       4.000000       4.000000       3.000000   \n",
       "max         1.000000       5.000000       4.000000       3.000000   \n",
       "\n",
       "       binned_mvar21  binned_mvar22  binned_mvar24  \n",
       "count   71047.000000   71047.000000   71047.000000  \n",
       "mean        2.711613       2.234732       1.896787  \n",
       "std         1.187739       0.944989       0.812142  \n",
       "min         1.000000       1.000000       1.000000  \n",
       "25%         2.000000       1.000000       1.000000  \n",
       "50%         3.000000       3.000000       2.000000  \n",
       "75%         4.000000       3.000000       3.000000  \n",
       "max         5.000000       4.000000       3.000000  \n",
       "\n",
       "[8 rows x 43 columns]"
      ]
     },
     "execution_count": 15092,
     "metadata": {},
     "output_type": "execute_result"
    }
   ],
   "source": [
    "df.describe()"
   ]
  },
  {
   "cell_type": "code",
   "execution_count": 15093,
   "metadata": {},
   "outputs": [],
   "source": [
    "df['mvar27'] = df['mvar27'].fillna(3108.832363)"
   ]
  },
  {
   "cell_type": "code",
   "execution_count": 15094,
   "metadata": {},
   "outputs": [
    {
     "name": "stdout",
     "output_type": "stream",
     "text": [
      "<class 'pandas.core.frame.DataFrame'>\n",
      "Int64Index: 71047 entries, 0 to 79999\n",
      "Data columns (total 43 columns):\n",
      "application_key    71047 non-null float64\n",
      "mvar1              71047 non-null float64\n",
      "mvar2              71047 non-null float64\n",
      "mvar4              71047 non-null float64\n",
      "mvar5              71047 non-null float64\n",
      "mvar18             71047 non-null float64\n",
      "mvar19             71047 non-null float64\n",
      "mvar25             71047 non-null float64\n",
      "mvar26             71047 non-null float64\n",
      "mvar27             71047 non-null float64\n",
      "mvar28             71047 non-null float64\n",
      "mvar29             71047 non-null float64\n",
      "mvar30             39883 non-null float64\n",
      "mvar31             21488 non-null float64\n",
      "mvar32             66312 non-null float64\n",
      "mvar33             69744 non-null float64\n",
      "mvar34             71047 non-null float64\n",
      "mvar35             42798 non-null float64\n",
      "mvar36             69305 non-null float64\n",
      "mvar37             66312 non-null float64\n",
      "mvar38             71047 non-null float64\n",
      "mvar39             68129 non-null float64\n",
      "mvar40             15709 non-null float64\n",
      "mvar41             23323 non-null float64\n",
      "mvar42             70372 non-null float64\n",
      "mvar43             70914 non-null float64\n",
      "mvar44             66684 non-null float64\n",
      "mvar45             33506 non-null float64\n",
      "mvar46             52492 non-null float64\n",
      "mvar47             71047 non-null float64\n",
      "default_ind        71047 non-null float64\n",
      "binned_mvar6       71047 non-null float64\n",
      "binned_mvar1       71047 non-null float64\n",
      "binned_mvar7       71047 non-null float64\n",
      "binned_mvar9       71047 non-null float64\n",
      "mvar48             71047 non-null float64\n",
      "binned_mvar10      71047 non-null float64\n",
      "binned_mvar12      71047 non-null float64\n",
      "binned_mvar13      71047 non-null float64\n",
      "binned_mvar14      71047 non-null float64\n",
      "binned_mvar21      71047 non-null float64\n",
      "binned_mvar22      71047 non-null float64\n",
      "binned_mvar24      71047 non-null float64\n",
      "dtypes: float64(43)\n",
      "memory usage: 23.9 MB\n"
     ]
    }
   ],
   "source": [
    "df.info()"
   ]
  },
  {
   "cell_type": "code",
   "execution_count": 15095,
   "metadata": {},
   "outputs": [
    {
     "name": "stderr",
     "output_type": "stream",
     "text": [
      "C:\\Users\\Chirag Garg\\Anaconda3\\lib\\site-packages\\matplotlib\\axes\\_axes.py:6462: UserWarning: The 'normed' kwarg is deprecated, and has been replaced by the 'density' kwarg.\n",
      "  warnings.warn(\"The 'normed' kwarg is deprecated, and has been \"\n"
     ]
    },
    {
     "data": {
      "text/plain": [
       "<matplotlib.axes._subplots.AxesSubplot at 0x1702d1c0ba8>"
      ]
     },
     "execution_count": 15095,
     "metadata": {},
     "output_type": "execute_result"
    },
    {
     "data": {
      "image/png": "[encoded data removed]",
      "text/plain": [
       "<Figure size 432x288 with 1 Axes>"
      ]
     },
     "metadata": {},
     "output_type": "display_data"
    }
   ],
   "source": [
    "df15 = df[df['mvar30'].notnull()]\n",
    "sns.distplot(df15['mvar30'])"
   ]
  },
  {
   "cell_type": "code",
   "execution_count": 15096,
   "metadata": {},
   "outputs": [
    {
     "data": {
      "text/plain": [
       "count    39883.000000\n",
       "mean      2637.460046\n",
       "std       1565.175700\n",
       "min          0.000000\n",
       "25%       1156.000000\n",
       "50%       2859.000000\n",
       "75%       3893.000000\n",
       "max      12775.000000\n",
       "Name: mvar30, dtype: float64"
      ]
     },
     "execution_count": 15096,
     "metadata": {},
     "output_type": "execute_result"
    }
   ],
   "source": [
    "df['mvar30'].describe()"
   ]
  },
  {
   "cell_type": "code",
   "execution_count": 15097,
   "metadata": {},
   "outputs": [
    {
     "name": "stdout",
     "output_type": "stream",
     "text": [
      "<class 'pandas.core.frame.DataFrame'>\n",
      "Int64Index: 71047 entries, 0 to 79999\n",
      "Data columns (total 43 columns):\n",
      "application_key    71047 non-null float64\n",
      "mvar1              71047 non-null float64\n",
      "mvar2              71047 non-null float64\n",
      "mvar4              71047 non-null float64\n",
      "mvar5              71047 non-null float64\n",
      "mvar18             71047 non-null float64\n",
      "mvar19             71047 non-null float64\n",
      "mvar25             71047 non-null float64\n",
      "mvar26             71047 non-null float64\n",
      "mvar27             71047 non-null float64\n",
      "mvar28             71047 non-null float64\n",
      "mvar29             71047 non-null float64\n",
      "mvar30             39883 non-null float64\n",
      "mvar31             21488 non-null float64\n",
      "mvar32             66312 non-null float64\n",
      "mvar33             69744 non-null float64\n",
      "mvar34             71047 non-null float64\n",
      "mvar35             42798 non-null float64\n",
      "mvar36             69305 non-null float64\n",
      "mvar37             66312 non-null float64\n",
      "mvar38             71047 non-null float64\n",
      "mvar39             68129 non-null float64\n",
      "mvar40             15709 non-null float64\n",
      "mvar41             23323 non-null float64\n",
      "mvar42             70372 non-null float64\n",
      "mvar43             70914 non-null float64\n",
      "mvar44             66684 non-null float64\n",
      "mvar45             33506 non-null float64\n",
      "mvar46             52492 non-null float64\n",
      "mvar47             71047 non-null float64\n",
      "default_ind        71047 non-null float64\n",
      "binned_mvar6       71047 non-null float64\n",
      "binned_mvar1       71047 non-null float64\n",
      "binned_mvar7       71047 non-null float64\n",
      "binned_mvar9       71047 non-null float64\n",
      "mvar48             71047 non-null float64\n",
      "binned_mvar10      71047 non-null float64\n",
      "binned_mvar12      71047 non-null float64\n",
      "binned_mvar13      71047 non-null float64\n",
      "binned_mvar14      71047 non-null float64\n",
      "binned_mvar21      71047 non-null float64\n",
      "binned_mvar22      71047 non-null float64\n",
      "binned_mvar24      71047 non-null float64\n",
      "dtypes: float64(43)\n",
      "memory usage: 23.9 MB\n"
     ]
    }
   ],
   "source": [
    "df.info()"
   ]
  },
  {
   "cell_type": "code",
   "execution_count": 15098,
   "metadata": {},
   "outputs": [
    {
     "name": "stderr",
     "output_type": "stream",
     "text": [
      "C:\\Users\\Chirag Garg\\Anaconda3\\lib\\site-packages\\matplotlib\\axes\\_axes.py:6462: UserWarning: The 'normed' kwarg is deprecated, and has been replaced by the 'density' kwarg.\n",
      "  warnings.warn(\"The 'normed' kwarg is deprecated, and has been \"\n"
     ]
    },
    {
     "data": {
      "text/plain": [
       "<matplotlib.axes._subplots.AxesSubplot at 0x170170dea90>"
      ]
     },
     "execution_count": 15098,
     "metadata": {},
     "output_type": "execute_result"
    },
    {
     "data": {
      "image/png": "[encoded data removed]",
      "text/plain": [
       "<Figure size 432x288 with 1 Axes>"
      ]
     },
     "metadata": {},
     "output_type": "display_data"
    }
   ],
   "source": [
    "df15 = df[df['mvar31'].notnull()]\n",
    "sns.distplot(df15['mvar31'])"
   ]
  },
  {
   "cell_type": "code",
   "execution_count": 15099,
   "metadata": {},
   "outputs": [
    {
     "data": {
      "text/plain": [
       "count    21488.000000\n",
       "mean      3643.875372\n",
       "std       2031.597846\n",
       "min          0.000000\n",
       "25%       2099.000000\n",
       "50%       3559.000000\n",
       "75%       4745.000000\n",
       "max      15695.000000\n",
       "Name: mvar31, dtype: float64"
      ]
     },
     "execution_count": 15099,
     "metadata": {},
     "output_type": "execute_result"
    }
   ],
   "source": [
    "\n",
    "\n",
    "\n",
    "\n",
    "\n",
    "df['mvar31'].describe()"
   ]
  },
  {
   "cell_type": "code",
   "execution_count": 15100,
   "metadata": {},
   "outputs": [],
   "source": [
    "df.drop(['mvar30','mvar31'],axis=1,inplace=True)"
   ]
  },
  {
   "cell_type": "code",
   "execution_count": 15101,
   "metadata": {},
   "outputs": [],
   "source": [
    "dframe = df[['mvar25','mvar26','mvar27','mvar28','mvar29']]"
   ]
  },
  {
   "cell_type": "code",
   "execution_count": 15102,
   "metadata": {},
   "outputs": [
    {
     "name": "stderr",
     "output_type": "stream",
     "text": [
      "C:\\Users\\Chirag Garg\\Anaconda3\\lib\\site-packages\\IPython\\core\\displayhook.py:271: UserWarning: Output cache limit (currently 1000 entries) hit.\n",
      "Flushing oldest 200 entries.\n",
      "  'Flushing oldest {cull_count} entries.'.format(sz=sz, cull_count=cull_count))\n"
     ]
    },
    {
     "data": {
      "text/html": [
       "<div>\n",
       "<style scoped>\n",
       "    .dataframe tbody tr th:only-of-type {\n",
       "        vertical-align: middle;\n",
       "    }\n",
       "\n",
       "    .dataframe tbody tr th {\n",
       "        vertical-align: top;\n",
       "    }\n",
       "\n",
       "    .dataframe thead th {\n",
       "        text-align: right;\n",
       "    }\n",
       "</style>\n",
       "<table border=\"1\" class=\"dataframe\">\n",
       "  <thead>\n",
       "    <tr style=\"text-align: right;\">\n",
       "      <th></th>\n",
       "      <th>mvar25</th>\n",
       "      <th>mvar26</th>\n",
       "      <th>mvar27</th>\n",
       "      <th>mvar28</th>\n",
       "      <th>mvar29</th>\n",
       "    </tr>\n",
       "  </thead>\n",
       "  <tbody>\n",
       "    <tr>\n",
       "      <th>mvar25</th>\n",
       "      <td>1.000000</td>\n",
       "      <td>0.678575</td>\n",
       "      <td>0.714216</td>\n",
       "      <td>0.164036</td>\n",
       "      <td>0.634209</td>\n",
       "    </tr>\n",
       "    <tr>\n",
       "      <th>mvar26</th>\n",
       "      <td>0.678575</td>\n",
       "      <td>1.000000</td>\n",
       "      <td>0.898095</td>\n",
       "      <td>0.180643</td>\n",
       "      <td>0.643579</td>\n",
       "    </tr>\n",
       "    <tr>\n",
       "      <th>mvar27</th>\n",
       "      <td>0.714216</td>\n",
       "      <td>0.898095</td>\n",
       "      <td>1.000000</td>\n",
       "      <td>0.190536</td>\n",
       "      <td>0.579153</td>\n",
       "    </tr>\n",
       "    <tr>\n",
       "      <th>mvar28</th>\n",
       "      <td>0.164036</td>\n",
       "      <td>0.180643</td>\n",
       "      <td>0.190536</td>\n",
       "      <td>1.000000</td>\n",
       "      <td>0.116745</td>\n",
       "    </tr>\n",
       "    <tr>\n",
       "      <th>mvar29</th>\n",
       "      <td>0.634209</td>\n",
       "      <td>0.643579</td>\n",
       "      <td>0.579153</td>\n",
       "      <td>0.116745</td>\n",
       "      <td>1.000000</td>\n",
       "    </tr>\n",
       "  </tbody>\n",
       "</table>\n",
       "</div>"
      ],
      "text/plain": [
       "          mvar25    mvar26    mvar27    mvar28    mvar29\n",
       "mvar25  1.000000  0.678575  0.714216  0.164036  0.634209\n",
       "mvar26  0.678575  1.000000  0.898095  0.180643  0.643579\n",
       "mvar27  0.714216  0.898095  1.000000  0.190536  0.579153\n",
       "mvar28  0.164036  0.180643  0.190536  1.000000  0.116745\n",
       "mvar29  0.634209  0.643579  0.579153  0.116745  1.000000"
      ]
     },
     "execution_count": 15102,
     "metadata": {},
     "output_type": "execute_result"
    }
   ],
   "source": [
    "dframe.corr()"
   ]
  },
  {
   "cell_type": "code",
   "execution_count": 15103,
   "metadata": {},
   "outputs": [],
   "source": [
    "df.drop(['mvar26'],axis=1,inplace=True)"
   ]
  },
  {
   "cell_type": "code",
   "execution_count": 15104,
   "metadata": {},
   "outputs": [],
   "source": [
    "df.drop(['mvar27'],axis=1,inplace=True)"
   ]
  },
  {
   "cell_type": "code",
   "execution_count": 15105,
   "metadata": {},
   "outputs": [
    {
     "name": "stdout",
     "output_type": "stream",
     "text": [
      "<class 'pandas.core.frame.DataFrame'>\n",
      "Int64Index: 71047 entries, 0 to 79999\n",
      "Data columns (total 39 columns):\n",
      "application_key    71047 non-null float64\n",
      "mvar1              71047 non-null float64\n",
      "mvar2              71047 non-null float64\n",
      "mvar4              71047 non-null float64\n",
      "mvar5              71047 non-null float64\n",
      "mvar18             71047 non-null float64\n",
      "mvar19             71047 non-null float64\n",
      "mvar25             71047 non-null float64\n",
      "mvar28             71047 non-null float64\n",
      "mvar29             71047 non-null float64\n",
      "mvar32             66312 non-null float64\n",
      "mvar33             69744 non-null float64\n",
      "mvar34             71047 non-null float64\n",
      "mvar35             42798 non-null float64\n",
      "mvar36             69305 non-null float64\n",
      "mvar37             66312 non-null float64\n",
      "mvar38             71047 non-null float64\n",
      "mvar39             68129 non-null float64\n",
      "mvar40             15709 non-null float64\n",
      "mvar41             23323 non-null float64\n",
      "mvar42             70372 non-null float64\n",
      "mvar43             70914 non-null float64\n",
      "mvar44             66684 non-null float64\n",
      "mvar45             33506 non-null float64\n",
      "mvar46             52492 non-null float64\n",
      "mvar47             71047 non-null float64\n",
      "default_ind        71047 non-null float64\n",
      "binned_mvar6       71047 non-null float64\n",
      "binned_mvar1       71047 non-null float64\n",
      "binned_mvar7       71047 non-null float64\n",
      "binned_mvar9       71047 non-null float64\n",
      "mvar48             71047 non-null float64\n",
      "binned_mvar10      71047 non-null float64\n",
      "binned_mvar12      71047 non-null float64\n",
      "binned_mvar13      71047 non-null float64\n",
      "binned_mvar14      71047 non-null float64\n",
      "binned_mvar21      71047 non-null float64\n",
      "binned_mvar22      71047 non-null float64\n",
      "binned_mvar24      71047 non-null float64\n",
      "dtypes: float64(39)\n",
      "memory usage: 21.7 MB\n"
     ]
    }
   ],
   "source": [
    "df.info()"
   ]
  },
  {
   "cell_type": "code",
   "execution_count": 15106,
   "metadata": {},
   "outputs": [
    {
     "data": {
      "text/plain": [
       "0.0    55586\n",
       "1.0    15461\n",
       "Name: default_ind, dtype: int64"
      ]
     },
     "execution_count": 15106,
     "metadata": {},
     "output_type": "execute_result"
    }
   ],
   "source": [
    "df['default_ind'].value_counts()"
   ]
  },
  {
   "cell_type": "code",
   "execution_count": 15107,
   "metadata": {},
   "outputs": [
    {
     "data": {
      "text/plain": [
       "0.0    53116\n",
       "1.0    13195\n",
       "Name: default_ind, dtype: int64"
      ]
     },
     "execution_count": 15107,
     "metadata": {},
     "output_type": "execute_result"
    }
   ],
   "source": [
    "col = df[df['mvar32']<10653.000000]\n",
    "col['default_ind'].value_counts()"
   ]
  },
  {
   "cell_type": "code",
   "execution_count": 15108,
   "metadata": {},
   "outputs": [],
   "source": [
    "bins = [-1,102.000000,307.000000,10653.000000]\n",
    "labels = [1,2,3]\n",
    "df['binned_mvar32'] = pd.cut(df['mvar32'], bins=bins, labels=labels)"
   ]
  },
  {
   "cell_type": "code",
   "execution_count": 15109,
   "metadata": {},
   "outputs": [
    {
     "data": {
      "text/plain": [
       "3    33964\n",
       "2    16300\n",
       "1    16048\n",
       "Name: binned_mvar32, dtype: int64"
      ]
     },
     "execution_count": 15109,
     "metadata": {},
     "output_type": "execute_result"
    }
   ],
   "source": [
    "df['binned_mvar32'].value_counts()"
   ]
  },
  {
   "cell_type": "code",
   "execution_count": 15110,
   "metadata": {},
   "outputs": [
    {
     "name": "stdout",
     "output_type": "stream",
     "text": [
      "nan\n",
      "<class 'numpy.ndarray'>\n"
     ]
    }
   ],
   "source": [
    "arr=np.array(df['binned_mvar32'].tolist())\n",
    "import random\n",
    "print (np.nan)\n",
    "print (type(arr))\n",
    "for i in range (len(arr)):\n",
    "    if np.isnan(arr[i]):\n",
    "        arr[i]=random.randint(1,1)\n",
    "df['binned_mvar32']=arr"
   ]
  },
  {
   "cell_type": "code",
   "execution_count": 15111,
   "metadata": {},
   "outputs": [
    {
     "data": {
      "text/plain": [
       "count    69744.000000\n",
       "mean         7.264857\n",
       "std          7.772359\n",
       "min          0.083300\n",
       "25%          1.333300\n",
       "50%          4.166700\n",
       "75%         11.000000\n",
       "max         76.000000\n",
       "Name: mvar33, dtype: float64"
      ]
     },
     "execution_count": 15111,
     "metadata": {},
     "output_type": "execute_result"
    }
   ],
   "source": [
    "df['mvar33'].describe()"
   ]
  },
  {
   "cell_type": "code",
   "execution_count": 15112,
   "metadata": {},
   "outputs": [
    {
     "data": {
      "text/plain": [
       "0.0    39073\n",
       "1.0    12594\n",
       "Name: default_ind, dtype: int64"
      ]
     },
     "execution_count": 15112,
     "metadata": {},
     "output_type": "execute_result"
    }
   ],
   "source": [
    "col = df[df['mvar33']<10.750000]\n",
    "col['default_ind'].value_counts()"
   ]
  },
  {
   "cell_type": "code",
   "execution_count": 15113,
   "metadata": {},
   "outputs": [],
   "source": [
    "bins = [-1,1.250000,3,10.750000,76.000000]\n",
    "labels = [1,2,3,4]\n",
    "df['binned_mvar33'] = pd.cut(df['mvar33'], bins=bins, labels=labels)"
   ]
  },
  {
   "cell_type": "code",
   "execution_count": 15114,
   "metadata": {},
   "outputs": [
    {
     "name": "stdout",
     "output_type": "stream",
     "text": [
      "nan\n",
      "<class 'numpy.ndarray'>\n"
     ]
    }
   ],
   "source": [
    "arr=np.array(df['binned_mvar33'].tolist())\n",
    "import random\n",
    "print (np.nan)\n",
    "print (type(arr))\n",
    "for i in range (len(arr)):\n",
    "    if np.isnan(arr[i]):\n",
    "        arr[i]=random.randint(3,3)\n",
    "df['binned_mvar33']=arr"
   ]
  },
  {
   "cell_type": "code",
   "execution_count": 15115,
   "metadata": {},
   "outputs": [
    {
     "name": "stdout",
     "output_type": "stream",
     "text": [
      "<class 'pandas.core.frame.DataFrame'>\n",
      "Int64Index: 71047 entries, 0 to 79999\n",
      "Data columns (total 41 columns):\n",
      "application_key    71047 non-null float64\n",
      "mvar1              71047 non-null float64\n",
      "mvar2              71047 non-null float64\n",
      "mvar4              71047 non-null float64\n",
      "mvar5              71047 non-null float64\n",
      "mvar18             71047 non-null float64\n",
      "mvar19             71047 non-null float64\n",
      "mvar25             71047 non-null float64\n",
      "mvar28             71047 non-null float64\n",
      "mvar29             71047 non-null float64\n",
      "mvar32             66312 non-null float64\n",
      "mvar33             69744 non-null float64\n",
      "mvar34             71047 non-null float64\n",
      "mvar35             42798 non-null float64\n",
      "mvar36             69305 non-null float64\n",
      "mvar37             66312 non-null float64\n",
      "mvar38             71047 non-null float64\n",
      "mvar39             68129 non-null float64\n",
      "mvar40             15709 non-null float64\n",
      "mvar41             23323 non-null float64\n",
      "mvar42             70372 non-null float64\n",
      "mvar43             70914 non-null float64\n",
      "mvar44             66684 non-null float64\n",
      "mvar45             33506 non-null float64\n",
      "mvar46             52492 non-null float64\n",
      "mvar47             71047 non-null float64\n",
      "default_ind        71047 non-null float64\n",
      "binned_mvar6       71047 non-null float64\n",
      "binned_mvar1       71047 non-null float64\n",
      "binned_mvar7       71047 non-null float64\n",
      "binned_mvar9       71047 non-null float64\n",
      "mvar48             71047 non-null float64\n",
      "binned_mvar10      71047 non-null float64\n",
      "binned_mvar12      71047 non-null float64\n",
      "binned_mvar13      71047 non-null float64\n",
      "binned_mvar14      71047 non-null float64\n",
      "binned_mvar21      71047 non-null float64\n",
      "binned_mvar22      71047 non-null float64\n",
      "binned_mvar24      71047 non-null float64\n",
      "binned_mvar32      71047 non-null float64\n",
      "binned_mvar33      71047 non-null float64\n",
      "dtypes: float64(41)\n",
      "memory usage: 22.8 MB\n"
     ]
    }
   ],
   "source": [
    "df.info()"
   ]
  },
  {
   "cell_type": "code",
   "execution_count": 15116,
   "metadata": {},
   "outputs": [
    {
     "data": {
      "text/html": [
       "<div>\n",
       "<style scoped>\n",
       "    .dataframe tbody tr th:only-of-type {\n",
       "        vertical-align: middle;\n",
       "    }\n",
       "\n",
       "    .dataframe tbody tr th {\n",
       "        vertical-align: top;\n",
       "    }\n",
       "\n",
       "    .dataframe thead th {\n",
       "        text-align: right;\n",
       "    }\n",
       "</style>\n",
       "<table border=\"1\" class=\"dataframe\">\n",
       "  <thead>\n",
       "    <tr style=\"text-align: right;\">\n",
       "      <th></th>\n",
       "      <th>mvar32</th>\n",
       "      <th>mvar33</th>\n",
       "      <th>binned_mvar32</th>\n",
       "      <th>binned_mvar33</th>\n",
       "      <th>default_ind</th>\n",
       "    </tr>\n",
       "  </thead>\n",
       "  <tbody>\n",
       "    <tr>\n",
       "      <th>mvar32</th>\n",
       "      <td>1.000000</td>\n",
       "      <td>0.325735</td>\n",
       "      <td>0.654973</td>\n",
       "      <td>0.277311</td>\n",
       "      <td>-0.214812</td>\n",
       "    </tr>\n",
       "    <tr>\n",
       "      <th>mvar33</th>\n",
       "      <td>0.325735</td>\n",
       "      <td>1.000000</td>\n",
       "      <td>0.281332</td>\n",
       "      <td>0.814116</td>\n",
       "      <td>-0.135698</td>\n",
       "    </tr>\n",
       "    <tr>\n",
       "      <th>binned_mvar32</th>\n",
       "      <td>0.654973</td>\n",
       "      <td>0.281332</td>\n",
       "      <td>1.000000</td>\n",
       "      <td>0.279065</td>\n",
       "      <td>-0.290719</td>\n",
       "    </tr>\n",
       "    <tr>\n",
       "      <th>binned_mvar33</th>\n",
       "      <td>0.277311</td>\n",
       "      <td>0.814116</td>\n",
       "      <td>0.279065</td>\n",
       "      <td>1.000000</td>\n",
       "      <td>-0.139182</td>\n",
       "    </tr>\n",
       "    <tr>\n",
       "      <th>default_ind</th>\n",
       "      <td>-0.214812</td>\n",
       "      <td>-0.135698</td>\n",
       "      <td>-0.290719</td>\n",
       "      <td>-0.139182</td>\n",
       "      <td>1.000000</td>\n",
       "    </tr>\n",
       "  </tbody>\n",
       "</table>\n",
       "</div>"
      ],
      "text/plain": [
       "                 mvar32    mvar33  binned_mvar32  binned_mvar33  default_ind\n",
       "mvar32         1.000000  0.325735       0.654973       0.277311    -0.214812\n",
       "mvar33         0.325735  1.000000       0.281332       0.814116    -0.135698\n",
       "binned_mvar32  0.654973  0.281332       1.000000       0.279065    -0.290719\n",
       "binned_mvar33  0.277311  0.814116       0.279065       1.000000    -0.139182\n",
       "default_ind   -0.214812 -0.135698      -0.290719      -0.139182     1.000000"
      ]
     },
     "execution_count": 15116,
     "metadata": {},
     "output_type": "execute_result"
    }
   ],
   "source": [
    "df[['mvar32','mvar33','binned_mvar32','binned_mvar33','default_ind']].corr()"
   ]
  },
  {
   "cell_type": "code",
   "execution_count": 15117,
   "metadata": {},
   "outputs": [],
   "source": [
    "dframe = df[['mvar34','mvar35','default_ind']]"
   ]
  },
  {
   "cell_type": "code",
   "execution_count": 15118,
   "metadata": {},
   "outputs": [
    {
     "data": {
      "text/html": [
       "<div>\n",
       "<style scoped>\n",
       "    .dataframe tbody tr th:only-of-type {\n",
       "        vertical-align: middle;\n",
       "    }\n",
       "\n",
       "    .dataframe tbody tr th {\n",
       "        vertical-align: top;\n",
       "    }\n",
       "\n",
       "    .dataframe thead th {\n",
       "        text-align: right;\n",
       "    }\n",
       "</style>\n",
       "<table border=\"1\" class=\"dataframe\">\n",
       "  <thead>\n",
       "    <tr style=\"text-align: right;\">\n",
       "      <th></th>\n",
       "      <th>mvar34</th>\n",
       "      <th>mvar35</th>\n",
       "      <th>default_ind</th>\n",
       "    </tr>\n",
       "  </thead>\n",
       "  <tbody>\n",
       "    <tr>\n",
       "      <th>mvar34</th>\n",
       "      <td>1.000000</td>\n",
       "      <td>0.355084</td>\n",
       "      <td>0.143161</td>\n",
       "    </tr>\n",
       "    <tr>\n",
       "      <th>mvar35</th>\n",
       "      <td>0.355084</td>\n",
       "      <td>1.000000</td>\n",
       "      <td>0.248431</td>\n",
       "    </tr>\n",
       "    <tr>\n",
       "      <th>default_ind</th>\n",
       "      <td>0.143161</td>\n",
       "      <td>0.248431</td>\n",
       "      <td>1.000000</td>\n",
       "    </tr>\n",
       "  </tbody>\n",
       "</table>\n",
       "</div>"
      ],
      "text/plain": [
       "               mvar34    mvar35  default_ind\n",
       "mvar34       1.000000  0.355084     0.143161\n",
       "mvar35       0.355084  1.000000     0.248431\n",
       "default_ind  0.143161  0.248431     1.000000"
      ]
     },
     "execution_count": 15118,
     "metadata": {},
     "output_type": "execute_result"
    }
   ],
   "source": [
    "dframe.corr()"
   ]
  },
  {
   "cell_type": "code",
   "execution_count": 15119,
   "metadata": {},
   "outputs": [
    {
     "data": {
      "text/plain": [
       "count    71047.000000\n",
       "mean         0.214013\n",
       "std          0.616686\n",
       "min          0.000000\n",
       "25%          0.000000\n",
       "50%          0.000000\n",
       "75%          0.000000\n",
       "max         21.000000\n",
       "Name: mvar34, dtype: float64"
      ]
     },
     "execution_count": 15119,
     "metadata": {},
     "output_type": "execute_result"
    }
   ],
   "source": [
    "df['mvar34'].describe()"
   ]
  },
  {
   "cell_type": "code",
   "execution_count": 15120,
   "metadata": {},
   "outputs": [
    {
     "data": {
      "text/plain": [
       "0.0    310\n",
       "1.0    289\n",
       "Name: default_ind, dtype: int64"
      ]
     },
     "execution_count": 15120,
     "metadata": {},
     "output_type": "execute_result"
    }
   ],
   "source": [
    "col = df[df['mvar34']==3]\n",
    "col['default_ind'].value_counts()"
   ]
  },
  {
   "cell_type": "code",
   "execution_count": 15121,
   "metadata": {},
   "outputs": [],
   "source": [
    "df = df[df['mvar34']<3]"
   ]
  },
  {
   "cell_type": "code",
   "execution_count": 15122,
   "metadata": {},
   "outputs": [],
   "source": [
    "df['mvar34'] = df['mvar34'].replace([0,1,2,3,4,5,6,7,8,9,10,11,12,13,14,15,16,17,18,19,20,21],[0,1,2,3,3,3,3,3,3,3,3,3,3,3,3,3,3,3,3,3,3,3])"
   ]
  },
  {
   "cell_type": "code",
   "execution_count": 15123,
   "metadata": {},
   "outputs": [
    {
     "data": {
      "text/plain": [
       "0.0    36911\n",
       "1.0     4178\n",
       "2.0      820\n",
       "3.0      197\n",
       "4.0       66\n",
       "5.0       20\n",
       "6.0        9\n",
       "7.0        3\n",
       "Name: mvar35, dtype: int64"
      ]
     },
     "execution_count": 15123,
     "metadata": {},
     "output_type": "execute_result"
    }
   ],
   "source": [
    "df['mvar35'].value_counts()"
   ]
  },
  {
   "cell_type": "code",
   "execution_count": 15124,
   "metadata": {},
   "outputs": [],
   "source": [
    "df.drop('mvar35',axis=1,inplace=True)"
   ]
  },
  {
   "cell_type": "code",
   "execution_count": 15125,
   "metadata": {},
   "outputs": [
    {
     "data": {
      "text/plain": [
       "count    68414.000000\n",
       "mean         6.218932\n",
       "std          5.020707\n",
       "min          1.000000\n",
       "25%          3.000000\n",
       "50%          5.000000\n",
       "75%          8.000000\n",
       "max        100.000000\n",
       "Name: mvar36, dtype: float64"
      ]
     },
     "execution_count": 15125,
     "metadata": {},
     "output_type": "execute_result"
    }
   ],
   "source": [
    "df['mvar36'].describe()"
   ]
  },
  {
   "cell_type": "code",
   "execution_count": 15126,
   "metadata": {},
   "outputs": [
    {
     "data": {
      "text/plain": [
       "0.0    181\n",
       "1.0    114\n",
       "Name: default_ind, dtype: int64"
      ]
     },
     "execution_count": 15126,
     "metadata": {},
     "output_type": "execute_result"
    }
   ],
   "source": [
    "col = df[df['mvar36']==20]\n",
    "col['default_ind'].value_counts()"
   ]
  },
  {
   "cell_type": "code",
   "execution_count": 15127,
   "metadata": {},
   "outputs": [],
   "source": [
    "df['mvar36'] = df['mvar36'].replace([1,2],[1,1])"
   ]
  },
  {
   "cell_type": "code",
   "execution_count": 15128,
   "metadata": {},
   "outputs": [],
   "source": [
    "df['mvar36'] = df['mvar36'].replace([3,4,5,6,7,8,9],[2,3,4,5,6,7,8])"
   ]
  },
  {
   "cell_type": "code",
   "execution_count": 15129,
   "metadata": {},
   "outputs": [],
   "source": [
    "df['mvar36'] = df['mvar36'].replace([10,11,12,13],[9,9,9,9])"
   ]
  },
  {
   "cell_type": "code",
   "execution_count": 15130,
   "metadata": {},
   "outputs": [],
   "source": [
    "df['mvar36'] = df['mvar36'].replace([14,15,16,17,18,19,20],[10,10,10,10,11,11,11])"
   ]
  },
  {
   "cell_type": "code",
   "execution_count": 15131,
   "metadata": {},
   "outputs": [
    {
     "name": "stdout",
     "output_type": "stream",
     "text": [
      "nan\n",
      "<class 'numpy.ndarray'>\n"
     ]
    }
   ],
   "source": [
    "arr=np.array(df['mvar36'].tolist())\n",
    "import random\n",
    "print (np.nan)\n",
    "print (type(arr))\n",
    "for i in range (len(arr)):\n",
    "    if arr[i]>20:\n",
    "        arr[i]=12\n",
    "df['mvar36']=arr\n",
    "    "
   ]
  },
  {
   "cell_type": "code",
   "execution_count": 15132,
   "metadata": {},
   "outputs": [
    {
     "name": "stdout",
     "output_type": "stream",
     "text": [
      "nan\n",
      "<class 'numpy.ndarray'>\n"
     ]
    }
   ],
   "source": [
    "arr=np.array(df['mvar36'].tolist())\n",
    "import random\n",
    "print (np.nan)\n",
    "print (type(arr))\n",
    "for i in range (len(arr)):\n",
    "    if np.isnan(arr[i]):\n",
    "        arr[i]=random.randint(1,3)\n",
    "df['mvar36']=arr"
   ]
  },
  {
   "cell_type": "code",
   "execution_count": 15133,
   "metadata": {},
   "outputs": [
    {
     "data": {
      "text/plain": [
       "1.0     14285\n",
       "2.0      9197\n",
       "3.0      9135\n",
       "4.0      7369\n",
       "9.0      6848\n",
       "5.0      6090\n",
       "6.0      5038\n",
       "7.0      3943\n",
       "8.0      3038\n",
       "10.0     2799\n",
       "12.0     1396\n",
       "11.0     1018\n",
       "Name: mvar36, dtype: int64"
      ]
     },
     "execution_count": 15133,
     "metadata": {},
     "output_type": "execute_result"
    }
   ],
   "source": [
    "df['mvar36'].value_counts()"
   ]
  },
  {
   "cell_type": "code",
   "execution_count": 15134,
   "metadata": {},
   "outputs": [],
   "source": [
    "df.drop(['mvar32','mvar33'],axis=1,inplace=True)"
   ]
  },
  {
   "cell_type": "code",
   "execution_count": 15135,
   "metadata": {},
   "outputs": [
    {
     "data": {
      "text/plain": [
       "count    65448.000000\n",
       "mean         4.406659\n",
       "std          4.735086\n",
       "min          0.000000\n",
       "25%          1.000000\n",
       "50%          3.000000\n",
       "75%          7.000000\n",
       "max         60.000000\n",
       "Name: mvar37, dtype: float64"
      ]
     },
     "execution_count": 15135,
     "metadata": {},
     "output_type": "execute_result"
    }
   ],
   "source": [
    "df['mvar37'].describe()"
   ]
  },
  {
   "cell_type": "code",
   "execution_count": 15136,
   "metadata": {},
   "outputs": [
    {
     "data": {
      "text/plain": [
       "0.0    9068\n",
       "1.0    4739\n",
       "Name: default_ind, dtype: int64"
      ]
     },
     "execution_count": 15136,
     "metadata": {},
     "output_type": "execute_result"
    }
   ],
   "source": [
    "col = df[df['mvar37']==0]\n",
    "col['default_ind'].value_counts()"
   ]
  },
  {
   "cell_type": "code",
   "execution_count": 15137,
   "metadata": {},
   "outputs": [
    {
     "data": {
      "text/html": [
       "<div>\n",
       "<style scoped>\n",
       "    .dataframe tbody tr th:only-of-type {\n",
       "        vertical-align: middle;\n",
       "    }\n",
       "\n",
       "    .dataframe tbody tr th {\n",
       "        vertical-align: top;\n",
       "    }\n",
       "\n",
       "    .dataframe thead th {\n",
       "        text-align: right;\n",
       "    }\n",
       "</style>\n",
       "<table border=\"1\" class=\"dataframe\">\n",
       "  <thead>\n",
       "    <tr style=\"text-align: right;\">\n",
       "      <th></th>\n",
       "      <th>mvar37</th>\n",
       "      <th>default_ind</th>\n",
       "    </tr>\n",
       "  </thead>\n",
       "  <tbody>\n",
       "    <tr>\n",
       "      <th>mvar37</th>\n",
       "      <td>1.000000</td>\n",
       "      <td>-0.206044</td>\n",
       "    </tr>\n",
       "    <tr>\n",
       "      <th>default_ind</th>\n",
       "      <td>-0.206044</td>\n",
       "      <td>1.000000</td>\n",
       "    </tr>\n",
       "  </tbody>\n",
       "</table>\n",
       "</div>"
      ],
      "text/plain": [
       "               mvar37  default_ind\n",
       "mvar37       1.000000    -0.206044\n",
       "default_ind -0.206044     1.000000"
      ]
     },
     "execution_count": 15137,
     "metadata": {},
     "output_type": "execute_result"
    }
   ],
   "source": [
    "df[['mvar37','default_ind']].corr()"
   ]
  },
  {
   "cell_type": "code",
   "execution_count": 15138,
   "metadata": {},
   "outputs": [
    {
     "name": "stdout",
     "output_type": "stream",
     "text": [
      "nan\n",
      "<class 'numpy.ndarray'>\n"
     ]
    }
   ],
   "source": [
    "arr=np.array(df['mvar37'].tolist())\n",
    "import random\n",
    "print (np.nan)\n",
    "print (type(arr))\n",
    "for i in range (len(arr)):\n",
    "    if arr[i]>4:\n",
    "        arr[i]=7\n",
    "df['mvar37']=arr"
   ]
  },
  {
   "cell_type": "code",
   "execution_count": 15139,
   "metadata": {},
   "outputs": [
    {
     "name": "stdout",
     "output_type": "stream",
     "text": [
      "nan\n",
      "<class 'numpy.ndarray'>\n"
     ]
    }
   ],
   "source": [
    "arr=np.array(df['mvar37'].tolist())\n",
    "import random\n",
    "print (np.nan)\n",
    "print (type(arr))\n",
    "for i in range (len(arr)):\n",
    "    if np.isnan(arr[i]):\n",
    "        arr[i]=random.randint(0,1)\n",
    "df['mvar37']=arr\n",
    "    "
   ]
  },
  {
   "cell_type": "code",
   "execution_count": 15140,
   "metadata": {},
   "outputs": [
    {
     "data": {
      "text/plain": [
       "7.0    25293\n",
       "0.0    16172\n",
       "1.0    10963\n",
       "2.0     6521\n",
       "3.0     5907\n",
       "4.0     5300\n",
       "Name: mvar37, dtype: int64"
      ]
     },
     "execution_count": 15140,
     "metadata": {},
     "output_type": "execute_result"
    }
   ],
   "source": [
    "df['mvar37'].value_counts()"
   ]
  },
  {
   "cell_type": "code",
   "execution_count": 15141,
   "metadata": {},
   "outputs": [
    {
     "name": "stdout",
     "output_type": "stream",
     "text": [
      "<class 'pandas.core.frame.DataFrame'>\n",
      "Int64Index: 70156 entries, 0 to 79999\n",
      "Data columns (total 38 columns):\n",
      "application_key    70156 non-null float64\n",
      "mvar1              70156 non-null float64\n",
      "mvar2              70156 non-null float64\n",
      "mvar4              70156 non-null float64\n",
      "mvar5              70156 non-null float64\n",
      "mvar18             70156 non-null float64\n",
      "mvar19             70156 non-null float64\n",
      "mvar25             70156 non-null float64\n",
      "mvar28             70156 non-null float64\n",
      "mvar29             70156 non-null float64\n",
      "mvar34             70156 non-null float64\n",
      "mvar36             70156 non-null float64\n",
      "mvar37             70156 non-null float64\n",
      "mvar38             70156 non-null float64\n",
      "mvar39             67239 non-null float64\n",
      "mvar40             15418 non-null float64\n",
      "mvar41             22850 non-null float64\n",
      "mvar42             69481 non-null float64\n",
      "mvar43             70023 non-null float64\n",
      "mvar44             65795 non-null float64\n",
      "mvar45             33013 non-null float64\n",
      "mvar46             51715 non-null float64\n",
      "mvar47             70156 non-null float64\n",
      "default_ind        70156 non-null float64\n",
      "binned_mvar6       70156 non-null float64\n",
      "binned_mvar1       70156 non-null float64\n",
      "binned_mvar7       70156 non-null float64\n",
      "binned_mvar9       70156 non-null float64\n",
      "mvar48             70156 non-null float64\n",
      "binned_mvar10      70156 non-null float64\n",
      "binned_mvar12      70156 non-null float64\n",
      "binned_mvar13      70156 non-null float64\n",
      "binned_mvar14      70156 non-null float64\n",
      "binned_mvar21      70156 non-null float64\n",
      "binned_mvar22      70156 non-null float64\n",
      "binned_mvar24      70156 non-null float64\n",
      "binned_mvar32      70156 non-null float64\n",
      "binned_mvar33      70156 non-null float64\n",
      "dtypes: float64(38)\n",
      "memory usage: 20.9 MB\n"
     ]
    }
   ],
   "source": [
    "df.info()"
   ]
  },
  {
   "cell_type": "code",
   "execution_count": 15142,
   "metadata": {},
   "outputs": [
    {
     "data": {
      "text/plain": [
       "count    70156.000000\n",
       "mean         4.125164\n",
       "std          3.671431\n",
       "min          0.000000\n",
       "25%          2.000000\n",
       "50%          3.000000\n",
       "75%          6.000000\n",
       "max         78.000000\n",
       "Name: mvar38, dtype: float64"
      ]
     },
     "execution_count": 15142,
     "metadata": {},
     "output_type": "execute_result"
    }
   ],
   "source": [
    "df['mvar38'].describe()"
   ]
  },
  {
   "cell_type": "code",
   "execution_count": 15143,
   "metadata": {},
   "outputs": [
    {
     "data": {
      "text/plain": [
       "0.0    7\n",
       "1.0    2\n",
       "Name: default_ind, dtype: int64"
      ]
     },
     "execution_count": 15143,
     "metadata": {},
     "output_type": "execute_result"
    }
   ],
   "source": [
    "col = df[df['mvar38']==28]\n",
    "col['default_ind'].value_counts()"
   ]
  },
  {
   "cell_type": "code",
   "execution_count": 15144,
   "metadata": {},
   "outputs": [],
   "source": [
    "df['mvar38'] = df['mvar38'].replace([7,8,9,10],[7,7,7,7])"
   ]
  },
  {
   "cell_type": "code",
   "execution_count": 15145,
   "metadata": {},
   "outputs": [
    {
     "name": "stdout",
     "output_type": "stream",
     "text": [
      "nan\n",
      "<class 'numpy.ndarray'>\n"
     ]
    }
   ],
   "source": [
    "arr=np.array(df['mvar38'].tolist())\n",
    "import random\n",
    "print (np.nan)\n",
    "print (type(arr))\n",
    "for i in range (len(arr)):\n",
    "    if arr[i]>7:\n",
    "        arr[i]=8\n",
    "df['mvar38']=arr"
   ]
  },
  {
   "cell_type": "code",
   "execution_count": 15146,
   "metadata": {},
   "outputs": [
    {
     "data": {
      "text/plain": [
       "count    67239.000000\n",
       "mean         0.060962\n",
       "std          0.267662\n",
       "min          0.000000\n",
       "25%          0.000000\n",
       "50%          0.000000\n",
       "75%          0.000000\n",
       "max          8.000000\n",
       "Name: mvar39, dtype: float64"
      ]
     },
     "execution_count": 15146,
     "metadata": {},
     "output_type": "execute_result"
    }
   ],
   "source": [
    "df['mvar39'].describe()"
   ]
  },
  {
   "cell_type": "code",
   "execution_count": 15147,
   "metadata": {},
   "outputs": [
    {
     "name": "stdout",
     "output_type": "stream",
     "text": [
      "<class 'pandas.core.frame.DataFrame'>\n",
      "Int64Index: 63550 entries, 1 to 79999\n",
      "Data columns (total 38 columns):\n",
      "application_key    63550 non-null float64\n",
      "mvar1              63550 non-null float64\n",
      "mvar2              63550 non-null float64\n",
      "mvar4              63550 non-null float64\n",
      "mvar5              63550 non-null float64\n",
      "mvar18             63550 non-null float64\n",
      "mvar19             63550 non-null float64\n",
      "mvar25             63550 non-null float64\n",
      "mvar28             63550 non-null float64\n",
      "mvar29             63550 non-null float64\n",
      "mvar34             63550 non-null float64\n",
      "mvar36             63550 non-null float64\n",
      "mvar37             63550 non-null float64\n",
      "mvar38             63550 non-null float64\n",
      "mvar39             63550 non-null float64\n",
      "mvar40             14317 non-null float64\n",
      "mvar41             21201 non-null float64\n",
      "mvar42             62904 non-null float64\n",
      "mvar43             63418 non-null float64\n",
      "mvar44             62117 non-null float64\n",
      "mvar45             30819 non-null float64\n",
      "mvar46             47306 non-null float64\n",
      "mvar47             63550 non-null float64\n",
      "default_ind        63550 non-null float64\n",
      "binned_mvar6       63550 non-null float64\n",
      "binned_mvar1       63550 non-null float64\n",
      "binned_mvar7       63550 non-null float64\n",
      "binned_mvar9       63550 non-null float64\n",
      "mvar48             63550 non-null float64\n",
      "binned_mvar10      63550 non-null float64\n",
      "binned_mvar12      63550 non-null float64\n",
      "binned_mvar13      63550 non-null float64\n",
      "binned_mvar14      63550 non-null float64\n",
      "binned_mvar21      63550 non-null float64\n",
      "binned_mvar22      63550 non-null float64\n",
      "binned_mvar24      63550 non-null float64\n",
      "binned_mvar32      63550 non-null float64\n",
      "binned_mvar33      63550 non-null float64\n",
      "dtypes: float64(38)\n",
      "memory usage: 18.9 MB\n"
     ]
    }
   ],
   "source": [
    "df[df['mvar39']==0].info()"
   ]
  },
  {
   "cell_type": "code",
   "execution_count": null,
   "metadata": {},
   "outputs": [],
   "source": []
  },
  {
   "cell_type": "code",
   "execution_count": 15148,
   "metadata": {},
   "outputs": [],
   "source": [
    "df['mvar39'] = df['mvar39'].fillna(0)"
   ]
  },
  {
   "cell_type": "code",
   "execution_count": 15149,
   "metadata": {},
   "outputs": [
    {
     "data": {
      "text/plain": [
       "0.0    1907\n",
       "1.0    1416\n",
       "Name: default_ind, dtype: int64"
      ]
     },
     "execution_count": 15149,
     "metadata": {},
     "output_type": "execute_result"
    }
   ],
   "source": [
    "col = df[df['mvar39']==1]\n",
    "col['default_ind'].value_counts()"
   ]
  },
  {
   "cell_type": "code",
   "execution_count": 15150,
   "metadata": {},
   "outputs": [],
   "source": [
    "df['mvar39'] = df['mvar39'].replace([0,1,2,3,4,5,6,7,8,9,10,11,12,13,14,15,21],[0,1,2,3,4,4,4,4,4,4,4,4,4,4,4,4,4])"
   ]
  },
  {
   "cell_type": "code",
   "execution_count": 15151,
   "metadata": {},
   "outputs": [],
   "source": [
    "df.drop(['mvar39','mvar40','mvar41'],axis =1,inplace=True)"
   ]
  },
  {
   "cell_type": "code",
   "execution_count": 15152,
   "metadata": {},
   "outputs": [
    {
     "name": "stdout",
     "output_type": "stream",
     "text": [
      "<class 'pandas.core.frame.DataFrame'>\n",
      "Int64Index: 70156 entries, 0 to 79999\n",
      "Data columns (total 35 columns):\n",
      "application_key    70156 non-null float64\n",
      "mvar1              70156 non-null float64\n",
      "mvar2              70156 non-null float64\n",
      "mvar4              70156 non-null float64\n",
      "mvar5              70156 non-null float64\n",
      "mvar18             70156 non-null float64\n",
      "mvar19             70156 non-null float64\n",
      "mvar25             70156 non-null float64\n",
      "mvar28             70156 non-null float64\n",
      "mvar29             70156 non-null float64\n",
      "mvar34             70156 non-null float64\n",
      "mvar36             70156 non-null float64\n",
      "mvar37             70156 non-null float64\n",
      "mvar38             70156 non-null float64\n",
      "mvar42             69481 non-null float64\n",
      "mvar43             70023 non-null float64\n",
      "mvar44             65795 non-null float64\n",
      "mvar45             33013 non-null float64\n",
      "mvar46             51715 non-null float64\n",
      "mvar47             70156 non-null float64\n",
      "default_ind        70156 non-null float64\n",
      "binned_mvar6       70156 non-null float64\n",
      "binned_mvar1       70156 non-null float64\n",
      "binned_mvar7       70156 non-null float64\n",
      "binned_mvar9       70156 non-null float64\n",
      "mvar48             70156 non-null float64\n",
      "binned_mvar10      70156 non-null float64\n",
      "binned_mvar12      70156 non-null float64\n",
      "binned_mvar13      70156 non-null float64\n",
      "binned_mvar14      70156 non-null float64\n",
      "binned_mvar21      70156 non-null float64\n",
      "binned_mvar22      70156 non-null float64\n",
      "binned_mvar24      70156 non-null float64\n",
      "binned_mvar32      70156 non-null float64\n",
      "binned_mvar33      70156 non-null float64\n",
      "dtypes: float64(35)\n",
      "memory usage: 19.3 MB\n"
     ]
    }
   ],
   "source": [
    "df.info()"
   ]
  },
  {
   "cell_type": "code",
   "execution_count": 15153,
   "metadata": {},
   "outputs": [
    {
     "data": {
      "text/plain": [
       "count    69481.000000\n",
       "mean         0.301641\n",
       "std          0.344929\n",
       "min          0.000000\n",
       "25%          0.000000\n",
       "50%          0.166670\n",
       "75%          0.500000\n",
       "max          2.000000\n",
       "Name: mvar42, dtype: float64"
      ]
     },
     "execution_count": 15153,
     "metadata": {},
     "output_type": "execute_result"
    }
   ],
   "source": [
    "df['mvar42'].describe()"
   ]
  },
  {
   "cell_type": "code",
   "execution_count": 15154,
   "metadata": {},
   "outputs": [],
   "source": [
    "df= df.astype(float)"
   ]
  },
  {
   "cell_type": "code",
   "execution_count": 15155,
   "metadata": {},
   "outputs": [
    {
     "data": {
      "text/html": [
       "<div>\n",
       "<style scoped>\n",
       "    .dataframe tbody tr th:only-of-type {\n",
       "        vertical-align: middle;\n",
       "    }\n",
       "\n",
       "    .dataframe tbody tr th {\n",
       "        vertical-align: top;\n",
       "    }\n",
       "\n",
       "    .dataframe thead th {\n",
       "        text-align: right;\n",
       "    }\n",
       "</style>\n",
       "<table border=\"1\" class=\"dataframe\">\n",
       "  <thead>\n",
       "    <tr style=\"text-align: right;\">\n",
       "      <th></th>\n",
       "      <th>mvar42</th>\n",
       "      <th>default_ind</th>\n",
       "    </tr>\n",
       "  </thead>\n",
       "  <tbody>\n",
       "    <tr>\n",
       "      <th>mvar42</th>\n",
       "      <td>1.000000</td>\n",
       "      <td>0.349926</td>\n",
       "    </tr>\n",
       "    <tr>\n",
       "      <th>default_ind</th>\n",
       "      <td>0.349926</td>\n",
       "      <td>1.000000</td>\n",
       "    </tr>\n",
       "  </tbody>\n",
       "</table>\n",
       "</div>"
      ],
      "text/plain": [
       "               mvar42  default_ind\n",
       "mvar42       1.000000     0.349926\n",
       "default_ind  0.349926     1.000000"
      ]
     },
     "execution_count": 15155,
     "metadata": {},
     "output_type": "execute_result"
    }
   ],
   "source": [
    "df[['mvar42','default_ind']].corr()"
   ]
  },
  {
   "cell_type": "code",
   "execution_count": 15156,
   "metadata": {},
   "outputs": [
    {
     "data": {
      "text/plain": [
       "0.0    54559\n",
       "1.0    14817\n",
       "Name: default_ind, dtype: int64"
      ]
     },
     "execution_count": 15156,
     "metadata": {},
     "output_type": "execute_result"
    }
   ],
   "source": [
    "col =  df[df['mvar42']<2]\n",
    "col['default_ind'].value_counts()"
   ]
  },
  {
   "cell_type": "code",
   "execution_count": 15157,
   "metadata": {},
   "outputs": [
    {
     "data": {
      "text/plain": [
       "0.0    55133\n",
       "1.0    15023\n",
       "Name: default_ind, dtype: int64"
      ]
     },
     "execution_count": 15157,
     "metadata": {},
     "output_type": "execute_result"
    }
   ],
   "source": [
    "df['default_ind'].value_counts()"
   ]
  },
  {
   "cell_type": "code",
   "execution_count": 15158,
   "metadata": {},
   "outputs": [],
   "source": [
    "df['mvar42'] = df['mvar42'].fillna(1)"
   ]
  },
  {
   "cell_type": "code",
   "execution_count": 15159,
   "metadata": {},
   "outputs": [
    {
     "name": "stdout",
     "output_type": "stream",
     "text": [
      "<class 'pandas.core.frame.DataFrame'>\n",
      "Int64Index: 70156 entries, 0 to 79999\n",
      "Data columns (total 35 columns):\n",
      "application_key    70156 non-null float64\n",
      "mvar1              70156 non-null float64\n",
      "mvar2              70156 non-null float64\n",
      "mvar4              70156 non-null float64\n",
      "mvar5              70156 non-null float64\n",
      "mvar18             70156 non-null float64\n",
      "mvar19             70156 non-null float64\n",
      "mvar25             70156 non-null float64\n",
      "mvar28             70156 non-null float64\n",
      "mvar29             70156 non-null float64\n",
      "mvar34             70156 non-null float64\n",
      "mvar36             70156 non-null float64\n",
      "mvar37             70156 non-null float64\n",
      "mvar38             70156 non-null float64\n",
      "mvar42             70156 non-null float64\n",
      "mvar43             70023 non-null float64\n",
      "mvar44             65795 non-null float64\n",
      "mvar45             33013 non-null float64\n",
      "mvar46             51715 non-null float64\n",
      "mvar47             70156 non-null float64\n",
      "default_ind        70156 non-null float64\n",
      "binned_mvar6       70156 non-null float64\n",
      "binned_mvar1       70156 non-null float64\n",
      "binned_mvar7       70156 non-null float64\n",
      "binned_mvar9       70156 non-null float64\n",
      "mvar48             70156 non-null float64\n",
      "binned_mvar10      70156 non-null float64\n",
      "binned_mvar12      70156 non-null float64\n",
      "binned_mvar13      70156 non-null float64\n",
      "binned_mvar14      70156 non-null float64\n",
      "binned_mvar21      70156 non-null float64\n",
      "binned_mvar22      70156 non-null float64\n",
      "binned_mvar24      70156 non-null float64\n",
      "binned_mvar32      70156 non-null float64\n",
      "binned_mvar33      70156 non-null float64\n",
      "dtypes: float64(35)\n",
      "memory usage: 19.3 MB\n"
     ]
    }
   ],
   "source": [
    "df.info()"
   ]
  },
  {
   "cell_type": "code",
   "execution_count": 15160,
   "metadata": {},
   "outputs": [
    {
     "data": {
      "text/plain": [
       "count    70023.000000\n",
       "mean         6.761750\n",
       "std          6.157773\n",
       "min          0.000000\n",
       "25%          2.000000\n",
       "50%          5.000000\n",
       "75%         10.000000\n",
       "max         91.000000\n",
       "Name: mvar43, dtype: float64"
      ]
     },
     "execution_count": 15160,
     "metadata": {},
     "output_type": "execute_result"
    }
   ],
   "source": [
    "df['mvar43'].describe()"
   ]
  },
  {
   "cell_type": "code",
   "execution_count": 15161,
   "metadata": {},
   "outputs": [
    {
     "data": {
      "text/plain": [
       "0.0    55037\n",
       "1.0    14986\n",
       "Name: default_ind, dtype: int64"
      ]
     },
     "execution_count": 15161,
     "metadata": {},
     "output_type": "execute_result"
    }
   ],
   "source": [
    "col =  df[df['mvar43']<7687]\n",
    "col['default_ind'].value_counts()"
   ]
  },
  {
   "cell_type": "code",
   "execution_count": 15162,
   "metadata": {},
   "outputs": [
    {
     "data": {
      "text/plain": [
       "0.0    55133\n",
       "1.0    15023\n",
       "Name: default_ind, dtype: int64"
      ]
     },
     "execution_count": 15162,
     "metadata": {},
     "output_type": "execute_result"
    }
   ],
   "source": [
    "df['default_ind'].value_counts()"
   ]
  },
  {
   "cell_type": "code",
   "execution_count": 15163,
   "metadata": {},
   "outputs": [
    {
     "data": {
      "text/html": [
       "<div>\n",
       "<style scoped>\n",
       "    .dataframe tbody tr th:only-of-type {\n",
       "        vertical-align: middle;\n",
       "    }\n",
       "\n",
       "    .dataframe tbody tr th {\n",
       "        vertical-align: top;\n",
       "    }\n",
       "\n",
       "    .dataframe thead th {\n",
       "        text-align: right;\n",
       "    }\n",
       "</style>\n",
       "<table border=\"1\" class=\"dataframe\">\n",
       "  <thead>\n",
       "    <tr style=\"text-align: right;\">\n",
       "      <th></th>\n",
       "      <th>mvar43</th>\n",
       "      <th>default_ind</th>\n",
       "    </tr>\n",
       "  </thead>\n",
       "  <tbody>\n",
       "    <tr>\n",
       "      <th>mvar43</th>\n",
       "      <td>1.0000</td>\n",
       "      <td>-0.1801</td>\n",
       "    </tr>\n",
       "    <tr>\n",
       "      <th>default_ind</th>\n",
       "      <td>-0.1801</td>\n",
       "      <td>1.0000</td>\n",
       "    </tr>\n",
       "  </tbody>\n",
       "</table>\n",
       "</div>"
      ],
      "text/plain": [
       "             mvar43  default_ind\n",
       "mvar43       1.0000      -0.1801\n",
       "default_ind -0.1801       1.0000"
      ]
     },
     "execution_count": 15163,
     "metadata": {},
     "output_type": "execute_result"
    }
   ],
   "source": [
    "df[['mvar43','default_ind']].corr()"
   ]
  },
  {
   "cell_type": "code",
   "execution_count": 15164,
   "metadata": {},
   "outputs": [],
   "source": [
    "df['mvar43'] = df['mvar43'].replace([6,7,8,9,10],[6,6,6,6,6])"
   ]
  },
  {
   "cell_type": "code",
   "execution_count": 15165,
   "metadata": {},
   "outputs": [
    {
     "name": "stdout",
     "output_type": "stream",
     "text": [
      "nan\n",
      "<class 'numpy.ndarray'>\n"
     ]
    }
   ],
   "source": [
    "arr=np.array(df['mvar43'].tolist())\n",
    "import random\n",
    "print (np.nan)\n",
    "print (type(arr))\n",
    "for i in range (len(arr)):\n",
    "    if arr[i]>6:\n",
    "        arr[i]=7\n",
    "df['mvar43']=arr"
   ]
  },
  {
   "cell_type": "code",
   "execution_count": 15166,
   "metadata": {},
   "outputs": [
    {
     "name": "stdout",
     "output_type": "stream",
     "text": [
      "nan\n",
      "<class 'numpy.ndarray'>\n"
     ]
    }
   ],
   "source": [
    "arr=np.array(df['mvar43'].tolist())\n",
    "import random\n",
    "print (np.nan)\n",
    "print (type(arr))\n",
    "for i in range (len(arr)):\n",
    "    if np.isnan(arr[i]):\n",
    "        arr[i]=random.randint(0,1)\n",
    "df['mvar43']=arr\n",
    "    "
   ]
  },
  {
   "cell_type": "code",
   "execution_count": 15167,
   "metadata": {},
   "outputs": [
    {
     "name": "stdout",
     "output_type": "stream",
     "text": [
      "<class 'pandas.core.frame.DataFrame'>\n",
      "Int64Index: 70156 entries, 0 to 79999\n",
      "Data columns (total 35 columns):\n",
      "application_key    70156 non-null float64\n",
      "mvar1              70156 non-null float64\n",
      "mvar2              70156 non-null float64\n",
      "mvar4              70156 non-null float64\n",
      "mvar5              70156 non-null float64\n",
      "mvar18             70156 non-null float64\n",
      "mvar19             70156 non-null float64\n",
      "mvar25             70156 non-null float64\n",
      "mvar28             70156 non-null float64\n",
      "mvar29             70156 non-null float64\n",
      "mvar34             70156 non-null float64\n",
      "mvar36             70156 non-null float64\n",
      "mvar37             70156 non-null float64\n",
      "mvar38             70156 non-null float64\n",
      "mvar42             70156 non-null float64\n",
      "mvar43             70156 non-null float64\n",
      "mvar44             65795 non-null float64\n",
      "mvar45             33013 non-null float64\n",
      "mvar46             51715 non-null float64\n",
      "mvar47             70156 non-null float64\n",
      "default_ind        70156 non-null float64\n",
      "binned_mvar6       70156 non-null float64\n",
      "binned_mvar1       70156 non-null float64\n",
      "binned_mvar7       70156 non-null float64\n",
      "binned_mvar9       70156 non-null float64\n",
      "mvar48             70156 non-null float64\n",
      "binned_mvar10      70156 non-null float64\n",
      "binned_mvar12      70156 non-null float64\n",
      "binned_mvar13      70156 non-null float64\n",
      "binned_mvar14      70156 non-null float64\n",
      "binned_mvar21      70156 non-null float64\n",
      "binned_mvar22      70156 non-null float64\n",
      "binned_mvar24      70156 non-null float64\n",
      "binned_mvar32      70156 non-null float64\n",
      "binned_mvar33      70156 non-null float64\n",
      "dtypes: float64(35)\n",
      "memory usage: 19.3 MB\n"
     ]
    }
   ],
   "source": [
    "df.info()"
   ]
  },
  {
   "cell_type": "code",
   "execution_count": 15168,
   "metadata": {},
   "outputs": [
    {
     "data": {
      "text/plain": [
       "count    65795.000000\n",
       "mean         0.710610\n",
       "std          0.243445\n",
       "min          0.060660\n",
       "25%          0.521805\n",
       "50%          0.745120\n",
       "75%          0.945660\n",
       "max          1.000000\n",
       "Name: mvar44, dtype: float64"
      ]
     },
     "execution_count": 15168,
     "metadata": {},
     "output_type": "execute_result"
    }
   ],
   "source": [
    "df['mvar44'].describe()"
   ]
  },
  {
   "cell_type": "code",
   "execution_count": 15169,
   "metadata": {},
   "outputs": [
    {
     "data": {
      "text/html": [
       "<div>\n",
       "<style scoped>\n",
       "    .dataframe tbody tr th:only-of-type {\n",
       "        vertical-align: middle;\n",
       "    }\n",
       "\n",
       "    .dataframe tbody tr th {\n",
       "        vertical-align: top;\n",
       "    }\n",
       "\n",
       "    .dataframe thead th {\n",
       "        text-align: right;\n",
       "    }\n",
       "</style>\n",
       "<table border=\"1\" class=\"dataframe\">\n",
       "  <thead>\n",
       "    <tr style=\"text-align: right;\">\n",
       "      <th></th>\n",
       "      <th>mvar44</th>\n",
       "      <th>default_ind</th>\n",
       "    </tr>\n",
       "  </thead>\n",
       "  <tbody>\n",
       "    <tr>\n",
       "      <th>mvar44</th>\n",
       "      <td>1.000000</td>\n",
       "      <td>-0.048558</td>\n",
       "    </tr>\n",
       "    <tr>\n",
       "      <th>default_ind</th>\n",
       "      <td>-0.048558</td>\n",
       "      <td>1.000000</td>\n",
       "    </tr>\n",
       "  </tbody>\n",
       "</table>\n",
       "</div>"
      ],
      "text/plain": [
       "               mvar44  default_ind\n",
       "mvar44       1.000000    -0.048558\n",
       "default_ind -0.048558     1.000000"
      ]
     },
     "execution_count": 15169,
     "metadata": {},
     "output_type": "execute_result"
    }
   ],
   "source": [
    "df[['mvar44','default_ind']].corr()"
   ]
  },
  {
   "cell_type": "code",
   "execution_count": 15170,
   "metadata": {},
   "outputs": [
    {
     "data": {
      "text/plain": [
       "0.0    6040\n",
       "1.0    2370\n",
       "Name: default_ind, dtype: int64"
      ]
     },
     "execution_count": 15170,
     "metadata": {},
     "output_type": "execute_result"
    }
   ],
   "source": [
    "col = df[df['mvar44']==1]\n",
    "col['default_ind'].value_counts()"
   ]
  },
  {
   "cell_type": "code",
   "execution_count": 15171,
   "metadata": {},
   "outputs": [],
   "source": [
    "df['mvar44']= df['mvar44'].fillna(0.703936)"
   ]
  },
  {
   "cell_type": "code",
   "execution_count": 15172,
   "metadata": {},
   "outputs": [
    {
     "data": {
      "text/plain": [
       "0.0    31040\n",
       "1.0     1793\n",
       "2.0      159\n",
       "3.0       16\n",
       "5.0        3\n",
       "4.0        2\n",
       "Name: mvar45, dtype: int64"
      ]
     },
     "execution_count": 15172,
     "metadata": {},
     "output_type": "execute_result"
    }
   ],
   "source": [
    "df['mvar45'].value_counts()"
   ]
  },
  {
   "cell_type": "code",
   "execution_count": 15173,
   "metadata": {},
   "outputs": [],
   "source": [
    "col =  df[df['mvar45']>0]"
   ]
  },
  {
   "cell_type": "code",
   "execution_count": 15174,
   "metadata": {},
   "outputs": [
    {
     "data": {
      "text/plain": [
       "0.0    1303\n",
       "1.0     670\n",
       "Name: default_ind, dtype: int64"
      ]
     },
     "execution_count": 15174,
     "metadata": {},
     "output_type": "execute_result"
    }
   ],
   "source": [
    "col['default_ind'].value_counts()"
   ]
  },
  {
   "cell_type": "code",
   "execution_count": 15175,
   "metadata": {},
   "outputs": [],
   "source": [
    "df.drop(['mvar44','mvar45'],axis=1,inplace=True)"
   ]
  },
  {
   "cell_type": "code",
   "execution_count": 15176,
   "metadata": {},
   "outputs": [
    {
     "data": {
      "text/plain": [
       "0.0    48203\n",
       "1.0     3411\n",
       "2.0       97\n",
       "3.0        4\n",
       "Name: mvar46, dtype: int64"
      ]
     },
     "execution_count": 15176,
     "metadata": {},
     "output_type": "execute_result"
    }
   ],
   "source": [
    "df['mvar46'].value_counts()"
   ]
  },
  {
   "cell_type": "code",
   "execution_count": 15177,
   "metadata": {},
   "outputs": [
    {
     "data": {
      "text/html": [
       "<div>\n",
       "<style scoped>\n",
       "    .dataframe tbody tr th:only-of-type {\n",
       "        vertical-align: middle;\n",
       "    }\n",
       "\n",
       "    .dataframe tbody tr th {\n",
       "        vertical-align: top;\n",
       "    }\n",
       "\n",
       "    .dataframe thead th {\n",
       "        text-align: right;\n",
       "    }\n",
       "</style>\n",
       "<table border=\"1\" class=\"dataframe\">\n",
       "  <thead>\n",
       "    <tr style=\"text-align: right;\">\n",
       "      <th></th>\n",
       "      <th>mvar46</th>\n",
       "      <th>default_ind</th>\n",
       "    </tr>\n",
       "  </thead>\n",
       "  <tbody>\n",
       "    <tr>\n",
       "      <th>mvar46</th>\n",
       "      <td>1.000000</td>\n",
       "      <td>0.189021</td>\n",
       "    </tr>\n",
       "    <tr>\n",
       "      <th>default_ind</th>\n",
       "      <td>0.189021</td>\n",
       "      <td>1.000000</td>\n",
       "    </tr>\n",
       "  </tbody>\n",
       "</table>\n",
       "</div>"
      ],
      "text/plain": [
       "               mvar46  default_ind\n",
       "mvar46       1.000000     0.189021\n",
       "default_ind  0.189021     1.000000"
      ]
     },
     "execution_count": 15177,
     "metadata": {},
     "output_type": "execute_result"
    }
   ],
   "source": [
    "df[['mvar46','default_ind']].corr()"
   ]
  },
  {
   "cell_type": "code",
   "execution_count": 15178,
   "metadata": {},
   "outputs": [
    {
     "data": {
      "text/plain": [
       "1.0    58\n",
       "0.0    39\n",
       "Name: default_ind, dtype: int64"
      ]
     },
     "execution_count": 15178,
     "metadata": {},
     "output_type": "execute_result"
    }
   ],
   "source": [
    "col =  df[df['mvar46']==2]\n",
    "col['default_ind'].value_counts()"
   ]
  },
  {
   "cell_type": "code",
   "execution_count": 15179,
   "metadata": {},
   "outputs": [],
   "source": [
    "df['mvar46'] = df['mvar46'].replace([2,3,4,5,19,9],[2,2,2,2,2,2])"
   ]
  },
  {
   "cell_type": "code",
   "execution_count": 15180,
   "metadata": {},
   "outputs": [
    {
     "name": "stdout",
     "output_type": "stream",
     "text": [
      "nan\n",
      "<class 'numpy.ndarray'>\n"
     ]
    }
   ],
   "source": [
    "arr=np.array(df['mvar46'].tolist())\n",
    "import random\n",
    "print (np.nan)\n",
    "print (type(arr))\n",
    "for i in range (len(arr)):\n",
    "    if np.isnan(arr[i]):\n",
    "        arr[i]=random.randint(0,0)\n",
    "df['mvar46']=arr\n",
    "    "
   ]
  },
  {
   "cell_type": "code",
   "execution_count": 15181,
   "metadata": {},
   "outputs": [],
   "source": [
    "df = df[df['mvar46']<2]"
   ]
  },
  {
   "cell_type": "code",
   "execution_count": 15182,
   "metadata": {},
   "outputs": [],
   "source": [
    "df = df.astype(float)"
   ]
  },
  {
   "cell_type": "code",
   "execution_count": 15183,
   "metadata": {},
   "outputs": [],
   "source": [
    "df.drop('mvar1',axis=1,inplace=True)"
   ]
  },
  {
   "cell_type": "code",
   "execution_count": 15184,
   "metadata": {},
   "outputs": [
    {
     "data": {
      "text/html": [
       "<div>\n",
       "<style scoped>\n",
       "    .dataframe tbody tr th:only-of-type {\n",
       "        vertical-align: middle;\n",
       "    }\n",
       "\n",
       "    .dataframe tbody tr th {\n",
       "        vertical-align: top;\n",
       "    }\n",
       "\n",
       "    .dataframe thead th {\n",
       "        text-align: right;\n",
       "    }\n",
       "</style>\n",
       "<table border=\"1\" class=\"dataframe\">\n",
       "  <thead>\n",
       "    <tr style=\"text-align: right;\">\n",
       "      <th></th>\n",
       "      <th>mvar34</th>\n",
       "      <th>mvar36</th>\n",
       "      <th>mvar37</th>\n",
       "      <th>mvar38</th>\n",
       "      <th>default_ind</th>\n",
       "    </tr>\n",
       "  </thead>\n",
       "  <tbody>\n",
       "    <tr>\n",
       "      <th>mvar34</th>\n",
       "      <td>1.000000</td>\n",
       "      <td>0.125006</td>\n",
       "      <td>-0.014966</td>\n",
       "      <td>0.060410</td>\n",
       "      <td>0.134698</td>\n",
       "    </tr>\n",
       "    <tr>\n",
       "      <th>mvar36</th>\n",
       "      <td>0.125006</td>\n",
       "      <td>1.000000</td>\n",
       "      <td>0.024235</td>\n",
       "      <td>0.516431</td>\n",
       "      <td>0.158531</td>\n",
       "    </tr>\n",
       "    <tr>\n",
       "      <th>mvar37</th>\n",
       "      <td>-0.014966</td>\n",
       "      <td>0.024235</td>\n",
       "      <td>1.000000</td>\n",
       "      <td>-0.123448</td>\n",
       "      <td>-0.261008</td>\n",
       "    </tr>\n",
       "    <tr>\n",
       "      <th>mvar38</th>\n",
       "      <td>0.060410</td>\n",
       "      <td>0.516431</td>\n",
       "      <td>-0.123448</td>\n",
       "      <td>1.000000</td>\n",
       "      <td>0.136496</td>\n",
       "    </tr>\n",
       "    <tr>\n",
       "      <th>default_ind</th>\n",
       "      <td>0.134698</td>\n",
       "      <td>0.158531</td>\n",
       "      <td>-0.261008</td>\n",
       "      <td>0.136496</td>\n",
       "      <td>1.000000</td>\n",
       "    </tr>\n",
       "  </tbody>\n",
       "</table>\n",
       "</div>"
      ],
      "text/plain": [
       "               mvar34    mvar36    mvar37    mvar38  default_ind\n",
       "mvar34       1.000000  0.125006 -0.014966  0.060410     0.134698\n",
       "mvar36       0.125006  1.000000  0.024235  0.516431     0.158531\n",
       "mvar37      -0.014966  0.024235  1.000000 -0.123448    -0.261008\n",
       "mvar38       0.060410  0.516431 -0.123448  1.000000     0.136496\n",
       "default_ind  0.134698  0.158531 -0.261008  0.136496     1.000000"
      ]
     },
     "execution_count": 15184,
     "metadata": {},
     "output_type": "execute_result"
    }
   ],
   "source": [
    "dframe = df[['mvar34','mvar36','mvar37','mvar38','default_ind']]\n",
    "dframe.corr()"
   ]
  },
  {
   "cell_type": "code",
   "execution_count": 15185,
   "metadata": {},
   "outputs": [],
   "source": [
    "#df.drop(['mvar39'],axis=1,inplace=True)"
   ]
  },
  {
   "cell_type": "code",
   "execution_count": 15186,
   "metadata": {},
   "outputs": [],
   "source": [
    "y = df['default_ind']"
   ]
  },
  {
   "cell_type": "code",
   "execution_count": 15187,
   "metadata": {},
   "outputs": [],
   "source": [
    "\n",
    "df.drop(['application_key','default_ind'],axis=1,inplace=True)"
   ]
  },
  {
   "cell_type": "code",
   "execution_count": 15188,
   "metadata": {},
   "outputs": [
    {
     "name": "stdout",
     "output_type": "stream",
     "text": [
      "<class 'pandas.core.frame.DataFrame'>\n",
      "Int64Index: 70055 entries, 0 to 79999\n",
      "Data columns (total 30 columns):\n",
      "mvar2            70055 non-null float64\n",
      "mvar4            70055 non-null float64\n",
      "mvar5            70055 non-null float64\n",
      "mvar18           70055 non-null float64\n",
      "mvar19           70055 non-null float64\n",
      "mvar25           70055 non-null float64\n",
      "mvar28           70055 non-null float64\n",
      "mvar29           70055 non-null float64\n",
      "mvar34           70055 non-null float64\n",
      "mvar36           70055 non-null float64\n",
      "mvar37           70055 non-null float64\n",
      "mvar38           70055 non-null float64\n",
      "mvar42           70055 non-null float64\n",
      "mvar43           70055 non-null float64\n",
      "mvar46           70055 non-null float64\n",
      "mvar47           70055 non-null float64\n",
      "binned_mvar6     70055 non-null float64\n",
      "binned_mvar1     70055 non-null float64\n",
      "binned_mvar7     70055 non-null float64\n",
      "binned_mvar9     70055 non-null float64\n",
      "mvar48           70055 non-null float64\n",
      "binned_mvar10    70055 non-null float64\n",
      "binned_mvar12    70055 non-null float64\n",
      "binned_mvar13    70055 non-null float64\n",
      "binned_mvar14    70055 non-null float64\n",
      "binned_mvar21    70055 non-null float64\n",
      "binned_mvar22    70055 non-null float64\n",
      "binned_mvar24    70055 non-null float64\n",
      "binned_mvar32    70055 non-null float64\n",
      "binned_mvar33    70055 non-null float64\n",
      "dtypes: float64(30)\n",
      "memory usage: 16.6 MB\n"
     ]
    }
   ],
   "source": [
    "df.info()"
   ]
  },
  {
   "cell_type": "code",
   "execution_count": 15189,
   "metadata": {},
   "outputs": [],
   "source": [
    "df['default_ind'] = y"
   ]
  },
  {
   "cell_type": "code",
   "execution_count": 15190,
   "metadata": {},
   "outputs": [
    {
     "data": {
      "text/html": [
       "<div>\n",
       "<style scoped>\n",
       "    .dataframe tbody tr th:only-of-type {\n",
       "        vertical-align: middle;\n",
       "    }\n",
       "\n",
       "    .dataframe tbody tr th {\n",
       "        vertical-align: top;\n",
       "    }\n",
       "\n",
       "    .dataframe thead th {\n",
       "        text-align: right;\n",
       "    }\n",
       "</style>\n",
       "<table border=\"1\" class=\"dataframe\">\n",
       "  <thead>\n",
       "    <tr style=\"text-align: right;\">\n",
       "      <th></th>\n",
       "      <th>binned_mvar10</th>\n",
       "      <th>binned_mvar9</th>\n",
       "      <th>binned_mvar7</th>\n",
       "    </tr>\n",
       "  </thead>\n",
       "  <tbody>\n",
       "    <tr>\n",
       "      <th>binned_mvar10</th>\n",
       "      <td>1.000000</td>\n",
       "      <td>-0.560546</td>\n",
       "      <td>0.586991</td>\n",
       "    </tr>\n",
       "    <tr>\n",
       "      <th>binned_mvar9</th>\n",
       "      <td>-0.560546</td>\n",
       "      <td>1.000000</td>\n",
       "      <td>-0.422226</td>\n",
       "    </tr>\n",
       "    <tr>\n",
       "      <th>binned_mvar7</th>\n",
       "      <td>0.586991</td>\n",
       "      <td>-0.422226</td>\n",
       "      <td>1.000000</td>\n",
       "    </tr>\n",
       "  </tbody>\n",
       "</table>\n",
       "</div>"
      ],
      "text/plain": [
       "               binned_mvar10  binned_mvar9  binned_mvar7\n",
       "binned_mvar10       1.000000     -0.560546      0.586991\n",
       "binned_mvar9       -0.560546      1.000000     -0.422226\n",
       "binned_mvar7        0.586991     -0.422226      1.000000"
      ]
     },
     "execution_count": 15190,
     "metadata": {},
     "output_type": "execute_result"
    }
   ],
   "source": [
    "df[['binned_mvar10','binned_mvar9','binned_mvar7']].corr()"
   ]
  },
  {
   "cell_type": "code",
   "execution_count": 15191,
   "metadata": {},
   "outputs": [],
   "source": [
    "df.drop(['binned_mvar10'],axis=1,inplace=True)"
   ]
  },
  {
   "cell_type": "code",
   "execution_count": 15192,
   "metadata": {},
   "outputs": [],
   "source": [
    "df.drop('default_ind',axis=1,inplace=True)"
   ]
  },
  {
   "cell_type": "code",
   "execution_count": 15193,
   "metadata": {},
   "outputs": [],
   "source": [
    "x = df.iloc[:,:].values"
   ]
  },
  {
   "cell_type": "code",
   "execution_count": 15194,
   "metadata": {},
   "outputs": [],
   "source": [
    "y = np.array(y)"
   ]
  },
  {
   "cell_type": "code",
   "execution_count": 15195,
   "metadata": {},
   "outputs": [
    {
     "name": "stdout",
     "output_type": "stream",
     "text": [
      "<class 'pandas.core.frame.DataFrame'>\n",
      "Int64Index: 70055 entries, 0 to 79999\n",
      "Data columns (total 29 columns):\n",
      "mvar2            70055 non-null float64\n",
      "mvar4            70055 non-null float64\n",
      "mvar5            70055 non-null float64\n",
      "mvar18           70055 non-null float64\n",
      "mvar19           70055 non-null float64\n",
      "mvar25           70055 non-null float64\n",
      "mvar28           70055 non-null float64\n",
      "mvar29           70055 non-null float64\n",
      "mvar34           70055 non-null float64\n",
      "mvar36           70055 non-null float64\n",
      "mvar37           70055 non-null float64\n",
      "mvar38           70055 non-null float64\n",
      "mvar42           70055 non-null float64\n",
      "mvar43           70055 non-null float64\n",
      "mvar46           70055 non-null float64\n",
      "mvar47           70055 non-null float64\n",
      "binned_mvar6     70055 non-null float64\n",
      "binned_mvar1     70055 non-null float64\n",
      "binned_mvar7     70055 non-null float64\n",
      "binned_mvar9     70055 non-null float64\n",
      "mvar48           70055 non-null float64\n",
      "binned_mvar12    70055 non-null float64\n",
      "binned_mvar13    70055 non-null float64\n",
      "binned_mvar14    70055 non-null float64\n",
      "binned_mvar21    70055 non-null float64\n",
      "binned_mvar22    70055 non-null float64\n",
      "binned_mvar24    70055 non-null float64\n",
      "binned_mvar32    70055 non-null float64\n",
      "binned_mvar33    70055 non-null float64\n",
      "dtypes: float64(29)\n",
      "memory usage: 16.0 MB\n"
     ]
    }
   ],
   "source": [
    "df.info()"
   ]
  },
  {
   "cell_type": "code",
   "execution_count": 15196,
   "metadata": {},
   "outputs": [],
   "source": [
    "# Train & Test split\n",
    "from sklearn.cross_validation import train_test_split \n",
    "X_train,X_test,y_train,y_test = train_test_split(x,y,test_size = 0.25,random_state = 0)"
   ]
  },
  {
   "cell_type": "code",
   "execution_count": 15197,
   "metadata": {},
   "outputs": [],
   "source": [
    "# Feature Scaling\n",
    "from sklearn.preprocessing import StandardScaler\n",
    "sc = StandardScaler()\n",
    "x = sc.fit_transform(x)\n",
    "X_test = sc.transform(X_test)"
   ]
  },
  {
   "cell_type": "code",
   "execution_count": 15198,
   "metadata": {},
   "outputs": [
    {
     "name": "stdout",
     "output_type": "stream",
     "text": [
      "0.8195417885946756\n"
     ]
    }
   ],
   "source": [
    "from sklearn.linear_model import LogisticRegression\n",
    "classifier = LogisticRegression( random_state = 6)\n",
    "classifier.fit(x, y)\n",
    "# Predicting the Test set results\n",
    "pred1= classifier.predict(x)\n",
    "# calculate accuracy\n",
    "from sklearn import metrics\n",
    "print(metrics.accuracy_score(y, pred1))\n"
   ]
  },
  {
   "cell_type": "code",
   "execution_count": 15199,
   "metadata": {},
   "outputs": [],
   "source": [
    "lreg = LogisticRegression(random_state=0)\n",
    "lreg.fit(x, y) # training the model\n",
    "\n",
    "prediction = lreg.predict_proba(x) # predicting on the validation set\n"
   ]
  },
  {
   "cell_type": "code",
   "execution_count": 15200,
   "metadata": {},
   "outputs": [],
   "source": [
    "import lightgbm as lgb\n",
    "d_train = lgb.Dataset(x, label=y)\n",
    "params = {}\n",
    "params['learning_rate'] = 0.005\n",
    "params['boosting_type'] = 'gbdt'\n",
    "params['objective'] = 'binary'\n",
    "params['metric'] = 'binary_logloss'\n",
    "params['sub_feature'] = 0.5\n",
    "params['num_leaves'] = 10\n",
    "params['min_data'] = 50\n",
    "params['max_depth'] = 10 \n",
    "clf = lgb.train(params, d_train,5000)\n",
    "pred2=clf.predict(x,num_iteration=clf.best_iteration)"
   ]
  },
  {
   "cell_type": "code",
   "execution_count": 15201,
   "metadata": {},
   "outputs": [],
   "source": [
    "pred2=clf.predict(x,num_iteration=clf.best_iteration)"
   ]
  },
  {
   "cell_type": "code",
   "execution_count": 15202,
   "metadata": {},
   "outputs": [
    {
     "name": "stdout",
     "output_type": "stream",
     "text": [
      "<class 'numpy.ndarray'>\n"
     ]
    },
    {
     "data": {
      "text/plain": [
       "0.83140389693812"
      ]
     },
     "execution_count": 15202,
     "metadata": {},
     "output_type": "execute_result"
    }
   ],
   "source": [
    "arr=pred2\n",
    "import random\n",
    "print (type(arr))\n",
    "for i in range (len(arr)):\n",
    "    if arr[i]>0.5:\n",
    "        arr[i]=1\n",
    "    else :\n",
    "        arr[i]=0\n",
    "metrics.accuracy_score( y,arr)        "
   ]
  },
  {
   "cell_type": "code",
   "execution_count": 12882,
   "metadata": {},
   "outputs": [
    {
     "data": {
      "text/plain": [
       "array([0., 0., 0., ..., 1., 0., 0.])"
      ]
     },
     "execution_count": 12882,
     "metadata": {},
     "output_type": "execute_result"
    }
   ],
   "source": [
    "pred2"
   ]
  },
  {
   "cell_type": "code",
   "execution_count": 14960,
   "metadata": {},
   "outputs": [
    {
     "data": {
      "text/html": [
       "<div>\n",
       "<style scoped>\n",
       "    .dataframe tbody tr th:only-of-type {\n",
       "        vertical-align: middle;\n",
       "    }\n",
       "\n",
       "    .dataframe tbody tr th {\n",
       "        vertical-align: top;\n",
       "    }\n",
       "\n",
       "    .dataframe thead th {\n",
       "        text-align: right;\n",
       "    }\n",
       "</style>\n",
       "<table border=\"1\" class=\"dataframe\">\n",
       "  <thead>\n",
       "    <tr style=\"text-align: right;\">\n",
       "      <th></th>\n",
       "      <th>mvar2</th>\n",
       "      <th>mvar4</th>\n",
       "      <th>mvar5</th>\n",
       "      <th>mvar18</th>\n",
       "      <th>mvar19</th>\n",
       "      <th>mvar25</th>\n",
       "      <th>mvar28</th>\n",
       "      <th>mvar29</th>\n",
       "      <th>mvar34</th>\n",
       "      <th>mvar36</th>\n",
       "      <th>...</th>\n",
       "      <th>binned_mvar9</th>\n",
       "      <th>mvar48</th>\n",
       "      <th>binned_mvar12</th>\n",
       "      <th>binned_mvar13</th>\n",
       "      <th>binned_mvar14</th>\n",
       "      <th>binned_mvar21</th>\n",
       "      <th>binned_mvar22</th>\n",
       "      <th>binned_mvar24</th>\n",
       "      <th>binned_mvar32</th>\n",
       "      <th>binned_mvar33</th>\n",
       "    </tr>\n",
       "  </thead>\n",
       "  <tbody>\n",
       "    <tr>\n",
       "      <th>count</th>\n",
       "      <td>8.000000</td>\n",
       "      <td>8.000000</td>\n",
       "      <td>8.000000</td>\n",
       "      <td>8.000000</td>\n",
       "      <td>8.000000</td>\n",
       "      <td>8.000000</td>\n",
       "      <td>8.000000</td>\n",
       "      <td>8.000000</td>\n",
       "      <td>8.000000</td>\n",
       "      <td>8.000000</td>\n",
       "      <td>...</td>\n",
       "      <td>8.000000</td>\n",
       "      <td>8.000000</td>\n",
       "      <td>8.000000</td>\n",
       "      <td>8.000000</td>\n",
       "      <td>8.000000</td>\n",
       "      <td>8.000000</td>\n",
       "      <td>8.000000</td>\n",
       "      <td>8.000000</td>\n",
       "      <td>8.000000</td>\n",
       "      <td>8.000000</td>\n",
       "    </tr>\n",
       "    <tr>\n",
       "      <th>mean</th>\n",
       "      <td>8757.527986</td>\n",
       "      <td>8757.056515</td>\n",
       "      <td>8757.048577</td>\n",
       "      <td>8757.198544</td>\n",
       "      <td>8757.743538</td>\n",
       "      <td>11845.523913</td>\n",
       "      <td>19265.407397</td>\n",
       "      <td>14982.439933</td>\n",
       "      <td>8757.201232</td>\n",
       "      <td>8761.081419</td>\n",
       "      <td>...</td>\n",
       "      <td>8758.508950</td>\n",
       "      <td>8757.384926</td>\n",
       "      <td>8759.332138</td>\n",
       "      <td>8759.103857</td>\n",
       "      <td>8758.778146</td>\n",
       "      <td>8759.236107</td>\n",
       "      <td>8758.771684</td>\n",
       "      <td>8758.462861</td>\n",
       "      <td>8758.505334</td>\n",
       "      <td>8759.087623</td>\n",
       "    </tr>\n",
       "    <tr>\n",
       "      <th>std</th>\n",
       "      <td>24767.918952</td>\n",
       "      <td>24768.109437</td>\n",
       "      <td>24768.112645</td>\n",
       "      <td>24768.052056</td>\n",
       "      <td>24767.831870</td>\n",
       "      <td>24139.234775</td>\n",
       "      <td>24079.944575</td>\n",
       "      <td>23469.793960</td>\n",
       "      <td>24768.050970</td>\n",
       "      <td>24766.483366</td>\n",
       "      <td>...</td>\n",
       "      <td>24767.522578</td>\n",
       "      <td>24767.976740</td>\n",
       "      <td>24767.189982</td>\n",
       "      <td>24767.282211</td>\n",
       "      <td>24767.413810</td>\n",
       "      <td>24767.228784</td>\n",
       "      <td>24767.416428</td>\n",
       "      <td>24767.541200</td>\n",
       "      <td>24767.524038</td>\n",
       "      <td>24767.288770</td>\n",
       "    </tr>\n",
       "    <tr>\n",
       "      <th>min</th>\n",
       "      <td>0.000000</td>\n",
       "      <td>0.000000</td>\n",
       "      <td>0.000000</td>\n",
       "      <td>0.000000</td>\n",
       "      <td>0.000000</td>\n",
       "      <td>0.000000</td>\n",
       "      <td>0.000000</td>\n",
       "      <td>183.000000</td>\n",
       "      <td>0.000000</td>\n",
       "      <td>1.000000</td>\n",
       "      <td>...</td>\n",
       "      <td>0.829606</td>\n",
       "      <td>0.000000</td>\n",
       "      <td>1.000000</td>\n",
       "      <td>1.000000</td>\n",
       "      <td>0.507544</td>\n",
       "      <td>1.000000</td>\n",
       "      <td>0.944793</td>\n",
       "      <td>0.812134</td>\n",
       "      <td>0.858334</td>\n",
       "      <td>1.000000</td>\n",
       "    </tr>\n",
       "    <tr>\n",
       "      <th>25%</th>\n",
       "      <td>0.000000</td>\n",
       "      <td>0.000000</td>\n",
       "      <td>0.000000</td>\n",
       "      <td>0.000000</td>\n",
       "      <td>0.000000</td>\n",
       "      <td>1185.430850</td>\n",
       "      <td>235.500000</td>\n",
       "      <td>3383.198059</td>\n",
       "      <td>0.000000</td>\n",
       "      <td>2.824132</td>\n",
       "      <td>...</td>\n",
       "      <td>1.000000</td>\n",
       "      <td>0.369277</td>\n",
       "      <td>1.807545</td>\n",
       "      <td>1.753431</td>\n",
       "      <td>1.750000</td>\n",
       "      <td>1.796633</td>\n",
       "      <td>1.000000</td>\n",
       "      <td>1.000000</td>\n",
       "      <td>1.000000</td>\n",
       "      <td>1.777231</td>\n",
       "    </tr>\n",
       "    <tr>\n",
       "      <th>50%</th>\n",
       "      <td>0.611942</td>\n",
       "      <td>0.061659</td>\n",
       "      <td>0.047584</td>\n",
       "      <td>0.079038</td>\n",
       "      <td>0.884862</td>\n",
       "      <td>1724.141753</td>\n",
       "      <td>11481.129590</td>\n",
       "      <td>5451.363614</td>\n",
       "      <td>0.084605</td>\n",
       "      <td>4.276254</td>\n",
       "      <td>...</td>\n",
       "      <td>2.120998</td>\n",
       "      <td>0.793519</td>\n",
       "      <td>3.213461</td>\n",
       "      <td>2.908565</td>\n",
       "      <td>2.858811</td>\n",
       "      <td>2.851160</td>\n",
       "      <td>2.614339</td>\n",
       "      <td>1.945379</td>\n",
       "      <td>2.092170</td>\n",
       "      <td>2.796032</td>\n",
       "    </tr>\n",
       "    <tr>\n",
       "      <th>75%</th>\n",
       "      <td>1.500000</td>\n",
       "      <td>0.496603</td>\n",
       "      <td>0.470087</td>\n",
       "      <td>0.822705</td>\n",
       "      <td>1.883938</td>\n",
       "      <td>5934.250000</td>\n",
       "      <td>30386.000000</td>\n",
       "      <td>11726.000000</td>\n",
       "      <td>0.830483</td>\n",
       "      <td>8.250000</td>\n",
       "      <td>...</td>\n",
       "      <td>3.000000</td>\n",
       "      <td>1.000000</td>\n",
       "      <td>4.250000</td>\n",
       "      <td>4.000000</td>\n",
       "      <td>3.000000</td>\n",
       "      <td>4.250000</td>\n",
       "      <td>3.250000</td>\n",
       "      <td>3.000000</td>\n",
       "      <td>3.000000</td>\n",
       "      <td>4.000000</td>\n",
       "    </tr>\n",
       "    <tr>\n",
       "      <th>max</th>\n",
       "      <td>70055.000000</td>\n",
       "      <td>70055.000000</td>\n",
       "      <td>70055.000000</td>\n",
       "      <td>70055.000000</td>\n",
       "      <td>70055.000000</td>\n",
       "      <td>70055.000000</td>\n",
       "      <td>70055.000000</td>\n",
       "      <td>70055.000000</td>\n",
       "      <td>70055.000000</td>\n",
       "      <td>70055.000000</td>\n",
       "      <td>...</td>\n",
       "      <td>70055.000000</td>\n",
       "      <td>70055.000000</td>\n",
       "      <td>70055.000000</td>\n",
       "      <td>70055.000000</td>\n",
       "      <td>70055.000000</td>\n",
       "      <td>70055.000000</td>\n",
       "      <td>70055.000000</td>\n",
       "      <td>70055.000000</td>\n",
       "      <td>70055.000000</td>\n",
       "      <td>70055.000000</td>\n",
       "    </tr>\n",
       "  </tbody>\n",
       "</table>\n",
       "<p>8 rows × 29 columns</p>\n",
       "</div>"
      ],
      "text/plain": [
       "              mvar2         mvar4         mvar5        mvar18        mvar19  \\\n",
       "count      8.000000      8.000000      8.000000      8.000000      8.000000   \n",
       "mean    8757.527986   8757.056515   8757.048577   8757.198544   8757.743538   \n",
       "std    24767.918952  24768.109437  24768.112645  24768.052056  24767.831870   \n",
       "min        0.000000      0.000000      0.000000      0.000000      0.000000   \n",
       "25%        0.000000      0.000000      0.000000      0.000000      0.000000   \n",
       "50%        0.611942      0.061659      0.047584      0.079038      0.884862   \n",
       "75%        1.500000      0.496603      0.470087      0.822705      1.883938   \n",
       "max    70055.000000  70055.000000  70055.000000  70055.000000  70055.000000   \n",
       "\n",
       "             mvar25        mvar28        mvar29        mvar34        mvar36  \\\n",
       "count      8.000000      8.000000      8.000000      8.000000      8.000000   \n",
       "mean   11845.523913  19265.407397  14982.439933   8757.201232   8761.081419   \n",
       "std    24139.234775  24079.944575  23469.793960  24768.050970  24766.483366   \n",
       "min        0.000000      0.000000    183.000000      0.000000      1.000000   \n",
       "25%     1185.430850    235.500000   3383.198059      0.000000      2.824132   \n",
       "50%     1724.141753  11481.129590   5451.363614      0.084605      4.276254   \n",
       "75%     5934.250000  30386.000000  11726.000000      0.830483      8.250000   \n",
       "max    70055.000000  70055.000000  70055.000000  70055.000000  70055.000000   \n",
       "\n",
       "           ...        binned_mvar9        mvar48  binned_mvar12  \\\n",
       "count      ...            8.000000      8.000000       8.000000   \n",
       "mean       ...         8758.508950   8757.384926    8759.332138   \n",
       "std        ...        24767.522578  24767.976740   24767.189982   \n",
       "min        ...            0.829606      0.000000       1.000000   \n",
       "25%        ...            1.000000      0.369277       1.807545   \n",
       "50%        ...            2.120998      0.793519       3.213461   \n",
       "75%        ...            3.000000      1.000000       4.250000   \n",
       "max        ...        70055.000000  70055.000000   70055.000000   \n",
       "\n",
       "       binned_mvar13  binned_mvar14  binned_mvar21  binned_mvar22  \\\n",
       "count       8.000000       8.000000       8.000000       8.000000   \n",
       "mean     8759.103857    8758.778146    8759.236107    8758.771684   \n",
       "std     24767.282211   24767.413810   24767.228784   24767.416428   \n",
       "min         1.000000       0.507544       1.000000       0.944793   \n",
       "25%         1.753431       1.750000       1.796633       1.000000   \n",
       "50%         2.908565       2.858811       2.851160       2.614339   \n",
       "75%         4.000000       3.000000       4.250000       3.250000   \n",
       "max     70055.000000   70055.000000   70055.000000   70055.000000   \n",
       "\n",
       "       binned_mvar24  binned_mvar32  binned_mvar33  \n",
       "count       8.000000       8.000000       8.000000  \n",
       "mean     8758.462861    8758.505334    8759.087623  \n",
       "std     24767.541200   24767.524038   24767.288770  \n",
       "min         0.812134       0.858334       1.000000  \n",
       "25%         1.000000       1.000000       1.777231  \n",
       "50%         1.945379       2.092170       2.796032  \n",
       "75%         3.000000       3.000000       4.000000  \n",
       "max     70055.000000   70055.000000   70055.000000  \n",
       "\n",
       "[8 rows x 29 columns]"
      ]
     },
     "execution_count": 14960,
     "metadata": {},
     "output_type": "execute_result"
    }
   ],
   "source": [
    "df.describe()"
   ]
  },
  {
   "cell_type": "code",
   "execution_count": 14958,
   "metadata": {},
   "outputs": [
    {
     "ename": "CatboostError",
     "evalue": "Invalid type for cat_feature[0,0]=0.9451175062776098 : cat_features must be integer or string, real number values and NaN values should be converted to string.",
     "output_type": "error",
     "traceback": [
      "\u001b[1;31m---------------------------------------------------------------------------\u001b[0m",
      "\u001b[1;31mCatboostError\u001b[0m                             Traceback (most recent call last)",
      "\u001b[1;32m_catboost.pyx\u001b[0m in \u001b[0;36m_catboost._PoolBase._set_data_from_generic_matrix\u001b[1;34m()\u001b[0m\n",
      "\u001b[1;32m_catboost.pyx\u001b[0m in \u001b[0;36m_catboost.get_id_object_bytes_string_representation\u001b[1;34m()\u001b[0m\n",
      "\u001b[1;31mCatboostError\u001b[0m: bad object for id: 0.9451175062776098",
      "\nDuring handling of the above exception, another exception occurred:\n",
      "\u001b[1;31mCatboostError\u001b[0m                             Traceback (most recent call last)",
      "\u001b[1;32m<ipython-input-14958-3e52d9843ea2>\u001b[0m in \u001b[0;36m<module>\u001b[1;34m()\u001b[0m\n\u001b[0;32m      1\u001b[0m \u001b[1;32mfrom\u001b[0m \u001b[0mcatboost\u001b[0m \u001b[1;32mimport\u001b[0m \u001b[0mCatBoostClassifier\u001b[0m\u001b[1;33m\u001b[0m\u001b[0m\n\u001b[0;32m      2\u001b[0m \u001b[0mmodel\u001b[0m \u001b[1;33m=\u001b[0m \u001b[0mCatBoostClassifier\u001b[0m\u001b[1;33m(\u001b[0m\u001b[0miterations\u001b[0m\u001b[1;33m=\u001b[0m\u001b[1;36m2\u001b[0m\u001b[1;33m,\u001b[0m \u001b[0mdepth\u001b[0m\u001b[1;33m=\u001b[0m\u001b[1;36m2\u001b[0m\u001b[1;33m,\u001b[0m \u001b[0mlearning_rate\u001b[0m\u001b[1;33m=\u001b[0m\u001b[1;36m1\u001b[0m\u001b[1;33m,\u001b[0m \u001b[0mloss_function\u001b[0m\u001b[1;33m=\u001b[0m\u001b[1;34m'Logloss'\u001b[0m\u001b[1;33m,\u001b[0m \u001b[0mlogging_level\u001b[0m\u001b[1;33m=\u001b[0m\u001b[1;34m'Verbose'\u001b[0m\u001b[1;33m)\u001b[0m\u001b[1;33m\u001b[0m\u001b[0m\n\u001b[1;32m----> 3\u001b[1;33m \u001b[0mmodel\u001b[0m\u001b[1;33m.\u001b[0m\u001b[0mfit\u001b[0m\u001b[1;33m(\u001b[0m\u001b[0mx\u001b[0m\u001b[1;33m,\u001b[0m \u001b[0my\u001b[0m\u001b[1;33m,\u001b[0m \u001b[0mcat_features\u001b[0m\u001b[1;33m=\u001b[0m\u001b[1;33m[\u001b[0m\u001b[1;36m0\u001b[0m\u001b[1;33m,\u001b[0m\u001b[1;36m2\u001b[0m\u001b[1;33m,\u001b[0m\u001b[1;36m5\u001b[0m\u001b[1;33m]\u001b[0m\u001b[1;33m)\u001b[0m\u001b[1;33m\u001b[0m\u001b[0m\n\u001b[0m\u001b[0;32m      4\u001b[0m \u001b[0mpreds_proba\u001b[0m \u001b[1;33m=\u001b[0m \u001b[0mmodel\u001b[0m\u001b[1;33m.\u001b[0m\u001b[0mpredict_proba\u001b[0m\u001b[1;33m(\u001b[0m\u001b[0my\u001b[0m\u001b[1;33m)\u001b[0m\u001b[1;33m\u001b[0m\u001b[0m\n",
      "\u001b[1;32m~\\Anaconda3\\lib\\site-packages\\catboost\\core.py\u001b[0m in \u001b[0;36mfit\u001b[1;34m(self, X, y, cat_features, sample_weight, baseline, use_best_model, eval_set, verbose, logging_level, plot, column_description, verbose_eval, metric_period, silent, early_stopping_rounds, save_snapshot, snapshot_file, snapshot_interval)\u001b[0m\n\u001b[0;32m   2117\u001b[0m         self._fit(X, y, cat_features, None, sample_weight, None, None, None, None, baseline, use_best_model,\n\u001b[0;32m   2118\u001b[0m                   \u001b[0meval_set\u001b[0m\u001b[1;33m,\u001b[0m \u001b[0mverbose\u001b[0m\u001b[1;33m,\u001b[0m \u001b[0mlogging_level\u001b[0m\u001b[1;33m,\u001b[0m \u001b[0mplot\u001b[0m\u001b[1;33m,\u001b[0m \u001b[0mcolumn_description\u001b[0m\u001b[1;33m,\u001b[0m \u001b[0mverbose_eval\u001b[0m\u001b[1;33m,\u001b[0m \u001b[0mmetric_period\u001b[0m\u001b[1;33m,\u001b[0m\u001b[1;33m\u001b[0m\u001b[0m\n\u001b[1;32m-> 2119\u001b[1;33m                   silent, early_stopping_rounds, save_snapshot, snapshot_file, snapshot_interval)\n\u001b[0m\u001b[0;32m   2120\u001b[0m         \u001b[1;32mreturn\u001b[0m \u001b[0mself\u001b[0m\u001b[1;33m\u001b[0m\u001b[0m\n\u001b[0;32m   2121\u001b[0m \u001b[1;33m\u001b[0m\u001b[0m\n",
      "\u001b[1;32m~\\Anaconda3\\lib\\site-packages\\catboost\\core.py\u001b[0m in \u001b[0;36m_fit\u001b[1;34m(self, X, y, cat_features, pairs, sample_weight, group_id, group_weight, subgroup_id, pairs_weight, baseline, use_best_model, eval_set, verbose, logging_level, plot, column_description, verbose_eval, metric_period, silent, early_stopping_rounds, save_snapshot, snapshot_file, snapshot_interval)\u001b[0m\n\u001b[0;32m   1054\u001b[0m         \u001b[0m_check_train_params\u001b[0m\u001b[1;33m(\u001b[0m\u001b[0mparams\u001b[0m\u001b[1;33m)\u001b[0m\u001b[1;33m\u001b[0m\u001b[0m\n\u001b[0;32m   1055\u001b[0m \u001b[1;33m\u001b[0m\u001b[0m\n\u001b[1;32m-> 1056\u001b[1;33m         \u001b[0mtrain_pool\u001b[0m \u001b[1;33m=\u001b[0m \u001b[0m_build_train_pool\u001b[0m\u001b[1;33m(\u001b[0m\u001b[0mX\u001b[0m\u001b[1;33m,\u001b[0m \u001b[0my\u001b[0m\u001b[1;33m,\u001b[0m \u001b[0mcat_features\u001b[0m\u001b[1;33m,\u001b[0m \u001b[0mpairs\u001b[0m\u001b[1;33m,\u001b[0m \u001b[0msample_weight\u001b[0m\u001b[1;33m,\u001b[0m \u001b[0mgroup_id\u001b[0m\u001b[1;33m,\u001b[0m \u001b[0mgroup_weight\u001b[0m\u001b[1;33m,\u001b[0m \u001b[0msubgroup_id\u001b[0m\u001b[1;33m,\u001b[0m \u001b[0mpairs_weight\u001b[0m\u001b[1;33m,\u001b[0m \u001b[0mbaseline\u001b[0m\u001b[1;33m,\u001b[0m \u001b[0mcolumn_description\u001b[0m\u001b[1;33m)\u001b[0m\u001b[1;33m\u001b[0m\u001b[0m\n\u001b[0m\u001b[0;32m   1057\u001b[0m         \u001b[1;32mif\u001b[0m \u001b[0mtrain_pool\u001b[0m\u001b[1;33m.\u001b[0m\u001b[0mis_empty_\u001b[0m\u001b[1;33m:\u001b[0m\u001b[1;33m\u001b[0m\u001b[0m\n\u001b[0;32m   1058\u001b[0m             \u001b[1;32mraise\u001b[0m \u001b[0mCatboostError\u001b[0m\u001b[1;33m(\u001b[0m\u001b[1;34m\"X is empty.\"\u001b[0m\u001b[1;33m)\u001b[0m\u001b[1;33m\u001b[0m\u001b[0m\n",
      "\u001b[1;32m~\\Anaconda3\\lib\\site-packages\\catboost\\core.py\u001b[0m in \u001b[0;36m_build_train_pool\u001b[1;34m(X, y, cat_features, pairs, sample_weight, group_id, group_weight, subgroup_id, pairs_weight, baseline, column_description)\u001b[0m\n\u001b[0;32m    663\u001b[0m             \u001b[1;32mraise\u001b[0m \u001b[0mCatboostError\u001b[0m\u001b[1;33m(\u001b[0m\u001b[1;34m\"y has not initialized in fit(): X is not catboost.Pool object, y must be not None in fit().\"\u001b[0m\u001b[1;33m)\u001b[0m\u001b[1;33m\u001b[0m\u001b[0m\n\u001b[0;32m    664\u001b[0m         train_pool = Pool(X, y, cat_features=cat_features, pairs=pairs, weight=sample_weight, group_id=group_id,\n\u001b[1;32m--> 665\u001b[1;33m                           group_weight=group_weight, subgroup_id=subgroup_id, pairs_weight=pairs_weight, baseline=baseline)\n\u001b[0m\u001b[0;32m    666\u001b[0m     \u001b[1;32mreturn\u001b[0m \u001b[0mtrain_pool\u001b[0m\u001b[1;33m\u001b[0m\u001b[0m\n\u001b[0;32m    667\u001b[0m \u001b[1;33m\u001b[0m\u001b[0m\n",
      "\u001b[1;32m~\\Anaconda3\\lib\\site-packages\\catboost\\core.py\u001b[0m in \u001b[0;36m__init__\u001b[1;34m(self, data, label, cat_features, column_description, pairs, delimiter, has_header, weight, group_id, group_weight, subgroup_id, pairs_weight, baseline, feature_names, thread_count)\u001b[0m\n\u001b[0;32m    293\u001b[0m                         )\n\u001b[0;32m    294\u001b[0m \u001b[1;33m\u001b[0m\u001b[0m\n\u001b[1;32m--> 295\u001b[1;33m                 \u001b[0mself\u001b[0m\u001b[1;33m.\u001b[0m\u001b[0m_init\u001b[0m\u001b[1;33m(\u001b[0m\u001b[0mdata\u001b[0m\u001b[1;33m,\u001b[0m \u001b[0mlabel\u001b[0m\u001b[1;33m,\u001b[0m \u001b[0mcat_features\u001b[0m\u001b[1;33m,\u001b[0m \u001b[0mpairs\u001b[0m\u001b[1;33m,\u001b[0m \u001b[0mweight\u001b[0m\u001b[1;33m,\u001b[0m \u001b[0mgroup_id\u001b[0m\u001b[1;33m,\u001b[0m \u001b[0mgroup_weight\u001b[0m\u001b[1;33m,\u001b[0m \u001b[0msubgroup_id\u001b[0m\u001b[1;33m,\u001b[0m \u001b[0mpairs_weight\u001b[0m\u001b[1;33m,\u001b[0m \u001b[0mbaseline\u001b[0m\u001b[1;33m,\u001b[0m \u001b[0mfeature_names\u001b[0m\u001b[1;33m)\u001b[0m\u001b[1;33m\u001b[0m\u001b[0m\n\u001b[0m\u001b[0;32m    296\u001b[0m         \u001b[0msuper\u001b[0m\u001b[1;33m(\u001b[0m\u001b[0mPool\u001b[0m\u001b[1;33m,\u001b[0m \u001b[0mself\u001b[0m\u001b[1;33m)\u001b[0m\u001b[1;33m.\u001b[0m\u001b[0m__init__\u001b[0m\u001b[1;33m(\u001b[0m\u001b[1;33m)\u001b[0m\u001b[1;33m\u001b[0m\u001b[0m\n\u001b[0;32m    297\u001b[0m \u001b[1;33m\u001b[0m\u001b[0m\n",
      "\u001b[1;32m~\\Anaconda3\\lib\\site-packages\\catboost\\core.py\u001b[0m in \u001b[0;36m_init\u001b[1;34m(self, data, label, cat_features, pairs, weight, group_id, group_weight, subgroup_id, pairs_weight, baseline, feature_names)\u001b[0m\n\u001b[0;32m    644\u001b[0m         \u001b[1;32mif\u001b[0m \u001b[0mfeature_names\u001b[0m \u001b[1;32mis\u001b[0m \u001b[1;32mnot\u001b[0m \u001b[1;32mNone\u001b[0m\u001b[1;33m:\u001b[0m\u001b[1;33m\u001b[0m\u001b[0m\n\u001b[0;32m    645\u001b[0m             \u001b[0mself\u001b[0m\u001b[1;33m.\u001b[0m\u001b[0m_check_feature_names\u001b[0m\u001b[1;33m(\u001b[0m\u001b[0mfeature_names\u001b[0m\u001b[1;33m,\u001b[0m \u001b[0mfeatures_count\u001b[0m\u001b[1;33m)\u001b[0m\u001b[1;33m\u001b[0m\u001b[0m\n\u001b[1;32m--> 646\u001b[1;33m         \u001b[0mself\u001b[0m\u001b[1;33m.\u001b[0m\u001b[0m_init_pool\u001b[0m\u001b[1;33m(\u001b[0m\u001b[0mdata\u001b[0m\u001b[1;33m,\u001b[0m \u001b[0mlabel\u001b[0m\u001b[1;33m,\u001b[0m \u001b[0mcat_features\u001b[0m\u001b[1;33m,\u001b[0m \u001b[0mpairs\u001b[0m\u001b[1;33m,\u001b[0m \u001b[0mweight\u001b[0m\u001b[1;33m,\u001b[0m \u001b[0mgroup_id\u001b[0m\u001b[1;33m,\u001b[0m \u001b[0mgroup_weight\u001b[0m\u001b[1;33m,\u001b[0m \u001b[0msubgroup_id\u001b[0m\u001b[1;33m,\u001b[0m \u001b[0mpairs_weight\u001b[0m\u001b[1;33m,\u001b[0m \u001b[0mbaseline\u001b[0m\u001b[1;33m,\u001b[0m \u001b[0mfeature_names\u001b[0m\u001b[1;33m)\u001b[0m\u001b[1;33m\u001b[0m\u001b[0m\n\u001b[0m\u001b[0;32m    647\u001b[0m \u001b[1;33m\u001b[0m\u001b[0m\n\u001b[0;32m    648\u001b[0m \u001b[1;33m\u001b[0m\u001b[0m\n",
      "\u001b[1;32m_catboost.pyx\u001b[0m in \u001b[0;36m_catboost._PoolBase._init_pool\u001b[1;34m()\u001b[0m\n",
      "\u001b[1;32m_catboost.pyx\u001b[0m in \u001b[0;36m_catboost._PoolBase._init_pool\u001b[1;34m()\u001b[0m\n",
      "\u001b[1;32m_catboost.pyx\u001b[0m in \u001b[0;36m_catboost._PoolBase._set_data_and_feature_names\u001b[1;34m()\u001b[0m\n",
      "\u001b[1;32m_catboost.pyx\u001b[0m in \u001b[0;36m_catboost._PoolBase._set_data_from_generic_matrix\u001b[1;34m()\u001b[0m\n",
      "\u001b[1;31mCatboostError\u001b[0m: Invalid type for cat_feature[0,0]=0.9451175062776098 : cat_features must be integer or string, real number values and NaN values should be converted to string."
     ]
    }
   ],
   "source": [
    "from catboost import CatBoostClassifier\n",
    "model = CatBoostClassifier(iterations=2, depth=2, learning_rate=1, loss_function='Logloss', logging_level='Verbose')\n",
    "model.fit(x, y, cat_features=[0,2,5])\n",
    "preds_proba = model.predict_proba(y)"
   ]
  },
  {
   "cell_type": "code",
   "execution_count": 11762,
   "metadata": {},
   "outputs": [
    {
     "name": "stdout",
     "output_type": "stream",
     "text": [
      "Fitting 6 folds for each of 1 candidates, totalling 6 fits\n"
     ]
    },
    {
     "name": "stderr",
     "output_type": "stream",
     "text": [
      "[Parallel(n_jobs=-1)]: Done   6 out of   6 | elapsed:  4.9min remaining:    0.0s\n",
      "[Parallel(n_jobs=-1)]: Done   6 out of   6 | elapsed:  4.9min finished\n"
     ]
    },
    {
     "name": "stdout",
     "output_type": "stream",
     "text": [
      "0.8428386218095625\n"
     ]
    },
    {
     "name": "stderr",
     "output_type": "stream",
     "text": [
      "C:\\Users\\Chirag Garg\\Anaconda3\\lib\\site-packages\\sklearn\\preprocessing\\label.py:151: DeprecationWarning: The truth value of an empty array is ambiguous. Returning False, but in future this will result in an error. Use `array.size > 0` to check that an array is not empty.\n",
      "  if diff:\n"
     ]
    }
   ],
   "source": [
    "xgb1 = XGBClassifier()\n",
    "parameters = {'nthread':[4], #when use hyperthread, xgboost may become slower\n",
    "              'objective':['binary:logistic'],\n",
    "              'booster':['gbtree'],\n",
    "              'learning_rate':  [0.01], #so called `eta` value\n",
    "              'max_depth': [10],\n",
    "              'min_child_weight': [10],\n",
    "              'silent': [1],\n",
    "               'gamma':[0.4],\n",
    "              'subsample': [0.7],\n",
    "              'colsample_bytree': [0.6],\n",
    "               'reg_alpha':[0.01],\n",
    "              'n_estimators': [500]}\n",
    "\n",
    "xgb_grid = GridSearchCV(xgb1,\n",
    "                        parameters,\n",
    "                        cv = 6,\n",
    "                        n_jobs = -1,scoring='log_loss',\n",
    "                        verbose=True)\n",
    "\n",
    "xgb_grid.fit(x,y)\n",
    "pred3 = xgb_grid.predict(x)\n",
    "print(metrics.accuracy_score(y, y_pred))"
   ]
  },
  {
   "cell_type": "code",
   "execution_count": 11763,
   "metadata": {},
   "outputs": [
    {
     "name": "stdout",
     "output_type": "stream",
     "text": [
      "{'booster': 'gbtree', 'colsample_bytree': 0.6, 'gamma': 0.4, 'learning_rate': 0.01, 'max_depth': 10, 'min_child_weight': 10, 'n_estimators': 500, 'nthread': 4, 'objective': 'binary:logistic', 'reg_alpha': 0.01, 'silent': 1, 'subsample': 0.7}\n"
     ]
    }
   ],
   "source": [
    "print(xgb_grid.best_params_)"
   ]
  },
  {
   "cell_type": "code",
   "execution_count": 11764,
   "metadata": {},
   "outputs": [],
   "source": [
    "from sklearn.ensemble import GradientBoostingClassifier\n",
    "gbm = GradientBoostingClassifier(loss = 'deviance')\n",
    "gbm.fit(x,y)\n",
    "pred4 = gbm.predict(x)"
   ]
  },
  {
   "cell_type": "code",
   "execution_count": 11765,
   "metadata": {},
   "outputs": [],
   "source": [
    "df['lg_1'] = pred1\n",
    "df['lgb_1'] =pred2\n",
    "df['xgb'] = pred3\n",
    "df['gbm'] = pred4"
   ]
  },
  {
   "cell_type": "code",
   "execution_count": 11766,
   "metadata": {},
   "outputs": [],
   "source": [
    "dframe = df[['lg_1','lgb_1','xgb','gbm']]\n",
    "X_ = dframe.iloc[:,:].values"
   ]
  },
  {
   "cell_type": "code",
   "execution_count": 11767,
   "metadata": {},
   "outputs": [],
   "source": [
    "lreg1 = LogisticRegression(random_state=0)\n",
    "lreg1.fit(X_, y) # training the model\n",
    "\n",
    "pred5 = lreg1.predict_proba(X_)"
   ]
  },
  {
   "cell_type": "code",
   "execution_count": 11768,
   "metadata": {},
   "outputs": [
    {
     "data": {
      "text/plain": [
       "array([[0.85620321, 0.14379679],\n",
       "       [0.85620321, 0.14379679],\n",
       "       [0.85620321, 0.14379679],\n",
       "       ...,\n",
       "       [0.25156094, 0.74843906],\n",
       "       [0.85620321, 0.14379679],\n",
       "       [0.85620321, 0.14379679]])"
      ]
     },
     "execution_count": 11768,
     "metadata": {},
     "output_type": "execute_result"
    }
   ],
   "source": [
    "pred5"
   ]
  },
  {
   "cell_type": "code",
   "execution_count": 11769,
   "metadata": {},
   "outputs": [
    {
     "name": "stdout",
     "output_type": "stream",
     "text": [
      "<class 'numpy.ndarray'>\n"
     ]
    }
   ],
   "source": [
    "arr=pred5[:,1]\n",
    "import random\n",
    "print (type(arr))\n",
    "for i in range (len(arr)):\n",
    "    if arr[i]>0.50:\n",
    "        arr[i]=1\n",
    "    else :\n",
    "        arr[i]=0"
   ]
  },
  {
   "cell_type": "code",
   "execution_count": 11770,
   "metadata": {},
   "outputs": [
    {
     "data": {
      "text/plain": [
       "array([[55223,  2794],\n",
       "       [ 9170,  9174]], dtype=int64)"
      ]
     },
     "execution_count": 11770,
     "metadata": {},
     "output_type": "execute_result"
    }
   ],
   "source": [
    "\n",
    "metrics.confusion_matrix( y,arr)"
   ]
  },
  {
   "cell_type": "code",
   "execution_count": 11771,
   "metadata": {},
   "outputs": [
    {
     "data": {
      "text/plain": [
       "0.8433231623472716"
      ]
     },
     "execution_count": 11771,
     "metadata": {},
     "output_type": "execute_result"
    }
   ],
   "source": [
    "gbm2 = GradientBoostingClassifier(loss = 'deviance')\n",
    "gbm2.fit(X_,y)\n",
    "pred6 = gbm2.predict(X_)\n",
    "metrics.accuracy_score( y,pred6)"
   ]
  },
  {
   "cell_type": "code",
   "execution_count": 11772,
   "metadata": {},
   "outputs": [
    {
     "name": "stdout",
     "output_type": "stream",
     "text": [
      "Fitting 6 folds for each of 1 candidates, totalling 6 fits\n"
     ]
    },
    {
     "name": "stderr",
     "output_type": "stream",
     "text": [
      "[Parallel(n_jobs=-1)]: Done   6 out of   6 | elapsed:   28.9s remaining:    0.0s\n",
      "[Parallel(n_jobs=-1)]: Done   6 out of   6 | elapsed:   28.9s finished\n"
     ]
    },
    {
     "name": "stdout",
     "output_type": "stream",
     "text": [
      "0.8433231623472716\n"
     ]
    },
    {
     "name": "stderr",
     "output_type": "stream",
     "text": [
      "C:\\Users\\Chirag Garg\\Anaconda3\\lib\\site-packages\\sklearn\\preprocessing\\label.py:151: DeprecationWarning: The truth value of an empty array is ambiguous. Returning False, but in future this will result in an error. Use `array.size > 0` to check that an array is not empty.\n",
      "  if diff:\n"
     ]
    }
   ],
   "source": [
    "xgb2 = XGBClassifier()\n",
    "parameters = {'nthread':[4], #when use hyperthread, xgboost may become slower\n",
    "              'objective':['binary:logistic'],\n",
    "              'booster':['gbtree'],\n",
    "              'learning_rate':  [0.01], #so called `eta` value\n",
    "              'max_depth': [10],\n",
    "              'min_child_weight': [10],\n",
    "              'silent': [1],\n",
    "               'gamma':[0.4],\n",
    "              'subsample': [0.7],\n",
    "              'colsample_bytree': [0.6],\n",
    "               'reg_alpha':[0.01],\n",
    "              'n_estimators': [500]}\n",
    "\n",
    "xgb_grid2 = GridSearchCV(xgb1,\n",
    "                        parameters,\n",
    "                        cv = 6,\n",
    "                        n_jobs = -1,scoring='log_loss',\n",
    "                        verbose=True)\n",
    "\n",
    "xgb_grid2.fit(X_,y)\n",
    "pred7 = xgb_grid2.predict(X_)\n",
    "print(metrics.accuracy_score(y, pred7))"
   ]
  },
  {
   "cell_type": "code",
   "execution_count": 15203,
   "metadata": {},
   "outputs": [
    {
     "name": "stderr",
     "output_type": "stream",
     "text": [
      "C:\\Users\\Chirag Garg\\Anaconda3\\lib\\site-packages\\IPython\\core\\interactiveshell.py:2785: DtypeWarning: Columns (19) have mixed types. Specify dtype option on import or set low_memory=False.\n",
      "  interactivity=interactivity, compiler=compiler, result=result)\n"
     ]
    }
   ],
   "source": [
    "df = pd.read_csv('F:/AMEX/Leaderboard_dataset.csv')"
   ]
  },
  {
   "cell_type": "code",
   "execution_count": 15204,
   "metadata": {},
   "outputs": [
    {
     "name": "stdout",
     "output_type": "stream",
     "text": [
      "<class 'pandas.core.frame.DataFrame'>\n",
      "RangeIndex: 25000 entries, 0 to 24999\n",
      "Data columns (total 48 columns):\n",
      "application_key    25000 non-null int64\n",
      "mvar1              25000 non-null object\n",
      "mvar2              23294 non-null float64\n",
      "mvar3              24842 non-null float64\n",
      "mvar4              24842 non-null float64\n",
      "mvar5              24842 non-null float64\n",
      "mvar6              25000 non-null object\n",
      "mvar7              25000 non-null object\n",
      "mvar8              25000 non-null object\n",
      "mvar9              25000 non-null object\n",
      "mvar10             25000 non-null object\n",
      "mvar11             25000 non-null object\n",
      "mvar12             25000 non-null object\n",
      "mvar13             25000 non-null object\n",
      "mvar14             25000 non-null int64\n",
      "mvar15             25000 non-null object\n",
      "mvar16             25000 non-null object\n",
      "mvar17             25000 non-null object\n",
      "mvar18             25000 non-null object\n",
      "mvar19             25000 non-null object\n",
      "mvar20             25000 non-null object\n",
      "mvar21             18106 non-null float64\n",
      "mvar22             15919 non-null float64\n",
      "mvar23             12359 non-null float64\n",
      "mvar24             19223 non-null float64\n",
      "mvar25             25000 non-null object\n",
      "mvar26             25000 non-null object\n",
      "mvar27             25000 non-null object\n",
      "mvar28             25000 non-null object\n",
      "mvar29             25000 non-null object\n",
      "mvar30             25000 non-null object\n",
      "mvar31             25000 non-null object\n",
      "mvar32             25000 non-null object\n",
      "mvar33             24461 non-null float64\n",
      "mvar34             25000 non-null object\n",
      "mvar35             25000 non-null object\n",
      "mvar36             25000 non-null object\n",
      "mvar37             25000 non-null object\n",
      "mvar38             25000 non-null object\n",
      "mvar39             25000 non-null object\n",
      "mvar40             25000 non-null object\n",
      "mvar41             25000 non-null object\n",
      "mvar42             25000 non-null object\n",
      "mvar43             25000 non-null object\n",
      "mvar44             22538 non-null float64\n",
      "mvar45             25000 non-null object\n",
      "mvar46             25000 non-null object\n",
      "mvar47             25000 non-null object\n",
      "dtypes: float64(10), int64(2), object(36)\n",
      "memory usage: 9.2+ MB\n"
     ]
    }
   ],
   "source": [
    "df.info()"
   ]
  },
  {
   "cell_type": "code",
   "execution_count": 15205,
   "metadata": {},
   "outputs": [],
   "source": [
    "df['mvar47'] =df['mvar47'].replace(['C','L'],[0,1])"
   ]
  },
  {
   "cell_type": "code",
   "execution_count": 15206,
   "metadata": {},
   "outputs": [
    {
     "data": {
      "text/html": [
       "<div>\n",
       "<style scoped>\n",
       "    .dataframe tbody tr th:only-of-type {\n",
       "        vertical-align: middle;\n",
       "    }\n",
       "\n",
       "    .dataframe tbody tr th {\n",
       "        vertical-align: top;\n",
       "    }\n",
       "\n",
       "    .dataframe thead th {\n",
       "        text-align: right;\n",
       "    }\n",
       "</style>\n",
       "<table border=\"1\" class=\"dataframe\">\n",
       "  <thead>\n",
       "    <tr style=\"text-align: right;\">\n",
       "      <th></th>\n",
       "      <th>application_key</th>\n",
       "      <th>mvar1</th>\n",
       "      <th>mvar2</th>\n",
       "      <th>mvar3</th>\n",
       "      <th>mvar4</th>\n",
       "      <th>mvar5</th>\n",
       "      <th>mvar6</th>\n",
       "      <th>mvar7</th>\n",
       "      <th>mvar8</th>\n",
       "      <th>mvar9</th>\n",
       "      <th>...</th>\n",
       "      <th>mvar38</th>\n",
       "      <th>mvar39</th>\n",
       "      <th>mvar40</th>\n",
       "      <th>mvar41</th>\n",
       "      <th>mvar42</th>\n",
       "      <th>mvar43</th>\n",
       "      <th>mvar44</th>\n",
       "      <th>mvar45</th>\n",
       "      <th>mvar46</th>\n",
       "      <th>mvar47</th>\n",
       "    </tr>\n",
       "  </thead>\n",
       "  <tbody>\n",
       "    <tr>\n",
       "      <th>0</th>\n",
       "      <td>350053</td>\n",
       "      <td>1753</td>\n",
       "      <td>0.5001</td>\n",
       "      <td>0.000</td>\n",
       "      <td>0.0</td>\n",
       "      <td>0.0</td>\n",
       "      <td>206</td>\n",
       "      <td>19179</td>\n",
       "      <td>206</td>\n",
       "      <td>14221</td>\n",
       "      <td>...</td>\n",
       "      <td>1</td>\n",
       "      <td>0</td>\n",
       "      <td>missing</td>\n",
       "      <td>20.551</td>\n",
       "      <td>0.42105</td>\n",
       "      <td>3</td>\n",
       "      <td>0.85661</td>\n",
       "      <td>na</td>\n",
       "      <td>0</td>\n",
       "      <td>1</td>\n",
       "    </tr>\n",
       "    <tr>\n",
       "      <th>1</th>\n",
       "      <td>350054</td>\n",
       "      <td>1894</td>\n",
       "      <td>1.9701</td>\n",
       "      <td>0.000</td>\n",
       "      <td>0.0</td>\n",
       "      <td>0.0</td>\n",
       "      <td>297</td>\n",
       "      <td>19820</td>\n",
       "      <td>19820</td>\n",
       "      <td>176895</td>\n",
       "      <td>...</td>\n",
       "      <td>3</td>\n",
       "      <td>0</td>\n",
       "      <td>missing</td>\n",
       "      <td>63.047</td>\n",
       "      <td>0</td>\n",
       "      <td>15</td>\n",
       "      <td>0.94391</td>\n",
       "      <td>0</td>\n",
       "      <td>0</td>\n",
       "      <td>0</td>\n",
       "    </tr>\n",
       "    <tr>\n",
       "      <th>2</th>\n",
       "      <td>350055</td>\n",
       "      <td>1774</td>\n",
       "      <td>0.1718</td>\n",
       "      <td>0.000</td>\n",
       "      <td>0.0</td>\n",
       "      <td>0.0</td>\n",
       "      <td>197</td>\n",
       "      <td>2563</td>\n",
       "      <td>877</td>\n",
       "      <td>8869</td>\n",
       "      <td>...</td>\n",
       "      <td>1</td>\n",
       "      <td>0</td>\n",
       "      <td>missing</td>\n",
       "      <td>83.797</td>\n",
       "      <td>0.33333</td>\n",
       "      <td>3</td>\n",
       "      <td>0.76467</td>\n",
       "      <td>0</td>\n",
       "      <td>0</td>\n",
       "      <td>0</td>\n",
       "    </tr>\n",
       "    <tr>\n",
       "      <th>3</th>\n",
       "      <td>350056</td>\n",
       "      <td>1586</td>\n",
       "      <td>0.1123</td>\n",
       "      <td>5.299</td>\n",
       "      <td>0.0</td>\n",
       "      <td>0.0</td>\n",
       "      <td>missing</td>\n",
       "      <td>missing</td>\n",
       "      <td>missing</td>\n",
       "      <td>missing</td>\n",
       "      <td>...</td>\n",
       "      <td>1</td>\n",
       "      <td>na</td>\n",
       "      <td>missing</td>\n",
       "      <td>missing</td>\n",
       "      <td>1.5</td>\n",
       "      <td>0</td>\n",
       "      <td>NaN</td>\n",
       "      <td>na</td>\n",
       "      <td>na</td>\n",
       "      <td>0</td>\n",
       "    </tr>\n",
       "    <tr>\n",
       "      <th>4</th>\n",
       "      <td>350057</td>\n",
       "      <td>1832</td>\n",
       "      <td>1.4442</td>\n",
       "      <td>0.000</td>\n",
       "      <td>0.0</td>\n",
       "      <td>0.0</td>\n",
       "      <td>179</td>\n",
       "      <td>7577</td>\n",
       "      <td>179</td>\n",
       "      <td>21059</td>\n",
       "      <td>...</td>\n",
       "      <td>3</td>\n",
       "      <td>0</td>\n",
       "      <td>96.052</td>\n",
       "      <td>66.665</td>\n",
       "      <td>0</td>\n",
       "      <td>23</td>\n",
       "      <td>0.79190</td>\n",
       "      <td>0</td>\n",
       "      <td>0</td>\n",
       "      <td>1</td>\n",
       "    </tr>\n",
       "  </tbody>\n",
       "</table>\n",
       "<p>5 rows × 48 columns</p>\n",
       "</div>"
      ],
      "text/plain": [
       "   application_key mvar1   mvar2  mvar3  mvar4  mvar5    mvar6    mvar7  \\\n",
       "0           350053  1753  0.5001  0.000    0.0    0.0      206    19179   \n",
       "1           350054  1894  1.9701  0.000    0.0    0.0      297    19820   \n",
       "2           350055  1774  0.1718  0.000    0.0    0.0      197     2563   \n",
       "3           350056  1586  0.1123  5.299    0.0    0.0  missing  missing   \n",
       "4           350057  1832  1.4442  0.000    0.0    0.0      179     7577   \n",
       "\n",
       "     mvar8    mvar9  ...   mvar38 mvar39   mvar40   mvar41   mvar42 mvar43  \\\n",
       "0      206    14221  ...        1      0  missing   20.551  0.42105      3   \n",
       "1    19820   176895  ...        3      0  missing   63.047        0     15   \n",
       "2      877     8869  ...        1      0  missing   83.797  0.33333      3   \n",
       "3  missing  missing  ...        1     na  missing  missing      1.5      0   \n",
       "4      179    21059  ...        3      0   96.052   66.665        0     23   \n",
       "\n",
       "    mvar44 mvar45 mvar46 mvar47  \n",
       "0  0.85661     na      0      1  \n",
       "1  0.94391      0      0      0  \n",
       "2  0.76467      0      0      0  \n",
       "3      NaN     na     na      0  \n",
       "4  0.79190      0      0      1  \n",
       "\n",
       "[5 rows x 48 columns]"
      ]
     },
     "execution_count": 15206,
     "metadata": {},
     "output_type": "execute_result"
    }
   ],
   "source": [
    "df.head()"
   ]
  },
  {
   "cell_type": "code",
   "execution_count": 15207,
   "metadata": {},
   "outputs": [],
   "source": [
    "df.replace(['missing','na','Nan'],[np.nan,np.nan,np.nan],inplace = True)"
   ]
  },
  {
   "cell_type": "code",
   "execution_count": 15208,
   "metadata": {},
   "outputs": [],
   "source": [
    "df = df.astype(float)"
   ]
  },
  {
   "cell_type": "code",
   "execution_count": 15209,
   "metadata": {},
   "outputs": [
    {
     "name": "stdout",
     "output_type": "stream",
     "text": [
      "<class 'pandas.core.frame.DataFrame'>\n",
      "RangeIndex: 25000 entries, 0 to 24999\n",
      "Data columns (total 48 columns):\n",
      "application_key    25000 non-null float64\n",
      "mvar1              23850 non-null float64\n",
      "mvar2              23294 non-null float64\n",
      "mvar3              24842 non-null float64\n",
      "mvar4              24842 non-null float64\n",
      "mvar5              24842 non-null float64\n",
      "mvar6              19193 non-null float64\n",
      "mvar7              22694 non-null float64\n",
      "mvar8              19193 non-null float64\n",
      "mvar9              21523 non-null float64\n",
      "mvar10             24842 non-null float64\n",
      "mvar11             10974 non-null float64\n",
      "mvar12             20690 non-null float64\n",
      "mvar13             22435 non-null float64\n",
      "mvar14             25000 non-null float64\n",
      "mvar15             14949 non-null float64\n",
      "mvar16             19324 non-null float64\n",
      "mvar17             20110 non-null float64\n",
      "mvar18             20418 non-null float64\n",
      "mvar19             24999 non-null float64\n",
      "mvar20             24842 non-null float64\n",
      "mvar21             18106 non-null float64\n",
      "mvar22             15919 non-null float64\n",
      "mvar23             12359 non-null float64\n",
      "mvar24             19223 non-null float64\n",
      "mvar25             22621 non-null float64\n",
      "mvar26             21800 non-null float64\n",
      "mvar27             21007 non-null float64\n",
      "mvar28             24842 non-null float64\n",
      "mvar29             24842 non-null float64\n",
      "mvar30             13551 non-null float64\n",
      "mvar31             7363 non-null float64\n",
      "mvar32             22621 non-null float64\n",
      "mvar33             24461 non-null float64\n",
      "mvar34             24842 non-null float64\n",
      "mvar35             14787 non-null float64\n",
      "mvar36             24021 non-null float64\n",
      "mvar37             22621 non-null float64\n",
      "mvar38             24842 non-null float64\n",
      "mvar39             23078 non-null float64\n",
      "mvar40             5458 non-null float64\n",
      "mvar41             7748 non-null float64\n",
      "mvar42             24367 non-null float64\n",
      "mvar43             24723 non-null float64\n",
      "mvar44             22538 non-null float64\n",
      "mvar45             11027 non-null float64\n",
      "mvar46             17851 non-null float64\n",
      "mvar47             25000 non-null float64\n",
      "dtypes: float64(48)\n",
      "memory usage: 9.2 MB\n"
     ]
    }
   ],
   "source": [
    "df.info()"
   ]
  },
  {
   "cell_type": "code",
   "execution_count": 15210,
   "metadata": {},
   "outputs": [
    {
     "data": {
      "text/plain": [
       "count    23294.000000\n",
       "mean         1.118127\n",
       "std          1.658707\n",
       "min          0.000000\n",
       "25%          0.142725\n",
       "50%          0.542400\n",
       "75%          1.469375\n",
       "max         31.018100\n",
       "Name: mvar2, dtype: float64"
      ]
     },
     "execution_count": 15210,
     "metadata": {},
     "output_type": "execute_result"
    }
   ],
   "source": [
    "df['mvar2'].describe()"
   ]
  },
  {
   "cell_type": "code",
   "execution_count": 15211,
   "metadata": {},
   "outputs": [
    {
     "data": {
      "text/plain": [
       "count    23294.000000\n",
       "mean         1.118127\n",
       "std          1.658707\n",
       "min          0.000000\n",
       "25%          0.142725\n",
       "50%          0.542400\n",
       "75%          1.469375\n",
       "max         31.018100\n",
       "Name: mvar2, dtype: float64"
      ]
     },
     "execution_count": 15211,
     "metadata": {},
     "output_type": "execute_result"
    }
   ],
   "source": [
    "df['mvar2'].describe()"
   ]
  },
  {
   "cell_type": "code",
   "execution_count": 15212,
   "metadata": {},
   "outputs": [
    {
     "name": "stdout",
     "output_type": "stream",
     "text": [
      "<class 'pandas.core.frame.DataFrame'>\n",
      "RangeIndex: 25000 entries, 0 to 24999\n",
      "Data columns (total 48 columns):\n",
      "application_key    25000 non-null float64\n",
      "mvar1              23850 non-null float64\n",
      "mvar2              23294 non-null float64\n",
      "mvar3              24842 non-null float64\n",
      "mvar4              24842 non-null float64\n",
      "mvar5              24842 non-null float64\n",
      "mvar6              19193 non-null float64\n",
      "mvar7              22694 non-null float64\n",
      "mvar8              19193 non-null float64\n",
      "mvar9              21523 non-null float64\n",
      "mvar10             24842 non-null float64\n",
      "mvar11             10974 non-null float64\n",
      "mvar12             20690 non-null float64\n",
      "mvar13             22435 non-null float64\n",
      "mvar14             25000 non-null float64\n",
      "mvar15             14949 non-null float64\n",
      "mvar16             19324 non-null float64\n",
      "mvar17             20110 non-null float64\n",
      "mvar18             20418 non-null float64\n",
      "mvar19             24999 non-null float64\n",
      "mvar20             24842 non-null float64\n",
      "mvar21             18106 non-null float64\n",
      "mvar22             15919 non-null float64\n",
      "mvar23             12359 non-null float64\n",
      "mvar24             19223 non-null float64\n",
      "mvar25             22621 non-null float64\n",
      "mvar26             21800 non-null float64\n",
      "mvar27             21007 non-null float64\n",
      "mvar28             24842 non-null float64\n",
      "mvar29             24842 non-null float64\n",
      "mvar30             13551 non-null float64\n",
      "mvar31             7363 non-null float64\n",
      "mvar32             22621 non-null float64\n",
      "mvar33             24461 non-null float64\n",
      "mvar34             24842 non-null float64\n",
      "mvar35             14787 non-null float64\n",
      "mvar36             24021 non-null float64\n",
      "mvar37             22621 non-null float64\n",
      "mvar38             24842 non-null float64\n",
      "mvar39             23078 non-null float64\n",
      "mvar40             5458 non-null float64\n",
      "mvar41             7748 non-null float64\n",
      "mvar42             24367 non-null float64\n",
      "mvar43             24723 non-null float64\n",
      "mvar44             22538 non-null float64\n",
      "mvar45             11027 non-null float64\n",
      "mvar46             17851 non-null float64\n",
      "mvar47             25000 non-null float64\n",
      "dtypes: float64(48)\n",
      "memory usage: 9.2 MB\n"
     ]
    }
   ],
   "source": [
    "df.info()"
   ]
  },
  {
   "cell_type": "code",
   "execution_count": 15213,
   "metadata": {},
   "outputs": [],
   "source": [
    "df['mvar2'] = df['mvar2'].fillna(1.055)"
   ]
  },
  {
   "cell_type": "code",
   "execution_count": 15214,
   "metadata": {},
   "outputs": [],
   "source": [
    "df = df[df['mvar2']<4]"
   ]
  },
  {
   "cell_type": "code",
   "execution_count": 15215,
   "metadata": {},
   "outputs": [
    {
     "name": "stdout",
     "output_type": "stream",
     "text": [
      "<class 'pandas.core.frame.DataFrame'>\n",
      "Int64Index: 23817 entries, 0 to 24999\n",
      "Data columns (total 48 columns):\n",
      "application_key    23817 non-null float64\n",
      "mvar1              22732 non-null float64\n",
      "mvar2              23817 non-null float64\n",
      "mvar3              23666 non-null float64\n",
      "mvar4              23666 non-null float64\n",
      "mvar5              23666 non-null float64\n",
      "mvar6              18324 non-null float64\n",
      "mvar7              21632 non-null float64\n",
      "mvar8              18324 non-null float64\n",
      "mvar9              20564 non-null float64\n",
      "mvar10             23666 non-null float64\n",
      "mvar11             10283 non-null float64\n",
      "mvar12             19738 non-null float64\n",
      "mvar13             21398 non-null float64\n",
      "mvar14             23817 non-null float64\n",
      "mvar15             14298 non-null float64\n",
      "mvar16             18448 non-null float64\n",
      "mvar17             19197 non-null float64\n",
      "mvar18             19484 non-null float64\n",
      "mvar19             23816 non-null float64\n",
      "mvar20             23666 non-null float64\n",
      "mvar21             17278 non-null float64\n",
      "mvar22             15062 non-null float64\n",
      "mvar23             11598 non-null float64\n",
      "mvar24             18392 non-null float64\n",
      "mvar25             21551 non-null float64\n",
      "mvar26             20762 non-null float64\n",
      "mvar27             20009 non-null float64\n",
      "mvar28             23666 non-null float64\n",
      "mvar29             23666 non-null float64\n",
      "mvar30             12899 non-null float64\n",
      "mvar31             6940 non-null float64\n",
      "mvar32             21551 non-null float64\n",
      "mvar33             23303 non-null float64\n",
      "mvar34             23666 non-null float64\n",
      "mvar35             13928 non-null float64\n",
      "mvar36             22895 non-null float64\n",
      "mvar37             21551 non-null float64\n",
      "mvar38             23666 non-null float64\n",
      "mvar39             21987 non-null float64\n",
      "mvar40             5133 non-null float64\n",
      "mvar41             7329 non-null float64\n",
      "mvar42             23228 non-null float64\n",
      "mvar43             23558 non-null float64\n",
      "mvar44             21476 non-null float64\n",
      "mvar45             10739 non-null float64\n",
      "mvar46             17039 non-null float64\n",
      "mvar47             23817 non-null float64\n",
      "dtypes: float64(48)\n",
      "memory usage: 8.9 MB\n"
     ]
    }
   ],
   "source": [
    "df.info()"
   ]
  },
  {
   "cell_type": "code",
   "execution_count": 15216,
   "metadata": {},
   "outputs": [],
   "source": [
    "df.drop('mvar3',axis=1,inplace=True)"
   ]
  },
  {
   "cell_type": "code",
   "execution_count": 15217,
   "metadata": {},
   "outputs": [],
   "source": [
    "df.drop('mvar8',axis=1,inplace=True)"
   ]
  },
  {
   "cell_type": "code",
   "execution_count": 15218,
   "metadata": {},
   "outputs": [
    {
     "name": "stdout",
     "output_type": "stream",
     "text": [
      "nan\n",
      "<class 'numpy.ndarray'>\n"
     ]
    }
   ],
   "source": [
    "bins = [-1, 12,100, 1500, 100000000]\n",
    "labels = [1,2,3,4]\n",
    "df['binned_mvar6'] = pd.cut(df['mvar6'], bins=bins, labels=labels)\n",
    "arr=np.array(df['binned_mvar6'].tolist())\n",
    "import random\n",
    "print (np.nan)\n",
    "print (type(arr))\n",
    "for i in range (len(arr)):\n",
    "    if np.isnan(arr[i]):\n",
    "        arr[i]=random.randint(2,4)\n",
    "df['binned_mvar6']=arr"
   ]
  },
  {
   "cell_type": "code",
   "execution_count": 15219,
   "metadata": {},
   "outputs": [],
   "source": [
    "df['mvar4'] = df['mvar4'].fillna(0)"
   ]
  },
  {
   "cell_type": "code",
   "execution_count": 15220,
   "metadata": {},
   "outputs": [],
   "source": [
    "df = df[df['mvar4']<8]"
   ]
  },
  {
   "cell_type": "code",
   "execution_count": 15221,
   "metadata": {},
   "outputs": [
    {
     "name": "stdout",
     "output_type": "stream",
     "text": [
      "nan\n",
      "<class 'numpy.ndarray'>\n"
     ]
    }
   ],
   "source": [
    "arr=np.array(df['mvar4'].tolist())\n",
    "import random\n",
    "print (np.nan)\n",
    "print (type(arr))\n",
    "for i in range (len(arr)):\n",
    "    if arr[i]==0:\n",
    "        arr[i]=0\n",
    "    else:\n",
    "        arr[i]=1\n",
    "df['mvar4']=arr"
   ]
  },
  {
   "cell_type": "code",
   "execution_count": 15222,
   "metadata": {},
   "outputs": [
    {
     "data": {
      "text/plain": [
       "count    23460.000000\n",
       "mean         1.037554\n",
       "std          5.713950\n",
       "min          0.000000\n",
       "25%          0.000000\n",
       "50%          0.000000\n",
       "75%          0.000000\n",
       "max        156.878000\n",
       "Name: mvar5, dtype: float64"
      ]
     },
     "execution_count": 15222,
     "metadata": {},
     "output_type": "execute_result"
    }
   ],
   "source": [
    "df['mvar5'].describe()"
   ]
  },
  {
   "cell_type": "code",
   "execution_count": 15223,
   "metadata": {},
   "outputs": [],
   "source": [
    "df['mvar5'] = df['mvar5'].fillna(0)"
   ]
  },
  {
   "cell_type": "code",
   "execution_count": 15224,
   "metadata": {},
   "outputs": [],
   "source": [
    "df = df[df['mvar5']<20]"
   ]
  },
  {
   "cell_type": "code",
   "execution_count": 15225,
   "metadata": {},
   "outputs": [
    {
     "name": "stdout",
     "output_type": "stream",
     "text": [
      "nan\n",
      "<class 'numpy.ndarray'>\n"
     ]
    }
   ],
   "source": [
    "arr=np.array(df['mvar5'].tolist())\n",
    "import random\n",
    "print (np.nan)\n",
    "print (type(arr))\n",
    "for i in range (len(arr)):\n",
    "    if arr[i]==0:\n",
    "        arr[i]=0\n",
    "    else:\n",
    "        arr[i]=1\n",
    "df['mvar5']=arr"
   ]
  },
  {
   "cell_type": "code",
   "execution_count": 15226,
   "metadata": {},
   "outputs": [],
   "source": [
    "bins = [1450, 1600,1700, 1800, 1950]\n",
    "labels = [1,2,3,4]\n",
    "df['binned_mvar1'] = pd.cut(df['mvar1'], bins=bins, labels=labels)"
   ]
  },
  {
   "cell_type": "code",
   "execution_count": 15227,
   "metadata": {},
   "outputs": [
    {
     "data": {
      "text/plain": [
       "3    9006\n",
       "4    6554\n",
       "2    5515\n",
       "1    1117\n",
       "Name: binned_mvar1, dtype: int64"
      ]
     },
     "execution_count": 15227,
     "metadata": {},
     "output_type": "execute_result"
    }
   ],
   "source": [
    "df['binned_mvar1'] .value_counts()"
   ]
  },
  {
   "cell_type": "code",
   "execution_count": 15228,
   "metadata": {},
   "outputs": [
    {
     "name": "stdout",
     "output_type": "stream",
     "text": [
      "nan\n",
      "<class 'numpy.ndarray'>\n"
     ]
    }
   ],
   "source": [
    "arr=np.array(df['binned_mvar1'].tolist())\n",
    "import random\n",
    "print (np.nan)\n",
    "print (type(arr))\n",
    "for i in range (len(arr)):\n",
    "    if np.isnan(arr[i]):\n",
    "        arr[i]=random.randint(2,4)\n",
    "\n",
    "df['binned_mvar1']=arr"
   ]
  },
  {
   "cell_type": "code",
   "execution_count": 15229,
   "metadata": {},
   "outputs": [],
   "source": [
    "df.drop('mvar6',axis=1,inplace=True)"
   ]
  },
  {
   "cell_type": "code",
   "execution_count": 15230,
   "metadata": {},
   "outputs": [],
   "source": [
    "df.drop('mvar1',axis=1,inplace=True)"
   ]
  },
  {
   "cell_type": "code",
   "execution_count": 15231,
   "metadata": {},
   "outputs": [],
   "source": [
    "bins = [-1,1.821000e+03,5.559600e+06]\n",
    "labels = [1,2]\n",
    "df['binned_mvar7'] = pd.cut(df['mvar7'], bins=bins, labels=labels)"
   ]
  },
  {
   "cell_type": "code",
   "execution_count": 15232,
   "metadata": {},
   "outputs": [],
   "source": [
    "df['binned_mvar7'] = df['binned_mvar7'].replace([1,2],[1,0])"
   ]
  },
  {
   "cell_type": "code",
   "execution_count": 15233,
   "metadata": {},
   "outputs": [
    {
     "name": "stdout",
     "output_type": "stream",
     "text": [
      "nan\n",
      "<class 'numpy.ndarray'>\n"
     ]
    }
   ],
   "source": [
    "arr=np.array(df['binned_mvar7'].tolist())\n",
    "import random\n",
    "print (np.nan)\n",
    "print (type(arr))\n",
    "for i in range (len(arr)):\n",
    "    if np.isnan(arr[i]):\n",
    "        arr[i]=random.randint(0,1)\n",
    "df['binned_mvar7']=arr"
   ]
  },
  {
   "cell_type": "code",
   "execution_count": 15234,
   "metadata": {},
   "outputs": [],
   "source": [
    "df.drop('mvar7',axis=1,inplace=True)"
   ]
  },
  {
   "cell_type": "code",
   "execution_count": 15235,
   "metadata": {},
   "outputs": [
    {
     "name": "stdout",
     "output_type": "stream",
     "text": [
      "nan\n",
      "<class 'numpy.ndarray'>\n"
     ]
    }
   ],
   "source": [
    "bins = [-1,3.700000e+03,1.449200e+04,3.711880e+06]\n",
    "labels = [1,2,3]\n",
    "df['binned_mvar9'] = pd.cut(df['mvar9'], bins=bins, labels=labels)\n",
    "arr=np.array(df['binned_mvar9'].tolist())\n",
    "import random\n",
    "print (np.nan)\n",
    "print (type(arr))\n",
    "for i in range (len(arr)):\n",
    "    if np.isnan(arr[i]):\n",
    "        arr[i]=random.randint(1,3)\n",
    "df['binned_mvar9']=arr"
   ]
  },
  {
   "cell_type": "code",
   "execution_count": 15236,
   "metadata": {},
   "outputs": [],
   "source": [
    "df['mvar48'] = df['mvar11'].isnull().astype(float)\n"
   ]
  },
  {
   "cell_type": "code",
   "execution_count": 15237,
   "metadata": {},
   "outputs": [],
   "source": [
    "df.drop(['mvar11'],axis =1,inplace = True)"
   ]
  },
  {
   "cell_type": "code",
   "execution_count": 15238,
   "metadata": {},
   "outputs": [
    {
     "name": "stdout",
     "output_type": "stream",
     "text": [
      "nan\n",
      "<class 'numpy.ndarray'>\n"
     ]
    }
   ],
   "source": [
    "bins = [-1,1.055600e+04,5.633320e+06]\n",
    "labels = [1,2]\n",
    "df['binned_mvar10'] = pd.cut(df['mvar10'], bins=bins, labels=labels)\n",
    "arr=np.array(df['binned_mvar10'].tolist())\n",
    "import random\n",
    "print (np.nan)\n",
    "print (type(arr))\n",
    "for i in range (len(arr)):\n",
    "    if np.isnan(arr[i]):\n",
    "        arr[i]=random.randint(1,2)\n",
    "df['binned_mvar10']=arr"
   ]
  },
  {
   "cell_type": "code",
   "execution_count": 15239,
   "metadata": {},
   "outputs": [],
   "source": [
    "df['binned_mvar10'] = df['binned_mvar10'].replace([1,2],[1,0])"
   ]
  },
  {
   "cell_type": "code",
   "execution_count": 15240,
   "metadata": {},
   "outputs": [
    {
     "name": "stdout",
     "output_type": "stream",
     "text": [
      "nan\n",
      "<class 'numpy.ndarray'>\n"
     ]
    }
   ],
   "source": [
    "bins = [-1,0,\n",
    "        731.000000,3028.000000,8727.000000,413685.000000]\n",
    "labels = [1,2,3,4,5]\n",
    "df['binned_mvar12'] = pd.cut(df['mvar12'], bins=bins, labels=labels)\n",
    "arr=np.array(df['binned_mvar12'].tolist())\n",
    "import random\n",
    "print (np.nan)\n",
    "print (type(arr))\n",
    "for i in range (len(arr)):\n",
    "    if np.isnan(arr[i]):\n",
    "        arr[i]=random.randint(2,5)\n",
    "df['binned_mvar12']=arr"
   ]
  },
  {
   "cell_type": "code",
   "execution_count": 15241,
   "metadata": {},
   "outputs": [],
   "source": [
    "bins = [-1,0,5.240000e+02,1.443600e+04,6.318314e+06]\n",
    "labels = [1,2,3,4]\n",
    "df['binned_mvar13'] = pd.cut(df['mvar13'], bins=bins, labels=labels)"
   ]
  },
  {
   "cell_type": "code",
   "execution_count": 15242,
   "metadata": {},
   "outputs": [
    {
     "name": "stdout",
     "output_type": "stream",
     "text": [
      "nan\n",
      "<class 'numpy.ndarray'>\n"
     ]
    }
   ],
   "source": [
    "arr=np.array(df['binned_mvar13'].tolist())\n",
    "import random\n",
    "print (np.nan)\n",
    "print (type(arr))\n",
    "for i in range (len(arr)):\n",
    "    if np.isnan(arr[i]):\n",
    "        arr[i]=random.randint(1,4)\n",
    "df['binned_mvar13']=arr"
   ]
  },
  {
   "cell_type": "code",
   "execution_count": 15243,
   "metadata": {},
   "outputs": [],
   "source": [
    "df.drop(['mvar9','mvar10','mvar12','mvar13'],axis=1,inplace=True)"
   ]
  },
  {
   "cell_type": "code",
   "execution_count": 15244,
   "metadata": {},
   "outputs": [
    {
     "name": "stdout",
     "output_type": "stream",
     "text": [
      "<class 'pandas.core.frame.DataFrame'>\n",
      "Int64Index: 23277 entries, 0 to 24999\n",
      "Data columns (total 46 columns):\n",
      "application_key    23277 non-null float64\n",
      "mvar2              23277 non-null float64\n",
      "mvar4              23277 non-null float64\n",
      "mvar5              23277 non-null float64\n",
      "mvar14             23277 non-null float64\n",
      "mvar15             14016 non-null float64\n",
      "mvar16             18232 non-null float64\n",
      "mvar17             18959 non-null float64\n",
      "mvar18             19240 non-null float64\n",
      "mvar19             23276 non-null float64\n",
      "mvar20             23126 non-null float64\n",
      "mvar21             17079 non-null float64\n",
      "mvar22             14876 non-null float64\n",
      "mvar23             11460 non-null float64\n",
      "mvar24             18173 non-null float64\n",
      "mvar25             21133 non-null float64\n",
      "mvar26             20401 non-null float64\n",
      "mvar27             19677 non-null float64\n",
      "mvar28             23126 non-null float64\n",
      "mvar29             23126 non-null float64\n",
      "mvar30             12578 non-null float64\n",
      "mvar31             6523 non-null float64\n",
      "mvar32             21133 non-null float64\n",
      "mvar33             22778 non-null float64\n",
      "mvar34             23126 non-null float64\n",
      "mvar35             13726 non-null float64\n",
      "mvar36             22356 non-null float64\n",
      "mvar37             21133 non-null float64\n",
      "mvar38             23126 non-null float64\n",
      "mvar39             21546 non-null float64\n",
      "mvar40             4881 non-null float64\n",
      "mvar41             7196 non-null float64\n",
      "mvar42             22688 non-null float64\n",
      "mvar43             23018 non-null float64\n",
      "mvar44             21054 non-null float64\n",
      "mvar45             10633 non-null float64\n",
      "mvar46             16641 non-null float64\n",
      "mvar47             23277 non-null float64\n",
      "binned_mvar6       23277 non-null float64\n",
      "binned_mvar1       23277 non-null float64\n",
      "binned_mvar7       23277 non-null float64\n",
      "binned_mvar9       23277 non-null float64\n",
      "mvar48             23277 non-null float64\n",
      "binned_mvar10      23277 non-null float64\n",
      "binned_mvar12      23277 non-null float64\n",
      "binned_mvar13      23277 non-null float64\n",
      "dtypes: float64(46)\n",
      "memory usage: 8.3 MB\n"
     ]
    }
   ],
   "source": [
    "df.info()"
   ]
  },
  {
   "cell_type": "code",
   "execution_count": 15245,
   "metadata": {},
   "outputs": [],
   "source": [
    "bins = [-1,0,4.261300e+04,8.837436e+09]\n",
    "labels = [1,2,3]\n",
    "df['binned_mvar14'] = pd.cut(df['mvar14'], bins=bins, labels=labels)"
   ]
  },
  {
   "cell_type": "code",
   "execution_count": 15246,
   "metadata": {},
   "outputs": [],
   "source": [
    "df.drop(['mvar14','mvar15'],axis=1,inplace=True)"
   ]
  },
  {
   "cell_type": "code",
   "execution_count": 15247,
   "metadata": {},
   "outputs": [],
   "source": [
    "df['mvar16'] = df['mvar16'].fillna(0)"
   ]
  },
  {
   "cell_type": "code",
   "execution_count": 15248,
   "metadata": {},
   "outputs": [],
   "source": [
    "df = df[df['mvar16']<3]"
   ]
  },
  {
   "cell_type": "code",
   "execution_count": 15249,
   "metadata": {},
   "outputs": [],
   "source": [
    "df['mvar16'] = df['mvar16'].replace([0,1,2,3,4,5,6,7,8,9],[0,1,2,3,3,3,3,3,3,3])"
   ]
  },
  {
   "cell_type": "code",
   "execution_count": 15250,
   "metadata": {},
   "outputs": [
    {
     "data": {
      "text/plain": [
       "0.0    15765\n",
       "1.0     2291\n",
       "2.0      572\n",
       "3.0       70\n",
       "4.0       17\n",
       "5.0        8\n",
       "6.0        2\n",
       "Name: mvar17, dtype: int64"
      ]
     },
     "execution_count": 15250,
     "metadata": {},
     "output_type": "execute_result"
    }
   ],
   "source": [
    "df['mvar17'].value_counts()"
   ]
  },
  {
   "cell_type": "code",
   "execution_count": 15251,
   "metadata": {},
   "outputs": [],
   "source": [
    "df['mvar17'] = df['mvar17'].fillna(0)"
   ]
  },
  {
   "cell_type": "code",
   "execution_count": 15252,
   "metadata": {},
   "outputs": [],
   "source": [
    "df = df[df['mvar17']<3]"
   ]
  },
  {
   "cell_type": "code",
   "execution_count": 15253,
   "metadata": {},
   "outputs": [],
   "source": [
    "df['mvar17'] = df['mvar17'].replace([0,1,2,3,4,5,6,7,8,9,10,11,12,13,14,15,16,17,18,19,20,21],[0,1,2,3,3,3,3,3,3,3,3,3,3,3,3,3,3,3,3,3,3,3])"
   ]
  },
  {
   "cell_type": "code",
   "execution_count": 15254,
   "metadata": {},
   "outputs": [
    {
     "name": "stdout",
     "output_type": "stream",
     "text": [
      "<class 'pandas.core.frame.DataFrame'>\n",
      "Int64Index: 22946 entries, 0 to 24999\n",
      "Data columns (total 45 columns):\n",
      "application_key    22946 non-null float64\n",
      "mvar2              22946 non-null float64\n",
      "mvar4              22946 non-null float64\n",
      "mvar5              22946 non-null float64\n",
      "mvar16             22946 non-null float64\n",
      "mvar17             22946 non-null float64\n",
      "mvar18             18909 non-null float64\n",
      "mvar19             22945 non-null float64\n",
      "mvar20             22795 non-null float64\n",
      "mvar21             16749 non-null float64\n",
      "mvar22             14579 non-null float64\n",
      "mvar23             11217 non-null float64\n",
      "mvar24             17844 non-null float64\n",
      "mvar25             20802 non-null float64\n",
      "mvar26             20070 non-null float64\n",
      "mvar27             19347 non-null float64\n",
      "mvar28             22795 non-null float64\n",
      "mvar29             22795 non-null float64\n",
      "mvar30             12382 non-null float64\n",
      "mvar31             6391 non-null float64\n",
      "mvar32             20802 non-null float64\n",
      "mvar33             22458 non-null float64\n",
      "mvar34             22795 non-null float64\n",
      "mvar35             13444 non-null float64\n",
      "mvar36             22025 non-null float64\n",
      "mvar37             20802 non-null float64\n",
      "mvar38             22795 non-null float64\n",
      "mvar39             21215 non-null float64\n",
      "mvar40             4761 non-null float64\n",
      "mvar41             7067 non-null float64\n",
      "mvar42             22357 non-null float64\n",
      "mvar43             22687 non-null float64\n",
      "mvar44             20723 non-null float64\n",
      "mvar45             10511 non-null float64\n",
      "mvar46             16403 non-null float64\n",
      "mvar47             22946 non-null float64\n",
      "binned_mvar6       22946 non-null float64\n",
      "binned_mvar1       22946 non-null float64\n",
      "binned_mvar7       22946 non-null float64\n",
      "binned_mvar9       22946 non-null float64\n",
      "mvar48             22946 non-null float64\n",
      "binned_mvar10      22946 non-null float64\n",
      "binned_mvar12      22946 non-null float64\n",
      "binned_mvar13      22946 non-null float64\n",
      "binned_mvar14      22946 non-null category\n",
      "dtypes: category(1), float64(44)\n",
      "memory usage: 7.9 MB\n"
     ]
    }
   ],
   "source": [
    "df.info()"
   ]
  },
  {
   "cell_type": "code",
   "execution_count": 15255,
   "metadata": {},
   "outputs": [],
   "source": [
    "df['mvar18'] = df['mvar18'].fillna(0)"
   ]
  },
  {
   "cell_type": "code",
   "execution_count": 15256,
   "metadata": {},
   "outputs": [],
   "source": [
    "df = df[df['mvar18']<3]"
   ]
  },
  {
   "cell_type": "code",
   "execution_count": 15257,
   "metadata": {},
   "outputs": [
    {
     "data": {
      "text/plain": [
       "0.0     13091\n",
       "1.0      4621\n",
       "2.0      2329\n",
       "3.0      1229\n",
       "4.0       638\n",
       "5.0       373\n",
       "6.0       187\n",
       "7.0       115\n",
       "8.0        84\n",
       "9.0        43\n",
       "10.0       30\n",
       "11.0       18\n",
       "12.0       10\n",
       "13.0        8\n",
       "14.0        7\n",
       "15.0        1\n",
       "18.0        1\n",
       "Name: mvar20, dtype: int64"
      ]
     },
     "execution_count": 15257,
     "metadata": {},
     "output_type": "execute_result"
    }
   ],
   "source": [
    "df['mvar20'].value_counts()"
   ]
  },
  {
   "cell_type": "code",
   "execution_count": 15258,
   "metadata": {},
   "outputs": [],
   "source": [
    "df['mvar18'] = df['mvar18'].replace([0,1,2,3,4,5,6,7,8,9,10,11,12,13,14,15,16,17,18,19,20,21],[0,1,2,3,3,3,3,3,3,3,3,3,3,3,3,3,3,3,3,3,3,3])"
   ]
  },
  {
   "cell_type": "code",
   "execution_count": 15259,
   "metadata": {},
   "outputs": [],
   "source": [
    "df['mvar19'] = df['mvar19'].fillna(0)"
   ]
  },
  {
   "cell_type": "code",
   "execution_count": 15260,
   "metadata": {},
   "outputs": [],
   "source": [
    "df['mvar19'] = df['mvar19'].replace([0,1,2,3,4,5,6,7,8,9,10,11,12,13,14,15,16,17,18,19,20,21,22,23,24,25,26,27,28],[0,1,2,3,4,4,4,4,4,4,4,4,4,4,4,4,4,4,4,4,4,4,4,4,4,4,4,4,4])"
   ]
  },
  {
   "cell_type": "code",
   "execution_count": 15261,
   "metadata": {},
   "outputs": [],
   "source": [
    "df['mvar20'] = df['mvar20'].fillna(0)"
   ]
  },
  {
   "cell_type": "code",
   "execution_count": 15262,
   "metadata": {},
   "outputs": [],
   "source": [
    "df = df[df['mvar20']<8]"
   ]
  },
  {
   "cell_type": "code",
   "execution_count": 15263,
   "metadata": {},
   "outputs": [],
   "source": [
    "df['mvar20'] = df['mvar20'].replace([0,1,2,3,4,5,6,7,8,9,10,11,12,13,14,15,16,17,18,19,20,21,22,23,24,25,26,27,28,29],[0,1,2,2,4,5,5,5,5,5,5,5,5,5,5,5,5,5,5,5,5,5,5,5,5,5,5,5,5,5])"
   ]
  },
  {
   "cell_type": "code",
   "execution_count": 15264,
   "metadata": {},
   "outputs": [],
   "source": [
    "df.drop(['mvar16','mvar17','mvar20'],axis=1,inplace=True)"
   ]
  },
  {
   "cell_type": "code",
   "execution_count": 15265,
   "metadata": {},
   "outputs": [
    {
     "data": {
      "text/plain": [
       "count    16537.000000\n",
       "mean        55.553357\n",
       "std         34.440992\n",
       "min          0.117000\n",
       "25%         24.928000\n",
       "50%         56.862000\n",
       "75%         83.929000\n",
       "max        399.750000\n",
       "Name: mvar21, dtype: float64"
      ]
     },
     "execution_count": 15265,
     "metadata": {},
     "output_type": "execute_result"
    }
   ],
   "source": [
    "df['mvar21'].describe()"
   ]
  },
  {
   "cell_type": "code",
   "execution_count": 15266,
   "metadata": {},
   "outputs": [],
   "source": [
    "bins = [0,26.870000,66.540000,88.540000,98.544,1305.250000]\n",
    "labels = [1,2,3,4,5]\n",
    "df['binned_mvar21'] = pd.cut(df['mvar21'], bins=bins, labels=labels)"
   ]
  },
  {
   "cell_type": "code",
   "execution_count": 15267,
   "metadata": {},
   "outputs": [
    {
     "data": {
      "text/plain": [
       "count    14379.000000\n",
       "mean      4181.569081\n",
       "std       3709.530480\n",
       "min          0.000000\n",
       "25%        601.425000\n",
       "50%       3635.000000\n",
       "75%       7177.440000\n",
       "max      99800.000000\n",
       "Name: mvar22, dtype: float64"
      ]
     },
     "execution_count": 15267,
     "metadata": {},
     "output_type": "execute_result"
    }
   ],
   "source": [
    "df['mvar22'].describe()"
   ]
  },
  {
   "cell_type": "code",
   "execution_count": 15268,
   "metadata": {},
   "outputs": [
    {
     "name": "stdout",
     "output_type": "stream",
     "text": [
      "nan\n",
      "<class 'numpy.ndarray'>\n"
     ]
    }
   ],
   "source": [
    "arr=np.array(df['binned_mvar21'].tolist())\n",
    "import random\n",
    "print (np.nan)\n",
    "print (type(arr))\n",
    "for i in range (len(arr)):\n",
    "    if np.isnan(arr[i]):\n",
    "        arr[i]=random.randint(3,4)\n",
    "df['binned_mvar21']=arr"
   ]
  },
  {
   "cell_type": "code",
   "execution_count": 15269,
   "metadata": {},
   "outputs": [
    {
     "name": "stdout",
     "output_type": "stream",
     "text": [
      "nan\n",
      "<class 'numpy.ndarray'>\n"
     ]
    }
   ],
   "source": [
    "bins = [-1,3666.770000,6766.770000,10000.000000,999800.000000]\n",
    "labels = [1,2,3,4]\n",
    "df['binned_mvar22'] = pd.cut(df['mvar22'], bins=bins, labels=labels)\n",
    "arr=np.array(df['binned_mvar22'].tolist())\n",
    "import random\n",
    "print (np.nan)\n",
    "print (type(arr))\n",
    "for i in range (len(arr)):\n",
    "    if np.isnan(arr[i]):\n",
    "        arr[i]=random.randint(3,3)\n",
    "df['binned_mvar22']=arr"
   ]
  },
  {
   "cell_type": "code",
   "execution_count": 15270,
   "metadata": {},
   "outputs": [
    {
     "data": {
      "text/plain": [
       "count    14379.000000\n",
       "mean      4181.569081\n",
       "std       3709.530480\n",
       "min          0.000000\n",
       "25%        601.425000\n",
       "50%       3635.000000\n",
       "75%       7177.440000\n",
       "max      99800.000000\n",
       "Name: mvar22, dtype: float64"
      ]
     },
     "execution_count": 15270,
     "metadata": {},
     "output_type": "execute_result"
    }
   ],
   "source": [
    "df['mvar22'].describe()"
   ]
  },
  {
   "cell_type": "code",
   "execution_count": 15271,
   "metadata": {},
   "outputs": [
    {
     "name": "stdout",
     "output_type": "stream",
     "text": [
      "nan\n",
      "<class 'numpy.ndarray'>\n"
     ]
    }
   ],
   "source": [
    "arr=np.array(df['binned_mvar22'].tolist())\n",
    "import random\n",
    "print (np.nan)\n",
    "print (type(arr))\n",
    "for i in range (len(arr)):\n",
    "    if np.isnan(arr[i]):\n",
    "        arr[i]=random.randint(3,3)\n",
    "df['binned_mvar22']=arr"
   ]
  },
  {
   "cell_type": "code",
   "execution_count": 15272,
   "metadata": {},
   "outputs": [],
   "source": [
    "df.drop('mvar23',axis=1,inplace = True)"
   ]
  },
  {
   "cell_type": "code",
   "execution_count": 15273,
   "metadata": {},
   "outputs": [
    {
     "data": {
      "text/plain": [
       "count    17632.000000\n",
       "mean        68.328439\n",
       "std        256.961769\n",
       "min          0.000000\n",
       "25%          9.090000\n",
       "50%         37.695000\n",
       "75%         72.570000\n",
       "max      12476.330000\n",
       "Name: mvar24, dtype: float64"
      ]
     },
     "execution_count": 15273,
     "metadata": {},
     "output_type": "execute_result"
    }
   ],
   "source": [
    "df['mvar24'].describe()"
   ]
  },
  {
   "cell_type": "code",
   "execution_count": 15274,
   "metadata": {},
   "outputs": [],
   "source": [
    "bins = [-1,35.380000,76.472500,27867.400000]\n",
    "labels = [1,2,3]\n",
    "df['binned_mvar24'] = pd.cut(df['mvar24'], bins=bins, labels=labels)"
   ]
  },
  {
   "cell_type": "code",
   "execution_count": 15275,
   "metadata": {},
   "outputs": [
    {
     "name": "stdout",
     "output_type": "stream",
     "text": [
      "nan\n",
      "<class 'numpy.ndarray'>\n"
     ]
    }
   ],
   "source": [
    "arr=np.array(df['binned_mvar24'].tolist())\n",
    "import random\n",
    "print (np.nan)\n",
    "print (type(arr))\n",
    "for i in range (len(arr)):\n",
    "    if np.isnan(arr[i]):\n",
    "        arr[i]=random.randint(2,3)\n",
    "df['binned_mvar24']=arr"
   ]
  },
  {
   "cell_type": "code",
   "execution_count": 15276,
   "metadata": {},
   "outputs": [],
   "source": [
    "df.drop(['mvar21','mvar22','mvar24'],axis=1,inplace=True)"
   ]
  },
  {
   "cell_type": "code",
   "execution_count": 15277,
   "metadata": {},
   "outputs": [
    {
     "name": "stderr",
     "output_type": "stream",
     "text": [
      "C:\\Users\\Chirag Garg\\Anaconda3\\lib\\site-packages\\matplotlib\\axes\\_axes.py:6462: UserWarning: The 'normed' kwarg is deprecated, and has been replaced by the 'density' kwarg.\n",
      "  warnings.warn(\"The 'normed' kwarg is deprecated, and has been \"\n"
     ]
    },
    {
     "data": {
      "text/plain": [
       "<matplotlib.axes._subplots.AxesSubplot at 0x1702dba6358>"
      ]
     },
     "execution_count": 15277,
     "metadata": {},
     "output_type": "execute_result"
    },
    {
     "data": {
      "image/png": "[encoded data removed]",
      "text/plain": [
       "<Figure size 432x288 with 1 Axes>"
      ]
     },
     "metadata": {},
     "output_type": "display_data"
    }
   ],
   "source": [
    "df15 = df[df['mvar25'].notnull()]\n",
    "sns.distplot(df15['mvar25'])"
   ]
  },
  {
   "cell_type": "code",
   "execution_count": 15278,
   "metadata": {},
   "outputs": [
    {
     "data": {
      "text/plain": [
       "count    20590.000000\n",
       "mean      1807.165177\n",
       "std       1348.146495\n",
       "min          0.000000\n",
       "25%        862.000000\n",
       "50%       1525.500000\n",
       "75%       2416.000000\n",
       "max      19010.000000\n",
       "Name: mvar25, dtype: float64"
      ]
     },
     "execution_count": 15278,
     "metadata": {},
     "output_type": "execute_result"
    }
   ],
   "source": [
    "df['mvar25'].describe()"
   ]
  },
  {
   "cell_type": "code",
   "execution_count": 15279,
   "metadata": {},
   "outputs": [],
   "source": [
    "df['mvar25'] = df['mvar25'].fillna(1752.017)"
   ]
  },
  {
   "cell_type": "code",
   "execution_count": 15280,
   "metadata": {},
   "outputs": [
    {
     "name": "stderr",
     "output_type": "stream",
     "text": [
      "C:\\Users\\Chirag Garg\\Anaconda3\\lib\\site-packages\\matplotlib\\axes\\_axes.py:6462: UserWarning: The 'normed' kwarg is deprecated, and has been replaced by the 'density' kwarg.\n",
      "  warnings.warn(\"The 'normed' kwarg is deprecated, and has been \"\n"
     ]
    },
    {
     "data": {
      "text/plain": [
       "<matplotlib.axes._subplots.AxesSubplot at 0x1702f414390>"
      ]
     },
     "execution_count": 15280,
     "metadata": {},
     "output_type": "execute_result"
    },
    {
     "data": {
      "image/png": "[encoded data removed]",
      "text/plain": [
       "<Figure size 432x288 with 1 Axes>"
      ]
     },
     "metadata": {},
     "output_type": "display_data"
    }
   ],
   "source": [
    "df15 = df[df['mvar26'].notnull()]\n",
    "sns.distplot(df15['mvar26'])"
   ]
  },
  {
   "cell_type": "code",
   "execution_count": 15281,
   "metadata": {},
   "outputs": [
    {
     "data": {
      "text/plain": [
       "count    19858.000000\n",
       "mean      3453.531423\n",
       "std       2955.791017\n",
       "min          0.000000\n",
       "25%       1186.000000\n",
       "50%       2829.000000\n",
       "75%       4806.000000\n",
       "max      23786.000000\n",
       "Name: mvar26, dtype: float64"
      ]
     },
     "execution_count": 15281,
     "metadata": {},
     "output_type": "execute_result"
    }
   ],
   "source": [
    "df['mvar26'].describe()"
   ]
  },
  {
   "cell_type": "code",
   "execution_count": 15282,
   "metadata": {},
   "outputs": [],
   "source": [
    "df['mvar26'] = df['mvar26'].fillna(3359.007)"
   ]
  },
  {
   "cell_type": "code",
   "execution_count": 15283,
   "metadata": {},
   "outputs": [
    {
     "data": {
      "text/plain": [
       "count    19135.000000\n",
       "mean      3187.222211\n",
       "std       2723.174855\n",
       "min          0.000000\n",
       "25%       1095.000000\n",
       "50%       2646.000000\n",
       "75%       4441.000000\n",
       "max      19923.000000\n",
       "Name: mvar27, dtype: float64"
      ]
     },
     "execution_count": 15283,
     "metadata": {},
     "output_type": "execute_result"
    }
   ],
   "source": [
    "df['mvar27'].describe()"
   ]
  },
  {
   "cell_type": "code",
   "execution_count": 15284,
   "metadata": {},
   "outputs": [
    {
     "name": "stdout",
     "output_type": "stream",
     "text": [
      "nan\n",
      "<class 'numpy.ndarray'>\n"
     ]
    }
   ],
   "source": [
    "\n",
    "\n",
    "arr=np.array(df['mvar27'].tolist())\n",
    "import random\n",
    "print (np.nan)\n",
    "print (type(arr))\n",
    "for i in range (len(arr)):\n",
    "    if np.isnan(arr[i]):\n",
    "        arr[i]=random.randint(2850,3256)\n",
    "df['mvar27']=arr"
   ]
  },
  {
   "cell_type": "code",
   "execution_count": 15285,
   "metadata": {},
   "outputs": [
    {
     "name": "stdout",
     "output_type": "stream",
     "text": [
      "<class 'pandas.core.frame.DataFrame'>\n",
      "Int64Index: 22734 entries, 0 to 24999\n",
      "Data columns (total 41 columns):\n",
      "application_key    22734 non-null float64\n",
      "mvar2              22734 non-null float64\n",
      "mvar4              22734 non-null float64\n",
      "mvar5              22734 non-null float64\n",
      "mvar18             22734 non-null float64\n",
      "mvar19             22734 non-null float64\n",
      "mvar25             22734 non-null float64\n",
      "mvar26             22734 non-null float64\n",
      "mvar27             22734 non-null float64\n",
      "mvar28             22583 non-null float64\n",
      "mvar29             22583 non-null float64\n",
      "mvar30             12235 non-null float64\n",
      "mvar31             6305 non-null float64\n",
      "mvar32             20590 non-null float64\n",
      "mvar33             22251 non-null float64\n",
      "mvar34             22583 non-null float64\n",
      "mvar35             13252 non-null float64\n",
      "mvar36             21813 non-null float64\n",
      "mvar37             20590 non-null float64\n",
      "mvar38             22583 non-null float64\n",
      "mvar39             21003 non-null float64\n",
      "mvar40             4689 non-null float64\n",
      "mvar41             6966 non-null float64\n",
      "mvar42             22145 non-null float64\n",
      "mvar43             22475 non-null float64\n",
      "mvar44             20511 non-null float64\n",
      "mvar45             10404 non-null float64\n",
      "mvar46             16215 non-null float64\n",
      "mvar47             22734 non-null float64\n",
      "binned_mvar6       22734 non-null float64\n",
      "binned_mvar1       22734 non-null float64\n",
      "binned_mvar7       22734 non-null float64\n",
      "binned_mvar9       22734 non-null float64\n",
      "mvar48             22734 non-null float64\n",
      "binned_mvar10      22734 non-null float64\n",
      "binned_mvar12      22734 non-null float64\n",
      "binned_mvar13      22734 non-null float64\n",
      "binned_mvar14      22734 non-null category\n",
      "binned_mvar21      22734 non-null float64\n",
      "binned_mvar22      22734 non-null float64\n",
      "binned_mvar24      22734 non-null float64\n",
      "dtypes: category(1), float64(40)\n",
      "memory usage: 7.1 MB\n"
     ]
    }
   ],
   "source": [
    "df.info()"
   ]
  },
  {
   "cell_type": "code",
   "execution_count": 15286,
   "metadata": {},
   "outputs": [
    {
     "name": "stderr",
     "output_type": "stream",
     "text": [
      "C:\\Users\\Chirag Garg\\Anaconda3\\lib\\site-packages\\matplotlib\\axes\\_axes.py:6462: UserWarning: The 'normed' kwarg is deprecated, and has been replaced by the 'density' kwarg.\n",
      "  warnings.warn(\"The 'normed' kwarg is deprecated, and has been \"\n"
     ]
    },
    {
     "data": {
      "text/plain": [
       "<matplotlib.axes._subplots.AxesSubplot at 0x1702fb352b0>"
      ]
     },
     "execution_count": 15286,
     "metadata": {},
     "output_type": "execute_result"
    },
    {
     "data": {
      "image/png": "[encoded data removed]",
      "text/plain": [
       "<Figure size 432x288 with 1 Axes>"
      ]
     },
     "metadata": {},
     "output_type": "display_data"
    }
   ],
   "source": [
    "df15 = df[df['mvar30'].notnull()]\n",
    "sns.distplot(df15['mvar30'])"
   ]
  },
  {
   "cell_type": "code",
   "execution_count": 15287,
   "metadata": {},
   "outputs": [],
   "source": [
    "df.drop(['mvar30','mvar31'],axis=1,inplace=True)"
   ]
  },
  {
   "cell_type": "code",
   "execution_count": 15288,
   "metadata": {},
   "outputs": [
    {
     "data": {
      "text/plain": [
       "count    22583.000000\n",
       "mean      9324.159899\n",
       "std      13775.478218\n",
       "min          0.000000\n",
       "25%         30.000000\n",
       "50%        304.000000\n",
       "75%      30386.000000\n",
       "max      30386.000000\n",
       "Name: mvar28, dtype: float64"
      ]
     },
     "execution_count": 15288,
     "metadata": {},
     "output_type": "execute_result"
    }
   ],
   "source": [
    "df['mvar28'].describe()"
   ]
  },
  {
   "cell_type": "code",
   "execution_count": 15289,
   "metadata": {},
   "outputs": [
    {
     "name": "stdout",
     "output_type": "stream",
     "text": [
      "nan\n",
      "<class 'numpy.ndarray'>\n"
     ]
    }
   ],
   "source": [
    "arr=np.array(df['mvar28'].tolist())\n",
    "import random\n",
    "print (np.nan)\n",
    "print (type(arr))\n",
    "for i in range (len(arr)):\n",
    "    if np.isnan(arr[i]):\n",
    "        arr[i]=random.randint(1500,9000)\n",
    "df['mvar28']=arr"
   ]
  },
  {
   "cell_type": "code",
   "execution_count": 15290,
   "metadata": {},
   "outputs": [
    {
     "data": {
      "text/plain": [
       "count    22583.000000\n",
       "mean      5575.502635\n",
       "std       3292.032508\n",
       "min          0.000000\n",
       "25%       3255.000000\n",
       "50%       5110.000000\n",
       "75%       7361.000000\n",
       "max      23786.000000\n",
       "Name: mvar29, dtype: float64"
      ]
     },
     "execution_count": 15290,
     "metadata": {},
     "output_type": "execute_result"
    }
   ],
   "source": [
    "df['mvar29'].describe()"
   ]
  },
  {
   "cell_type": "code",
   "execution_count": 15291,
   "metadata": {},
   "outputs": [],
   "source": [
    "df['mvar29'] = df['mvar29'].fillna(5493.759118)"
   ]
  },
  {
   "cell_type": "code",
   "execution_count": 15292,
   "metadata": {},
   "outputs": [],
   "source": [
    "df.drop(['mvar26','mvar27'],axis=1,inplace=True)"
   ]
  },
  {
   "cell_type": "code",
   "execution_count": 15293,
   "metadata": {},
   "outputs": [
    {
     "data": {
      "text/plain": [
       "count    20590.000000\n",
       "mean       479.196309\n",
       "std        515.407671\n",
       "min          0.000000\n",
       "25%        106.000000\n",
       "50%        315.000000\n",
       "75%        686.000000\n",
       "max       6965.000000\n",
       "Name: mvar32, dtype: float64"
      ]
     },
     "execution_count": 15293,
     "metadata": {},
     "output_type": "execute_result"
    }
   ],
   "source": [
    "df['mvar32'].describe()"
   ]
  },
  {
   "cell_type": "code",
   "execution_count": 15294,
   "metadata": {},
   "outputs": [],
   "source": [
    "bins = [-1,102.000000,307.000000,10653.000000]\n",
    "labels = [1,2,3]\n",
    "df['binned_mvar32'] = pd.cut(df['mvar32'], bins=bins, labels=labels)"
   ]
  },
  {
   "cell_type": "code",
   "execution_count": 15295,
   "metadata": {},
   "outputs": [
    {
     "name": "stdout",
     "output_type": "stream",
     "text": [
      "nan\n",
      "<class 'numpy.ndarray'>\n"
     ]
    }
   ],
   "source": [
    "arr=np.array(df['binned_mvar32'].tolist())\n",
    "import random\n",
    "print (np.nan)\n",
    "print (type(arr))\n",
    "for i in range (len(arr)):\n",
    "    if np.isnan(arr[i]):\n",
    "        arr[i]=random.randint(1,1)\n",
    "df['binned_mvar32']=arr"
   ]
  },
  {
   "cell_type": "code",
   "execution_count": 15296,
   "metadata": {},
   "outputs": [
    {
     "data": {
      "text/plain": [
       "count    22251.000000\n",
       "mean         7.085190\n",
       "std          7.728704\n",
       "min          0.083300\n",
       "25%          1.250000\n",
       "50%          4.000000\n",
       "75%         10.750000\n",
       "max         76.500000\n",
       "Name: mvar33, dtype: float64"
      ]
     },
     "execution_count": 15296,
     "metadata": {},
     "output_type": "execute_result"
    }
   ],
   "source": [
    "df['mvar33'].describe()"
   ]
  },
  {
   "cell_type": "code",
   "execution_count": 15297,
   "metadata": {},
   "outputs": [
    {
     "name": "stdout",
     "output_type": "stream",
     "text": [
      "nan\n",
      "<class 'numpy.ndarray'>\n"
     ]
    }
   ],
   "source": [
    "bins = [-1,1.250000,3,10.750000,76.000000]\n",
    "labels = [1,2,3,4]\n",
    "df['binned_mvar33'] = pd.cut(df['mvar33'], bins=bins, labels=labels)\n",
    "arr=np.array(df['binned_mvar33'].tolist())\n",
    "import random\n",
    "print (np.nan)\n",
    "print (type(arr))\n",
    "for i in range (len(arr)):\n",
    "    if np.isnan(arr[i]):\n",
    "        arr[i]=random.randint(3,3)\n",
    "df['binned_mvar33']=arr"
   ]
  },
  {
   "cell_type": "code",
   "execution_count": 15298,
   "metadata": {},
   "outputs": [],
   "source": [
    "df.drop(['mvar32','mvar33'],axis=1,inplace=True)"
   ]
  },
  {
   "cell_type": "code",
   "execution_count": 15299,
   "metadata": {},
   "outputs": [
    {
     "data": {
      "text/plain": [
       "0.0     19306\n",
       "1.0      2450\n",
       "2.0       574\n",
       "3.0       164\n",
       "4.0        58\n",
       "5.0        17\n",
       "6.0         4\n",
       "7.0         3\n",
       "10.0        2\n",
       "8.0         2\n",
       "14.0        1\n",
       "9.0         1\n",
       "12.0        1\n",
       "Name: mvar34, dtype: int64"
      ]
     },
     "execution_count": 15299,
     "metadata": {},
     "output_type": "execute_result"
    }
   ],
   "source": [
    "df['mvar34'].value_counts()"
   ]
  },
  {
   "cell_type": "code",
   "execution_count": 15300,
   "metadata": {},
   "outputs": [],
   "source": [
    "df['mvar34'] = df['mvar34'].fillna(0)"
   ]
  },
  {
   "cell_type": "code",
   "execution_count": 15301,
   "metadata": {},
   "outputs": [],
   "source": [
    "df= df[df['mvar34']<3]"
   ]
  },
  {
   "cell_type": "code",
   "execution_count": 15302,
   "metadata": {},
   "outputs": [],
   "source": [
    "df['mvar34'] = df['mvar34'].replace([0,1,2,3,4,5,6,7,8,9,10,11,12,13,14,15,16,17,18,19,20,21],[0,1,2,3,3,3,3,3,3,3,3,3,3,3,3,3,3,3,3,3,3,3])"
   ]
  },
  {
   "cell_type": "code",
   "execution_count": 15303,
   "metadata": {},
   "outputs": [],
   "source": [
    "df.drop('mvar35',axis=1,inplace=True)"
   ]
  },
  {
   "cell_type": "code",
   "execution_count": 15304,
   "metadata": {},
   "outputs": [
    {
     "name": "stdout",
     "output_type": "stream",
     "text": [
      "<class 'pandas.core.frame.DataFrame'>\n",
      "Int64Index: 22481 entries, 0 to 24999\n",
      "Data columns (total 36 columns):\n",
      "application_key    22481 non-null float64\n",
      "mvar2              22481 non-null float64\n",
      "mvar4              22481 non-null float64\n",
      "mvar5              22481 non-null float64\n",
      "mvar18             22481 non-null float64\n",
      "mvar19             22481 non-null float64\n",
      "mvar25             22481 non-null float64\n",
      "mvar28             22481 non-null float64\n",
      "mvar29             22481 non-null float64\n",
      "mvar34             22481 non-null float64\n",
      "mvar36             21561 non-null float64\n",
      "mvar37             20345 non-null float64\n",
      "mvar38             22330 non-null float64\n",
      "mvar39             20750 non-null float64\n",
      "mvar40             4603 non-null float64\n",
      "mvar41             6845 non-null float64\n",
      "mvar42             21892 non-null float64\n",
      "mvar43             22222 non-null float64\n",
      "mvar44             20259 non-null float64\n",
      "mvar45             10260 non-null float64\n",
      "mvar46             16000 non-null float64\n",
      "mvar47             22481 non-null float64\n",
      "binned_mvar6       22481 non-null float64\n",
      "binned_mvar1       22481 non-null float64\n",
      "binned_mvar7       22481 non-null float64\n",
      "binned_mvar9       22481 non-null float64\n",
      "mvar48             22481 non-null float64\n",
      "binned_mvar10      22481 non-null float64\n",
      "binned_mvar12      22481 non-null float64\n",
      "binned_mvar13      22481 non-null float64\n",
      "binned_mvar14      22481 non-null category\n",
      "binned_mvar21      22481 non-null float64\n",
      "binned_mvar22      22481 non-null float64\n",
      "binned_mvar24      22481 non-null float64\n",
      "binned_mvar32      22481 non-null float64\n",
      "binned_mvar33      22481 non-null float64\n",
      "dtypes: category(1), float64(35)\n",
      "memory usage: 6.2 MB\n"
     ]
    }
   ],
   "source": [
    "df.info()"
   ]
  },
  {
   "cell_type": "code",
   "execution_count": 15305,
   "metadata": {},
   "outputs": [
    {
     "data": {
      "text/plain": [
       "3.0     2955\n",
       "4.0     2690\n",
       "2.0     2637\n",
       "5.0     2287\n",
       "1.0     1955\n",
       "6.0     1906\n",
       "7.0     1584\n",
       "8.0     1204\n",
       "9.0      916\n",
       "10.0     743\n",
       "11.0     510\n",
       "12.0     411\n",
       "13.0     338\n",
       "14.0     265\n",
       "15.0     220\n",
       "16.0     144\n",
       "17.0     137\n",
       "19.0      93\n",
       "18.0      93\n",
       "20.0      86\n",
       "21.0      69\n",
       "22.0      58\n",
       "23.0      49\n",
       "24.0      36\n",
       "25.0      32\n",
       "26.0      23\n",
       "27.0      20\n",
       "28.0      16\n",
       "29.0      13\n",
       "31.0      11\n",
       "30.0       9\n",
       "34.0       9\n",
       "32.0       7\n",
       "33.0       5\n",
       "42.0       3\n",
       "39.0       3\n",
       "40.0       3\n",
       "37.0       3\n",
       "36.0       3\n",
       "45.0       2\n",
       "57.0       1\n",
       "81.0       1\n",
       "99.0       1\n",
       "50.0       1\n",
       "46.0       1\n",
       "65.0       1\n",
       "52.0       1\n",
       "54.0       1\n",
       "38.0       1\n",
       "56.0       1\n",
       "41.0       1\n",
       "47.0       1\n",
       "35.0       1\n",
       "Name: mvar36, dtype: int64"
      ]
     },
     "execution_count": 15305,
     "metadata": {},
     "output_type": "execute_result"
    }
   ],
   "source": [
    "df['mvar36'].value_counts()"
   ]
  },
  {
   "cell_type": "code",
   "execution_count": 15306,
   "metadata": {},
   "outputs": [],
   "source": [
    "df['mvar36'] = df['mvar36'].replace([1,2],[1,1])\n",
    "df['mvar36'] = df['mvar36'].replace([3,4,5,6,7,8,9],[2,3,4,5,6,7,8])\n",
    "df['mvar36'] = df['mvar36'].replace([10,11,12,13],[9,9,9,9])\n",
    "df['mvar36'] = df['mvar36'].replace([14,15,16,17,18,19,20],[10,10,10,10,11,11,11])"
   ]
  },
  {
   "cell_type": "code",
   "execution_count": 15307,
   "metadata": {},
   "outputs": [
    {
     "name": "stdout",
     "output_type": "stream",
     "text": [
      "nan\n",
      "<class 'numpy.ndarray'>\n"
     ]
    }
   ],
   "source": [
    "arr=np.array(df['mvar36'].tolist())\n",
    "import random\n",
    "print (np.nan)\n",
    "print (type(arr))\n",
    "for i in range (len(arr)):\n",
    "    if arr[i]>20:\n",
    "        arr[i]=12\n",
    "df['mvar36']=arr\n",
    "    "
   ]
  },
  {
   "cell_type": "code",
   "execution_count": 15308,
   "metadata": {},
   "outputs": [
    {
     "name": "stdout",
     "output_type": "stream",
     "text": [
      "nan\n",
      "<class 'numpy.ndarray'>\n"
     ]
    }
   ],
   "source": [
    "arr=np.array(df['mvar36'].tolist())\n",
    "import random\n",
    "print (np.nan)\n",
    "print (type(arr))\n",
    "for i in range (len(arr)):\n",
    "    if np.isnan(arr[i]):\n",
    "        arr[i]=random.randint(1,3)\n",
    "df['mvar36']=arr"
   ]
  },
  {
   "cell_type": "code",
   "execution_count": 15309,
   "metadata": {},
   "outputs": [],
   "source": [
    "df = df[df['mvar36']<12]"
   ]
  },
  {
   "cell_type": "code",
   "execution_count": 15310,
   "metadata": {},
   "outputs": [
    {
     "data": {
      "text/plain": [
       "0.0     4297\n",
       "1.0     2599\n",
       "2.0     1975\n",
       "3.0     1771\n",
       "4.0     1659\n",
       "5.0     1472\n",
       "6.0     1185\n",
       "7.0      989\n",
       "8.0      864\n",
       "9.0      729\n",
       "10.0     550\n",
       "11.0     435\n",
       "12.0     312\n",
       "13.0     243\n",
       "15.0     187\n",
       "14.0     171\n",
       "16.0     121\n",
       "17.0      94\n",
       "18.0      70\n",
       "20.0      55\n",
       "19.0      53\n",
       "21.0      33\n",
       "22.0      26\n",
       "23.0      21\n",
       "24.0      18\n",
       "25.0      12\n",
       "27.0      10\n",
       "29.0       9\n",
       "30.0       6\n",
       "26.0       6\n",
       "34.0       4\n",
       "28.0       4\n",
       "33.0       3\n",
       "32.0       3\n",
       "47.0       2\n",
       "38.0       2\n",
       "63.0       2\n",
       "46.0       2\n",
       "35.0       2\n",
       "43.0       2\n",
       "59.0       1\n",
       "77.0       1\n",
       "42.0       1\n",
       "44.0       1\n",
       "40.0       1\n",
       "31.0       1\n",
       "37.0       1\n",
       "54.0       1\n",
       "Name: mvar37, dtype: int64"
      ]
     },
     "execution_count": 15310,
     "metadata": {},
     "output_type": "execute_result"
    }
   ],
   "source": [
    "df['mvar37'].value_counts()"
   ]
  },
  {
   "cell_type": "code",
   "execution_count": 15311,
   "metadata": {},
   "outputs": [
    {
     "name": "stdout",
     "output_type": "stream",
     "text": [
      "nan\n",
      "<class 'numpy.ndarray'>\n"
     ]
    }
   ],
   "source": [
    "arr=np.array(df['mvar37'].tolist())\n",
    "import random\n",
    "print (np.nan)\n",
    "print (type(arr))\n",
    "for i in range (len(arr)):\n",
    "    if np.isnan(arr[i]):\n",
    "        arr[i]=random.randint(0,1)\n",
    "df['mvar37']=arr"
   ]
  },
  {
   "cell_type": "code",
   "execution_count": 15312,
   "metadata": {},
   "outputs": [],
   "source": [
    "df = df[df['mvar37']<20]"
   ]
  },
  {
   "cell_type": "code",
   "execution_count": 15313,
   "metadata": {},
   "outputs": [
    {
     "name": "stdout",
     "output_type": "stream",
     "text": [
      "nan\n",
      "<class 'numpy.ndarray'>\n"
     ]
    }
   ],
   "source": [
    "arr=np.array(df['mvar37'].tolist())\n",
    "import random\n",
    "print (np.nan)\n",
    "print (type(arr))\n",
    "for i in range (len(arr)):\n",
    "    if arr[i]>6:\n",
    "        arr[i]=7\n",
    "df['mvar37']=arr"
   ]
  },
  {
   "cell_type": "code",
   "execution_count": 15314,
   "metadata": {},
   "outputs": [
    {
     "data": {
      "text/plain": [
       "2.0     3484\n",
       "1.0     3356\n",
       "3.0     3211\n",
       "4.0     2513\n",
       "0.0     2107\n",
       "5.0     1919\n",
       "6.0     1382\n",
       "7.0     1036\n",
       "8.0      771\n",
       "9.0      584\n",
       "10.0     383\n",
       "11.0     285\n",
       "12.0     181\n",
       "13.0     143\n",
       "14.0     102\n",
       "15.0      73\n",
       "16.0      52\n",
       "17.0      34\n",
       "18.0      23\n",
       "19.0      15\n",
       "20.0      14\n",
       "21.0       9\n",
       "24.0       7\n",
       "22.0       7\n",
       "23.0       6\n",
       "26.0       5\n",
       "28.0       3\n",
       "25.0       2\n",
       "29.0       2\n",
       "32.0       1\n",
       "34.0       1\n",
       "31.0       1\n",
       "27.0       1\n",
       "Name: mvar38, dtype: int64"
      ]
     },
     "execution_count": 15314,
     "metadata": {},
     "output_type": "execute_result"
    }
   ],
   "source": [
    "df['mvar38'].value_counts()"
   ]
  },
  {
   "cell_type": "code",
   "execution_count": 15315,
   "metadata": {},
   "outputs": [],
   "source": [
    "df['mvar38'] = df['mvar38'].replace([7,8,9,10,11,12],[7,7,7,7,7,7])"
   ]
  },
  {
   "cell_type": "code",
   "execution_count": 15316,
   "metadata": {},
   "outputs": [
    {
     "name": "stdout",
     "output_type": "stream",
     "text": [
      "nan\n",
      "<class 'numpy.ndarray'>\n"
     ]
    }
   ],
   "source": [
    "arr=np.array(df['mvar38'].tolist())\n",
    "import random\n",
    "print (np.nan)\n",
    "print (type(arr))\n",
    "for i in range (len(arr)):\n",
    "    if np.isnan(arr[i]):\n",
    "        arr[i]=random.randint(1,3)\n",
    "df['mvar38']=arr"
   ]
  },
  {
   "cell_type": "code",
   "execution_count": 15317,
   "metadata": {},
   "outputs": [],
   "source": [
    "df=df[df['mvar38']<13]"
   ]
  },
  {
   "cell_type": "code",
   "execution_count": 15318,
   "metadata": {},
   "outputs": [
    {
     "data": {
      "text/plain": [
       "0.0    18656\n",
       "1.0      913\n",
       "2.0       96\n",
       "3.0        8\n",
       "Name: mvar39, dtype: int64"
      ]
     },
     "execution_count": 15318,
     "metadata": {},
     "output_type": "execute_result"
    }
   ],
   "source": [
    "df['mvar39'].value_counts()"
   ]
  },
  {
   "cell_type": "code",
   "execution_count": 15319,
   "metadata": {},
   "outputs": [],
   "source": [
    "df['mvar39'] = df['mvar39'].fillna(0)"
   ]
  },
  {
   "cell_type": "code",
   "execution_count": 15320,
   "metadata": {},
   "outputs": [],
   "source": [
    "df['mvar39'] = df['mvar39'].replace([0,1,2,3,4,5,6,7,8,9,10,11,12,13,14,15,21],[0,1,2,3,4,4,4,4,4,4,4,4,4,4,4,4,4])"
   ]
  },
  {
   "cell_type": "code",
   "execution_count": 15321,
   "metadata": {},
   "outputs": [],
   "source": [
    "df=df[df['mvar39']==0]"
   ]
  },
  {
   "cell_type": "code",
   "execution_count": 15322,
   "metadata": {},
   "outputs": [],
   "source": [
    "df.drop('mvar39',axis=1,inplace=True)"
   ]
  },
  {
   "cell_type": "code",
   "execution_count": 15323,
   "metadata": {},
   "outputs": [],
   "source": [
    "df.drop(['mvar40','mvar41'],axis=1,inplace=True)"
   ]
  },
  {
   "cell_type": "code",
   "execution_count": 15324,
   "metadata": {},
   "outputs": [
    {
     "data": {
      "text/plain": [
       "0.0     2405\n",
       "1.0     2060\n",
       "2.0     1787\n",
       "3.0     1727\n",
       "4.0     1538\n",
       "5.0     1432\n",
       "6.0     1334\n",
       "7.0     1166\n",
       "8.0     1015\n",
       "9.0      949\n",
       "10.0     815\n",
       "11.0     720\n",
       "12.0     582\n",
       "13.0     490\n",
       "14.0     447\n",
       "15.0     359\n",
       "16.0     294\n",
       "17.0     204\n",
       "18.0     170\n",
       "19.0     131\n",
       "20.0     116\n",
       "21.0      85\n",
       "23.0      63\n",
       "22.0      56\n",
       "24.0      32\n",
       "25.0      27\n",
       "26.0      20\n",
       "27.0      17\n",
       "28.0      15\n",
       "29.0      10\n",
       "31.0       5\n",
       "30.0       5\n",
       "32.0       4\n",
       "33.0       3\n",
       "35.0       2\n",
       "38.0       2\n",
       "39.0       1\n",
       "Name: mvar43, dtype: int64"
      ]
     },
     "execution_count": 15324,
     "metadata": {},
     "output_type": "execute_result"
    }
   ],
   "source": [
    "df['mvar43'].value_counts()"
   ]
  },
  {
   "cell_type": "code",
   "execution_count": 15325,
   "metadata": {},
   "outputs": [],
   "source": [
    "df['mvar42'] = df['mvar42'].fillna(1)"
   ]
  },
  {
   "cell_type": "code",
   "execution_count": 15326,
   "metadata": {},
   "outputs": [],
   "source": [
    "df['mvar43'] = df['mvar43'].replace([6,7,8,9,10],[6,6,6,6,6])"
   ]
  },
  {
   "cell_type": "code",
   "execution_count": 15327,
   "metadata": {},
   "outputs": [
    {
     "name": "stdout",
     "output_type": "stream",
     "text": [
      "nan\n",
      "<class 'numpy.ndarray'>\n"
     ]
    }
   ],
   "source": [
    "arr=np.array(df['mvar43'].tolist())\n",
    "import random\n",
    "print (np.nan)\n",
    "print (type(arr))\n",
    "for i in range (len(arr)):\n",
    "    if np.isnan(arr[i]):\n",
    "        arr[i]=random.randint(0,1)\n",
    "df['mvar43']=arr\n",
    "df = df[df['mvar43']<13]    "
   ]
  },
  {
   "cell_type": "code",
   "execution_count": 15328,
   "metadata": {},
   "outputs": [
    {
     "name": "stdout",
     "output_type": "stream",
     "text": [
      "nan\n",
      "<class 'numpy.ndarray'>\n"
     ]
    }
   ],
   "source": [
    "arr=np.array(df['mvar43'].tolist())\n",
    "import random\n",
    "print (np.nan)\n",
    "print (type(arr))\n",
    "for i in range (len(arr)):\n",
    "    if arr[i]>6:\n",
    "        arr[i]=7\n",
    "df['mvar43']=arr"
   ]
  },
  {
   "cell_type": "code",
   "execution_count": 15329,
   "metadata": {},
   "outputs": [
    {
     "data": {
      "text/plain": [
       "count    15622.000000\n",
       "mean         0.745382\n",
       "std          0.228707\n",
       "min          0.108220\n",
       "25%          0.559985\n",
       "50%          0.793185\n",
       "75%          0.970498\n",
       "max          1.000000\n",
       "Name: mvar44, dtype: float64"
      ]
     },
     "execution_count": 15329,
     "metadata": {},
     "output_type": "execute_result"
    }
   ],
   "source": [
    "df['mvar44'].describe()"
   ]
  },
  {
   "cell_type": "code",
   "execution_count": 15330,
   "metadata": {},
   "outputs": [],
   "source": [
    "df['mvar44']= df['mvar44'].fillna(0.702558)"
   ]
  },
  {
   "cell_type": "code",
   "execution_count": 15331,
   "metadata": {},
   "outputs": [
    {
     "name": "stdout",
     "output_type": "stream",
     "text": [
      "<class 'pandas.core.frame.DataFrame'>\n",
      "Int64Index: 17788 entries, 0 to 24999\n",
      "Data columns (total 33 columns):\n",
      "application_key    17788 non-null float64\n",
      "mvar2              17788 non-null float64\n",
      "mvar4              17788 non-null float64\n",
      "mvar5              17788 non-null float64\n",
      "mvar18             17788 non-null float64\n",
      "mvar19             17788 non-null float64\n",
      "mvar25             17788 non-null float64\n",
      "mvar28             17788 non-null float64\n",
      "mvar29             17788 non-null float64\n",
      "mvar34             17788 non-null float64\n",
      "mvar36             17788 non-null float64\n",
      "mvar37             17788 non-null float64\n",
      "mvar38             17788 non-null float64\n",
      "mvar42             17788 non-null float64\n",
      "mvar43             17788 non-null float64\n",
      "mvar44             17788 non-null float64\n",
      "mvar45             7492 non-null float64\n",
      "mvar46             12008 non-null float64\n",
      "mvar47             17788 non-null float64\n",
      "binned_mvar6       17788 non-null float64\n",
      "binned_mvar1       17788 non-null float64\n",
      "binned_mvar7       17788 non-null float64\n",
      "binned_mvar9       17788 non-null float64\n",
      "mvar48             17788 non-null float64\n",
      "binned_mvar10      17788 non-null float64\n",
      "binned_mvar12      17788 non-null float64\n",
      "binned_mvar13      17788 non-null float64\n",
      "binned_mvar14      17788 non-null category\n",
      "binned_mvar21      17788 non-null float64\n",
      "binned_mvar22      17788 non-null float64\n",
      "binned_mvar24      17788 non-null float64\n",
      "binned_mvar32      17788 non-null float64\n",
      "binned_mvar33      17788 non-null float64\n",
      "dtypes: category(1), float64(32)\n",
      "memory usage: 4.5 MB\n"
     ]
    }
   ],
   "source": [
    "df.info()"
   ]
  },
  {
   "cell_type": "code",
   "execution_count": 15332,
   "metadata": {},
   "outputs": [],
   "source": [
    "df.drop('mvar45',axis=1,inplace=True)"
   ]
  },
  {
   "cell_type": "code",
   "execution_count": 15333,
   "metadata": {},
   "outputs": [
    {
     "data": {
      "text/plain": [
       "0.0    11205\n",
       "1.0      785\n",
       "2.0       18\n",
       "Name: mvar46, dtype: int64"
      ]
     },
     "execution_count": 15333,
     "metadata": {},
     "output_type": "execute_result"
    }
   ],
   "source": [
    "df['mvar46'].value_counts()"
   ]
  },
  {
   "cell_type": "code",
   "execution_count": 15334,
   "metadata": {},
   "outputs": [],
   "source": [
    "df['mvar46']= df['mvar46'].fillna(0)"
   ]
  },
  {
   "cell_type": "code",
   "execution_count": 15335,
   "metadata": {},
   "outputs": [],
   "source": [
    "df = df[df['mvar46']<2]"
   ]
  },
  {
   "cell_type": "code",
   "execution_count": 15336,
   "metadata": {},
   "outputs": [],
   "source": [
    "df['mvar46'] = df['mvar46'].replace([2,3,4,5,19,9],[2,2,2,2,2,2])"
   ]
  },
  {
   "cell_type": "code",
   "execution_count": 15337,
   "metadata": {},
   "outputs": [],
   "source": [
    "df = df.astype(float)"
   ]
  },
  {
   "cell_type": "code",
   "execution_count": 15338,
   "metadata": {},
   "outputs": [
    {
     "data": {
      "text/html": [
       "<div>\n",
       "<style scoped>\n",
       "    .dataframe tbody tr th:only-of-type {\n",
       "        vertical-align: middle;\n",
       "    }\n",
       "\n",
       "    .dataframe tbody tr th {\n",
       "        vertical-align: top;\n",
       "    }\n",
       "\n",
       "    .dataframe thead th {\n",
       "        text-align: right;\n",
       "    }\n",
       "</style>\n",
       "<table border=\"1\" class=\"dataframe\">\n",
       "  <thead>\n",
       "    <tr style=\"text-align: right;\">\n",
       "      <th></th>\n",
       "      <th>application_key</th>\n",
       "      <th>mvar2</th>\n",
       "      <th>mvar4</th>\n",
       "      <th>mvar5</th>\n",
       "      <th>mvar18</th>\n",
       "      <th>mvar19</th>\n",
       "      <th>mvar25</th>\n",
       "      <th>mvar28</th>\n",
       "      <th>mvar29</th>\n",
       "      <th>mvar34</th>\n",
       "      <th>...</th>\n",
       "      <th>mvar48</th>\n",
       "      <th>binned_mvar10</th>\n",
       "      <th>binned_mvar12</th>\n",
       "      <th>binned_mvar13</th>\n",
       "      <th>binned_mvar14</th>\n",
       "      <th>binned_mvar21</th>\n",
       "      <th>binned_mvar22</th>\n",
       "      <th>binned_mvar24</th>\n",
       "      <th>binned_mvar32</th>\n",
       "      <th>binned_mvar33</th>\n",
       "    </tr>\n",
       "  </thead>\n",
       "  <tbody>\n",
       "    <tr>\n",
       "      <th>count</th>\n",
       "      <td>17770.000000</td>\n",
       "      <td>17770.000000</td>\n",
       "      <td>17770.000000</td>\n",
       "      <td>17770.000000</td>\n",
       "      <td>17770.000000</td>\n",
       "      <td>17770.000000</td>\n",
       "      <td>17770.000000</td>\n",
       "      <td>17770.000000</td>\n",
       "      <td>17770.000000</td>\n",
       "      <td>17770.000000</td>\n",
       "      <td>...</td>\n",
       "      <td>17770.000000</td>\n",
       "      <td>17770.000000</td>\n",
       "      <td>17770.000000</td>\n",
       "      <td>17770.000000</td>\n",
       "      <td>17770.000000</td>\n",
       "      <td>17770.000000</td>\n",
       "      <td>17770.000000</td>\n",
       "      <td>17770.000000</td>\n",
       "      <td>17770.000000</td>\n",
       "      <td>17770.000000</td>\n",
       "    </tr>\n",
       "    <tr>\n",
       "      <th>mean</th>\n",
       "      <td>362428.797355</td>\n",
       "      <td>0.813593</td>\n",
       "      <td>0.107485</td>\n",
       "      <td>0.076477</td>\n",
       "      <td>0.123973</td>\n",
       "      <td>0.600450</td>\n",
       "      <td>1811.042738</td>\n",
       "      <td>9284.813844</td>\n",
       "      <td>5373.280339</td>\n",
       "      <td>0.115532</td>\n",
       "      <td>...</td>\n",
       "      <td>0.565053</td>\n",
       "      <td>0.564153</td>\n",
       "      <td>3.299662</td>\n",
       "      <td>2.729263</td>\n",
       "      <td>2.690884</td>\n",
       "      <td>2.754024</td>\n",
       "      <td>2.308723</td>\n",
       "      <td>1.943782</td>\n",
       "      <td>2.053292</td>\n",
       "      <td>2.526899</td>\n",
       "    </tr>\n",
       "    <tr>\n",
       "      <th>std</th>\n",
       "      <td>7230.881289</td>\n",
       "      <td>0.850438</td>\n",
       "      <td>0.309737</td>\n",
       "      <td>0.265768</td>\n",
       "      <td>0.379262</td>\n",
       "      <td>1.008858</td>\n",
       "      <td>1330.313595</td>\n",
       "      <td>13720.682063</td>\n",
       "      <td>3263.744375</td>\n",
       "      <td>0.364579</td>\n",
       "      <td>...</td>\n",
       "      <td>0.495764</td>\n",
       "      <td>0.495881</td>\n",
       "      <td>1.214821</td>\n",
       "      <td>1.031293</td>\n",
       "      <td>0.519582</td>\n",
       "      <td>1.175994</td>\n",
       "      <td>0.920937</td>\n",
       "      <td>0.812864</td>\n",
       "      <td>0.873460</td>\n",
       "      <td>1.110518</td>\n",
       "    </tr>\n",
       "    <tr>\n",
       "      <th>min</th>\n",
       "      <td>350053.000000</td>\n",
       "      <td>0.000000</td>\n",
       "      <td>0.000000</td>\n",
       "      <td>0.000000</td>\n",
       "      <td>0.000000</td>\n",
       "      <td>0.000000</td>\n",
       "      <td>0.000000</td>\n",
       "      <td>0.000000</td>\n",
       "      <td>0.000000</td>\n",
       "      <td>0.000000</td>\n",
       "      <td>...</td>\n",
       "      <td>0.000000</td>\n",
       "      <td>0.000000</td>\n",
       "      <td>1.000000</td>\n",
       "      <td>1.000000</td>\n",
       "      <td>1.000000</td>\n",
       "      <td>1.000000</td>\n",
       "      <td>1.000000</td>\n",
       "      <td>1.000000</td>\n",
       "      <td>1.000000</td>\n",
       "      <td>1.000000</td>\n",
       "    </tr>\n",
       "    <tr>\n",
       "      <th>25%</th>\n",
       "      <td>356149.750000</td>\n",
       "      <td>0.135100</td>\n",
       "      <td>0.000000</td>\n",
       "      <td>0.000000</td>\n",
       "      <td>0.000000</td>\n",
       "      <td>0.000000</td>\n",
       "      <td>909.000000</td>\n",
       "      <td>30.000000</td>\n",
       "      <td>3072.000000</td>\n",
       "      <td>0.000000</td>\n",
       "      <td>...</td>\n",
       "      <td>0.000000</td>\n",
       "      <td>0.000000</td>\n",
       "      <td>2.000000</td>\n",
       "      <td>2.000000</td>\n",
       "      <td>2.000000</td>\n",
       "      <td>2.000000</td>\n",
       "      <td>1.000000</td>\n",
       "      <td>1.000000</td>\n",
       "      <td>1.000000</td>\n",
       "      <td>1.000000</td>\n",
       "    </tr>\n",
       "    <tr>\n",
       "      <th>50%</th>\n",
       "      <td>362312.500000</td>\n",
       "      <td>0.535200</td>\n",
       "      <td>0.000000</td>\n",
       "      <td>0.000000</td>\n",
       "      <td>0.000000</td>\n",
       "      <td>0.000000</td>\n",
       "      <td>1703.000000</td>\n",
       "      <td>335.000000</td>\n",
       "      <td>4958.000000</td>\n",
       "      <td>0.000000</td>\n",
       "      <td>...</td>\n",
       "      <td>1.000000</td>\n",
       "      <td>1.000000</td>\n",
       "      <td>3.000000</td>\n",
       "      <td>3.000000</td>\n",
       "      <td>3.000000</td>\n",
       "      <td>3.000000</td>\n",
       "      <td>3.000000</td>\n",
       "      <td>2.000000</td>\n",
       "      <td>2.000000</td>\n",
       "      <td>3.000000</td>\n",
       "    </tr>\n",
       "    <tr>\n",
       "      <th>75%</th>\n",
       "      <td>368690.750000</td>\n",
       "      <td>1.105550</td>\n",
       "      <td>0.000000</td>\n",
       "      <td>0.000000</td>\n",
       "      <td>0.000000</td>\n",
       "      <td>1.000000</td>\n",
       "      <td>2302.000000</td>\n",
       "      <td>30386.000000</td>\n",
       "      <td>7148.000000</td>\n",
       "      <td>0.000000</td>\n",
       "      <td>...</td>\n",
       "      <td>1.000000</td>\n",
       "      <td>1.000000</td>\n",
       "      <td>4.000000</td>\n",
       "      <td>3.000000</td>\n",
       "      <td>3.000000</td>\n",
       "      <td>4.000000</td>\n",
       "      <td>3.000000</td>\n",
       "      <td>3.000000</td>\n",
       "      <td>3.000000</td>\n",
       "      <td>3.000000</td>\n",
       "    </tr>\n",
       "    <tr>\n",
       "      <th>max</th>\n",
       "      <td>375052.000000</td>\n",
       "      <td>3.997000</td>\n",
       "      <td>1.000000</td>\n",
       "      <td>1.000000</td>\n",
       "      <td>2.000000</td>\n",
       "      <td>4.000000</td>\n",
       "      <td>19010.000000</td>\n",
       "      <td>30386.000000</td>\n",
       "      <td>20653.000000</td>\n",
       "      <td>2.000000</td>\n",
       "      <td>...</td>\n",
       "      <td>1.000000</td>\n",
       "      <td>1.000000</td>\n",
       "      <td>5.000000</td>\n",
       "      <td>4.000000</td>\n",
       "      <td>3.000000</td>\n",
       "      <td>5.000000</td>\n",
       "      <td>4.000000</td>\n",
       "      <td>3.000000</td>\n",
       "      <td>3.000000</td>\n",
       "      <td>4.000000</td>\n",
       "    </tr>\n",
       "  </tbody>\n",
       "</table>\n",
       "<p>8 rows × 32 columns</p>\n",
       "</div>"
      ],
      "text/plain": [
       "       application_key         mvar2         mvar4         mvar5  \\\n",
       "count     17770.000000  17770.000000  17770.000000  17770.000000   \n",
       "mean     362428.797355      0.813593      0.107485      0.076477   \n",
       "std        7230.881289      0.850438      0.309737      0.265768   \n",
       "min      350053.000000      0.000000      0.000000      0.000000   \n",
       "25%      356149.750000      0.135100      0.000000      0.000000   \n",
       "50%      362312.500000      0.535200      0.000000      0.000000   \n",
       "75%      368690.750000      1.105550      0.000000      0.000000   \n",
       "max      375052.000000      3.997000      1.000000      1.000000   \n",
       "\n",
       "             mvar18        mvar19        mvar25        mvar28        mvar29  \\\n",
       "count  17770.000000  17770.000000  17770.000000  17770.000000  17770.000000   \n",
       "mean       0.123973      0.600450   1811.042738   9284.813844   5373.280339   \n",
       "std        0.379262      1.008858   1330.313595  13720.682063   3263.744375   \n",
       "min        0.000000      0.000000      0.000000      0.000000      0.000000   \n",
       "25%        0.000000      0.000000    909.000000     30.000000   3072.000000   \n",
       "50%        0.000000      0.000000   1703.000000    335.000000   4958.000000   \n",
       "75%        0.000000      1.000000   2302.000000  30386.000000   7148.000000   \n",
       "max        2.000000      4.000000  19010.000000  30386.000000  20653.000000   \n",
       "\n",
       "             mvar34      ...              mvar48  binned_mvar10  \\\n",
       "count  17770.000000      ...        17770.000000   17770.000000   \n",
       "mean       0.115532      ...            0.565053       0.564153   \n",
       "std        0.364579      ...            0.495764       0.495881   \n",
       "min        0.000000      ...            0.000000       0.000000   \n",
       "25%        0.000000      ...            0.000000       0.000000   \n",
       "50%        0.000000      ...            1.000000       1.000000   \n",
       "75%        0.000000      ...            1.000000       1.000000   \n",
       "max        2.000000      ...            1.000000       1.000000   \n",
       "\n",
       "       binned_mvar12  binned_mvar13  binned_mvar14  binned_mvar21  \\\n",
       "count   17770.000000   17770.000000   17770.000000   17770.000000   \n",
       "mean        3.299662       2.729263       2.690884       2.754024   \n",
       "std         1.214821       1.031293       0.519582       1.175994   \n",
       "min         1.000000       1.000000       1.000000       1.000000   \n",
       "25%         2.000000       2.000000       2.000000       2.000000   \n",
       "50%         3.000000       3.000000       3.000000       3.000000   \n",
       "75%         4.000000       3.000000       3.000000       4.000000   \n",
       "max         5.000000       4.000000       3.000000       5.000000   \n",
       "\n",
       "       binned_mvar22  binned_mvar24  binned_mvar32  binned_mvar33  \n",
       "count   17770.000000   17770.000000   17770.000000   17770.000000  \n",
       "mean        2.308723       1.943782       2.053292       2.526899  \n",
       "std         0.920937       0.812864       0.873460       1.110518  \n",
       "min         1.000000       1.000000       1.000000       1.000000  \n",
       "25%         1.000000       1.000000       1.000000       1.000000  \n",
       "50%         3.000000       2.000000       2.000000       3.000000  \n",
       "75%         3.000000       3.000000       3.000000       3.000000  \n",
       "max         4.000000       3.000000       3.000000       4.000000  \n",
       "\n",
       "[8 rows x 32 columns]"
      ]
     },
     "execution_count": 15338,
     "metadata": {},
     "output_type": "execute_result"
    }
   ],
   "source": [
    "df.describe()"
   ]
  },
  {
   "cell_type": "code",
   "execution_count": 15339,
   "metadata": {},
   "outputs": [],
   "source": [
    "df.drop(['mvar44'],axis=1,inplace=True)"
   ]
  },
  {
   "cell_type": "code",
   "execution_count": 15340,
   "metadata": {},
   "outputs": [],
   "source": [
    "df.drop(['binned_mvar10'],axis=1,inplace=True)"
   ]
  },
  {
   "cell_type": "code",
   "execution_count": 15341,
   "metadata": {},
   "outputs": [
    {
     "name": "stdout",
     "output_type": "stream",
     "text": [
      "<class 'pandas.core.frame.DataFrame'>\n",
      "Int64Index: 17770 entries, 0 to 24999\n",
      "Data columns (total 30 columns):\n",
      "application_key    17770 non-null float64\n",
      "mvar2              17770 non-null float64\n",
      "mvar4              17770 non-null float64\n",
      "mvar5              17770 non-null float64\n",
      "mvar18             17770 non-null float64\n",
      "mvar19             17770 non-null float64\n",
      "mvar25             17770 non-null float64\n",
      "mvar28             17770 non-null float64\n",
      "mvar29             17770 non-null float64\n",
      "mvar34             17770 non-null float64\n",
      "mvar36             17770 non-null float64\n",
      "mvar37             17770 non-null float64\n",
      "mvar38             17770 non-null float64\n",
      "mvar42             17770 non-null float64\n",
      "mvar43             17770 non-null float64\n",
      "mvar46             17770 non-null float64\n",
      "mvar47             17770 non-null float64\n",
      "binned_mvar6       17770 non-null float64\n",
      "binned_mvar1       17770 non-null float64\n",
      "binned_mvar7       17770 non-null float64\n",
      "binned_mvar9       17770 non-null float64\n",
      "mvar48             17770 non-null float64\n",
      "binned_mvar12      17770 non-null float64\n",
      "binned_mvar13      17770 non-null float64\n",
      "binned_mvar14      17770 non-null float64\n",
      "binned_mvar21      17770 non-null float64\n",
      "binned_mvar22      17770 non-null float64\n",
      "binned_mvar24      17770 non-null float64\n",
      "binned_mvar32      17770 non-null float64\n",
      "binned_mvar33      17770 non-null float64\n",
      "dtypes: float64(30)\n",
      "memory usage: 4.2 MB\n"
     ]
    }
   ],
   "source": [
    "df.info()"
   ]
  },
  {
   "cell_type": "code",
   "execution_count": 15342,
   "metadata": {},
   "outputs": [],
   "source": [
    "y = df['application_key']"
   ]
  },
  {
   "cell_type": "code",
   "execution_count": 15343,
   "metadata": {},
   "outputs": [],
   "source": [
    "df.drop(['application_key'],axis=1,inplace=True)"
   ]
  },
  {
   "cell_type": "code",
   "execution_count": 15344,
   "metadata": {},
   "outputs": [],
   "source": [
    "x = df.iloc[:,:].values"
   ]
  },
  {
   "cell_type": "code",
   "execution_count": 15345,
   "metadata": {},
   "outputs": [],
   "source": [
    "x = sc.transform(x)"
   ]
  },
  {
   "cell_type": "code",
   "execution_count": 15350,
   "metadata": {},
   "outputs": [],
   "source": [
    "pred1 = classifier.predict_proba(x)"
   ]
  },
  {
   "cell_type": "code",
   "execution_count": 15351,
   "metadata": {},
   "outputs": [],
   "source": [
    "pred2=clf.predict(x)"
   ]
  },
  {
   "cell_type": "code",
   "execution_count": 15352,
   "metadata": {},
   "outputs": [],
   "source": [
    "df['lg_proba1'] = pred1[:,1]"
   ]
  },
  {
   "cell_type": "code",
   "execution_count": 15353,
   "metadata": {},
   "outputs": [],
   "source": [
    "df['lgb_proba'] = pred2"
   ]
  },
  {
   "cell_type": "code",
   "execution_count": 11903,
   "metadata": {},
   "outputs": [
    {
     "name": "stdout",
     "output_type": "stream",
     "text": [
      "nan\n",
      "<class 'numpy.ndarray'>\n"
     ]
    }
   ],
   "source": [
    "#df['mvar55']\n",
    "arr=pred2\n",
    "import random\n",
    "print (np.nan)\n",
    "print (type(arr))\n",
    "for i in range (len(arr)):\n",
    "    if arr[i]>0.50:\n",
    "        arr[i]=1\n",
    "    else:\n",
    "        arr[i]=0\n",
    "pred2=arr"
   ]
  },
  {
   "cell_type": "code",
   "execution_count": 11904,
   "metadata": {},
   "outputs": [
    {
     "name": "stderr",
     "output_type": "stream",
     "text": [
      "C:\\Users\\Chirag Garg\\Anaconda3\\lib\\site-packages\\sklearn\\preprocessing\\label.py:151: DeprecationWarning: The truth value of an empty array is ambiguous. Returning False, but in future this will result in an error. Use `array.size > 0` to check that an array is not empty.\n",
      "  if diff:\n"
     ]
    }
   ],
   "source": [
    "pred3 = xgb_grid.predict(x)"
   ]
  },
  {
   "cell_type": "code",
   "execution_count": 11905,
   "metadata": {},
   "outputs": [],
   "source": [
    "pred4 = gbm.predict(x)"
   ]
  },
  {
   "cell_type": "code",
   "execution_count": 11906,
   "metadata": {},
   "outputs": [],
   "source": [
    "df['lg_1'] = pred1\n",
    "df['lgb_1'] = pred2\n",
    "df['xgb']  =  pred3\n",
    "df['gbm']  =  pred4"
   ]
  },
  {
   "cell_type": "code",
   "execution_count": 11907,
   "metadata": {},
   "outputs": [],
   "source": [
    "dframe = df[['lg_1','lgb_1','xgb','gbm']]\n",
    "X_ = dframe.iloc[:,:].values"
   ]
  },
  {
   "cell_type": "code",
   "execution_count": 11913,
   "metadata": {},
   "outputs": [
    {
     "name": "stderr",
     "output_type": "stream",
     "text": [
      "C:\\Users\\Chirag Garg\\Anaconda3\\lib\\site-packages\\sklearn\\preprocessing\\label.py:151: DeprecationWarning: The truth value of an empty array is ambiguous. Returning False, but in future this will result in an error. Use `array.size > 0` to check that an array is not empty.\n",
      "  if diff:\n"
     ]
    }
   ],
   "source": [
    "pred5 = xgb_grid2.predict(X_)"
   ]
  },
  {
   "cell_type": "code",
   "execution_count": 11914,
   "metadata": {},
   "outputs": [
    {
     "data": {
      "text/plain": [
       "array([0., 0., 0., ..., 0., 0., 0.])"
      ]
     },
     "execution_count": 11914,
     "metadata": {},
     "output_type": "execute_result"
    }
   ],
   "source": [
    "pred5"
   ]
  },
  {
   "cell_type": "code",
   "execution_count": 11915,
   "metadata": {},
   "outputs": [],
   "source": [
    "df['default_ind'] = pred5"
   ]
  },
  {
   "cell_type": "code",
   "execution_count": 15354,
   "metadata": {},
   "outputs": [],
   "source": [
    "df['application_key'] = y\n"
   ]
  },
  {
   "cell_type": "code",
   "execution_count": 15355,
   "metadata": {},
   "outputs": [],
   "source": [
    "dframe = df[['application_key','lg_proba1']]"
   ]
  },
  {
   "cell_type": "code",
   "execution_count": 15356,
   "metadata": {},
   "outputs": [],
   "source": [
    "dframe.to_csv('F:/AMEX/submissionfinalplease.csv',index = False)"
   ]
  },
  {
   "cell_type": "code",
   "execution_count": null,
   "metadata": {},
   "outputs": [],
   "source": []
  }
 ],
 "metadata": {
  "kernelspec": {
   "display_name": "Python 3",
   "language": "python",
   "name": "python3"
  },
  "language_info": {
   "codemirror_mode": {
    "name": "ipython",
    "version": 3
   },
   "file_extension": ".py",
   "mimetype": "text/x-python",
   "name": "python",
   "nbconvert_exporter": "python",
   "pygments_lexer": "ipython3",
   "version": "3.6.5"
  }
 },
 "nbformat": 4,
 "nbformat_minor": 2
}
